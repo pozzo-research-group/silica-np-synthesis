{
 "cells": [
  {
   "cell_type": "code",
   "execution_count": 1,
   "id": "9a1452ad-0617-465c-b79b-74d36752b0bd",
   "metadata": {},
   "outputs": [],
   "source": [
    "%load_ext autoreload\n",
    "%autoreload 2"
   ]
  },
  {
   "cell_type": "code",
   "execution_count": 2,
   "id": "137dbbcc-ba9e-409d-a621-02354ed3df00",
   "metadata": {},
   "outputs": [],
   "source": [
    "import scipy\n",
    "from scipy.stats.qmc import Sobol\n",
    "from scipy.stats import qmc\n",
    "import matplotlib.pyplot as plt\n",
    "import sys\n",
    "sys.path.append('../../sample_utilities')\n",
    "import samples\n",
    "import json"
   ]
  },
  {
   "cell_type": "code",
   "execution_count": 3,
   "id": "2dc0a2dc-b280-439d-be13-7a6f6b49241d",
   "metadata": {},
   "outputs": [],
   "source": [
    "target_volume = 10000\n",
    "target_dilution = 0.1 # mol Si/L saxs sample\n",
    "samples_write_fp = 'SampleTable_AmmoniaGradient_10000.csv'"
   ]
  },
  {
   "cell_type": "markdown",
   "id": "13fd89e9-3f58-48c6-9e1e-e07c3f417fe3",
   "metadata": {},
   "source": [
    "### Calculate volumes from samples "
   ]
  },
  {
   "cell_type": "code",
   "execution_count": 4,
   "id": "df0d2e16-b0f9-461e-a6e8-40e52575690a",
   "metadata": {},
   "outputs": [],
   "source": [
    "with open('constants_Round2_2point85.json', 'rt') as f:\n",
    "    constants = json.load(f)"
   ]
  },
  {
   "cell_type": "code",
   "execution_count": 5,
   "id": "156d44d2-13c3-4df1-8123-1bddfb7de988",
   "metadata": {},
   "outputs": [],
   "source": [
    "sample_1 = [0.007526, 0.018891, 0.043859]\n",
    "\n",
    "step = 0.0025\n",
    "samples_fracs = []\n",
    "for i in range(5):\n",
    "    sample = [sample_1[0], sample_1[1]-i*step, sample_1[2]+i*step]\n",
    "    samples_fracs.append(sample)"
   ]
  },
  {
   "cell_type": "code",
   "execution_count": 7,
   "id": "e2794299-e739-4e1c-a5ad-a217611b5e3c",
   "metadata": {},
   "outputs": [
    {
     "name": "stdout",
     "output_type": "stream",
     "text": [
      "0.018891\n",
      "0.016391000000000003\n",
      "0.013891\n",
      "0.011391000000000002\n",
      "0.008891000000000001\n"
     ]
    }
   ],
   "source": [
    "for frac in samples_fracs:\n",
    "    print(frac[1])"
   ]
  },
  {
   "cell_type": "markdown",
   "id": "9622f0ac-c6ec-4f17-ab72-a0b7142fc738",
   "metadata": {},
   "source": [
    "## Collate volume fractions into samples and get sample information"
   ]
  },
  {
   "cell_type": "code",
   "execution_count": 8,
   "id": "efbcd27d-7e24-43ac-bfa1-d0e5371431cd",
   "metadata": {},
   "outputs": [
    {
     "name": "stdout",
     "output_type": "stream",
     "text": [
      "1300.1060000000002\n",
      "final etoh vol:  7997.134\n",
      "1300.1060000000002\n",
      "final etoh vol:  7997.134\n",
      "1300.1059999999998\n",
      "final etoh vol:  7997.134\n",
      "1300.1060000000002\n",
      "final etoh vol:  7997.134\n",
      "1300.1060000000002\n",
      "final etoh vol:  7997.134\n"
     ]
    }
   ],
   "source": [
    "samples_gen = []\n",
    "for sample_list in samples_fracs:\n",
    "    sample = samples.SolidSilicaSample(target_volume=target_volume, reactant_fp='./constants_Round2_2point85.json', teos_vol_frac=sample_list[0], ammonia_vol_frac=sample_list[1], water_vol_frac=sample_list[2])\n",
    "    sample.calculate_reactant_volumes()\n",
    "    sample.calculate_silica_mass_concentration()\n",
    "    sample.calculate_silica_mass_fraction()\n",
    "    sample.calculate_dilution_volumefraction(target_dilution)\n",
    "    samples_gen.append(sample)\n",
    "    print('final etoh vol: ', sample.ethanol_volume)"
   ]
  },
  {
   "cell_type": "code",
   "execution_count": null,
   "id": "59c75dbe-97e5-44c2-8116-5f1657dfa365",
   "metadata": {},
   "outputs": [],
   "source": [
    "sample.te"
   ]
  },
  {
   "cell_type": "code",
   "execution_count": 9,
   "id": "16a50dff-d9dc-4f06-bb22-1cfee5fa9daa",
   "metadata": {},
   "outputs": [],
   "source": [
    "synth_table = samples.generate_synthesis_table(samples_gen)"
   ]
  },
  {
   "cell_type": "code",
   "execution_count": 10,
   "id": "d08cb4a9-7e94-49cb-8cee-f6b98f9377e2",
   "metadata": {},
   "outputs": [
    {
     "data": {
      "text/html": [
       "<div>\n",
       "<style scoped>\n",
       "    .dataframe tbody tr th:only-of-type {\n",
       "        vertical-align: middle;\n",
       "    }\n",
       "\n",
       "    .dataframe tbody tr th {\n",
       "        vertical-align: top;\n",
       "    }\n",
       "\n",
       "    .dataframe thead th {\n",
       "        text-align: right;\n",
       "    }\n",
       "</style>\n",
       "<table border=\"1\" class=\"dataframe\">\n",
       "  <thead>\n",
       "    <tr style=\"text-align: right;\">\n",
       "      <th></th>\n",
       "      <th>uuid</th>\n",
       "      <th>teos_volume</th>\n",
       "      <th>ammonia_volume</th>\n",
       "      <th>water_volume</th>\n",
       "      <th>ethanol_volume</th>\n",
       "      <th>dilution_volume_fraction</th>\n",
       "      <th>silica_mass_conc</th>\n",
       "      <th>silica_mass_fraction</th>\n",
       "    </tr>\n",
       "  </thead>\n",
       "  <tbody>\n",
       "    <tr>\n",
       "      <th>0</th>\n",
       "      <td>34413cc5-3d1a-4ec6-a0f5-44c8eec31ae8</td>\n",
       "      <td>214.491</td>\n",
       "      <td>538.3935</td>\n",
       "      <td>1249.9815</td>\n",
       "      <td>7997.134</td>\n",
       "      <td>2.965909</td>\n",
       "      <td>2.025686</td>\n",
       "      <td>0.002527</td>\n",
       "    </tr>\n",
       "    <tr>\n",
       "      <th>1</th>\n",
       "      <td>41ca5374-eccb-4552-9e28-231f02e69043</td>\n",
       "      <td>214.491</td>\n",
       "      <td>467.1435</td>\n",
       "      <td>1321.2315</td>\n",
       "      <td>7997.134</td>\n",
       "      <td>2.965909</td>\n",
       "      <td>2.025686</td>\n",
       "      <td>0.002526</td>\n",
       "    </tr>\n",
       "    <tr>\n",
       "      <th>2</th>\n",
       "      <td>5861c158-06af-44d5-8529-060663163acd</td>\n",
       "      <td>214.491</td>\n",
       "      <td>395.8935</td>\n",
       "      <td>1392.4815</td>\n",
       "      <td>7997.134</td>\n",
       "      <td>2.965909</td>\n",
       "      <td>2.025686</td>\n",
       "      <td>0.002525</td>\n",
       "    </tr>\n",
       "    <tr>\n",
       "      <th>3</th>\n",
       "      <td>496003e3-5117-4f71-83a4-08bdfbac510e</td>\n",
       "      <td>214.491</td>\n",
       "      <td>324.6435</td>\n",
       "      <td>1463.7315</td>\n",
       "      <td>7997.134</td>\n",
       "      <td>2.965909</td>\n",
       "      <td>2.025686</td>\n",
       "      <td>0.002525</td>\n",
       "    </tr>\n",
       "    <tr>\n",
       "      <th>4</th>\n",
       "      <td>75d4f802-0474-4db9-ae8d-0517e8f43d05</td>\n",
       "      <td>214.491</td>\n",
       "      <td>253.3935</td>\n",
       "      <td>1534.9815</td>\n",
       "      <td>7997.134</td>\n",
       "      <td>2.965909</td>\n",
       "      <td>2.025686</td>\n",
       "      <td>0.002524</td>\n",
       "    </tr>\n",
       "  </tbody>\n",
       "</table>\n",
       "</div>"
      ],
      "text/plain": [
       "                                   uuid  teos_volume  ammonia_volume  \\\n",
       "0  34413cc5-3d1a-4ec6-a0f5-44c8eec31ae8      214.491        538.3935   \n",
       "1  41ca5374-eccb-4552-9e28-231f02e69043      214.491        467.1435   \n",
       "2  5861c158-06af-44d5-8529-060663163acd      214.491        395.8935   \n",
       "3  496003e3-5117-4f71-83a4-08bdfbac510e      214.491        324.6435   \n",
       "4  75d4f802-0474-4db9-ae8d-0517e8f43d05      214.491        253.3935   \n",
       "\n",
       "   water_volume  ethanol_volume  dilution_volume_fraction  silica_mass_conc  \\\n",
       "0     1249.9815        7997.134                  2.965909          2.025686   \n",
       "1     1321.2315        7997.134                  2.965909          2.025686   \n",
       "2     1392.4815        7997.134                  2.965909          2.025686   \n",
       "3     1463.7315        7997.134                  2.965909          2.025686   \n",
       "4     1534.9815        7997.134                  2.965909          2.025686   \n",
       "\n",
       "   silica_mass_fraction  \n",
       "0              0.002527  \n",
       "1              0.002526  \n",
       "2              0.002525  \n",
       "3              0.002525  \n",
       "4              0.002524  "
      ]
     },
     "execution_count": 10,
     "metadata": {},
     "output_type": "execute_result"
    }
   ],
   "source": [
    "synth_table"
   ]
  },
  {
   "cell_type": "code",
   "execution_count": 11,
   "id": "58420921-b144-4972-bd04-821fafd5a9ca",
   "metadata": {},
   "outputs": [],
   "source": [
    "rows = ['A', 'B', 'C']\n",
    "cols = [1, 2, 3, 4]\n",
    "\n",
    "wells = []\n",
    "for row in rows:\n",
    "    for col in cols:\n",
    "        wells.append(row + str(col))"
   ]
  },
  {
   "cell_type": "code",
   "execution_count": 12,
   "id": "0a3c3fd1-ad06-448e-8130-5366622484b6",
   "metadata": {},
   "outputs": [],
   "source": [
    "synth_table['well'] = wells[len(synth_table):2*len(synth_table)]"
   ]
  },
  {
   "cell_type": "code",
   "execution_count": 13,
   "id": "ca89a2cd-e394-4861-9aed-b3bf25ef4c67",
   "metadata": {},
   "outputs": [
    {
     "data": {
      "text/html": [
       "<div>\n",
       "<style scoped>\n",
       "    .dataframe tbody tr th:only-of-type {\n",
       "        vertical-align: middle;\n",
       "    }\n",
       "\n",
       "    .dataframe tbody tr th {\n",
       "        vertical-align: top;\n",
       "    }\n",
       "\n",
       "    .dataframe thead th {\n",
       "        text-align: right;\n",
       "    }\n",
       "</style>\n",
       "<table border=\"1\" class=\"dataframe\">\n",
       "  <thead>\n",
       "    <tr style=\"text-align: right;\">\n",
       "      <th></th>\n",
       "      <th>uuid</th>\n",
       "      <th>teos_volume</th>\n",
       "      <th>ammonia_volume</th>\n",
       "      <th>water_volume</th>\n",
       "      <th>ethanol_volume</th>\n",
       "      <th>dilution_volume_fraction</th>\n",
       "      <th>silica_mass_conc</th>\n",
       "      <th>silica_mass_fraction</th>\n",
       "      <th>well</th>\n",
       "    </tr>\n",
       "  </thead>\n",
       "  <tbody>\n",
       "    <tr>\n",
       "      <th>0</th>\n",
       "      <td>34413cc5-3d1a-4ec6-a0f5-44c8eec31ae8</td>\n",
       "      <td>214.491</td>\n",
       "      <td>538.3935</td>\n",
       "      <td>1249.9815</td>\n",
       "      <td>7997.134</td>\n",
       "      <td>2.965909</td>\n",
       "      <td>2.025686</td>\n",
       "      <td>0.002527</td>\n",
       "      <td>B2</td>\n",
       "    </tr>\n",
       "    <tr>\n",
       "      <th>1</th>\n",
       "      <td>41ca5374-eccb-4552-9e28-231f02e69043</td>\n",
       "      <td>214.491</td>\n",
       "      <td>467.1435</td>\n",
       "      <td>1321.2315</td>\n",
       "      <td>7997.134</td>\n",
       "      <td>2.965909</td>\n",
       "      <td>2.025686</td>\n",
       "      <td>0.002526</td>\n",
       "      <td>B3</td>\n",
       "    </tr>\n",
       "    <tr>\n",
       "      <th>2</th>\n",
       "      <td>5861c158-06af-44d5-8529-060663163acd</td>\n",
       "      <td>214.491</td>\n",
       "      <td>395.8935</td>\n",
       "      <td>1392.4815</td>\n",
       "      <td>7997.134</td>\n",
       "      <td>2.965909</td>\n",
       "      <td>2.025686</td>\n",
       "      <td>0.002525</td>\n",
       "      <td>B4</td>\n",
       "    </tr>\n",
       "    <tr>\n",
       "      <th>3</th>\n",
       "      <td>496003e3-5117-4f71-83a4-08bdfbac510e</td>\n",
       "      <td>214.491</td>\n",
       "      <td>324.6435</td>\n",
       "      <td>1463.7315</td>\n",
       "      <td>7997.134</td>\n",
       "      <td>2.965909</td>\n",
       "      <td>2.025686</td>\n",
       "      <td>0.002525</td>\n",
       "      <td>C1</td>\n",
       "    </tr>\n",
       "    <tr>\n",
       "      <th>4</th>\n",
       "      <td>75d4f802-0474-4db9-ae8d-0517e8f43d05</td>\n",
       "      <td>214.491</td>\n",
       "      <td>253.3935</td>\n",
       "      <td>1534.9815</td>\n",
       "      <td>7997.134</td>\n",
       "      <td>2.965909</td>\n",
       "      <td>2.025686</td>\n",
       "      <td>0.002524</td>\n",
       "      <td>C2</td>\n",
       "    </tr>\n",
       "  </tbody>\n",
       "</table>\n",
       "</div>"
      ],
      "text/plain": [
       "                                   uuid  teos_volume  ammonia_volume  \\\n",
       "0  34413cc5-3d1a-4ec6-a0f5-44c8eec31ae8      214.491        538.3935   \n",
       "1  41ca5374-eccb-4552-9e28-231f02e69043      214.491        467.1435   \n",
       "2  5861c158-06af-44d5-8529-060663163acd      214.491        395.8935   \n",
       "3  496003e3-5117-4f71-83a4-08bdfbac510e      214.491        324.6435   \n",
       "4  75d4f802-0474-4db9-ae8d-0517e8f43d05      214.491        253.3935   \n",
       "\n",
       "   water_volume  ethanol_volume  dilution_volume_fraction  silica_mass_conc  \\\n",
       "0     1249.9815        7997.134                  2.965909          2.025686   \n",
       "1     1321.2315        7997.134                  2.965909          2.025686   \n",
       "2     1392.4815        7997.134                  2.965909          2.025686   \n",
       "3     1463.7315        7997.134                  2.965909          2.025686   \n",
       "4     1534.9815        7997.134                  2.965909          2.025686   \n",
       "\n",
       "   silica_mass_fraction well  \n",
       "0              0.002527   B2  \n",
       "1              0.002526   B3  \n",
       "2              0.002525   B4  \n",
       "3              0.002525   C1  \n",
       "4              0.002524   C2  "
      ]
     },
     "execution_count": 13,
     "metadata": {},
     "output_type": "execute_result"
    }
   ],
   "source": [
    "synth_table"
   ]
  },
  {
   "cell_type": "code",
   "execution_count": 14,
   "id": "d35e0d4f-5842-4845-a58b-529cf92748d3",
   "metadata": {},
   "outputs": [],
   "source": [
    "synth_table.to_csv(samples_write_fp)"
   ]
  },
  {
   "cell_type": "code",
   "execution_count": 45,
   "id": "03a2c2e7-f06b-4ea1-8f8f-4825e18402dd",
   "metadata": {},
   "outputs": [
    {
     "data": {
      "text/plain": [
       "3"
      ]
     },
     "execution_count": 45,
     "metadata": {},
     "output_type": "execute_result"
    }
   ],
   "source": []
  },
  {
   "cell_type": "code",
   "execution_count": null,
   "id": "a824c23f-d34d-4ce9-9c73-69a9aa00434e",
   "metadata": {},
   "outputs": [],
   "source": []
  }
 ],
 "metadata": {
  "kernelspec": {
   "display_name": "Python 3 (ipykernel)",
   "language": "python",
   "name": "python3"
  },
  "language_info": {
   "codemirror_mode": {
    "name": "ipython",
    "version": 3
   },
   "file_extension": ".py",
   "mimetype": "text/x-python",
   "name": "python",
   "nbconvert_exporter": "python",
   "pygments_lexer": "ipython3",
   "version": "3.12.7"
  }
 },
 "nbformat": 4,
 "nbformat_minor": 5
}
