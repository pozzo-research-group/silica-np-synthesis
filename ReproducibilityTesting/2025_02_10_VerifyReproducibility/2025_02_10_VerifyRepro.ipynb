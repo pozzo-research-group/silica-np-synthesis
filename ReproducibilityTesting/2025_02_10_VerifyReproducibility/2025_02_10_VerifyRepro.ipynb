{
 "cells": [
  {
   "cell_type": "code",
   "execution_count": 4,
   "id": "9a1452ad-0617-465c-b79b-74d36752b0bd",
   "metadata": {},
   "outputs": [],
   "source": [
    "%load_ext autoreload\n",
    "%autoreload 2"
   ]
  },
  {
   "cell_type": "code",
   "execution_count": 5,
   "id": "137dbbcc-ba9e-409d-a621-02354ed3df00",
   "metadata": {},
   "outputs": [],
   "source": [
    "import scipy\n",
    "from scipy.stats.qmc import Sobol\n",
    "from scipy.stats import qmc\n",
    "import matplotlib.pyplot as plt\n",
    "import sys\n",
    "sys.path.append('../../sample_utilities')\n",
    "import samples\n",
    "import json"
   ]
  },
  {
   "cell_type": "code",
   "execution_count": 6,
   "id": "2dc0a2dc-b280-439d-be13-7a6f6b49241d",
   "metadata": {},
   "outputs": [],
   "source": [
    "target_volume = 1700\n",
    "target_dilution = 0.1 # mol Si/L saxs sample\n",
    "samples_write_fp = 'SampleTable_verifyReproducibility_5point7.csv'"
   ]
  },
  {
   "cell_type": "markdown",
   "id": "13fd89e9-3f58-48c6-9e1e-e07c3f417fe3",
   "metadata": {},
   "source": [
    "### Calculate volumes from samples "
   ]
  },
  {
   "cell_type": "code",
   "execution_count": 7,
   "id": "df0d2e16-b0f9-461e-a6e8-40e52575690a",
   "metadata": {},
   "outputs": [],
   "source": [
    "with open('constants_Round2_5point7.json', 'rt') as f:\n",
    "    constants = json.load(f)"
   ]
  },
  {
   "cell_type": "code",
   "execution_count": 8,
   "id": "156d44d2-13c3-4df1-8123-1bddfb7de988",
   "metadata": {},
   "outputs": [],
   "source": [
    "sample_1 = [0.018002, 0.027678, 0.009615]\n",
    "sample_2 = [0.007526, 0.018891, 0.043859]"
   ]
  },
  {
   "cell_type": "code",
   "execution_count": null,
   "id": "e2794299-e739-4e1c-a5ad-a217611b5e3c",
   "metadata": {},
   "outputs": [],
   "source": []
  },
  {
   "cell_type": "markdown",
   "id": "9622f0ac-c6ec-4f17-ab72-a0b7142fc738",
   "metadata": {},
   "source": [
    "## Collate volume fractions into samples and get sample information"
   ]
  },
  {
   "cell_type": "code",
   "execution_count": 10,
   "id": "efbcd27d-7e24-43ac-bfa1-d0e5371431cd",
   "metadata": {},
   "outputs": [
    {
     "name": "stdout",
     "output_type": "stream",
     "text": [
      "441.80705\n",
      "final etoh vol:  1164.1914499999998\n",
      "441.80705\n",
      "final etoh vol:  1164.1914499999998\n",
      "441.80705\n",
      "final etoh vol:  1164.1914499999998\n",
      "561.50524\n",
      "final etoh vol:  1019.02556\n",
      "561.50524\n",
      "final etoh vol:  1019.02556\n",
      "561.50524\n",
      "final etoh vol:  1019.02556\n"
     ]
    }
   ],
   "source": [
    "samples_gen = []\n",
    "for sample_list in [sample_1, sample_2]:\n",
    "    for i in range(3):\n",
    "        sample = samples.SolidSilicaSample(target_volume=target_volume, reactant_fp='./constants_Round2_5point7.json', teos_vol_frac=sample_list[0], ammonia_vol_frac=sample_list[1], water_vol_frac=sample_list[2])\n",
    "        sample.calculate_reactant_volumes()\n",
    "        sample.calculate_silica_mass_concentration()\n",
    "        sample.calculate_silica_mass_fraction()\n",
    "        sample.calculate_dilution_volumefraction(target_dilution)\n",
    "        samples_gen.append(sample)\n",
    "        print('final etoh vol: ', sample.ethanol_volume)"
   ]
  },
  {
   "cell_type": "code",
   "execution_count": 18,
   "id": "16a50dff-d9dc-4f06-bb22-1cfee5fa9daa",
   "metadata": {},
   "outputs": [],
   "source": [
    "synth_table = samples.generate_synthesis_table(samples_gen)"
   ]
  },
  {
   "cell_type": "code",
   "execution_count": 19,
   "id": "d08cb4a9-7e94-49cb-8cee-f6b98f9377e2",
   "metadata": {},
   "outputs": [
    {
     "data": {
      "text/html": [
       "<div>\n",
       "<style scoped>\n",
       "    .dataframe tbody tr th:only-of-type {\n",
       "        vertical-align: middle;\n",
       "    }\n",
       "\n",
       "    .dataframe tbody tr th {\n",
       "        vertical-align: top;\n",
       "    }\n",
       "\n",
       "    .dataframe thead th {\n",
       "        text-align: right;\n",
       "    }\n",
       "</style>\n",
       "<table border=\"1\" class=\"dataframe\">\n",
       "  <thead>\n",
       "    <tr style=\"text-align: right;\">\n",
       "      <th></th>\n",
       "      <th>uuid</th>\n",
       "      <th>teos_volume</th>\n",
       "      <th>ammonia_volume</th>\n",
       "      <th>water_volume</th>\n",
       "      <th>ethanol_volume</th>\n",
       "      <th>dilution_volume_fraction</th>\n",
       "      <th>silica_mass_conc</th>\n",
       "      <th>silica_mass_fraction</th>\n",
       "    </tr>\n",
       "  </thead>\n",
       "  <tbody>\n",
       "    <tr>\n",
       "      <th>0</th>\n",
       "      <td>0be9d95b-b3d4-4246-99d9-cd5554c2ca13</td>\n",
       "      <td>174.43938</td>\n",
       "      <td>268.19982</td>\n",
       "      <td>93.16935</td>\n",
       "      <td>1164.19145</td>\n",
       "      <td>1.239942</td>\n",
       "      <td>4.845390</td>\n",
       "      <td>0.006080</td>\n",
       "    </tr>\n",
       "    <tr>\n",
       "      <th>1</th>\n",
       "      <td>6d4c6048-4b88-4a18-aed6-7ea936033cf0</td>\n",
       "      <td>174.43938</td>\n",
       "      <td>268.19982</td>\n",
       "      <td>93.16935</td>\n",
       "      <td>1164.19145</td>\n",
       "      <td>1.239942</td>\n",
       "      <td>4.845390</td>\n",
       "      <td>0.006080</td>\n",
       "    </tr>\n",
       "    <tr>\n",
       "      <th>2</th>\n",
       "      <td>01f260ef-7e01-4bd7-9bc6-712015100c9c</td>\n",
       "      <td>174.43938</td>\n",
       "      <td>268.19982</td>\n",
       "      <td>93.16935</td>\n",
       "      <td>1164.19145</td>\n",
       "      <td>1.239942</td>\n",
       "      <td>4.845390</td>\n",
       "      <td>0.006080</td>\n",
       "    </tr>\n",
       "    <tr>\n",
       "      <th>3</th>\n",
       "      <td>7b676039-761f-43c2-80e4-7a8bf22c1a35</td>\n",
       "      <td>72.92694</td>\n",
       "      <td>183.05379</td>\n",
       "      <td>424.99371</td>\n",
       "      <td>1019.02556</td>\n",
       "      <td>2.965909</td>\n",
       "      <td>2.025686</td>\n",
       "      <td>0.002527</td>\n",
       "    </tr>\n",
       "    <tr>\n",
       "      <th>4</th>\n",
       "      <td>3f4ea786-327e-4bd0-8ea4-1ad27b2d4187</td>\n",
       "      <td>72.92694</td>\n",
       "      <td>183.05379</td>\n",
       "      <td>424.99371</td>\n",
       "      <td>1019.02556</td>\n",
       "      <td>2.965909</td>\n",
       "      <td>2.025686</td>\n",
       "      <td>0.002527</td>\n",
       "    </tr>\n",
       "    <tr>\n",
       "      <th>5</th>\n",
       "      <td>f7c30e0d-fa5f-4d3a-a456-1319cc85efb0</td>\n",
       "      <td>72.92694</td>\n",
       "      <td>183.05379</td>\n",
       "      <td>424.99371</td>\n",
       "      <td>1019.02556</td>\n",
       "      <td>2.965909</td>\n",
       "      <td>2.025686</td>\n",
       "      <td>0.002527</td>\n",
       "    </tr>\n",
       "  </tbody>\n",
       "</table>\n",
       "</div>"
      ],
      "text/plain": [
       "                                   uuid  teos_volume  ammonia_volume  \\\n",
       "0  0be9d95b-b3d4-4246-99d9-cd5554c2ca13    174.43938       268.19982   \n",
       "1  6d4c6048-4b88-4a18-aed6-7ea936033cf0    174.43938       268.19982   \n",
       "2  01f260ef-7e01-4bd7-9bc6-712015100c9c    174.43938       268.19982   \n",
       "3  7b676039-761f-43c2-80e4-7a8bf22c1a35     72.92694       183.05379   \n",
       "4  3f4ea786-327e-4bd0-8ea4-1ad27b2d4187     72.92694       183.05379   \n",
       "5  f7c30e0d-fa5f-4d3a-a456-1319cc85efb0     72.92694       183.05379   \n",
       "\n",
       "   water_volume  ethanol_volume  dilution_volume_fraction  silica_mass_conc  \\\n",
       "0      93.16935      1164.19145                  1.239942          4.845390   \n",
       "1      93.16935      1164.19145                  1.239942          4.845390   \n",
       "2      93.16935      1164.19145                  1.239942          4.845390   \n",
       "3     424.99371      1019.02556                  2.965909          2.025686   \n",
       "4     424.99371      1019.02556                  2.965909          2.025686   \n",
       "5     424.99371      1019.02556                  2.965909          2.025686   \n",
       "\n",
       "   silica_mass_fraction  \n",
       "0              0.006080  \n",
       "1              0.006080  \n",
       "2              0.006080  \n",
       "3              0.002527  \n",
       "4              0.002527  \n",
       "5              0.002527  "
      ]
     },
     "execution_count": 19,
     "metadata": {},
     "output_type": "execute_result"
    }
   ],
   "source": [
    "synth_table"
   ]
  },
  {
   "cell_type": "code",
   "execution_count": 20,
   "id": "58420921-b144-4972-bd04-821fafd5a9ca",
   "metadata": {},
   "outputs": [],
   "source": [
    "rows = ['A', 'B', 'C', 'D', 'E', 'F']\n",
    "cols = [1, 2, 3, 4, 5, 6, 7, 8]\n",
    "\n",
    "wells = []\n",
    "for row in rows:\n",
    "    for col in cols:\n",
    "        if row in ['B', 'E'] and col in [2, 7]:\n",
    "            pass\n",
    "        else:\n",
    "            wells.append(row + str(col))"
   ]
  },
  {
   "cell_type": "code",
   "execution_count": 22,
   "id": "0a3c3fd1-ad06-448e-8130-5366622484b6",
   "metadata": {},
   "outputs": [],
   "source": [
    "synth_table['well'] = wells[len(synth_table):2*len(synth_table)]"
   ]
  },
  {
   "cell_type": "code",
   "execution_count": 23,
   "id": "ca89a2cd-e394-4861-9aed-b3bf25ef4c67",
   "metadata": {},
   "outputs": [
    {
     "data": {
      "text/html": [
       "<div>\n",
       "<style scoped>\n",
       "    .dataframe tbody tr th:only-of-type {\n",
       "        vertical-align: middle;\n",
       "    }\n",
       "\n",
       "    .dataframe tbody tr th {\n",
       "        vertical-align: top;\n",
       "    }\n",
       "\n",
       "    .dataframe thead th {\n",
       "        text-align: right;\n",
       "    }\n",
       "</style>\n",
       "<table border=\"1\" class=\"dataframe\">\n",
       "  <thead>\n",
       "    <tr style=\"text-align: right;\">\n",
       "      <th></th>\n",
       "      <th>uuid</th>\n",
       "      <th>teos_volume</th>\n",
       "      <th>ammonia_volume</th>\n",
       "      <th>water_volume</th>\n",
       "      <th>ethanol_volume</th>\n",
       "      <th>dilution_volume_fraction</th>\n",
       "      <th>silica_mass_conc</th>\n",
       "      <th>silica_mass_fraction</th>\n",
       "      <th>well</th>\n",
       "    </tr>\n",
       "  </thead>\n",
       "  <tbody>\n",
       "    <tr>\n",
       "      <th>0</th>\n",
       "      <td>0be9d95b-b3d4-4246-99d9-cd5554c2ca13</td>\n",
       "      <td>174.43938</td>\n",
       "      <td>268.19982</td>\n",
       "      <td>93.16935</td>\n",
       "      <td>1164.19145</td>\n",
       "      <td>1.239942</td>\n",
       "      <td>4.845390</td>\n",
       "      <td>0.006080</td>\n",
       "      <td>A7</td>\n",
       "    </tr>\n",
       "    <tr>\n",
       "      <th>1</th>\n",
       "      <td>6d4c6048-4b88-4a18-aed6-7ea936033cf0</td>\n",
       "      <td>174.43938</td>\n",
       "      <td>268.19982</td>\n",
       "      <td>93.16935</td>\n",
       "      <td>1164.19145</td>\n",
       "      <td>1.239942</td>\n",
       "      <td>4.845390</td>\n",
       "      <td>0.006080</td>\n",
       "      <td>A8</td>\n",
       "    </tr>\n",
       "    <tr>\n",
       "      <th>2</th>\n",
       "      <td>01f260ef-7e01-4bd7-9bc6-712015100c9c</td>\n",
       "      <td>174.43938</td>\n",
       "      <td>268.19982</td>\n",
       "      <td>93.16935</td>\n",
       "      <td>1164.19145</td>\n",
       "      <td>1.239942</td>\n",
       "      <td>4.845390</td>\n",
       "      <td>0.006080</td>\n",
       "      <td>B1</td>\n",
       "    </tr>\n",
       "    <tr>\n",
       "      <th>3</th>\n",
       "      <td>7b676039-761f-43c2-80e4-7a8bf22c1a35</td>\n",
       "      <td>72.92694</td>\n",
       "      <td>183.05379</td>\n",
       "      <td>424.99371</td>\n",
       "      <td>1019.02556</td>\n",
       "      <td>2.965909</td>\n",
       "      <td>2.025686</td>\n",
       "      <td>0.002527</td>\n",
       "      <td>B3</td>\n",
       "    </tr>\n",
       "    <tr>\n",
       "      <th>4</th>\n",
       "      <td>3f4ea786-327e-4bd0-8ea4-1ad27b2d4187</td>\n",
       "      <td>72.92694</td>\n",
       "      <td>183.05379</td>\n",
       "      <td>424.99371</td>\n",
       "      <td>1019.02556</td>\n",
       "      <td>2.965909</td>\n",
       "      <td>2.025686</td>\n",
       "      <td>0.002527</td>\n",
       "      <td>B4</td>\n",
       "    </tr>\n",
       "    <tr>\n",
       "      <th>5</th>\n",
       "      <td>f7c30e0d-fa5f-4d3a-a456-1319cc85efb0</td>\n",
       "      <td>72.92694</td>\n",
       "      <td>183.05379</td>\n",
       "      <td>424.99371</td>\n",
       "      <td>1019.02556</td>\n",
       "      <td>2.965909</td>\n",
       "      <td>2.025686</td>\n",
       "      <td>0.002527</td>\n",
       "      <td>B5</td>\n",
       "    </tr>\n",
       "  </tbody>\n",
       "</table>\n",
       "</div>"
      ],
      "text/plain": [
       "                                   uuid  teos_volume  ammonia_volume  \\\n",
       "0  0be9d95b-b3d4-4246-99d9-cd5554c2ca13    174.43938       268.19982   \n",
       "1  6d4c6048-4b88-4a18-aed6-7ea936033cf0    174.43938       268.19982   \n",
       "2  01f260ef-7e01-4bd7-9bc6-712015100c9c    174.43938       268.19982   \n",
       "3  7b676039-761f-43c2-80e4-7a8bf22c1a35     72.92694       183.05379   \n",
       "4  3f4ea786-327e-4bd0-8ea4-1ad27b2d4187     72.92694       183.05379   \n",
       "5  f7c30e0d-fa5f-4d3a-a456-1319cc85efb0     72.92694       183.05379   \n",
       "\n",
       "   water_volume  ethanol_volume  dilution_volume_fraction  silica_mass_conc  \\\n",
       "0      93.16935      1164.19145                  1.239942          4.845390   \n",
       "1      93.16935      1164.19145                  1.239942          4.845390   \n",
       "2      93.16935      1164.19145                  1.239942          4.845390   \n",
       "3     424.99371      1019.02556                  2.965909          2.025686   \n",
       "4     424.99371      1019.02556                  2.965909          2.025686   \n",
       "5     424.99371      1019.02556                  2.965909          2.025686   \n",
       "\n",
       "   silica_mass_fraction well  \n",
       "0              0.006080   A7  \n",
       "1              0.006080   A8  \n",
       "2              0.006080   B1  \n",
       "3              0.002527   B3  \n",
       "4              0.002527   B4  \n",
       "5              0.002527   B5  "
      ]
     },
     "execution_count": 23,
     "metadata": {},
     "output_type": "execute_result"
    }
   ],
   "source": [
    "synth_table"
   ]
  },
  {
   "cell_type": "code",
   "execution_count": 24,
   "id": "d35e0d4f-5842-4845-a58b-529cf92748d3",
   "metadata": {},
   "outputs": [],
   "source": [
    "synth_table.to_csv(samples_write_fp)"
   ]
  },
  {
   "cell_type": "code",
   "execution_count": null,
   "id": "03a2c2e7-f06b-4ea1-8f8f-4825e18402dd",
   "metadata": {},
   "outputs": [],
   "source": []
  }
 ],
 "metadata": {
  "kernelspec": {
   "display_name": "Python 3 (ipykernel)",
   "language": "python",
   "name": "python3"
  },
  "language_info": {
   "codemirror_mode": {
    "name": "ipython",
    "version": 3
   },
   "file_extension": ".py",
   "mimetype": "text/x-python",
   "name": "python",
   "nbconvert_exporter": "python",
   "pygments_lexer": "ipython3",
   "version": "3.12.7"
  }
 },
 "nbformat": 4,
 "nbformat_minor": 5
}
