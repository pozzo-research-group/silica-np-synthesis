{
 "cells": [
  {
   "cell_type": "code",
   "execution_count": 1,
   "id": "9a1452ad-0617-465c-b79b-74d36752b0bd",
   "metadata": {},
   "outputs": [],
   "source": [
    "%load_ext autoreload\n",
    "%autoreload 2"
   ]
  },
  {
   "cell_type": "code",
   "execution_count": 2,
   "id": "137dbbcc-ba9e-409d-a621-02354ed3df00",
   "metadata": {},
   "outputs": [],
   "source": [
    "import scipy\n",
    "from scipy.stats.qmc import Sobol\n",
    "from scipy.stats import qmc\n",
    "import matplotlib.pyplot as plt\n",
    "import sys\n",
    "sys.path.append('../../sample_utilities')\n",
    "import samples\n",
    "import json"
   ]
  },
  {
   "cell_type": "code",
   "execution_count": 3,
   "id": "2dc0a2dc-b280-439d-be13-7a6f6b49241d",
   "metadata": {},
   "outputs": [],
   "source": [
    "target_volume = 17000\n",
    "target_dilution = 0.1 # mol Si/L saxs sample\n",
    "samples_write_fp = 'SampleTable_reproreplicates_1700.csv'"
   ]
  },
  {
   "cell_type": "markdown",
   "id": "13fd89e9-3f58-48c6-9e1e-e07c3f417fe3",
   "metadata": {},
   "source": [
    "### Calculate volumes from samples "
   ]
  },
  {
   "cell_type": "code",
   "execution_count": 4,
   "id": "df0d2e16-b0f9-461e-a6e8-40e52575690a",
   "metadata": {},
   "outputs": [],
   "source": [
    "with open('constants_Round2_2point85.json', 'rt') as f:\n",
    "    constants = json.load(f)"
   ]
  },
  {
   "cell_type": "code",
   "execution_count": 5,
   "id": "156d44d2-13c3-4df1-8123-1bddfb7de988",
   "metadata": {},
   "outputs": [],
   "source": [
    "sample_1 = [0.007526, 0.018891, 0.043859]\n",
    "\n",
    "step = 0.0025\n",
    "samples_fracs = []\n",
    "for i in range(5):\n",
    "    sample = [sample_1[0], sample_1[1], sample_1[2]]\n",
    "    samples_fracs.append(sample)"
   ]
  },
  {
   "cell_type": "code",
   "execution_count": 6,
   "id": "e2794299-e739-4e1c-a5ad-a217611b5e3c",
   "metadata": {},
   "outputs": [
    {
     "data": {
      "text/plain": [
       "[[0.007526, 0.018891, 0.043859],\n",
       " [0.007526, 0.018891, 0.043859],\n",
       " [0.007526, 0.018891, 0.043859],\n",
       " [0.007526, 0.018891, 0.043859],\n",
       " [0.007526, 0.018891, 0.043859]]"
      ]
     },
     "execution_count": 6,
     "metadata": {},
     "output_type": "execute_result"
    }
   ],
   "source": [
    "samples_fracs"
   ]
  },
  {
   "cell_type": "markdown",
   "id": "9622f0ac-c6ec-4f17-ab72-a0b7142fc738",
   "metadata": {},
   "source": [
    "## Collate volume fractions into samples and get sample information"
   ]
  },
  {
   "cell_type": "code",
   "execution_count": 7,
   "id": "efbcd27d-7e24-43ac-bfa1-d0e5371431cd",
   "metadata": {},
   "outputs": [
    {
     "name": "stdout",
     "output_type": "stream",
     "text": [
      "2210.1802\n",
      "final etoh vol:  13595.127799999998\n",
      "2210.1802\n",
      "final etoh vol:  13595.127799999998\n",
      "2210.1802\n",
      "final etoh vol:  13595.127799999998\n",
      "2210.1802\n",
      "final etoh vol:  13595.127799999998\n",
      "2210.1802\n",
      "final etoh vol:  13595.127799999998\n"
     ]
    }
   ],
   "source": [
    "samples_gen = []\n",
    "for sample_list in samples_fracs:\n",
    "    sample = samples.SolidSilicaSample(target_volume=target_volume, reactant_fp='./constants_Round2_2point85.json', teos_vol_frac=sample_list[0], ammonia_vol_frac=sample_list[1], water_vol_frac=sample_list[2])\n",
    "    sample.calculate_reactant_volumes()\n",
    "    sample.calculate_silica_mass_concentration()\n",
    "    sample.calculate_silica_mass_fraction()\n",
    "    sample.calculate_dilution_volumefraction(target_dilution)\n",
    "    samples_gen.append(sample)\n",
    "    print('final etoh vol: ', sample.ethanol_volume)"
   ]
  },
  {
   "cell_type": "code",
   "execution_count": 8,
   "id": "16a50dff-d9dc-4f06-bb22-1cfee5fa9daa",
   "metadata": {},
   "outputs": [],
   "source": [
    "synth_table = samples.generate_synthesis_table(samples_gen)"
   ]
  },
  {
   "cell_type": "code",
   "execution_count": 9,
   "id": "d08cb4a9-7e94-49cb-8cee-f6b98f9377e2",
   "metadata": {},
   "outputs": [
    {
     "data": {
      "text/html": [
       "<div>\n",
       "<style scoped>\n",
       "    .dataframe tbody tr th:only-of-type {\n",
       "        vertical-align: middle;\n",
       "    }\n",
       "\n",
       "    .dataframe tbody tr th {\n",
       "        vertical-align: top;\n",
       "    }\n",
       "\n",
       "    .dataframe thead th {\n",
       "        text-align: right;\n",
       "    }\n",
       "</style>\n",
       "<table border=\"1\" class=\"dataframe\">\n",
       "  <thead>\n",
       "    <tr style=\"text-align: right;\">\n",
       "      <th></th>\n",
       "      <th>uuid</th>\n",
       "      <th>teos_volume</th>\n",
       "      <th>ammonia_volume</th>\n",
       "      <th>water_volume</th>\n",
       "      <th>ethanol_volume</th>\n",
       "      <th>dilution_volume_fraction</th>\n",
       "      <th>silica_mass_conc</th>\n",
       "      <th>silica_mass_fraction</th>\n",
       "    </tr>\n",
       "  </thead>\n",
       "  <tbody>\n",
       "    <tr>\n",
       "      <th>0</th>\n",
       "      <td>dc074903-9e5f-4865-9e3d-c7048a916a4c</td>\n",
       "      <td>364.6347</td>\n",
       "      <td>915.26895</td>\n",
       "      <td>2124.96855</td>\n",
       "      <td>13595.1278</td>\n",
       "      <td>2.965909</td>\n",
       "      <td>2.025686</td>\n",
       "      <td>0.002527</td>\n",
       "    </tr>\n",
       "    <tr>\n",
       "      <th>1</th>\n",
       "      <td>5ed5518d-3b92-4818-a800-5ba51f86239d</td>\n",
       "      <td>364.6347</td>\n",
       "      <td>915.26895</td>\n",
       "      <td>2124.96855</td>\n",
       "      <td>13595.1278</td>\n",
       "      <td>2.965909</td>\n",
       "      <td>2.025686</td>\n",
       "      <td>0.002527</td>\n",
       "    </tr>\n",
       "    <tr>\n",
       "      <th>2</th>\n",
       "      <td>dfcbb570-4601-4499-b685-1be0e900d2ad</td>\n",
       "      <td>364.6347</td>\n",
       "      <td>915.26895</td>\n",
       "      <td>2124.96855</td>\n",
       "      <td>13595.1278</td>\n",
       "      <td>2.965909</td>\n",
       "      <td>2.025686</td>\n",
       "      <td>0.002527</td>\n",
       "    </tr>\n",
       "    <tr>\n",
       "      <th>3</th>\n",
       "      <td>7fac3721-5c19-4583-a66c-56274a376575</td>\n",
       "      <td>364.6347</td>\n",
       "      <td>915.26895</td>\n",
       "      <td>2124.96855</td>\n",
       "      <td>13595.1278</td>\n",
       "      <td>2.965909</td>\n",
       "      <td>2.025686</td>\n",
       "      <td>0.002527</td>\n",
       "    </tr>\n",
       "    <tr>\n",
       "      <th>4</th>\n",
       "      <td>1cd1ff7c-4720-44f9-9492-265727463dfc</td>\n",
       "      <td>364.6347</td>\n",
       "      <td>915.26895</td>\n",
       "      <td>2124.96855</td>\n",
       "      <td>13595.1278</td>\n",
       "      <td>2.965909</td>\n",
       "      <td>2.025686</td>\n",
       "      <td>0.002527</td>\n",
       "    </tr>\n",
       "  </tbody>\n",
       "</table>\n",
       "</div>"
      ],
      "text/plain": [
       "                                   uuid  teos_volume  ammonia_volume  \\\n",
       "0  dc074903-9e5f-4865-9e3d-c7048a916a4c     364.6347       915.26895   \n",
       "1  5ed5518d-3b92-4818-a800-5ba51f86239d     364.6347       915.26895   \n",
       "2  dfcbb570-4601-4499-b685-1be0e900d2ad     364.6347       915.26895   \n",
       "3  7fac3721-5c19-4583-a66c-56274a376575     364.6347       915.26895   \n",
       "4  1cd1ff7c-4720-44f9-9492-265727463dfc     364.6347       915.26895   \n",
       "\n",
       "   water_volume  ethanol_volume  dilution_volume_fraction  silica_mass_conc  \\\n",
       "0    2124.96855      13595.1278                  2.965909          2.025686   \n",
       "1    2124.96855      13595.1278                  2.965909          2.025686   \n",
       "2    2124.96855      13595.1278                  2.965909          2.025686   \n",
       "3    2124.96855      13595.1278                  2.965909          2.025686   \n",
       "4    2124.96855      13595.1278                  2.965909          2.025686   \n",
       "\n",
       "   silica_mass_fraction  \n",
       "0              0.002527  \n",
       "1              0.002527  \n",
       "2              0.002527  \n",
       "3              0.002527  \n",
       "4              0.002527  "
      ]
     },
     "execution_count": 9,
     "metadata": {},
     "output_type": "execute_result"
    }
   ],
   "source": [
    "synth_table"
   ]
  },
  {
   "cell_type": "code",
   "execution_count": 10,
   "id": "58420921-b144-4972-bd04-821fafd5a9ca",
   "metadata": {},
   "outputs": [],
   "source": [
    "rows = ['A', 'B', 'C']\n",
    "cols = [1, 2, 3, 4]\n",
    "\n",
    "wells = []\n",
    "for row in rows:\n",
    "    for col in cols:\n",
    "        wells.append(row + str(col))"
   ]
  },
  {
   "cell_type": "code",
   "execution_count": 11,
   "id": "0a3c3fd1-ad06-448e-8130-5366622484b6",
   "metadata": {},
   "outputs": [],
   "source": [
    "synth_table['well'] = wells[:len(synth_table)]"
   ]
  },
  {
   "cell_type": "code",
   "execution_count": 12,
   "id": "ca89a2cd-e394-4861-9aed-b3bf25ef4c67",
   "metadata": {},
   "outputs": [
    {
     "data": {
      "text/html": [
       "<div>\n",
       "<style scoped>\n",
       "    .dataframe tbody tr th:only-of-type {\n",
       "        vertical-align: middle;\n",
       "    }\n",
       "\n",
       "    .dataframe tbody tr th {\n",
       "        vertical-align: top;\n",
       "    }\n",
       "\n",
       "    .dataframe thead th {\n",
       "        text-align: right;\n",
       "    }\n",
       "</style>\n",
       "<table border=\"1\" class=\"dataframe\">\n",
       "  <thead>\n",
       "    <tr style=\"text-align: right;\">\n",
       "      <th></th>\n",
       "      <th>uuid</th>\n",
       "      <th>teos_volume</th>\n",
       "      <th>ammonia_volume</th>\n",
       "      <th>water_volume</th>\n",
       "      <th>ethanol_volume</th>\n",
       "      <th>dilution_volume_fraction</th>\n",
       "      <th>silica_mass_conc</th>\n",
       "      <th>silica_mass_fraction</th>\n",
       "      <th>well</th>\n",
       "    </tr>\n",
       "  </thead>\n",
       "  <tbody>\n",
       "    <tr>\n",
       "      <th>0</th>\n",
       "      <td>dc074903-9e5f-4865-9e3d-c7048a916a4c</td>\n",
       "      <td>364.6347</td>\n",
       "      <td>915.26895</td>\n",
       "      <td>2124.96855</td>\n",
       "      <td>13595.1278</td>\n",
       "      <td>2.965909</td>\n",
       "      <td>2.025686</td>\n",
       "      <td>0.002527</td>\n",
       "      <td>A1</td>\n",
       "    </tr>\n",
       "    <tr>\n",
       "      <th>1</th>\n",
       "      <td>5ed5518d-3b92-4818-a800-5ba51f86239d</td>\n",
       "      <td>364.6347</td>\n",
       "      <td>915.26895</td>\n",
       "      <td>2124.96855</td>\n",
       "      <td>13595.1278</td>\n",
       "      <td>2.965909</td>\n",
       "      <td>2.025686</td>\n",
       "      <td>0.002527</td>\n",
       "      <td>A2</td>\n",
       "    </tr>\n",
       "    <tr>\n",
       "      <th>2</th>\n",
       "      <td>dfcbb570-4601-4499-b685-1be0e900d2ad</td>\n",
       "      <td>364.6347</td>\n",
       "      <td>915.26895</td>\n",
       "      <td>2124.96855</td>\n",
       "      <td>13595.1278</td>\n",
       "      <td>2.965909</td>\n",
       "      <td>2.025686</td>\n",
       "      <td>0.002527</td>\n",
       "      <td>A3</td>\n",
       "    </tr>\n",
       "    <tr>\n",
       "      <th>3</th>\n",
       "      <td>7fac3721-5c19-4583-a66c-56274a376575</td>\n",
       "      <td>364.6347</td>\n",
       "      <td>915.26895</td>\n",
       "      <td>2124.96855</td>\n",
       "      <td>13595.1278</td>\n",
       "      <td>2.965909</td>\n",
       "      <td>2.025686</td>\n",
       "      <td>0.002527</td>\n",
       "      <td>A4</td>\n",
       "    </tr>\n",
       "    <tr>\n",
       "      <th>4</th>\n",
       "      <td>1cd1ff7c-4720-44f9-9492-265727463dfc</td>\n",
       "      <td>364.6347</td>\n",
       "      <td>915.26895</td>\n",
       "      <td>2124.96855</td>\n",
       "      <td>13595.1278</td>\n",
       "      <td>2.965909</td>\n",
       "      <td>2.025686</td>\n",
       "      <td>0.002527</td>\n",
       "      <td>B1</td>\n",
       "    </tr>\n",
       "  </tbody>\n",
       "</table>\n",
       "</div>"
      ],
      "text/plain": [
       "                                   uuid  teos_volume  ammonia_volume  \\\n",
       "0  dc074903-9e5f-4865-9e3d-c7048a916a4c     364.6347       915.26895   \n",
       "1  5ed5518d-3b92-4818-a800-5ba51f86239d     364.6347       915.26895   \n",
       "2  dfcbb570-4601-4499-b685-1be0e900d2ad     364.6347       915.26895   \n",
       "3  7fac3721-5c19-4583-a66c-56274a376575     364.6347       915.26895   \n",
       "4  1cd1ff7c-4720-44f9-9492-265727463dfc     364.6347       915.26895   \n",
       "\n",
       "   water_volume  ethanol_volume  dilution_volume_fraction  silica_mass_conc  \\\n",
       "0    2124.96855      13595.1278                  2.965909          2.025686   \n",
       "1    2124.96855      13595.1278                  2.965909          2.025686   \n",
       "2    2124.96855      13595.1278                  2.965909          2.025686   \n",
       "3    2124.96855      13595.1278                  2.965909          2.025686   \n",
       "4    2124.96855      13595.1278                  2.965909          2.025686   \n",
       "\n",
       "   silica_mass_fraction well  \n",
       "0              0.002527   A1  \n",
       "1              0.002527   A2  \n",
       "2              0.002527   A3  \n",
       "3              0.002527   A4  \n",
       "4              0.002527   B1  "
      ]
     },
     "execution_count": 12,
     "metadata": {},
     "output_type": "execute_result"
    }
   ],
   "source": [
    "synth_table"
   ]
  },
  {
   "cell_type": "code",
   "execution_count": 13,
   "id": "d35e0d4f-5842-4845-a58b-529cf92748d3",
   "metadata": {},
   "outputs": [],
   "source": [
    "synth_table.to_csv(samples_write_fp)"
   ]
  },
  {
   "cell_type": "code",
   "execution_count": 45,
   "id": "03a2c2e7-f06b-4ea1-8f8f-4825e18402dd",
   "metadata": {},
   "outputs": [
    {
     "data": {
      "text/plain": [
       "3"
      ]
     },
     "execution_count": 45,
     "metadata": {},
     "output_type": "execute_result"
    }
   ],
   "source": []
  },
  {
   "cell_type": "code",
   "execution_count": 14,
   "id": "a824c23f-d34d-4ce9-9c73-69a9aa00434e",
   "metadata": {},
   "outputs": [
    {
     "data": {
      "text/plain": [
       "67975.639"
      ]
     },
     "execution_count": 14,
     "metadata": {},
     "output_type": "execute_result"
    }
   ],
   "source": [
    "synth_table['ethanol_volume'].sum()"
   ]
  },
  {
   "cell_type": "code",
   "execution_count": 15,
   "id": "ad762522-1468-4204-87c8-640d9a211ee0",
   "metadata": {},
   "outputs": [
    {
     "data": {
      "text/plain": [
       "10624.84275"
      ]
     },
     "execution_count": 15,
     "metadata": {},
     "output_type": "execute_result"
    }
   ],
   "source": [
    "synth_table['water_volume'].sum()"
   ]
  },
  {
   "cell_type": "code",
   "execution_count": null,
   "id": "37b2710a-fd43-47f7-92e1-610210027a99",
   "metadata": {},
   "outputs": [],
   "source": []
  }
 ],
 "metadata": {
  "kernelspec": {
   "display_name": "Python 3 (ipykernel)",
   "language": "python",
   "name": "python3"
  },
  "language_info": {
   "codemirror_mode": {
    "name": "ipython",
    "version": 3
   },
   "file_extension": ".py",
   "mimetype": "text/x-python",
   "name": "python",
   "nbconvert_exporter": "python",
   "pygments_lexer": "ipython3",
   "version": "3.12.7"
  }
 },
 "nbformat": 4,
 "nbformat_minor": 5
}
