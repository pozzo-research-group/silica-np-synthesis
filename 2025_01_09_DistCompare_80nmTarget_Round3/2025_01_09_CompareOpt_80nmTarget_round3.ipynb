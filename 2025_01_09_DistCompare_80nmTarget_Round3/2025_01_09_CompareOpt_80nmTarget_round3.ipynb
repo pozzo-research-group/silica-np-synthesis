{
 "cells": [
  {
   "cell_type": "markdown",
   "id": "110d0499-187d-47cb-b3bd-52e828f810d0",
   "metadata": {},
   "source": [
    "## Setup"
   ]
  },
  {
   "cell_type": "code",
   "execution_count": 7,
   "id": "023a9737-b2dd-4151-af0b-67ea2aeb7386",
   "metadata": {},
   "outputs": [
    {
     "name": "stdout",
     "output_type": "stream",
     "text": [
      "The autoreload extension is already loaded. To reload it, use:\n",
      "  %reload_ext autoreload\n"
     ]
    }
   ],
   "source": [
    "%load_ext autoreload\n",
    "%autoreload 2"
   ]
  },
  {
   "cell_type": "code",
   "execution_count": 8,
   "id": "a8305f4f-98d9-46aa-b3a5-aef3875465c8",
   "metadata": {},
   "outputs": [],
   "source": [
    "import requests\n",
    "\n",
    "# ----------- Science Jubilee -------------\n",
    "from science_jubilee import Machine as Jub\n",
    "from science_jubilee.tools import HTTPSyringe as syringe\n",
    "from science_jubilee.tools import Pipette\n",
    "from science_jubilee.utils import Handlers\n",
    "import time\n",
    "import numpy as np\n",
    "import pandas as pd\n",
    "import logging\n",
    "import sys\n",
    "sys.path.append('..')\n",
    "import stober_synthesis_utils as stober"
   ]
  },
  {
   "cell_type": "code",
   "execution_count": 9,
   "id": "39e0dd27-900a-4151-ad77-cae178e545d7",
   "metadata": {},
   "outputs": [],
   "source": [
    "FORMAT = '%(asctime)s:%(levelname)s:%(name)s:%(message)s'\n",
    "logging.basicConfig(filename = '2025_01_09_CompareOpt_80nmTarget_round3.log', level = logging.INFO, format = FORMAT)\n",
    "logger = logging.getLogger(__name__)"
   ]
  },
  {
   "cell_type": "code",
   "execution_count": 10,
   "id": "bb05bc51-e88d-493a-b7ae-ec244bab05d1",
   "metadata": {
    "scrolled": true
   },
   "outputs": [],
   "source": [
    "jubilee = Jub.Machine(address='192.168.1.2', simulated = False, crash_detection = False) "
   ]
  },
  {
   "cell_type": "raw",
   "id": "23f14450-b2fd-46b7-82b2-a17b1061fde5",
   "metadata": {
    "scrolled": true
   },
   "source": [
    "#jubilee.home_all()\n",
    "logger.info('Homed Jubilee')"
   ]
  },
  {
   "cell_type": "code",
   "execution_count": 11,
   "id": "7dd1d29b-638a-4d85-9cf3-986931deae0f",
   "metadata": {},
   "outputs": [],
   "source": [
    "deck = jubilee.load_deck('lab_automation_deck_AFL_bolton.json')"
   ]
  },
  {
   "cell_type": "code",
   "execution_count": 55,
   "id": "d2505692-e098-4cf7-954a-b2ac9d91e06f",
   "metadata": {},
   "outputs": [],
   "source": [
    "sample_table_rmse = pd.read_csv('Sample_table_2025_01_09_CompareOpt_80nmTarget_Round3_rmsedist.csv')\n",
    "sample_table_apdist = pd.read_csv('Sample_table_2025_01_09_CompareOpt_80nmTarget_Round3_rmsedist.csv')"
   ]
  },
  {
   "cell_type": "code",
   "execution_count": 56,
   "id": "9b530793-b2a2-4f5d-9825-b4d8c2028d96",
   "metadata": {},
   "outputs": [
    {
     "data": {
      "text/plain": [
       "{'teos_count': 1, 'ammonia_count': 1, 'water_count': 1, 'ethanol_count': 1}"
      ]
     },
     "execution_count": 56,
     "metadata": {},
     "output_type": "execute_result"
    }
   ],
   "source": [
    "stober.count_stock_vials(sample_table_rmse, 15000)"
   ]
  },
  {
   "cell_type": "code",
   "execution_count": 57,
   "id": "dd237516-a73b-4981-8a1a-1f17979c9dac",
   "metadata": {},
   "outputs": [
    {
     "data": {
      "text/plain": [
       "1.335128747448325"
      ]
     },
     "execution_count": 57,
     "metadata": {},
     "output_type": "execute_result"
    }
   ],
   "source": [
    "sample_table_apdist['ethanol_volume'].sum()/10000"
   ]
  },
  {
   "cell_type": "markdown",
   "id": "b8f140ff-c5f8-494d-bd58-093982edd086",
   "metadata": {},
   "source": [
    "## Load Tools"
   ]
  },
  {
   "cell_type": "code",
   "execution_count": 13,
   "id": "d73bac24-917c-4c8c-8c30-494146511312",
   "metadata": {},
   "outputs": [],
   "source": [
    "syringe_10 = syringe.HTTPSyringe.from_config(1, \"../../science-jubilee/src/science_jubilee/tools/configs/10cc_syringe.json\")\n",
    "syringe_1_1 = syringe.HTTPSyringe.from_config(2, \"../../science-jubilee/src/science_jubilee/tools/configs/1cc_1_syringe.json\")\n",
    "syringe_1_2 = syringe.HTTPSyringe.from_config(3, \"../../science-jubilee/src/science_jubilee/tools/configs/1cc_2_syringe.json\")\n",
    "syringe_1_3 = syringe.HTTPSyringe.from_config(4, \"../../science-jubilee/src/science_jubilee/tools/configs/1cc_3_syringe.json\")"
   ]
  },
  {
   "cell_type": "code",
   "execution_count": 14,
   "id": "9448524a-f60e-43fd-ae53-0a51c87e6035",
   "metadata": {
    "scrolled": true
   },
   "outputs": [],
   "source": [
    "jubilee.load_tool(syringe_10)\n",
    "jubilee.load_tool(syringe_1_1)\n",
    "jubilee.load_tool(syringe_1_2)\n",
    "jubilee.load_tool(syringe_1_3)"
   ]
  },
  {
   "cell_type": "code",
   "execution_count": 15,
   "id": "21127bbe-632c-4ec0-84f9-57d9772a90db",
   "metadata": {},
   "outputs": [],
   "source": [
    "mix_syringe = syringe_10\n",
    "water_syringe = syringe_1_1\n",
    "ammonia_syringe = syringe_1_2\n",
    "teos_syringe = syringe_1_3"
   ]
  },
  {
   "cell_type": "markdown",
   "id": "e1d880ae-d253-43f5-995f-d2619e29c78a",
   "metadata": {},
   "source": [
    "## Load water syringe with water"
   ]
  },
  {
   "cell_type": "code",
   "execution_count": 16,
   "id": "fa91aafe-663a-4ea2-86df-e996c41d8f37",
   "metadata": {},
   "outputs": [
    {
     "name": "stdout",
     "output_type": "stream",
     "text": [
      "Loaded syringe, remaining volume 600 uL\n"
     ]
    }
   ],
   "source": [
    "water_syringe.load_syringe(600, 1500)"
   ]
  },
  {
   "cell_type": "code",
   "execution_count": 17,
   "id": "bb1ecb81-f858-4ab6-8a1e-b5a85f432f54",
   "metadata": {
    "scrolled": true
   },
   "outputs": [],
   "source": [
    "water_syringe.set_pulsewidth(water_syringe.empty_position-1, s = 2000)"
   ]
  },
  {
   "cell_type": "code",
   "execution_count": 18,
   "id": "b78aa9f3-0da5-4987-9da3-171f4e5ae2b1",
   "metadata": {},
   "outputs": [],
   "source": [
    "water_syringe.set_pulsewidth(water_syringe.full_position+1, s = 10)"
   ]
  },
  {
   "cell_type": "code",
   "execution_count": 19,
   "id": "e08edebd-a82b-4e35-a662-def2994a8f00",
   "metadata": {},
   "outputs": [],
   "source": [
    "water_syringe.set_pulsewidth(water_syringe.full_position+150, s = 500)"
   ]
  },
  {
   "cell_type": "code",
   "execution_count": 20,
   "id": "80aff25d-bae2-478d-bc07-4b4f11bd5e05",
   "metadata": {},
   "outputs": [
    {
     "name": "stdout",
     "output_type": "stream",
     "text": [
      "Loaded syringe, remaining volume 740 uL\n"
     ]
    }
   ],
   "source": [
    "water_syringe.load_syringe(740, water_syringe.full_position+150)"
   ]
  },
  {
   "cell_type": "markdown",
   "id": "8ea5df3b-0ad5-4dbb-ad3f-089a2d5f2bd1",
   "metadata": {},
   "source": [
    "## Load ammonia syringe"
   ]
  },
  {
   "cell_type": "code",
   "execution_count": 21,
   "id": "87a366e4-d389-4830-b923-0a932968add9",
   "metadata": {},
   "outputs": [],
   "source": [
    "#ammonia_syringe.set_pulsewidth(1420, s = 10)"
   ]
  },
  {
   "cell_type": "code",
   "execution_count": 22,
   "id": "0b36ffcf-ec60-4ee2-b2ae-5fb6895fd16c",
   "metadata": {},
   "outputs": [
    {
     "name": "stdout",
     "output_type": "stream",
     "text": [
      "Loaded syringe, remaining volume 600 uL\n"
     ]
    }
   ],
   "source": [
    "ammonia_syringe.load_syringe(600, 1500)"
   ]
  },
  {
   "cell_type": "code",
   "execution_count": 23,
   "id": "497e2cad-9387-4815-9398-58651b8d9826",
   "metadata": {},
   "outputs": [],
   "source": [
    "ammonia_syringe.set_pulsewidth(ammonia_syringe.empty_position-1, s = 2000)"
   ]
  },
  {
   "cell_type": "code",
   "execution_count": 24,
   "id": "a0c7e519-e4e1-4a6a-a40d-3a5125503194",
   "metadata": {},
   "outputs": [],
   "source": [
    "ammonia_syringe.set_pulsewidth(ammonia_syringe.full_position+1, s = 10)"
   ]
  },
  {
   "cell_type": "code",
   "execution_count": 25,
   "id": "460e8b6d-261f-4e06-b587-a978291d57f7",
   "metadata": {},
   "outputs": [],
   "source": [
    "ammonia_syringe.set_pulsewidth(ammonia_syringe.full_position+350, s = 500)"
   ]
  },
  {
   "cell_type": "code",
   "execution_count": 26,
   "id": "b5be2527-8c06-4465-8e44-41f410149cd7",
   "metadata": {},
   "outputs": [
    {
     "name": "stdout",
     "output_type": "stream",
     "text": [
      "Loaded syringe, remaining volume 370 uL\n"
     ]
    }
   ],
   "source": [
    "ammonia_syringe.load_syringe(370, ammonia_syringe.full_position+350)"
   ]
  },
  {
   "cell_type": "markdown",
   "id": "e2c53ecf-d14a-4536-8062-9e7af8c51ba8",
   "metadata": {},
   "source": [
    "## Load TEOS syringe"
   ]
  },
  {
   "cell_type": "code",
   "execution_count": 31,
   "id": "22a73a10-c727-45c9-a653-1716b97e7d51",
   "metadata": {},
   "outputs": [
    {
     "name": "stdout",
     "output_type": "stream",
     "text": [
      "Loaded syringe, remaining volume 600 uL\n"
     ]
    }
   ],
   "source": [
    "teos_syringe.load_syringe(600, 1500)"
   ]
  },
  {
   "cell_type": "code",
   "execution_count": 32,
   "id": "2a4274ac-3472-452b-9368-56f36ed8d078",
   "metadata": {},
   "outputs": [],
   "source": [
    "teos_syringe.set_pulsewidth(teos_syringe.empty_position-1, s = 2000)"
   ]
  },
  {
   "cell_type": "code",
   "execution_count": 33,
   "id": "63453a13-e4ed-47a9-8d35-3368c1a83daf",
   "metadata": {},
   "outputs": [],
   "source": [
    "teos_syringe.set_pulsewidth(teos_syringe.full_position+1, s = 100)"
   ]
  },
  {
   "cell_type": "code",
   "execution_count": 34,
   "id": "7d22ae98-d92e-4ee2-aa1e-dbd7090f7778",
   "metadata": {},
   "outputs": [],
   "source": [
    "teos_syringe.set_pulsewidth(teos_syringe.full_position+200, s = 200)"
   ]
  },
  {
   "cell_type": "code",
   "execution_count": 35,
   "id": "cf5154eb-2d59-4bd8-90c2-86c3374a662d",
   "metadata": {},
   "outputs": [
    {
     "name": "stdout",
     "output_type": "stream",
     "text": [
      "Loaded syringe, remaining volume 680 uL\n"
     ]
    }
   ],
   "source": [
    "teos_syringe.load_syringe(680, teos_syringe.full_position+200)"
   ]
  },
  {
   "cell_type": "markdown",
   "id": "ad1ac96b-3d53-4da1-aa2c-a8c2386280f8",
   "metadata": {},
   "source": [
    "## load ethanol syringe"
   ]
  },
  {
   "cell_type": "code",
   "execution_count": 36,
   "id": "f1caaf1a-900c-43ed-a57b-754b0d62aa37",
   "metadata": {},
   "outputs": [],
   "source": [
    "#jubilee.park_tool()"
   ]
  },
  {
   "cell_type": "code",
   "execution_count": 37,
   "id": "94db4b0e-3075-4b45-91f7-9bc2817a2e31",
   "metadata": {},
   "outputs": [
    {
     "name": "stdout",
     "output_type": "stream",
     "text": [
      "Loaded syringe, remaining volume 0 uL\n"
     ]
    }
   ],
   "source": [
    "mix_syringe.load_syringe(0, mix_syringe.empty_position-1)"
   ]
  },
  {
   "cell_type": "code",
   "execution_count": 38,
   "id": "f53b6f7e-62d6-43fc-b2bf-a2e1aebdf313",
   "metadata": {},
   "outputs": [],
   "source": [
    "mix_syringe.set_pulsewidth(mix_syringe.empty_position-1, s = 2000)\n"
   ]
  },
  {
   "cell_type": "code",
   "execution_count": 39,
   "id": "c0904b15-1ceb-4e5b-aa62-2706e79634e6",
   "metadata": {},
   "outputs": [],
   "source": [
    "mix_syringe.set_pulsewidth(mix_syringe.full_position+1, s = 10)"
   ]
  },
  {
   "cell_type": "code",
   "execution_count": 40,
   "id": "96d9a53e-24a0-4595-bb69-db89483176ce",
   "metadata": {},
   "outputs": [],
   "source": [
    "#mix_syringe.empty_position"
   ]
  },
  {
   "cell_type": "code",
   "execution_count": 41,
   "id": "8f8a67fa-ed88-45db-a2df-72720c31beff",
   "metadata": {},
   "outputs": [],
   "source": [
    "mix_syringe.set_pulsewidth(mix_syringe.full_position+150, s = 500)"
   ]
  },
  {
   "cell_type": "code",
   "execution_count": 42,
   "id": "99ad1605-10c8-45a3-80cf-c6adfd7ae6a9",
   "metadata": {},
   "outputs": [
    {
     "name": "stdout",
     "output_type": "stream",
     "text": [
      "Loaded syringe, remaining volume 7100 uL\n"
     ]
    }
   ],
   "source": [
    "mix_syringe.load_syringe(7100, mix_syringe.full_position+150)"
   ]
  },
  {
   "cell_type": "markdown",
   "id": "43d1f97d-4c55-40d3-ac5b-9c3a3f1062ed",
   "metadata": {},
   "source": [
    "## Load labware\n"
   ]
  },
  {
   "cell_type": "code",
   "execution_count": 79,
   "id": "19b4bfa8-6878-4b0b-a564-369faa361b1c",
   "metadata": {
    "scrolled": true
   },
   "outputs": [
    {
     "name": "stdout",
     "output_type": "stream",
     "text": [
      "New manual offset applied to septavialrev1_44_holder_2000ul\n"
     ]
    }
   ],
   "source": [
    "samples = jubilee.load_labware('septavialrev1_44_holder_2000ul.json', 2)\n",
    "samples.manual_offset([(17.8,  174.6), (131.2, 175.3), (131.6, 105.4)])"
   ]
  },
  {
   "cell_type": "code",
   "execution_count": 95,
   "id": "19ad67cc-b0a8-4c1f-8d6a-60b173599c82",
   "metadata": {},
   "outputs": [
    {
     "name": "stdout",
     "output_type": "stream",
     "text": [
      "New manual offset applied to 20mlscintillation_12_wellplate_18000ul\n"
     ]
    }
   ],
   "source": [
    "stocks = jubilee.load_labware('20mlscintillation_12_wellplate_18000ul.json', 4)\n",
    "stocks.manual_offset([(30.6, 264.2), (116.2, 264.8),  (117.0, 208.6)])"
   ]
  },
  {
   "cell_type": "code",
   "execution_count": 50,
   "id": "1ef40a35-9802-4eb3-9a10-16255155b92d",
   "metadata": {},
   "outputs": [],
   "source": [
    "trash = jubilee.load_labware('agilent_1_reservoir_290ml.json', 1)"
   ]
  },
  {
   "cell_type": "code",
   "execution_count": 51,
   "id": "f7395271-1a02-4f11-883f-34a8456f0a05",
   "metadata": {},
   "outputs": [],
   "source": [
    "teos_stocks = [stocks[0]]\n",
    "ammonia_stocks = [stocks[1]]\n",
    "water_stocks = [stocks[2]]\n",
    "ethanol_stocks = [stocks[3], stocks[4], stocks[5], stocks[6], stocks[7], stocks[8]]\n",
    "rinse_stocks = [stocks[9], stocks[10], stocks[11]]"
   ]
  },
  {
   "cell_type": "markdown",
   "id": "4bd30fe3-5be6-4ea7-a61d-357272d3e8a4",
   "metadata": {},
   "source": [
    "## Check sample alignment"
   ]
  },
  {
   "cell_type": "code",
   "execution_count": 103,
   "id": "6341c596-5970-48b4-b3cc-44b5f8d7a9ff",
   "metadata": {},
   "outputs": [
    {
     "name": "stdout",
     "output_type": "stream",
     "text": [
      "264.2\n"
     ]
    },
    {
     "name": "stdin",
     "output_type": "stream",
     "text": [
      "Is the tip centered over well? \n"
     ]
    },
    {
     "name": "stdout",
     "output_type": "stream",
     "text": [
      "264.50307061616627\n"
     ]
    },
    {
     "name": "stdin",
     "output_type": "stream",
     "text": [
      "Is the tip centered over well? \n"
     ]
    },
    {
     "name": "stdout",
     "output_type": "stream",
     "text": [
      "264.80614123233255\n"
     ]
    },
    {
     "name": "stdin",
     "output_type": "stream",
     "text": [
      "Is the tip centered over well? \n"
     ]
    },
    {
     "name": "stdout",
     "output_type": "stream",
     "text": [
      "265.10921184849883\n"
     ]
    },
    {
     "name": "stdin",
     "output_type": "stream",
     "text": [
      "Is the tip centered over well? \n"
     ]
    },
    {
     "name": "stdout",
     "output_type": "stream",
     "text": [
      "236.09873840493776\n"
     ]
    },
    {
     "name": "stdin",
     "output_type": "stream",
     "text": [
      "Is the tip centered over well? \n"
     ]
    },
    {
     "name": "stdout",
     "output_type": "stream",
     "text": [
      "236.40180902110404\n"
     ]
    },
    {
     "name": "stdin",
     "output_type": "stream",
     "text": [
      "Is the tip centered over well? \n"
     ]
    },
    {
     "name": "stdout",
     "output_type": "stream",
     "text": [
      "236.70487963727032\n"
     ]
    },
    {
     "name": "stdin",
     "output_type": "stream",
     "text": [
      "Is the tip centered over well? \n"
     ]
    },
    {
     "name": "stdout",
     "output_type": "stream",
     "text": [
      "237.00795025343658\n"
     ]
    },
    {
     "name": "stdin",
     "output_type": "stream",
     "text": [
      "Is the tip centered over well? \n"
     ]
    },
    {
     "name": "stdout",
     "output_type": "stream",
     "text": [
      "207.99747680987554\n"
     ]
    },
    {
     "name": "stdin",
     "output_type": "stream",
     "text": [
      "Is the tip centered over well? \n"
     ]
    },
    {
     "name": "stdout",
     "output_type": "stream",
     "text": [
      "208.30054742604182\n"
     ]
    },
    {
     "name": "stdin",
     "output_type": "stream",
     "text": [
      "Is the tip centered over well? \n"
     ]
    },
    {
     "name": "stdout",
     "output_type": "stream",
     "text": [
      "208.6036180422081\n"
     ]
    },
    {
     "name": "stdin",
     "output_type": "stream",
     "text": [
      "Is the tip centered over well? \n"
     ]
    },
    {
     "name": "stdout",
     "output_type": "stream",
     "text": [
      "208.90668865837435\n"
     ]
    },
    {
     "name": "stdin",
     "output_type": "stream",
     "text": [
      "Is the tip centered over well? \n"
     ]
    }
   ],
   "source": [
    "jubilee.pickup_tool(teos_syringe)\n",
    "for well in stocks:\n",
    "    jubilee.move_to(x = well.x, y = well.y)\n",
    "    print(well.y)\n",
    "    jubilee.move_to(z = well.top_+7)\n",
    "    ans = input(f'Is the tip centered over well?')\n",
    "    if ans == 'y':\n",
    "        continue\n",
    "    else:\n",
    "        continue"
   ]
  },
  {
   "cell_type": "code",
   "execution_count": 104,
   "id": "95d14b2a-7129-4868-8a0b-2901da667520",
   "metadata": {},
   "outputs": [],
   "source": [
    "jubilee.park_tool()\n"
   ]
  },
  {
   "cell_type": "code",
   "execution_count": 92,
   "id": "25a4d272-6e56-4649-ba7a-5e04e922c043",
   "metadata": {},
   "outputs": [
    {
     "name": "stdout",
     "output_type": "stream",
     "text": [
      "174.6\n"
     ]
    },
    {
     "name": "stdin",
     "output_type": "stream",
     "text": [
      "Is the tip centered over sample A1? \n"
     ]
    },
    {
     "name": "stdout",
     "output_type": "stream",
     "text": [
      "174.69635205793185\n"
     ]
    },
    {
     "name": "stdin",
     "output_type": "stream",
     "text": [
      "Is the tip centered over sample A2? \n"
     ]
    },
    {
     "name": "stdout",
     "output_type": "stream",
     "text": [
      "174.7927041158637\n"
     ]
    },
    {
     "name": "stdin",
     "output_type": "stream",
     "text": [
      "Is the tip centered over sample A3? \n"
     ]
    },
    {
     "name": "stdout",
     "output_type": "stream",
     "text": [
      "174.88905617379558\n"
     ]
    },
    {
     "name": "stdin",
     "output_type": "stream",
     "text": [
      "Is the tip centered over sample A4? \n",
      "Is the tip centered over sample A5? \n"
     ]
    },
    {
     "name": "stdout",
     "output_type": "stream",
     "text": [
      "174.98540823172743\n",
      "175.0817602896593\n"
     ]
    },
    {
     "name": "stdin",
     "output_type": "stream",
     "text": [
      "Is the tip centered over sample A6? \n"
     ]
    },
    {
     "name": "stdout",
     "output_type": "stream",
     "text": [
      "175.17811234759114\n"
     ]
    },
    {
     "name": "stdin",
     "output_type": "stream",
     "text": [
      "Is the tip centered over sample A7? \n"
     ]
    },
    {
     "name": "stdout",
     "output_type": "stream",
     "text": [
      "175.27446440552302\n"
     ]
    },
    {
     "name": "stdin",
     "output_type": "stream",
     "text": [
      "Is the tip centered over sample A8? \n"
     ]
    },
    {
     "name": "stdout",
     "output_type": "stream",
     "text": [
      "160.62001836895595\n"
     ]
    },
    {
     "name": "stdin",
     "output_type": "stream",
     "text": [
      "Is the tip centered over sample B1? \n"
     ]
    },
    {
     "name": "stdout",
     "output_type": "stream",
     "text": [
      "160.81272248481966\n"
     ]
    },
    {
     "name": "stdin",
     "output_type": "stream",
     "text": [
      "Is the tip centered over sample B3? \n"
     ]
    }
   ],
   "source": [
    "#jubilee.pickup_tool(teos_syringe)\n",
    "for i, row in sample_table_rmse.iterrows():\n",
    "    loc = samples[row['well']]\n",
    "    jubilee.move_to(x = loc.x, y = loc.y)\n",
    "    print(loc.y)\n",
    "    jubilee.move_to(z = loc.top_+7)\n",
    "    curr_well = row['well']\n",
    "    ans = input(f'Is the tip centered over sample {curr_well}?')\n",
    "    if ans == 'y':\n",
    "        continue\n",
    "    else:\n",
    "        continue\n",
    "    "
   ]
  },
  {
   "cell_type": "code",
   "execution_count": 87,
   "id": "a52572b9-48d6-4bf1-acb2-19c7ac5c6fb8",
   "metadata": {},
   "outputs": [],
   "source": [
    "jubilee.park_tool()\n"
   ]
  },
  {
   "cell_type": "code",
   "execution_count": 116,
   "id": "fb1de496-2e91-45a7-ba36-35c3f71f205c",
   "metadata": {},
   "outputs": [
    {
     "data": {
      "text/html": [
       "<div>\n",
       "<style scoped>\n",
       "    .dataframe tbody tr th:only-of-type {\n",
       "        vertical-align: middle;\n",
       "    }\n",
       "\n",
       "    .dataframe tbody tr th {\n",
       "        vertical-align: top;\n",
       "    }\n",
       "\n",
       "    .dataframe thead th {\n",
       "        text-align: right;\n",
       "    }\n",
       "</style>\n",
       "<table border=\"1\" class=\"dataframe\">\n",
       "  <thead>\n",
       "    <tr style=\"text-align: right;\">\n",
       "      <th></th>\n",
       "      <th>Unnamed: 0</th>\n",
       "      <th>uuid</th>\n",
       "      <th>teos_volume</th>\n",
       "      <th>ammonia_volume</th>\n",
       "      <th>water_volume</th>\n",
       "      <th>ethanol_volume</th>\n",
       "      <th>dilution_volume_fraction</th>\n",
       "      <th>silica_mass_conc</th>\n",
       "      <th>silica_mass_fraction</th>\n",
       "      <th>ethanol_dilute_vol</th>\n",
       "      <th>sample_dilute_vol</th>\n",
       "      <th>dilute_well</th>\n",
       "      <th>well</th>\n",
       "    </tr>\n",
       "  </thead>\n",
       "  <tbody>\n",
       "    <tr>\n",
       "      <th>0</th>\n",
       "      <td>0</td>\n",
       "      <td>12331b14-877d-40ca-a58e-5c4f523f2dd5</td>\n",
       "      <td>23.715099</td>\n",
       "      <td>90.229787</td>\n",
       "      <td>8.500000</td>\n",
       "      <td>1577.555114</td>\n",
       "      <td>1.600096</td>\n",
       "      <td>3.754775</td>\n",
       "      <td>0.004704</td>\n",
       "      <td>0.0</td>\n",
       "      <td>1700.0</td>\n",
       "      <td>C7</td>\n",
       "      <td>A1</td>\n",
       "    </tr>\n",
       "    <tr>\n",
       "      <th>1</th>\n",
       "      <td>1</td>\n",
       "      <td>1e0839f5-6ffa-464e-a72f-2d3b08508978</td>\n",
       "      <td>17.000000</td>\n",
       "      <td>88.969528</td>\n",
       "      <td>8.500000</td>\n",
       "      <td>1585.530473</td>\n",
       "      <td>2.232143</td>\n",
       "      <td>2.691584</td>\n",
       "      <td>0.003375</td>\n",
       "      <td>0.0</td>\n",
       "      <td>1700.0</td>\n",
       "      <td>C8</td>\n",
       "      <td>A2</td>\n",
       "    </tr>\n",
       "    <tr>\n",
       "      <th>2</th>\n",
       "      <td>2</td>\n",
       "      <td>f7126148-d164-4928-98cb-6356c1276f4a</td>\n",
       "      <td>56.949286</td>\n",
       "      <td>47.748529</td>\n",
       "      <td>229.399745</td>\n",
       "      <td>1365.902440</td>\n",
       "      <td>0.666320</td>\n",
       "      <td>9.016693</td>\n",
       "      <td>0.010923</td>\n",
       "      <td>567.0</td>\n",
       "      <td>1133.0</td>\n",
       "      <td>D1</td>\n",
       "      <td>A3</td>\n",
       "    </tr>\n",
       "    <tr>\n",
       "      <th>3</th>\n",
       "      <td>3</td>\n",
       "      <td>b73246e3-75cb-42da-b984-178d540a962a</td>\n",
       "      <td>17.000000</td>\n",
       "      <td>47.356099</td>\n",
       "      <td>89.896875</td>\n",
       "      <td>1545.747027</td>\n",
       "      <td>2.232143</td>\n",
       "      <td>2.691584</td>\n",
       "      <td>0.003344</td>\n",
       "      <td>0.0</td>\n",
       "      <td>1700.0</td>\n",
       "      <td>D2</td>\n",
       "      <td>A4</td>\n",
       "    </tr>\n",
       "    <tr>\n",
       "      <th>4</th>\n",
       "      <td>4</td>\n",
       "      <td>a6ee61ad-366f-4492-b19b-718cc6ee536d</td>\n",
       "      <td>27.579477</td>\n",
       "      <td>79.819448</td>\n",
       "      <td>28.604884</td>\n",
       "      <td>1563.996191</td>\n",
       "      <td>1.375894</td>\n",
       "      <td>4.366616</td>\n",
       "      <td>0.005456</td>\n",
       "      <td>0.0</td>\n",
       "      <td>1700.0</td>\n",
       "      <td>D3</td>\n",
       "      <td>A5</td>\n",
       "    </tr>\n",
       "    <tr>\n",
       "      <th>5</th>\n",
       "      <td>5</td>\n",
       "      <td>0d81ff88-5694-43fe-9b5b-681fb6e06f5c</td>\n",
       "      <td>158.871084</td>\n",
       "      <td>170.888522</td>\n",
       "      <td>38.707624</td>\n",
       "      <td>1331.532771</td>\n",
       "      <td>0.238850</td>\n",
       "      <td>25.153816</td>\n",
       "      <td>0.030726</td>\n",
       "      <td>1294.0</td>\n",
       "      <td>406.0</td>\n",
       "      <td>D4</td>\n",
       "      <td>A6</td>\n",
       "    </tr>\n",
       "    <tr>\n",
       "      <th>6</th>\n",
       "      <td>6</td>\n",
       "      <td>c73d7705-4597-4fbc-a4c1-75f6e9766d2e</td>\n",
       "      <td>149.280120</td>\n",
       "      <td>84.802900</td>\n",
       "      <td>112.964594</td>\n",
       "      <td>1352.952386</td>\n",
       "      <td>0.254196</td>\n",
       "      <td>23.635293</td>\n",
       "      <td>0.028776</td>\n",
       "      <td>1268.0</td>\n",
       "      <td>432.0</td>\n",
       "      <td>D5</td>\n",
       "      <td>A7</td>\n",
       "    </tr>\n",
       "    <tr>\n",
       "      <th>7</th>\n",
       "      <td>7</td>\n",
       "      <td>3690661f-ff2f-4829-b1eb-c1c810c3c228</td>\n",
       "      <td>179.701427</td>\n",
       "      <td>159.680656</td>\n",
       "      <td>113.209529</td>\n",
       "      <td>1247.408389</td>\n",
       "      <td>0.211164</td>\n",
       "      <td>28.451852</td>\n",
       "      <td>0.034326</td>\n",
       "      <td>1341.0</td>\n",
       "      <td>359.0</td>\n",
       "      <td>D6</td>\n",
       "      <td>A8</td>\n",
       "    </tr>\n",
       "    <tr>\n",
       "      <th>8</th>\n",
       "      <td>8</td>\n",
       "      <td>2ce5d5d6-746b-480e-90b3-a311867b03d4</td>\n",
       "      <td>124.614909</td>\n",
       "      <td>37.557242</td>\n",
       "      <td>255.000010</td>\n",
       "      <td>1282.827840</td>\n",
       "      <td>0.304510</td>\n",
       "      <td>19.730088</td>\n",
       "      <td>0.023666</td>\n",
       "      <td>1182.0</td>\n",
       "      <td>518.0</td>\n",
       "      <td>D7</td>\n",
       "      <td>B1</td>\n",
       "    </tr>\n",
       "    <tr>\n",
       "      <th>9</th>\n",
       "      <td>9</td>\n",
       "      <td>f1b612d2-55d2-49ed-830b-64f4a73ba162</td>\n",
       "      <td>24.106727</td>\n",
       "      <td>52.650063</td>\n",
       "      <td>81.418244</td>\n",
       "      <td>1541.824966</td>\n",
       "      <td>1.574101</td>\n",
       "      <td>3.816781</td>\n",
       "      <td>0.004743</td>\n",
       "      <td>0.0</td>\n",
       "      <td>1700.0</td>\n",
       "      <td>D8</td>\n",
       "      <td>B3</td>\n",
       "    </tr>\n",
       "  </tbody>\n",
       "</table>\n",
       "</div>"
      ],
      "text/plain": [
       "   Unnamed: 0                                  uuid  teos_volume  \\\n",
       "0           0  12331b14-877d-40ca-a58e-5c4f523f2dd5    23.715099   \n",
       "1           1  1e0839f5-6ffa-464e-a72f-2d3b08508978    17.000000   \n",
       "2           2  f7126148-d164-4928-98cb-6356c1276f4a    56.949286   \n",
       "3           3  b73246e3-75cb-42da-b984-178d540a962a    17.000000   \n",
       "4           4  a6ee61ad-366f-4492-b19b-718cc6ee536d    27.579477   \n",
       "5           5  0d81ff88-5694-43fe-9b5b-681fb6e06f5c   158.871084   \n",
       "6           6  c73d7705-4597-4fbc-a4c1-75f6e9766d2e   149.280120   \n",
       "7           7  3690661f-ff2f-4829-b1eb-c1c810c3c228   179.701427   \n",
       "8           8  2ce5d5d6-746b-480e-90b3-a311867b03d4   124.614909   \n",
       "9           9  f1b612d2-55d2-49ed-830b-64f4a73ba162    24.106727   \n",
       "\n",
       "   ammonia_volume  water_volume  ethanol_volume  dilution_volume_fraction  \\\n",
       "0       90.229787      8.500000     1577.555114                  1.600096   \n",
       "1       88.969528      8.500000     1585.530473                  2.232143   \n",
       "2       47.748529    229.399745     1365.902440                  0.666320   \n",
       "3       47.356099     89.896875     1545.747027                  2.232143   \n",
       "4       79.819448     28.604884     1563.996191                  1.375894   \n",
       "5      170.888522     38.707624     1331.532771                  0.238850   \n",
       "6       84.802900    112.964594     1352.952386                  0.254196   \n",
       "7      159.680656    113.209529     1247.408389                  0.211164   \n",
       "8       37.557242    255.000010     1282.827840                  0.304510   \n",
       "9       52.650063     81.418244     1541.824966                  1.574101   \n",
       "\n",
       "   silica_mass_conc  silica_mass_fraction  ethanol_dilute_vol  \\\n",
       "0          3.754775              0.004704                 0.0   \n",
       "1          2.691584              0.003375                 0.0   \n",
       "2          9.016693              0.010923               567.0   \n",
       "3          2.691584              0.003344                 0.0   \n",
       "4          4.366616              0.005456                 0.0   \n",
       "5         25.153816              0.030726              1294.0   \n",
       "6         23.635293              0.028776              1268.0   \n",
       "7         28.451852              0.034326              1341.0   \n",
       "8         19.730088              0.023666              1182.0   \n",
       "9          3.816781              0.004743                 0.0   \n",
       "\n",
       "   sample_dilute_vol dilute_well well  \n",
       "0             1700.0          C7   A1  \n",
       "1             1700.0          C8   A2  \n",
       "2             1133.0          D1   A3  \n",
       "3             1700.0          D2   A4  \n",
       "4             1700.0          D3   A5  \n",
       "5              406.0          D4   A6  \n",
       "6              432.0          D5   A7  \n",
       "7              359.0          D6   A8  \n",
       "8              518.0          D7   B1  \n",
       "9             1700.0          D8   B3  "
      ]
     },
     "execution_count": 116,
     "metadata": {},
     "output_type": "execute_result"
    }
   ],
   "source": [
    "sample_table_rmse"
   ]
  },
  {
   "cell_type": "markdown",
   "id": "b9dff3f4-8be6-4f73-b343-6221f8df76dc",
   "metadata": {},
   "source": [
    "# Experiment\n"
   ]
  },
  {
   "cell_type": "code",
   "execution_count": 105,
   "id": "9d770745-931b-42d0-8b40-409a83411619",
   "metadata": {},
   "outputs": [],
   "source": [
    "location_lookup_apdist = {row['uuid']:samples[row['well']] for i, row in sample_table_apdist.iterrows()}\n",
    "location_lookup_rmse = {row['uuid']:samples[row['well']] for i, row in sample_table_rmse.iterrows()}"
   ]
  },
  {
   "cell_type": "code",
   "execution_count": 106,
   "id": "30502878-2c56-4f8a-94dc-e7ad55f92927",
   "metadata": {},
   "outputs": [
    {
     "data": {
      "text/plain": [
       "13351.287474483252"
      ]
     },
     "execution_count": 106,
     "metadata": {},
     "output_type": "execute_result"
    }
   ],
   "source": [
    "sample_table_apdist['ethanol_volume'].sum()"
   ]
  },
  {
   "cell_type": "code",
   "execution_count": 107,
   "id": "b2a12505-772e-4ca8-8d21-822a400835f9",
   "metadata": {},
   "outputs": [],
   "source": [
    "dilution_table_apdist = sample_table_apdist.copy()\n",
    "dilution_table_rmse = sample_table_rmse.copy()"
   ]
  },
  {
   "cell_type": "code",
   "execution_count": 108,
   "id": "bdd03979-152a-48dd-9d62-b73859c453c4",
   "metadata": {},
   "outputs": [],
   "source": [
    "dilution_table_apdist['well'] = dilution_table_apdist['dilute_well']\n",
    "dilution_table_rmse['well'] = dilution_table_rmse['dilute_well']"
   ]
  },
  {
   "cell_type": "code",
   "execution_count": 109,
   "id": "804bb020-adc5-44ad-84a7-37235024043e",
   "metadata": {},
   "outputs": [
    {
     "data": {
      "text/html": [
       "<div>\n",
       "<style scoped>\n",
       "    .dataframe tbody tr th:only-of-type {\n",
       "        vertical-align: middle;\n",
       "    }\n",
       "\n",
       "    .dataframe tbody tr th {\n",
       "        vertical-align: top;\n",
       "    }\n",
       "\n",
       "    .dataframe thead th {\n",
       "        text-align: right;\n",
       "    }\n",
       "</style>\n",
       "<table border=\"1\" class=\"dataframe\">\n",
       "  <thead>\n",
       "    <tr style=\"text-align: right;\">\n",
       "      <th></th>\n",
       "      <th>Unnamed: 0</th>\n",
       "      <th>uuid</th>\n",
       "      <th>teos_volume</th>\n",
       "      <th>ammonia_volume</th>\n",
       "      <th>water_volume</th>\n",
       "      <th>ethanol_volume</th>\n",
       "      <th>dilution_volume_fraction</th>\n",
       "      <th>silica_mass_conc</th>\n",
       "      <th>silica_mass_fraction</th>\n",
       "      <th>ethanol_dilute_vol</th>\n",
       "      <th>sample_dilute_vol</th>\n",
       "      <th>dilute_well</th>\n",
       "      <th>well</th>\n",
       "    </tr>\n",
       "  </thead>\n",
       "  <tbody>\n",
       "    <tr>\n",
       "      <th>0</th>\n",
       "      <td>0</td>\n",
       "      <td>12331b14-877d-40ca-a58e-5c4f523f2dd5</td>\n",
       "      <td>23.715099</td>\n",
       "      <td>90.229787</td>\n",
       "      <td>8.500000</td>\n",
       "      <td>1577.555114</td>\n",
       "      <td>1.600096</td>\n",
       "      <td>3.754775</td>\n",
       "      <td>0.004704</td>\n",
       "      <td>0.0</td>\n",
       "      <td>1700.0</td>\n",
       "      <td>C7</td>\n",
       "      <td>C7</td>\n",
       "    </tr>\n",
       "    <tr>\n",
       "      <th>1</th>\n",
       "      <td>1</td>\n",
       "      <td>1e0839f5-6ffa-464e-a72f-2d3b08508978</td>\n",
       "      <td>17.000000</td>\n",
       "      <td>88.969528</td>\n",
       "      <td>8.500000</td>\n",
       "      <td>1585.530473</td>\n",
       "      <td>2.232143</td>\n",
       "      <td>2.691584</td>\n",
       "      <td>0.003375</td>\n",
       "      <td>0.0</td>\n",
       "      <td>1700.0</td>\n",
       "      <td>C8</td>\n",
       "      <td>C8</td>\n",
       "    </tr>\n",
       "    <tr>\n",
       "      <th>2</th>\n",
       "      <td>2</td>\n",
       "      <td>f7126148-d164-4928-98cb-6356c1276f4a</td>\n",
       "      <td>56.949286</td>\n",
       "      <td>47.748529</td>\n",
       "      <td>229.399745</td>\n",
       "      <td>1365.902440</td>\n",
       "      <td>0.666320</td>\n",
       "      <td>9.016693</td>\n",
       "      <td>0.010923</td>\n",
       "      <td>567.0</td>\n",
       "      <td>1133.0</td>\n",
       "      <td>D1</td>\n",
       "      <td>D1</td>\n",
       "    </tr>\n",
       "    <tr>\n",
       "      <th>3</th>\n",
       "      <td>3</td>\n",
       "      <td>b73246e3-75cb-42da-b984-178d540a962a</td>\n",
       "      <td>17.000000</td>\n",
       "      <td>47.356099</td>\n",
       "      <td>89.896875</td>\n",
       "      <td>1545.747027</td>\n",
       "      <td>2.232143</td>\n",
       "      <td>2.691584</td>\n",
       "      <td>0.003344</td>\n",
       "      <td>0.0</td>\n",
       "      <td>1700.0</td>\n",
       "      <td>D2</td>\n",
       "      <td>D2</td>\n",
       "    </tr>\n",
       "    <tr>\n",
       "      <th>4</th>\n",
       "      <td>4</td>\n",
       "      <td>a6ee61ad-366f-4492-b19b-718cc6ee536d</td>\n",
       "      <td>27.579477</td>\n",
       "      <td>79.819448</td>\n",
       "      <td>28.604884</td>\n",
       "      <td>1563.996191</td>\n",
       "      <td>1.375894</td>\n",
       "      <td>4.366616</td>\n",
       "      <td>0.005456</td>\n",
       "      <td>0.0</td>\n",
       "      <td>1700.0</td>\n",
       "      <td>D3</td>\n",
       "      <td>D3</td>\n",
       "    </tr>\n",
       "    <tr>\n",
       "      <th>5</th>\n",
       "      <td>5</td>\n",
       "      <td>0d81ff88-5694-43fe-9b5b-681fb6e06f5c</td>\n",
       "      <td>158.871084</td>\n",
       "      <td>170.888522</td>\n",
       "      <td>38.707624</td>\n",
       "      <td>1331.532771</td>\n",
       "      <td>0.238850</td>\n",
       "      <td>25.153816</td>\n",
       "      <td>0.030726</td>\n",
       "      <td>1294.0</td>\n",
       "      <td>406.0</td>\n",
       "      <td>D4</td>\n",
       "      <td>D4</td>\n",
       "    </tr>\n",
       "    <tr>\n",
       "      <th>6</th>\n",
       "      <td>6</td>\n",
       "      <td>c73d7705-4597-4fbc-a4c1-75f6e9766d2e</td>\n",
       "      <td>149.280120</td>\n",
       "      <td>84.802900</td>\n",
       "      <td>112.964594</td>\n",
       "      <td>1352.952386</td>\n",
       "      <td>0.254196</td>\n",
       "      <td>23.635293</td>\n",
       "      <td>0.028776</td>\n",
       "      <td>1268.0</td>\n",
       "      <td>432.0</td>\n",
       "      <td>D5</td>\n",
       "      <td>D5</td>\n",
       "    </tr>\n",
       "    <tr>\n",
       "      <th>7</th>\n",
       "      <td>7</td>\n",
       "      <td>3690661f-ff2f-4829-b1eb-c1c810c3c228</td>\n",
       "      <td>179.701427</td>\n",
       "      <td>159.680656</td>\n",
       "      <td>113.209529</td>\n",
       "      <td>1247.408389</td>\n",
       "      <td>0.211164</td>\n",
       "      <td>28.451852</td>\n",
       "      <td>0.034326</td>\n",
       "      <td>1341.0</td>\n",
       "      <td>359.0</td>\n",
       "      <td>D6</td>\n",
       "      <td>D6</td>\n",
       "    </tr>\n",
       "    <tr>\n",
       "      <th>8</th>\n",
       "      <td>8</td>\n",
       "      <td>2ce5d5d6-746b-480e-90b3-a311867b03d4</td>\n",
       "      <td>124.614909</td>\n",
       "      <td>37.557242</td>\n",
       "      <td>255.000010</td>\n",
       "      <td>1282.827840</td>\n",
       "      <td>0.304510</td>\n",
       "      <td>19.730088</td>\n",
       "      <td>0.023666</td>\n",
       "      <td>1182.0</td>\n",
       "      <td>518.0</td>\n",
       "      <td>D7</td>\n",
       "      <td>D7</td>\n",
       "    </tr>\n",
       "    <tr>\n",
       "      <th>9</th>\n",
       "      <td>9</td>\n",
       "      <td>f1b612d2-55d2-49ed-830b-64f4a73ba162</td>\n",
       "      <td>24.106727</td>\n",
       "      <td>52.650063</td>\n",
       "      <td>81.418244</td>\n",
       "      <td>1541.824966</td>\n",
       "      <td>1.574101</td>\n",
       "      <td>3.816781</td>\n",
       "      <td>0.004743</td>\n",
       "      <td>0.0</td>\n",
       "      <td>1700.0</td>\n",
       "      <td>D8</td>\n",
       "      <td>D8</td>\n",
       "    </tr>\n",
       "  </tbody>\n",
       "</table>\n",
       "</div>"
      ],
      "text/plain": [
       "   Unnamed: 0                                  uuid  teos_volume  \\\n",
       "0           0  12331b14-877d-40ca-a58e-5c4f523f2dd5    23.715099   \n",
       "1           1  1e0839f5-6ffa-464e-a72f-2d3b08508978    17.000000   \n",
       "2           2  f7126148-d164-4928-98cb-6356c1276f4a    56.949286   \n",
       "3           3  b73246e3-75cb-42da-b984-178d540a962a    17.000000   \n",
       "4           4  a6ee61ad-366f-4492-b19b-718cc6ee536d    27.579477   \n",
       "5           5  0d81ff88-5694-43fe-9b5b-681fb6e06f5c   158.871084   \n",
       "6           6  c73d7705-4597-4fbc-a4c1-75f6e9766d2e   149.280120   \n",
       "7           7  3690661f-ff2f-4829-b1eb-c1c810c3c228   179.701427   \n",
       "8           8  2ce5d5d6-746b-480e-90b3-a311867b03d4   124.614909   \n",
       "9           9  f1b612d2-55d2-49ed-830b-64f4a73ba162    24.106727   \n",
       "\n",
       "   ammonia_volume  water_volume  ethanol_volume  dilution_volume_fraction  \\\n",
       "0       90.229787      8.500000     1577.555114                  1.600096   \n",
       "1       88.969528      8.500000     1585.530473                  2.232143   \n",
       "2       47.748529    229.399745     1365.902440                  0.666320   \n",
       "3       47.356099     89.896875     1545.747027                  2.232143   \n",
       "4       79.819448     28.604884     1563.996191                  1.375894   \n",
       "5      170.888522     38.707624     1331.532771                  0.238850   \n",
       "6       84.802900    112.964594     1352.952386                  0.254196   \n",
       "7      159.680656    113.209529     1247.408389                  0.211164   \n",
       "8       37.557242    255.000010     1282.827840                  0.304510   \n",
       "9       52.650063     81.418244     1541.824966                  1.574101   \n",
       "\n",
       "   silica_mass_conc  silica_mass_fraction  ethanol_dilute_vol  \\\n",
       "0          3.754775              0.004704                 0.0   \n",
       "1          2.691584              0.003375                 0.0   \n",
       "2          9.016693              0.010923               567.0   \n",
       "3          2.691584              0.003344                 0.0   \n",
       "4          4.366616              0.005456                 0.0   \n",
       "5         25.153816              0.030726              1294.0   \n",
       "6         23.635293              0.028776              1268.0   \n",
       "7         28.451852              0.034326              1341.0   \n",
       "8         19.730088              0.023666              1182.0   \n",
       "9          3.816781              0.004743                 0.0   \n",
       "\n",
       "   sample_dilute_vol dilute_well well  \n",
       "0             1700.0          C7   C7  \n",
       "1             1700.0          C8   C8  \n",
       "2             1133.0          D1   D1  \n",
       "3             1700.0          D2   D2  \n",
       "4             1700.0          D3   D3  \n",
       "5              406.0          D4   D4  \n",
       "6              432.0          D5   D5  \n",
       "7              359.0          D6   D6  \n",
       "8              518.0          D7   D7  \n",
       "9             1700.0          D8   D8  "
      ]
     },
     "execution_count": 109,
     "metadata": {},
     "output_type": "execute_result"
    }
   ],
   "source": [
    "dilution_table_rmse"
   ]
  },
  {
   "cell_type": "code",
   "execution_count": 110,
   "id": "7753c222-5c1d-493a-a7a8-8529cb116fed",
   "metadata": {},
   "outputs": [],
   "source": [
    "location_lookup_dilute_apdist = {}\n",
    "\n",
    "for i, row in dilution_table_apdist.iterrows():\n",
    "    uuid_val = row['uuid']\n",
    "    well = row['well']\n",
    "    if well is not np.nan:\n",
    "        well_loc = samples[well]\n",
    "    else:\n",
    "        well_loc = None\n",
    "\n",
    "    location_lookup_dilute_apdist[uuid_val] = well_loc"
   ]
  },
  {
   "cell_type": "code",
   "execution_count": 111,
   "id": "58d3a1a2-b53e-4f1a-8ca8-aa8a684ce385",
   "metadata": {},
   "outputs": [],
   "source": [
    "location_lookup_dilute_rmse = {}\n",
    "\n",
    "for i, row in dilution_table_rmse.iterrows():\n",
    "    uuid_val = row['uuid']\n",
    "    well = row['well']\n",
    "    if well is not np.nan:\n",
    "        well_loc = samples[well]\n",
    "    else:\n",
    "        well_loc = None\n",
    "\n",
    "    location_lookup_dilute_rmse[uuid_val] = well_loc"
   ]
  },
  {
   "cell_type": "code",
   "execution_count": 112,
   "id": "57de8e15-1e60-40ee-bfe6-e7d15a7be4a0",
   "metadata": {},
   "outputs": [
    {
     "data": {
      "text/plain": [
       "5652.0"
      ]
     },
     "execution_count": 112,
     "metadata": {},
     "output_type": "execute_result"
    }
   ],
   "source": [
    "dilution_table_rmse['ethanol_dilute_vol'].sum()"
   ]
  },
  {
   "cell_type": "markdown",
   "id": "e2ddb62c-d3f3-4c45-917a-e575189606c9",
   "metadata": {},
   "source": [
    "## add ethanol"
   ]
  },
  {
   "cell_type": "code",
   "execution_count": 114,
   "id": "9b154379-57de-44b1-827e-f821781e007d",
   "metadata": {},
   "outputs": [
    {
     "data": {
      "text/plain": [
       "{'d25a22b3-7b31-4a34-a6c0-92e45b8ac925': Well B4 form septavialrev1_44_holder_2000ul on slot 2,\n",
       " '57821091-6396-45f7-a85b-d24a45526848': Well B5 form septavialrev1_44_holder_2000ul on slot 2,\n",
       " '853403e1-f5af-4354-ad1d-cb807eab1ccb': Well B6 form septavialrev1_44_holder_2000ul on slot 2,\n",
       " '50c1cea9-a08d-4bc6-b5d4-303a9e32d41b': Well B8 form septavialrev1_44_holder_2000ul on slot 2,\n",
       " '1e274033-bf13-44fd-8b73-443755e82430': Well C1 form septavialrev1_44_holder_2000ul on slot 2,\n",
       " '8b8f760d-9a31-422e-b8c3-da08e19161c6': Well C2 form septavialrev1_44_holder_2000ul on slot 2,\n",
       " 'fd3adf41-2f06-47b7-9e04-e87b0ea1a731': Well C3 form septavialrev1_44_holder_2000ul on slot 2,\n",
       " 'a383ef01-ff05-4691-8bf7-01e397948833': Well C4 form septavialrev1_44_holder_2000ul on slot 2,\n",
       " '295922f0-fd79-48b4-82ba-fbd227b98e2f': Well C5 form septavialrev1_44_holder_2000ul on slot 2,\n",
       " '9a0ea011-8f4a-4c93-89f9-5ef20af6cb7e': Well C6 form septavialrev1_44_holder_2000ul on slot 2}"
      ]
     },
     "execution_count": 114,
     "metadata": {},
     "output_type": "execute_result"
    }
   ],
   "source": [
    "location_lookup_apdist"
   ]
  },
  {
   "cell_type": "code",
   "execution_count": 113,
   "id": "a6c28415-6603-4bff-aad2-fd7fe99dd604",
   "metadata": {},
   "outputs": [
    {
     "ename": "KeyboardInterrupt",
     "evalue": "",
     "output_type": "error",
     "traceback": [
      "\u001b[0;31m---------------------------------------------------------------------------\u001b[0m",
      "\u001b[0;31mKeyboardInterrupt\u001b[0m                         Traceback (most recent call last)",
      "Cell \u001b[0;32mIn[113], line 1\u001b[0m\n\u001b[0;32m----> 1\u001b[0m \u001b[43mstober\u001b[49m\u001b[38;5;241;43m.\u001b[39;49m\u001b[43madd_reactants_batch\u001b[49m\u001b[43m(\u001b[49m\u001b[43mjubilee\u001b[49m\u001b[43m,\u001b[49m\u001b[43m \u001b[49m\u001b[43mmix_syringe\u001b[49m\u001b[43m,\u001b[49m\u001b[43m \u001b[49m\u001b[43mmix_syringe\u001b[49m\u001b[43m,\u001b[49m\u001b[43m \u001b[49m\u001b[43msample_table_apdist\u001b[49m\u001b[43m,\u001b[49m\u001b[43m \u001b[49m\u001b[43mlocation_lookup_apdist\u001b[49m\u001b[43m,\u001b[49m\u001b[43m \u001b[49m\u001b[38;5;124;43m'\u001b[39;49m\u001b[38;5;124;43methanol_volume\u001b[39;49m\u001b[38;5;124;43m'\u001b[39;49m\u001b[43m,\u001b[49m\u001b[43m \u001b[49m\u001b[43methanol_stocks\u001b[49m\u001b[43m[\u001b[49m\u001b[43m:\u001b[49m\u001b[38;5;241;43m3\u001b[39;49m\u001b[43m]\u001b[49m\u001b[43m,\u001b[49m\u001b[43m \u001b[49m\u001b[43mstocks_usable_volume\u001b[49m\u001b[38;5;241;43m=\u001b[39;49m\u001b[38;5;241;43m15000\u001b[39;49m\u001b[43m,\u001b[49m\u001b[43m \u001b[49m\u001b[43mdwell_time\u001b[49m\u001b[43m \u001b[49m\u001b[38;5;241;43m=\u001b[39;49m\u001b[43m \u001b[49m\u001b[38;5;241;43m10\u001b[39;49m\u001b[43m)\u001b[49m\n",
      "File \u001b[0;32m~/Code/silica-np-synthesis/2025_01_09_DistCompare_80nmTarget_Round3/../stober_synthesis_utils.py:116\u001b[0m, in \u001b[0;36madd_reactants_batch\u001b[0;34m(jubilee, reactant_syringe, mix_syringe, sample_table, location_lookup, reactant_name, stocks, stocks_usable_volume, mix_after, dwell_time)\u001b[0m\n\u001b[1;32m    113\u001b[0m     stock_volumes \u001b[38;5;241m=\u001b[39m _refill_syringe(reactant_syringe, stocks, stock_volumes)\n\u001b[1;32m    115\u001b[0m reactant_syringe\u001b[38;5;241m.\u001b[39mdispense(dispense_volume, dispense_location\u001b[38;5;241m.\u001b[39mbottom(\u001b[38;5;241m+\u001b[39m\u001b[38;5;241m5\u001b[39m), s \u001b[38;5;241m=\u001b[39m \u001b[38;5;241m20\u001b[39m)\n\u001b[0;32m--> 116\u001b[0m \u001b[43mtime\u001b[49m\u001b[38;5;241;43m.\u001b[39;49m\u001b[43msleep\u001b[49m\u001b[43m(\u001b[49m\u001b[43mdwell_time\u001b[49m\u001b[43m)\u001b[49m\n\u001b[1;32m    117\u001b[0m logger\u001b[38;5;241m.\u001b[39minfo(\u001b[38;5;124mf\u001b[39m\u001b[38;5;124m'\u001b[39m\u001b[38;5;124mDispensed \u001b[39m\u001b[38;5;132;01m{\u001b[39;00mdispense_volume\u001b[38;5;132;01m}\u001b[39;00m\u001b[38;5;124m uL of \u001b[39m\u001b[38;5;132;01m{\u001b[39;00mreactant_name\u001b[38;5;132;01m}\u001b[39;00m\u001b[38;5;124m into \u001b[39m\u001b[38;5;132;01m{\u001b[39;00mdispense_location\u001b[38;5;132;01m}\u001b[39;00m\u001b[38;5;124m'\u001b[39m)\n\u001b[1;32m    119\u001b[0m \u001b[38;5;28;01mif\u001b[39;00m mix_after \u001b[38;5;129;01mis\u001b[39;00m \u001b[38;5;129;01mnot\u001b[39;00m \u001b[38;5;28;01mNone\u001b[39;00m:\n",
      "\u001b[0;31mKeyboardInterrupt\u001b[0m: "
     ]
    }
   ],
   "source": [
    "stober.add_reactants_batch(jubilee, mix_syringe, mix_syringe, sample_table_apdist, location_lookup_apdist, 'ethanol_volume', ethanol_stocks[:3], stocks_usable_volume=15000, dwell_time = 10)"
   ]
  },
  {
   "cell_type": "code",
   "execution_count": 65,
   "id": "0f4144b3-a7f9-4650-886f-054cd544228a",
   "metadata": {},
   "outputs": [],
   "source": [
    "\n",
    "stober.add_reactants_batch(jubilee, mix_syringe, mix_syringe, sample_table_rmse, location_lookup_rmse, 'ethanol_volume', ethanol_stocks[:3], stocks_usable_volume=15000, dwell_time = 10)"
   ]
  },
  {
   "cell_type": "code",
   "execution_count": 66,
   "id": "7d204157-ed65-4f49-acbc-d192222f0dc6",
   "metadata": {},
   "outputs": [],
   "source": [
    "#dispense remaining volume from etOH mix syringe\n",
    "jubilee.pickup_tool(mix_syringe)\n",
    "mix_syringe.dispense(mix_syringe.remaining_volume-1, trash[0])\n",
    "logger.info('Emptied ethanol syringe into trash')\n",
    "jubilee.park_tool()"
   ]
  },
  {
   "cell_type": "code",
   "execution_count": 67,
   "id": "2fc66aa1-bc70-4098-8e37-f148188c26c6",
   "metadata": {},
   "outputs": [],
   "source": [
    "mix_syringe.set_pulsewidth(mix_syringe.empty_position-1)"
   ]
  },
  {
   "cell_type": "markdown",
   "id": "9e35c96c-2ea8-438a-989d-f6d73c8f16ed",
   "metadata": {},
   "source": [
    "## Dispense water\n"
   ]
  },
  {
   "cell_type": "code",
   "execution_count": 68,
   "id": "9f765450-7f64-49e7-85f8-335e2fa0b666",
   "metadata": {},
   "outputs": [],
   "source": [
    "stober.add_reactants_batch(jubilee, water_syringe, mix_syringe, sample_table_apdist, location_lookup_apdist, 'water_volume', water_stocks, dwell_time = 7)"
   ]
  },
  {
   "cell_type": "code",
   "execution_count": 69,
   "id": "16b57d0a-7d0f-4a3e-9ed9-0c021c31f538",
   "metadata": {},
   "outputs": [],
   "source": [
    "stober.add_reactants_batch(jubilee, water_syringe, mix_syringe, sample_table_rmse, location_lookup_rmse, 'water_volume', water_stocks, dwell_time = 7)"
   ]
  },
  {
   "cell_type": "markdown",
   "id": "cd60cc24-167e-46e5-9e73-a2457c8964de",
   "metadata": {},
   "source": [
    "## dispense Ammonia"
   ]
  },
  {
   "cell_type": "code",
   "execution_count": 70,
   "id": "7dc4c2ae-9e4e-40e0-929a-6e0a3e4bc240",
   "metadata": {},
   "outputs": [],
   "source": [
    "stober.add_reactants_batch(jubilee, ammonia_syringe, mix_syringe, sample_table_apdist, location_lookup_apdist, 'ammonia_volume', ammonia_stocks)"
   ]
  },
  {
   "cell_type": "code",
   "execution_count": 71,
   "id": "e7f6b494-541c-4ca7-82a1-be053a1869aa",
   "metadata": {},
   "outputs": [],
   "source": [
    "stober.add_reactants_batch(jubilee, ammonia_syringe, mix_syringe, sample_table_rmse, location_lookup_rmse, 'ammonia_volume', ammonia_stocks)"
   ]
  },
  {
   "cell_type": "markdown",
   "id": "bc8a34b3-acd7-4b89-a9ea-34b514cd3d8c",
   "metadata": {},
   "source": [
    "## mix precursors"
   ]
  },
  {
   "cell_type": "code",
   "execution_count": 72,
   "id": "f4f701c5-7908-489e-a1eb-9b2c60438c96",
   "metadata": {},
   "outputs": [],
   "source": [
    "stober.first_mix(jubilee, mix_syringe, 2000, location_lookup_apdist, rinse_stocks, 5)"
   ]
  },
  {
   "cell_type": "code",
   "execution_count": 73,
   "id": "0d0c3df5-714e-4ffb-a925-e76fbfd542e7",
   "metadata": {},
   "outputs": [],
   "source": [
    "stober.first_mix(jubilee, mix_syringe, 2000, location_lookup_rmse, rinse_stocks, 5)"
   ]
  },
  {
   "cell_type": "markdown",
   "id": "000c1369-b5a0-4183-97d4-fced54279516",
   "metadata": {},
   "source": [
    "## Add TEOS and mix"
   ]
  },
  {
   "cell_type": "code",
   "execution_count": 74,
   "id": "85496a20-bb2d-4363-a2c5-41685f0353f9",
   "metadata": {},
   "outputs": [],
   "source": [
    "teos_start_time = time.time()"
   ]
  },
  {
   "cell_type": "code",
   "execution_count": 75,
   "id": "efccb2d6-234a-4af8-a87d-4d904696a48e",
   "metadata": {},
   "outputs": [],
   "source": [
    "stober.add_reactants_batch(jubilee, teos_syringe, mix_syringe, sample_table_apdist, location_lookup_apdist, 'teos_volume', teos_stocks, mix_after=(2000, 5, rinse_stocks))"
   ]
  },
  {
   "cell_type": "code",
   "execution_count": 76,
   "id": "8db9bc79-6cdb-4dde-a477-6a81616fec1c",
   "metadata": {},
   "outputs": [],
   "source": [
    "stober.add_reactants_batch(jubilee, teos_syringe, mix_syringe, sample_table_rmse, location_lookup_rmse, 'teos_volume', teos_stocks, mix_after=(2000, 5, rinse_stocks))"
   ]
  },
  {
   "cell_type": "markdown",
   "id": "cf654819-0ae6-452a-bdbe-5f2a008f1b1c",
   "metadata": {},
   "source": [
    "### Dilution"
   ]
  },
  {
   "cell_type": "code",
   "execution_count": 77,
   "id": "5c533083-99a5-4efe-8f99-0bd3b538c394",
   "metadata": {},
   "outputs": [],
   "source": [
    "hrs5 = 60*60*5\n",
    "while (time.time() - teos_start_time) < hrs5:\n",
    "    time.sleep(60)\n",
    "\n",
    "#dispese ethanol into dilution vials\n",
    "stober.add_reactants_batch(jubilee, mix_syringe, mix_syringe, dilution_table_apdist, location_lookup_dilute_apdist, 'ethanol_dilute_vol', ethanol_stocks[4:], stocks_usable_volume=15000, dwell_time = 10)\n",
    "\n",
    "jubilee.pickup_tool(mix_syringe)\n",
    "mix_syringe.dispense(mix_syringe.remaining_volume-1, trash[0])\n",
    "logger.info('Emptied ethanol syringe into trash')\n",
    "jubilee.park_tool()\n",
    "\n",
    "jubilee.pickup_tool(mix_syringe)\n",
    "rinse_vol = 2000\n",
    "for i, row in dilution_table_apdist.iterrows():\n",
    "    uuid_val = row['uuid']\n",
    "    sample_well = location_lookup_apdist[uuid_val]\n",
    "    dilute_well = location_lookup_dilute_apdist[uuid_val]\n",
    "    if dilute_well is None:\n",
    "        continue\n",
    "    else:\n",
    "        vol = row['sample_dilute_vol']\n",
    "        \n",
    "        mix_syringe.aspirate(vol, sample_well.bottom(+5))\n",
    "        time.sleep(10)\n",
    "        mix_syringe.dispense(vol, dilute_well.bottom(+5))\n",
    "        time.sleep(10)\n",
    "        logger.info(f'Transferred {vol} uL from {sample_well} to {dilute_well}')\n",
    "    \n",
    "        for stock in rinse_stocks:\n",
    "            mix_syringe.mix(rinse_vol, 5, stock.bottom(+10), t_hold = 3, s_aspirate = 2000, s_dispense = 500)\n",
    "    \n",
    "        logger.info(f'Washed mix syringe in wash solutions {rinse_stocks}')\n",
    "\n",
    "    "
   ]
  },
  {
   "cell_type": "code",
   "execution_count": 78,
   "id": "c9cb2dfa-c49e-4595-900b-66adb09affd3",
   "metadata": {},
   "outputs": [],
   "source": [
    "# dispese ethanol into dilution vials\n",
    "stober.add_reactants_batch(jubilee, mix_syringe, mix_syringe, dilution_table_rmse, location_lookup_dilute_rmse, 'ethanol_dilute_vol', ethanol_stocks[4:], stocks_usable_volume=15000, dwell_time = 10)\n",
    "\n",
    "jubilee.pickup_tool(mix_syringe)\n",
    "mix_syringe.dispense(mix_syringe.remaining_volume-1, trash[0])\n",
    "logger.info('Emptied ethanol syringe into trash')\n",
    "jubilee.park_tool()\n",
    "\n",
    "jubilee.pickup_tool(mix_syringe)\n",
    "rinse_vol = 2000\n",
    "for i, row in dilution_table_rmse.iterrows():\n",
    "    uuid_val = row['uuid']\n",
    "    sample_well = location_lookup_rmse[uuid_val]\n",
    "    dilute_well = location_lookup_dilute_rmse[uuid_val]\n",
    "    if dilute_well is None:\n",
    "        continue\n",
    "    else:\n",
    "        vol = row['sample_dilute_vol']\n",
    "        \n",
    "        mix_syringe.aspirate(vol, sample_well.bottom(+5))\n",
    "        time.sleep(10)\n",
    "        mix_syringe.dispense(vol, dilute_well.bottom(+5))\n",
    "        time.sleep(10)\n",
    "        logger.info(f'Transferred {vol} uL from {sample_well} to {dilute_well}')\n",
    "    \n",
    "        for stock in rinse_stocks:\n",
    "            mix_syringe.mix(rinse_vol, 5, stock.bottom(+10), t_hold = 3, s_aspirate = 2000, s_dispense = 500)\n",
    "    \n",
    "        logger.info(f'Washed mix syringe in wash solutions {rinse_stocks}')"
   ]
  },
  {
   "cell_type": "code",
   "execution_count": 79,
   "id": "fc8002db-155a-4841-ba3c-25da7f73aafd",
   "metadata": {},
   "outputs": [],
   "source": [
    "jubilee.park_tool()"
   ]
  },
  {
   "cell_type": "code",
   "execution_count": 82,
   "id": "18d77df9-f5ab-4212-b386-c1eee378bc53",
   "metadata": {},
   "outputs": [],
   "source": [
    "water_syringe.set_pulsewidth(water_syringe.empty_position-1)"
   ]
  },
  {
   "cell_type": "code",
   "execution_count": 83,
   "id": "a69392e0-de9f-41c2-aac3-cb2fb9fb1230",
   "metadata": {},
   "outputs": [],
   "source": [
    "ammonia_syringe.set_pulsewidth(ammonia_syringe.empty_position-1)"
   ]
  },
  {
   "cell_type": "code",
   "execution_count": 84,
   "id": "1b5ff69f-ca4b-44d3-beb8-2d7899e510c5",
   "metadata": {},
   "outputs": [],
   "source": [
    "teos_syringe.set_pulsewidth(teos_syringe.empty_position-1)"
   ]
  },
  {
   "cell_type": "code",
   "execution_count": 80,
   "id": "595e3206-561b-4ea9-8834-4e3d5a6d2345",
   "metadata": {},
   "outputs": [
    {
     "data": {
      "text/html": [
       "<div>\n",
       "<style scoped>\n",
       "    .dataframe tbody tr th:only-of-type {\n",
       "        vertical-align: middle;\n",
       "    }\n",
       "\n",
       "    .dataframe tbody tr th {\n",
       "        vertical-align: top;\n",
       "    }\n",
       "\n",
       "    .dataframe thead th {\n",
       "        text-align: right;\n",
       "    }\n",
       "</style>\n",
       "<table border=\"1\" class=\"dataframe\">\n",
       "  <thead>\n",
       "    <tr style=\"text-align: right;\">\n",
       "      <th></th>\n",
       "      <th>Unnamed: 0</th>\n",
       "      <th>uuid</th>\n",
       "      <th>teos_volume</th>\n",
       "      <th>ammonia_volume</th>\n",
       "      <th>water_volume</th>\n",
       "      <th>ethanol_volume</th>\n",
       "      <th>dilution_volume_fraction</th>\n",
       "      <th>silica_mass_conc</th>\n",
       "      <th>silica_mass_fraction</th>\n",
       "      <th>ethanol_dilute_vol</th>\n",
       "      <th>sample_dilute_vol</th>\n",
       "      <th>well</th>\n",
       "      <th>dilute_well</th>\n",
       "    </tr>\n",
       "  </thead>\n",
       "  <tbody>\n",
       "    <tr>\n",
       "      <th>0</th>\n",
       "      <td>0</td>\n",
       "      <td>c3856eec-ecfa-46fe-8b51-b01796cff015</td>\n",
       "      <td>110.139117</td>\n",
       "      <td>71.798528</td>\n",
       "      <td>8.500000</td>\n",
       "      <td>1509.562356</td>\n",
       "      <td>0.344532</td>\n",
       "      <td>17.438158</td>\n",
       "      <td>0.021680</td>\n",
       "      <td>1114.0</td>\n",
       "      <td>586.0</td>\n",
       "      <td>A1</td>\n",
       "      <td>C7</td>\n",
       "    </tr>\n",
       "    <tr>\n",
       "      <th>1</th>\n",
       "      <td>1</td>\n",
       "      <td>65294301-7080-4705-b780-9d956b850445</td>\n",
       "      <td>79.743724</td>\n",
       "      <td>8.500000</td>\n",
       "      <td>106.194523</td>\n",
       "      <td>1505.561753</td>\n",
       "      <td>0.475855</td>\n",
       "      <td>12.625702</td>\n",
       "      <td>0.015594</td>\n",
       "      <td>891.0</td>\n",
       "      <td>809.0</td>\n",
       "      <td>A2</td>\n",
       "      <td>C8</td>\n",
       "    </tr>\n",
       "    <tr>\n",
       "      <th>2</th>\n",
       "      <td>2</td>\n",
       "      <td>b94af6ff-5138-4d36-a38f-991dd1dbae34</td>\n",
       "      <td>63.362727</td>\n",
       "      <td>73.475213</td>\n",
       "      <td>8.500000</td>\n",
       "      <td>1554.662060</td>\n",
       "      <td>0.598876</td>\n",
       "      <td>10.032124</td>\n",
       "      <td>0.012533</td>\n",
       "      <td>682.0</td>\n",
       "      <td>1018.0</td>\n",
       "      <td>A3</td>\n",
       "      <td>D1</td>\n",
       "    </tr>\n",
       "    <tr>\n",
       "      <th>3</th>\n",
       "      <td>3</td>\n",
       "      <td>92b3b03b-abef-4bad-9bcb-f7c67de18ccc</td>\n",
       "      <td>69.121179</td>\n",
       "      <td>54.357097</td>\n",
       "      <td>196.216759</td>\n",
       "      <td>1380.304965</td>\n",
       "      <td>0.548984</td>\n",
       "      <td>10.943851</td>\n",
       "      <td>0.013300</td>\n",
       "      <td>767.0</td>\n",
       "      <td>933.0</td>\n",
       "      <td>A4</td>\n",
       "      <td>D2</td>\n",
       "    </tr>\n",
       "    <tr>\n",
       "      <th>4</th>\n",
       "      <td>4</td>\n",
       "      <td>33dcd664-3e31-4fc5-8bbc-4e5b47b8914a</td>\n",
       "      <td>255.000010</td>\n",
       "      <td>18.585585</td>\n",
       "      <td>135.699256</td>\n",
       "      <td>1290.715149</td>\n",
       "      <td>0.148810</td>\n",
       "      <td>40.373762</td>\n",
       "      <td>0.048714</td>\n",
       "      <td>1447.0</td>\n",
       "      <td>253.0</td>\n",
       "      <td>A5</td>\n",
       "      <td>D3</td>\n",
       "    </tr>\n",
       "    <tr>\n",
       "      <th>5</th>\n",
       "      <td>5</td>\n",
       "      <td>0c1ddab6-f53a-45a3-8e2a-9f74b350eecd</td>\n",
       "      <td>17.000000</td>\n",
       "      <td>79.668913</td>\n",
       "      <td>255.000010</td>\n",
       "      <td>1348.331078</td>\n",
       "      <td>2.232143</td>\n",
       "      <td>2.691584</td>\n",
       "      <td>0.003253</td>\n",
       "      <td>0.0</td>\n",
       "      <td>1700.0</td>\n",
       "      <td>A6</td>\n",
       "      <td>D4</td>\n",
       "    </tr>\n",
       "    <tr>\n",
       "      <th>6</th>\n",
       "      <td>6</td>\n",
       "      <td>8e73357b-6307-4f73-ae08-8f0d3dbb60ef</td>\n",
       "      <td>17.000000</td>\n",
       "      <td>159.030688</td>\n",
       "      <td>255.000010</td>\n",
       "      <td>1268.969302</td>\n",
       "      <td>2.232143</td>\n",
       "      <td>2.691584</td>\n",
       "      <td>0.003233</td>\n",
       "      <td>0.0</td>\n",
       "      <td>1700.0</td>\n",
       "      <td>A7</td>\n",
       "      <td>D5</td>\n",
       "    </tr>\n",
       "    <tr>\n",
       "      <th>7</th>\n",
       "      <td>7</td>\n",
       "      <td>2958a316-ee3e-4f2c-83f0-9c8a85758448</td>\n",
       "      <td>76.725977</td>\n",
       "      <td>125.432878</td>\n",
       "      <td>255.000010</td>\n",
       "      <td>1242.841135</td>\n",
       "      <td>0.494571</td>\n",
       "      <td>12.147907</td>\n",
       "      <td>0.014542</td>\n",
       "      <td>859.0</td>\n",
       "      <td>841.0</td>\n",
       "      <td>A8</td>\n",
       "      <td>D6</td>\n",
       "    </tr>\n",
       "    <tr>\n",
       "      <th>8</th>\n",
       "      <td>8</td>\n",
       "      <td>7653c1b6-fc2e-468b-aeec-f130375c8f72</td>\n",
       "      <td>17.000000</td>\n",
       "      <td>186.999999</td>\n",
       "      <td>255.000010</td>\n",
       "      <td>1240.999991</td>\n",
       "      <td>2.232143</td>\n",
       "      <td>2.691584</td>\n",
       "      <td>0.003226</td>\n",
       "      <td>0.0</td>\n",
       "      <td>1700.0</td>\n",
       "      <td>B1</td>\n",
       "      <td>D7</td>\n",
       "    </tr>\n",
       "    <tr>\n",
       "      <th>9</th>\n",
       "      <td>9</td>\n",
       "      <td>310a128f-573a-4c59-a3b9-35ececd26c41</td>\n",
       "      <td>255.000010</td>\n",
       "      <td>58.881868</td>\n",
       "      <td>8.500000</td>\n",
       "      <td>1377.618122</td>\n",
       "      <td>0.148810</td>\n",
       "      <td>40.373762</td>\n",
       "      <td>0.049492</td>\n",
       "      <td>1447.0</td>\n",
       "      <td>253.0</td>\n",
       "      <td>B3</td>\n",
       "      <td>D8</td>\n",
       "    </tr>\n",
       "    <tr>\n",
       "      <th>10</th>\n",
       "      <td>10</td>\n",
       "      <td>5980952c-c090-4315-8731-0cd2b4161d85</td>\n",
       "      <td>105.519591</td>\n",
       "      <td>40.588010</td>\n",
       "      <td>177.636795</td>\n",
       "      <td>1376.255605</td>\n",
       "      <td>0.359615</td>\n",
       "      <td>16.706755</td>\n",
       "      <td>0.020307</td>\n",
       "      <td>1089.0</td>\n",
       "      <td>611.0</td>\n",
       "      <td>B4</td>\n",
       "      <td>E1</td>\n",
       "    </tr>\n",
       "    <tr>\n",
       "      <th>11</th>\n",
       "      <td>11</td>\n",
       "      <td>b6eef491-214a-4c47-91c7-7636dd7dfe70</td>\n",
       "      <td>17.000000</td>\n",
       "      <td>156.961787</td>\n",
       "      <td>8.500000</td>\n",
       "      <td>1517.538213</td>\n",
       "      <td>2.232143</td>\n",
       "      <td>2.691584</td>\n",
       "      <td>0.003356</td>\n",
       "      <td>0.0</td>\n",
       "      <td>1700.0</td>\n",
       "      <td>B5</td>\n",
       "      <td>E3</td>\n",
       "    </tr>\n",
       "    <tr>\n",
       "      <th>12</th>\n",
       "      <td>12</td>\n",
       "      <td>ff7ca20c-578d-4568-a618-0447fe8bd4ab</td>\n",
       "      <td>155.654962</td>\n",
       "      <td>155.784750</td>\n",
       "      <td>134.912559</td>\n",
       "      <td>1253.647730</td>\n",
       "      <td>0.243786</td>\n",
       "      <td>24.644612</td>\n",
       "      <td>0.029719</td>\n",
       "      <td>1286.0</td>\n",
       "      <td>414.0</td>\n",
       "      <td>B6</td>\n",
       "      <td>E4</td>\n",
       "    </tr>\n",
       "    <tr>\n",
       "      <th>13</th>\n",
       "      <td>13</td>\n",
       "      <td>d163c3ec-ac91-48df-9133-100c3356a7c1</td>\n",
       "      <td>68.168348</td>\n",
       "      <td>52.034484</td>\n",
       "      <td>255.000010</td>\n",
       "      <td>1324.797158</td>\n",
       "      <td>0.556658</td>\n",
       "      <td>10.792990</td>\n",
       "      <td>0.013006</td>\n",
       "      <td>754.0</td>\n",
       "      <td>946.0</td>\n",
       "      <td>B8</td>\n",
       "      <td>E5</td>\n",
       "    </tr>\n",
       "    <tr>\n",
       "      <th>14</th>\n",
       "      <td>14</td>\n",
       "      <td>32e15f13-4afb-42b0-a73d-2a61e334400e</td>\n",
       "      <td>95.520769</td>\n",
       "      <td>124.125241</td>\n",
       "      <td>8.500000</td>\n",
       "      <td>1471.853990</td>\n",
       "      <td>0.397258</td>\n",
       "      <td>15.123657</td>\n",
       "      <td>0.018752</td>\n",
       "      <td>1025.0</td>\n",
       "      <td>675.0</td>\n",
       "      <td>C1</td>\n",
       "      <td>E6</td>\n",
       "    </tr>\n",
       "    <tr>\n",
       "      <th>15</th>\n",
       "      <td>15</td>\n",
       "      <td>05f30d93-c050-49af-b168-c36d1c6abe41</td>\n",
       "      <td>48.755823</td>\n",
       "      <td>68.705266</td>\n",
       "      <td>164.986995</td>\n",
       "      <td>1417.551916</td>\n",
       "      <td>0.778295</td>\n",
       "      <td>7.719435</td>\n",
       "      <td>0.009435</td>\n",
       "      <td>377.0</td>\n",
       "      <td>1323.0</td>\n",
       "      <td>C2</td>\n",
       "      <td>E8</td>\n",
       "    </tr>\n",
       "    <tr>\n",
       "      <th>16</th>\n",
       "      <td>16</td>\n",
       "      <td>11209250-6f31-4bc3-b60f-852994580d67</td>\n",
       "      <td>17.000000</td>\n",
       "      <td>82.054374</td>\n",
       "      <td>8.500000</td>\n",
       "      <td>1592.445627</td>\n",
       "      <td>2.232143</td>\n",
       "      <td>2.691584</td>\n",
       "      <td>0.003377</td>\n",
       "      <td>0.0</td>\n",
       "      <td>1700.0</td>\n",
       "      <td>C3</td>\n",
       "      <td>F1</td>\n",
       "    </tr>\n",
       "    <tr>\n",
       "      <th>17</th>\n",
       "      <td>17</td>\n",
       "      <td>8f76373d-4001-45d2-9608-0220318c738f</td>\n",
       "      <td>255.000010</td>\n",
       "      <td>30.157373</td>\n",
       "      <td>255.000010</td>\n",
       "      <td>1159.842607</td>\n",
       "      <td>0.148810</td>\n",
       "      <td>40.373762</td>\n",
       "      <td>0.047823</td>\n",
       "      <td>1447.0</td>\n",
       "      <td>253.0</td>\n",
       "      <td>C4</td>\n",
       "      <td>F2</td>\n",
       "    </tr>\n",
       "    <tr>\n",
       "      <th>18</th>\n",
       "      <td>18</td>\n",
       "      <td>9a1469d6-a041-402a-80f8-c2c647d10e9b</td>\n",
       "      <td>112.599814</td>\n",
       "      <td>42.670811</td>\n",
       "      <td>81.657276</td>\n",
       "      <td>1463.072099</td>\n",
       "      <td>0.337003</td>\n",
       "      <td>17.827756</td>\n",
       "      <td>0.021965</td>\n",
       "      <td>1127.0</td>\n",
       "      <td>573.0</td>\n",
       "      <td>C5</td>\n",
       "      <td>F3</td>\n",
       "    </tr>\n",
       "    <tr>\n",
       "      <th>19</th>\n",
       "      <td>19</td>\n",
       "      <td>d0992ce2-83c7-4876-b11b-e4f4b541dc9e</td>\n",
       "      <td>89.149296</td>\n",
       "      <td>12.663786</td>\n",
       "      <td>189.549764</td>\n",
       "      <td>1408.637154</td>\n",
       "      <td>0.425650</td>\n",
       "      <td>14.114872</td>\n",
       "      <td>0.017193</td>\n",
       "      <td>976.0</td>\n",
       "      <td>724.0</td>\n",
       "      <td>C6</td>\n",
       "      <td>F4</td>\n",
       "    </tr>\n",
       "  </tbody>\n",
       "</table>\n",
       "</div>"
      ],
      "text/plain": [
       "    Unnamed: 0                                  uuid  teos_volume  \\\n",
       "0            0  c3856eec-ecfa-46fe-8b51-b01796cff015   110.139117   \n",
       "1            1  65294301-7080-4705-b780-9d956b850445    79.743724   \n",
       "2            2  b94af6ff-5138-4d36-a38f-991dd1dbae34    63.362727   \n",
       "3            3  92b3b03b-abef-4bad-9bcb-f7c67de18ccc    69.121179   \n",
       "4            4  33dcd664-3e31-4fc5-8bbc-4e5b47b8914a   255.000010   \n",
       "5            5  0c1ddab6-f53a-45a3-8e2a-9f74b350eecd    17.000000   \n",
       "6            6  8e73357b-6307-4f73-ae08-8f0d3dbb60ef    17.000000   \n",
       "7            7  2958a316-ee3e-4f2c-83f0-9c8a85758448    76.725977   \n",
       "8            8  7653c1b6-fc2e-468b-aeec-f130375c8f72    17.000000   \n",
       "9            9  310a128f-573a-4c59-a3b9-35ececd26c41   255.000010   \n",
       "10          10  5980952c-c090-4315-8731-0cd2b4161d85   105.519591   \n",
       "11          11  b6eef491-214a-4c47-91c7-7636dd7dfe70    17.000000   \n",
       "12          12  ff7ca20c-578d-4568-a618-0447fe8bd4ab   155.654962   \n",
       "13          13  d163c3ec-ac91-48df-9133-100c3356a7c1    68.168348   \n",
       "14          14  32e15f13-4afb-42b0-a73d-2a61e334400e    95.520769   \n",
       "15          15  05f30d93-c050-49af-b168-c36d1c6abe41    48.755823   \n",
       "16          16  11209250-6f31-4bc3-b60f-852994580d67    17.000000   \n",
       "17          17  8f76373d-4001-45d2-9608-0220318c738f   255.000010   \n",
       "18          18  9a1469d6-a041-402a-80f8-c2c647d10e9b   112.599814   \n",
       "19          19  d0992ce2-83c7-4876-b11b-e4f4b541dc9e    89.149296   \n",
       "\n",
       "    ammonia_volume  water_volume  ethanol_volume  dilution_volume_fraction  \\\n",
       "0        71.798528      8.500000     1509.562356                  0.344532   \n",
       "1         8.500000    106.194523     1505.561753                  0.475855   \n",
       "2        73.475213      8.500000     1554.662060                  0.598876   \n",
       "3        54.357097    196.216759     1380.304965                  0.548984   \n",
       "4        18.585585    135.699256     1290.715149                  0.148810   \n",
       "5        79.668913    255.000010     1348.331078                  2.232143   \n",
       "6       159.030688    255.000010     1268.969302                  2.232143   \n",
       "7       125.432878    255.000010     1242.841135                  0.494571   \n",
       "8       186.999999    255.000010     1240.999991                  2.232143   \n",
       "9        58.881868      8.500000     1377.618122                  0.148810   \n",
       "10       40.588010    177.636795     1376.255605                  0.359615   \n",
       "11      156.961787      8.500000     1517.538213                  2.232143   \n",
       "12      155.784750    134.912559     1253.647730                  0.243786   \n",
       "13       52.034484    255.000010     1324.797158                  0.556658   \n",
       "14      124.125241      8.500000     1471.853990                  0.397258   \n",
       "15       68.705266    164.986995     1417.551916                  0.778295   \n",
       "16       82.054374      8.500000     1592.445627                  2.232143   \n",
       "17       30.157373    255.000010     1159.842607                  0.148810   \n",
       "18       42.670811     81.657276     1463.072099                  0.337003   \n",
       "19       12.663786    189.549764     1408.637154                  0.425650   \n",
       "\n",
       "    silica_mass_conc  silica_mass_fraction  ethanol_dilute_vol  \\\n",
       "0          17.438158              0.021680              1114.0   \n",
       "1          12.625702              0.015594               891.0   \n",
       "2          10.032124              0.012533               682.0   \n",
       "3          10.943851              0.013300               767.0   \n",
       "4          40.373762              0.048714              1447.0   \n",
       "5           2.691584              0.003253                 0.0   \n",
       "6           2.691584              0.003233                 0.0   \n",
       "7          12.147907              0.014542               859.0   \n",
       "8           2.691584              0.003226                 0.0   \n",
       "9          40.373762              0.049492              1447.0   \n",
       "10         16.706755              0.020307              1089.0   \n",
       "11          2.691584              0.003356                 0.0   \n",
       "12         24.644612              0.029719              1286.0   \n",
       "13         10.792990              0.013006               754.0   \n",
       "14         15.123657              0.018752              1025.0   \n",
       "15          7.719435              0.009435               377.0   \n",
       "16          2.691584              0.003377                 0.0   \n",
       "17         40.373762              0.047823              1447.0   \n",
       "18         17.827756              0.021965              1127.0   \n",
       "19         14.114872              0.017193               976.0   \n",
       "\n",
       "    sample_dilute_vol well dilute_well  \n",
       "0               586.0   A1          C7  \n",
       "1               809.0   A2          C8  \n",
       "2              1018.0   A3          D1  \n",
       "3               933.0   A4          D2  \n",
       "4               253.0   A5          D3  \n",
       "5              1700.0   A6          D4  \n",
       "6              1700.0   A7          D5  \n",
       "7               841.0   A8          D6  \n",
       "8              1700.0   B1          D7  \n",
       "9               253.0   B3          D8  \n",
       "10              611.0   B4          E1  \n",
       "11             1700.0   B5          E3  \n",
       "12              414.0   B6          E4  \n",
       "13              946.0   B8          E5  \n",
       "14              675.0   C1          E6  \n",
       "15             1323.0   C2          E8  \n",
       "16             1700.0   C3          F1  \n",
       "17              253.0   C4          F2  \n",
       "18              573.0   C5          F3  \n",
       "19              724.0   C6          F4  "
      ]
     },
     "execution_count": 80,
     "metadata": {},
     "output_type": "execute_result"
    }
   ],
   "source": [
    "sample_table_apdist"
   ]
  },
  {
   "cell_type": "code",
   "execution_count": 81,
   "id": "583da8f7-50a3-438a-a6c5-6b80b3034631",
   "metadata": {},
   "outputs": [
    {
     "data": {
      "text/html": [
       "<div>\n",
       "<style scoped>\n",
       "    .dataframe tbody tr th:only-of-type {\n",
       "        vertical-align: middle;\n",
       "    }\n",
       "\n",
       "    .dataframe tbody tr th {\n",
       "        vertical-align: top;\n",
       "    }\n",
       "\n",
       "    .dataframe thead th {\n",
       "        text-align: right;\n",
       "    }\n",
       "</style>\n",
       "<table border=\"1\" class=\"dataframe\">\n",
       "  <thead>\n",
       "    <tr style=\"text-align: right;\">\n",
       "      <th></th>\n",
       "      <th>Unnamed: 0</th>\n",
       "      <th>uuid</th>\n",
       "      <th>teos_volume</th>\n",
       "      <th>ammonia_volume</th>\n",
       "      <th>water_volume</th>\n",
       "      <th>ethanol_volume</th>\n",
       "      <th>dilution_volume_fraction</th>\n",
       "      <th>silica_mass_conc</th>\n",
       "      <th>silica_mass_fraction</th>\n",
       "      <th>ethanol_dilute_vol</th>\n",
       "      <th>sample_dilute_vol</th>\n",
       "      <th>well</th>\n",
       "      <th>dilute_well</th>\n",
       "    </tr>\n",
       "  </thead>\n",
       "  <tbody>\n",
       "    <tr>\n",
       "      <th>0</th>\n",
       "      <td>0</td>\n",
       "      <td>4aea3a58-a85b-42e6-bc69-aa5692cd7675</td>\n",
       "      <td>172.931279</td>\n",
       "      <td>8.500000</td>\n",
       "      <td>89.141196</td>\n",
       "      <td>1429.427525</td>\n",
       "      <td>0.219431</td>\n",
       "      <td>27.379945</td>\n",
       "      <td>0.033576</td>\n",
       "      <td>1327.0</td>\n",
       "      <td>373.0</td>\n",
       "      <td>A1</td>\n",
       "      <td>C7</td>\n",
       "    </tr>\n",
       "    <tr>\n",
       "      <th>1</th>\n",
       "      <td>1</td>\n",
       "      <td>03662924-3f8e-42e5-bd45-75fe757a3692</td>\n",
       "      <td>131.076677</td>\n",
       "      <td>8.755210</td>\n",
       "      <td>242.524165</td>\n",
       "      <td>1317.643948</td>\n",
       "      <td>0.289498</td>\n",
       "      <td>20.753170</td>\n",
       "      <td>0.024980</td>\n",
       "      <td>1208.0</td>\n",
       "      <td>492.0</td>\n",
       "      <td>A2</td>\n",
       "      <td>C8</td>\n",
       "    </tr>\n",
       "    <tr>\n",
       "      <th>2</th>\n",
       "      <td>2</td>\n",
       "      <td>bd1fe8eb-8834-4c41-9d4d-37c85d39a7d3</td>\n",
       "      <td>154.993822</td>\n",
       "      <td>151.000072</td>\n",
       "      <td>23.471911</td>\n",
       "      <td>1370.534195</td>\n",
       "      <td>0.244825</td>\n",
       "      <td>24.539935</td>\n",
       "      <td>0.030105</td>\n",
       "      <td>1284.0</td>\n",
       "      <td>416.0</td>\n",
       "      <td>A3</td>\n",
       "      <td>D1</td>\n",
       "    </tr>\n",
       "    <tr>\n",
       "      <th>3</th>\n",
       "      <td>3</td>\n",
       "      <td>2b52886d-aad5-4919-a877-25f98e29b245</td>\n",
       "      <td>243.006866</td>\n",
       "      <td>26.038005</td>\n",
       "      <td>162.100125</td>\n",
       "      <td>1268.855005</td>\n",
       "      <td>0.156154</td>\n",
       "      <td>38.474905</td>\n",
       "      <td>0.046271</td>\n",
       "      <td>1435.0</td>\n",
       "      <td>265.0</td>\n",
       "      <td>A4</td>\n",
       "      <td>D2</td>\n",
       "    </tr>\n",
       "    <tr>\n",
       "      <th>4</th>\n",
       "      <td>4</td>\n",
       "      <td>080f2aff-554d-434f-a78c-d6072afeabc2</td>\n",
       "      <td>245.898840</td>\n",
       "      <td>14.346618</td>\n",
       "      <td>128.395161</td>\n",
       "      <td>1311.359381</td>\n",
       "      <td>0.154317</td>\n",
       "      <td>38.932787</td>\n",
       "      <td>0.047086</td>\n",
       "      <td>1438.0</td>\n",
       "      <td>262.0</td>\n",
       "      <td>A5</td>\n",
       "      <td>D3</td>\n",
       "    </tr>\n",
       "    <tr>\n",
       "      <th>5</th>\n",
       "      <td>5</td>\n",
       "      <td>853457e3-042a-45a5-9dd9-4d50873e8801</td>\n",
       "      <td>32.411517</td>\n",
       "      <td>65.008919</td>\n",
       "      <td>255.000010</td>\n",
       "      <td>1347.579554</td>\n",
       "      <td>1.170770</td>\n",
       "      <td>5.131666</td>\n",
       "      <td>0.006200</td>\n",
       "      <td>0.0</td>\n",
       "      <td>1700.0</td>\n",
       "      <td>A6</td>\n",
       "      <td>D4</td>\n",
       "    </tr>\n",
       "    <tr>\n",
       "      <th>6</th>\n",
       "      <td>6</td>\n",
       "      <td>a42e6635-5215-4632-80a5-b635e6102482</td>\n",
       "      <td>17.000000</td>\n",
       "      <td>74.895387</td>\n",
       "      <td>8.500000</td>\n",
       "      <td>1599.604613</td>\n",
       "      <td>2.232143</td>\n",
       "      <td>2.691584</td>\n",
       "      <td>0.003379</td>\n",
       "      <td>0.0</td>\n",
       "      <td>1700.0</td>\n",
       "      <td>A7</td>\n",
       "      <td>D5</td>\n",
       "    </tr>\n",
       "    <tr>\n",
       "      <th>7</th>\n",
       "      <td>7</td>\n",
       "      <td>e4270ccf-97f1-4bad-821d-6c5019a2dfa0</td>\n",
       "      <td>69.863716</td>\n",
       "      <td>58.148577</td>\n",
       "      <td>71.332869</td>\n",
       "      <td>1500.654837</td>\n",
       "      <td>0.543149</td>\n",
       "      <td>11.061415</td>\n",
       "      <td>0.013694</td>\n",
       "      <td>777.0</td>\n",
       "      <td>923.0</td>\n",
       "      <td>A8</td>\n",
       "      <td>D6</td>\n",
       "    </tr>\n",
       "    <tr>\n",
       "      <th>8</th>\n",
       "      <td>8</td>\n",
       "      <td>fc10b4a6-f126-4443-bcd8-92514ee12e3b</td>\n",
       "      <td>76.588665</td>\n",
       "      <td>172.622596</td>\n",
       "      <td>184.226452</td>\n",
       "      <td>1266.562287</td>\n",
       "      <td>0.495458</td>\n",
       "      <td>12.126166</td>\n",
       "      <td>0.014615</td>\n",
       "      <td>858.0</td>\n",
       "      <td>842.0</td>\n",
       "      <td>B1</td>\n",
       "      <td>D7</td>\n",
       "    </tr>\n",
       "    <tr>\n",
       "      <th>9</th>\n",
       "      <td>9</td>\n",
       "      <td>40c911a0-8f77-481a-a569-d2d487717d2f</td>\n",
       "      <td>67.955414</td>\n",
       "      <td>144.173409</td>\n",
       "      <td>194.706745</td>\n",
       "      <td>1293.164431</td>\n",
       "      <td>0.558402</td>\n",
       "      <td>10.759277</td>\n",
       "      <td>0.012988</td>\n",
       "      <td>751.0</td>\n",
       "      <td>949.0</td>\n",
       "      <td>B3</td>\n",
       "      <td>D8</td>\n",
       "    </tr>\n",
       "    <tr>\n",
       "      <th>10</th>\n",
       "      <td>10</td>\n",
       "      <td>fe4236d3-649c-411e-924c-fb7fba84e18d</td>\n",
       "      <td>82.079003</td>\n",
       "      <td>71.156324</td>\n",
       "      <td>30.083733</td>\n",
       "      <td>1516.680939</td>\n",
       "      <td>0.462316</td>\n",
       "      <td>12.995443</td>\n",
       "      <td>0.016152</td>\n",
       "      <td>914.0</td>\n",
       "      <td>786.0</td>\n",
       "      <td>B4</td>\n",
       "      <td>E1</td>\n",
       "    </tr>\n",
       "    <tr>\n",
       "      <th>11</th>\n",
       "      <td>11</td>\n",
       "      <td>764460ac-e597-4ed1-bffa-d0dc0cad76d0</td>\n",
       "      <td>148.236797</td>\n",
       "      <td>84.451798</td>\n",
       "      <td>128.629026</td>\n",
       "      <td>1338.682379</td>\n",
       "      <td>0.255985</td>\n",
       "      <td>23.470105</td>\n",
       "      <td>0.028511</td>\n",
       "      <td>1265.0</td>\n",
       "      <td>435.0</td>\n",
       "      <td>B5</td>\n",
       "      <td>E3</td>\n",
       "    </tr>\n",
       "    <tr>\n",
       "      <th>12</th>\n",
       "      <td>12</td>\n",
       "      <td>627f3c3e-bad8-4762-9393-fa96e29ddb25</td>\n",
       "      <td>17.000000</td>\n",
       "      <td>53.660974</td>\n",
       "      <td>72.254276</td>\n",
       "      <td>1557.084751</td>\n",
       "      <td>2.232143</td>\n",
       "      <td>2.691584</td>\n",
       "      <td>0.003351</td>\n",
       "      <td>0.0</td>\n",
       "      <td>1700.0</td>\n",
       "      <td>B6</td>\n",
       "      <td>E4</td>\n",
       "    </tr>\n",
       "    <tr>\n",
       "      <th>13</th>\n",
       "      <td>13</td>\n",
       "      <td>b06a777a-cb51-4c34-81f7-a6c383a0d41f</td>\n",
       "      <td>17.000000</td>\n",
       "      <td>61.447598</td>\n",
       "      <td>97.872735</td>\n",
       "      <td>1523.679667</td>\n",
       "      <td>2.232143</td>\n",
       "      <td>2.691584</td>\n",
       "      <td>0.003336</td>\n",
       "      <td>0.0</td>\n",
       "      <td>1700.0</td>\n",
       "      <td>B8</td>\n",
       "      <td>E5</td>\n",
       "    </tr>\n",
       "    <tr>\n",
       "      <th>14</th>\n",
       "      <td>14</td>\n",
       "      <td>efa89b9c-f4e2-4088-ac1a-5bb66cf814b6</td>\n",
       "      <td>65.960939</td>\n",
       "      <td>55.478980</td>\n",
       "      <td>142.232853</td>\n",
       "      <td>1436.327228</td>\n",
       "      <td>0.575286</td>\n",
       "      <td>10.443495</td>\n",
       "      <td>0.012799</td>\n",
       "      <td>722.0</td>\n",
       "      <td>978.0</td>\n",
       "      <td>C1</td>\n",
       "      <td>E6</td>\n",
       "    </tr>\n",
       "    <tr>\n",
       "      <th>15</th>\n",
       "      <td>15</td>\n",
       "      <td>7156004c-7899-4c52-be69-020024e1c7c7</td>\n",
       "      <td>34.776849</td>\n",
       "      <td>159.386691</td>\n",
       "      <td>166.240472</td>\n",
       "      <td>1339.595989</td>\n",
       "      <td>1.091141</td>\n",
       "      <td>5.506165</td>\n",
       "      <td>0.006690</td>\n",
       "      <td>0.0</td>\n",
       "      <td>1700.0</td>\n",
       "      <td>C2</td>\n",
       "      <td>E8</td>\n",
       "    </tr>\n",
       "    <tr>\n",
       "      <th>16</th>\n",
       "      <td>16</td>\n",
       "      <td>eb5462d6-cfff-4947-afc7-1245fb0851ff</td>\n",
       "      <td>20.573972</td>\n",
       "      <td>82.109325</td>\n",
       "      <td>8.500000</td>\n",
       "      <td>1588.816703</td>\n",
       "      <td>1.844390</td>\n",
       "      <td>3.257446</td>\n",
       "      <td>0.004085</td>\n",
       "      <td>0.0</td>\n",
       "      <td>1700.0</td>\n",
       "      <td>C3</td>\n",
       "      <td>F1</td>\n",
       "    </tr>\n",
       "    <tr>\n",
       "      <th>17</th>\n",
       "      <td>17</td>\n",
       "      <td>1db061ce-197d-455c-bffb-539e4be3a76d</td>\n",
       "      <td>186.596587</td>\n",
       "      <td>24.094311</td>\n",
       "      <td>51.902390</td>\n",
       "      <td>1437.406712</td>\n",
       "      <td>0.203361</td>\n",
       "      <td>29.543552</td>\n",
       "      <td>0.036337</td>\n",
       "      <td>1354.0</td>\n",
       "      <td>346.0</td>\n",
       "      <td>C4</td>\n",
       "      <td>F2</td>\n",
       "    </tr>\n",
       "    <tr>\n",
       "      <th>18</th>\n",
       "      <td>18</td>\n",
       "      <td>0d94ce6b-b9e1-4a27-a875-a52193d82555</td>\n",
       "      <td>92.069351</td>\n",
       "      <td>18.110821</td>\n",
       "      <td>50.289497</td>\n",
       "      <td>1539.530331</td>\n",
       "      <td>0.412150</td>\n",
       "      <td>14.577200</td>\n",
       "      <td>0.018121</td>\n",
       "      <td>999.0</td>\n",
       "      <td>701.0</td>\n",
       "      <td>C5</td>\n",
       "      <td>F3</td>\n",
       "    </tr>\n",
       "    <tr>\n",
       "      <th>19</th>\n",
       "      <td>19</td>\n",
       "      <td>58c36940-4c76-4e8d-bc15-ff110d639176</td>\n",
       "      <td>241.331713</td>\n",
       "      <td>106.611956</td>\n",
       "      <td>197.227277</td>\n",
       "      <td>1154.829054</td>\n",
       "      <td>0.157238</td>\n",
       "      <td>38.209681</td>\n",
       "      <td>0.045436</td>\n",
       "      <td>1433.0</td>\n",
       "      <td>267.0</td>\n",
       "      <td>C6</td>\n",
       "      <td>F4</td>\n",
       "    </tr>\n",
       "  </tbody>\n",
       "</table>\n",
       "</div>"
      ],
      "text/plain": [
       "    Unnamed: 0                                  uuid  teos_volume  \\\n",
       "0            0  4aea3a58-a85b-42e6-bc69-aa5692cd7675   172.931279   \n",
       "1            1  03662924-3f8e-42e5-bd45-75fe757a3692   131.076677   \n",
       "2            2  bd1fe8eb-8834-4c41-9d4d-37c85d39a7d3   154.993822   \n",
       "3            3  2b52886d-aad5-4919-a877-25f98e29b245   243.006866   \n",
       "4            4  080f2aff-554d-434f-a78c-d6072afeabc2   245.898840   \n",
       "5            5  853457e3-042a-45a5-9dd9-4d50873e8801    32.411517   \n",
       "6            6  a42e6635-5215-4632-80a5-b635e6102482    17.000000   \n",
       "7            7  e4270ccf-97f1-4bad-821d-6c5019a2dfa0    69.863716   \n",
       "8            8  fc10b4a6-f126-4443-bcd8-92514ee12e3b    76.588665   \n",
       "9            9  40c911a0-8f77-481a-a569-d2d487717d2f    67.955414   \n",
       "10          10  fe4236d3-649c-411e-924c-fb7fba84e18d    82.079003   \n",
       "11          11  764460ac-e597-4ed1-bffa-d0dc0cad76d0   148.236797   \n",
       "12          12  627f3c3e-bad8-4762-9393-fa96e29ddb25    17.000000   \n",
       "13          13  b06a777a-cb51-4c34-81f7-a6c383a0d41f    17.000000   \n",
       "14          14  efa89b9c-f4e2-4088-ac1a-5bb66cf814b6    65.960939   \n",
       "15          15  7156004c-7899-4c52-be69-020024e1c7c7    34.776849   \n",
       "16          16  eb5462d6-cfff-4947-afc7-1245fb0851ff    20.573972   \n",
       "17          17  1db061ce-197d-455c-bffb-539e4be3a76d   186.596587   \n",
       "18          18  0d94ce6b-b9e1-4a27-a875-a52193d82555    92.069351   \n",
       "19          19  58c36940-4c76-4e8d-bc15-ff110d639176   241.331713   \n",
       "\n",
       "    ammonia_volume  water_volume  ethanol_volume  dilution_volume_fraction  \\\n",
       "0         8.500000     89.141196     1429.427525                  0.219431   \n",
       "1         8.755210    242.524165     1317.643948                  0.289498   \n",
       "2       151.000072     23.471911     1370.534195                  0.244825   \n",
       "3        26.038005    162.100125     1268.855005                  0.156154   \n",
       "4        14.346618    128.395161     1311.359381                  0.154317   \n",
       "5        65.008919    255.000010     1347.579554                  1.170770   \n",
       "6        74.895387      8.500000     1599.604613                  2.232143   \n",
       "7        58.148577     71.332869     1500.654837                  0.543149   \n",
       "8       172.622596    184.226452     1266.562287                  0.495458   \n",
       "9       144.173409    194.706745     1293.164431                  0.558402   \n",
       "10       71.156324     30.083733     1516.680939                  0.462316   \n",
       "11       84.451798    128.629026     1338.682379                  0.255985   \n",
       "12       53.660974     72.254276     1557.084751                  2.232143   \n",
       "13       61.447598     97.872735     1523.679667                  2.232143   \n",
       "14       55.478980    142.232853     1436.327228                  0.575286   \n",
       "15      159.386691    166.240472     1339.595989                  1.091141   \n",
       "16       82.109325      8.500000     1588.816703                  1.844390   \n",
       "17       24.094311     51.902390     1437.406712                  0.203361   \n",
       "18       18.110821     50.289497     1539.530331                  0.412150   \n",
       "19      106.611956    197.227277     1154.829054                  0.157238   \n",
       "\n",
       "    silica_mass_conc  silica_mass_fraction  ethanol_dilute_vol  \\\n",
       "0          27.379945              0.033576              1327.0   \n",
       "1          20.753170              0.024980              1208.0   \n",
       "2          24.539935              0.030105              1284.0   \n",
       "3          38.474905              0.046271              1435.0   \n",
       "4          38.932787              0.047086              1438.0   \n",
       "5           5.131666              0.006200                 0.0   \n",
       "6           2.691584              0.003379                 0.0   \n",
       "7          11.061415              0.013694               777.0   \n",
       "8          12.126166              0.014615               858.0   \n",
       "9          10.759277              0.012988               751.0   \n",
       "10         12.995443              0.016152               914.0   \n",
       "11         23.470105              0.028511              1265.0   \n",
       "12          2.691584              0.003351                 0.0   \n",
       "13          2.691584              0.003336                 0.0   \n",
       "14         10.443495              0.012799               722.0   \n",
       "15          5.506165              0.006690                 0.0   \n",
       "16          3.257446              0.004085                 0.0   \n",
       "17         29.543552              0.036337              1354.0   \n",
       "18         14.577200              0.018121               999.0   \n",
       "19         38.209681              0.045436              1433.0   \n",
       "\n",
       "    sample_dilute_vol well dilute_well  \n",
       "0               373.0   A1          C7  \n",
       "1               492.0   A2          C8  \n",
       "2               416.0   A3          D1  \n",
       "3               265.0   A4          D2  \n",
       "4               262.0   A5          D3  \n",
       "5              1700.0   A6          D4  \n",
       "6              1700.0   A7          D5  \n",
       "7               923.0   A8          D6  \n",
       "8               842.0   B1          D7  \n",
       "9               949.0   B3          D8  \n",
       "10              786.0   B4          E1  \n",
       "11              435.0   B5          E3  \n",
       "12             1700.0   B6          E4  \n",
       "13             1700.0   B8          E5  \n",
       "14              978.0   C1          E6  \n",
       "15             1700.0   C2          E8  \n",
       "16             1700.0   C3          F1  \n",
       "17              346.0   C4          F2  \n",
       "18              701.0   C5          F3  \n",
       "19              267.0   C6          F4  "
      ]
     },
     "execution_count": 81,
     "metadata": {},
     "output_type": "execute_result"
    }
   ],
   "source": [
    "sample_table_rmse"
   ]
  },
  {
   "cell_type": "code",
   "execution_count": 151,
   "id": "a4a66641-2bc0-4bfe-8e12-78d8dfb86111",
   "metadata": {},
   "outputs": [
    {
     "data": {
      "text/html": [
       "<div>\n",
       "<style scoped>\n",
       "    .dataframe tbody tr th:only-of-type {\n",
       "        vertical-align: middle;\n",
       "    }\n",
       "\n",
       "    .dataframe tbody tr th {\n",
       "        vertical-align: top;\n",
       "    }\n",
       "\n",
       "    .dataframe thead th {\n",
       "        text-align: right;\n",
       "    }\n",
       "</style>\n",
       "<table border=\"1\" class=\"dataframe\">\n",
       "  <thead>\n",
       "    <tr style=\"text-align: right;\">\n",
       "      <th></th>\n",
       "      <th>Unnamed: 0</th>\n",
       "      <th>uuid</th>\n",
       "      <th>teos_volume</th>\n",
       "      <th>ammonia_volume</th>\n",
       "      <th>water_volume</th>\n",
       "      <th>ethanol_volume</th>\n",
       "      <th>dilution_volume_fraction</th>\n",
       "      <th>silica_mass_conc</th>\n",
       "      <th>silica_mass_fraction</th>\n",
       "      <th>ethanol_dilute_vol</th>\n",
       "      <th>sample_dilute_vol</th>\n",
       "      <th>well</th>\n",
       "      <th>dilute_well</th>\n",
       "    </tr>\n",
       "  </thead>\n",
       "  <tbody>\n",
       "    <tr>\n",
       "      <th>0</th>\n",
       "      <td>0</td>\n",
       "      <td>bbd1bfff-7563-4360-b5b8-86a1deb3928f</td>\n",
       "      <td>91.455773</td>\n",
       "      <td>121.416734</td>\n",
       "      <td>255.000010</td>\n",
       "      <td>1232.127483</td>\n",
       "      <td>0.414916</td>\n",
       "      <td>14.480053</td>\n",
       "      <td>0.017314</td>\n",
       "      <td>995.0</td>\n",
       "      <td>705.0</td>\n",
       "      <td>C7</td>\n",
       "      <td>C7</td>\n",
       "    </tr>\n",
       "    <tr>\n",
       "      <th>1</th>\n",
       "      <td>1</td>\n",
       "      <td>5b9ac046-6ca6-4ebc-87f3-e272edaedb7b</td>\n",
       "      <td>140.351853</td>\n",
       "      <td>8.500000</td>\n",
       "      <td>255.000010</td>\n",
       "      <td>1296.148137</td>\n",
       "      <td>0.270366</td>\n",
       "      <td>22.221694</td>\n",
       "      <td>0.026673</td>\n",
       "      <td>1240.0</td>\n",
       "      <td>460.0</td>\n",
       "      <td>C8</td>\n",
       "      <td>C8</td>\n",
       "    </tr>\n",
       "    <tr>\n",
       "      <th>2</th>\n",
       "      <td>2</td>\n",
       "      <td>9f782755-5ca4-4466-a1f1-a87ef665ed22</td>\n",
       "      <td>255.000010</td>\n",
       "      <td>42.990994</td>\n",
       "      <td>255.000010</td>\n",
       "      <td>1147.008985</td>\n",
       "      <td>0.148810</td>\n",
       "      <td>40.373762</td>\n",
       "      <td>0.047775</td>\n",
       "      <td>1447.0</td>\n",
       "      <td>253.0</td>\n",
       "      <td>D1</td>\n",
       "      <td>D1</td>\n",
       "    </tr>\n",
       "    <tr>\n",
       "      <th>3</th>\n",
       "      <td>3</td>\n",
       "      <td>f8b2207f-b63c-44d9-8fe4-70639fdd3f5c</td>\n",
       "      <td>255.000010</td>\n",
       "      <td>53.976205</td>\n",
       "      <td>8.500000</td>\n",
       "      <td>1382.523785</td>\n",
       "      <td>0.148810</td>\n",
       "      <td>40.373762</td>\n",
       "      <td>0.049511</td>\n",
       "      <td>1447.0</td>\n",
       "      <td>253.0</td>\n",
       "      <td>D2</td>\n",
       "      <td>D2</td>\n",
       "    </tr>\n",
       "    <tr>\n",
       "      <th>4</th>\n",
       "      <td>4</td>\n",
       "      <td>61431cc9-9557-45af-82c4-9e7acb251717</td>\n",
       "      <td>78.545307</td>\n",
       "      <td>77.696470</td>\n",
       "      <td>193.651897</td>\n",
       "      <td>1350.106326</td>\n",
       "      <td>0.483115</td>\n",
       "      <td>12.435958</td>\n",
       "      <td>0.015077</td>\n",
       "      <td>879.0</td>\n",
       "      <td>821.0</td>\n",
       "      <td>D3</td>\n",
       "      <td>D3</td>\n",
       "    </tr>\n",
       "    <tr>\n",
       "      <th>5</th>\n",
       "      <td>5</td>\n",
       "      <td>e773e91e-cdd8-466c-be37-8ff86cb7f610</td>\n",
       "      <td>52.806463</td>\n",
       "      <td>59.674126</td>\n",
       "      <td>39.147849</td>\n",
       "      <td>1548.371562</td>\n",
       "      <td>0.718594</td>\n",
       "      <td>8.360767</td>\n",
       "      <td>0.010419</td>\n",
       "      <td>478.0</td>\n",
       "      <td>1222.0</td>\n",
       "      <td>D4</td>\n",
       "      <td>D4</td>\n",
       "    </tr>\n",
       "    <tr>\n",
       "      <th>6</th>\n",
       "      <td>6</td>\n",
       "      <td>4559d494-fcc2-4dfc-a4cf-a14d93eb0029</td>\n",
       "      <td>102.107158</td>\n",
       "      <td>177.169546</td>\n",
       "      <td>8.500000</td>\n",
       "      <td>1412.223295</td>\n",
       "      <td>0.371633</td>\n",
       "      <td>16.166470</td>\n",
       "      <td>0.019945</td>\n",
       "      <td>1068.0</td>\n",
       "      <td>632.0</td>\n",
       "      <td>D5</td>\n",
       "      <td>D5</td>\n",
       "    </tr>\n",
       "    <tr>\n",
       "      <th>7</th>\n",
       "      <td>7</td>\n",
       "      <td>78e5ec30-0b59-4536-a9e0-21b4bac433a8</td>\n",
       "      <td>67.497684</td>\n",
       "      <td>128.016714</td>\n",
       "      <td>8.500000</td>\n",
       "      <td>1495.985602</td>\n",
       "      <td>0.562189</td>\n",
       "      <td>10.686805</td>\n",
       "      <td>0.013285</td>\n",
       "      <td>744.0</td>\n",
       "      <td>956.0</td>\n",
       "      <td>D6</td>\n",
       "      <td>D6</td>\n",
       "    </tr>\n",
       "    <tr>\n",
       "      <th>8</th>\n",
       "      <td>8</td>\n",
       "      <td>e42bc4d2-0157-425c-aed0-4cdec425d9ab</td>\n",
       "      <td>120.342861</td>\n",
       "      <td>146.735320</td>\n",
       "      <td>171.336467</td>\n",
       "      <td>1261.585352</td>\n",
       "      <td>0.315319</td>\n",
       "      <td>19.053701</td>\n",
       "      <td>0.022952</td>\n",
       "      <td>1164.0</td>\n",
       "      <td>536.0</td>\n",
       "      <td>D7</td>\n",
       "      <td>D7</td>\n",
       "    </tr>\n",
       "    <tr>\n",
       "      <th>9</th>\n",
       "      <td>9</td>\n",
       "      <td>4133ded3-a2c0-4d14-b4fb-578358436a04</td>\n",
       "      <td>17.000000</td>\n",
       "      <td>159.878042</td>\n",
       "      <td>8.500000</td>\n",
       "      <td>1514.621958</td>\n",
       "      <td>2.232143</td>\n",
       "      <td>2.691584</td>\n",
       "      <td>0.003355</td>\n",
       "      <td>0.0</td>\n",
       "      <td>1700.0</td>\n",
       "      <td>D8</td>\n",
       "      <td>D8</td>\n",
       "    </tr>\n",
       "    <tr>\n",
       "      <th>10</th>\n",
       "      <td>10</td>\n",
       "      <td>79149445-b04e-499f-bfa2-362ba81c3121</td>\n",
       "      <td>72.795379</td>\n",
       "      <td>70.436200</td>\n",
       "      <td>8.500000</td>\n",
       "      <td>1548.268421</td>\n",
       "      <td>0.521275</td>\n",
       "      <td>11.525581</td>\n",
       "      <td>0.014387</td>\n",
       "      <td>814.0</td>\n",
       "      <td>886.0</td>\n",
       "      <td>E1</td>\n",
       "      <td>E1</td>\n",
       "    </tr>\n",
       "    <tr>\n",
       "      <th>11</th>\n",
       "      <td>11</td>\n",
       "      <td>f2aac2f9-31c5-4eaf-be0b-ed9c1ec48ac4</td>\n",
       "      <td>105.384178</td>\n",
       "      <td>88.456498</td>\n",
       "      <td>250.912468</td>\n",
       "      <td>1255.246855</td>\n",
       "      <td>0.360077</td>\n",
       "      <td>16.685316</td>\n",
       "      <td>0.019986</td>\n",
       "      <td>1088.0</td>\n",
       "      <td>612.0</td>\n",
       "      <td>E3</td>\n",
       "      <td>E3</td>\n",
       "    </tr>\n",
       "    <tr>\n",
       "      <th>12</th>\n",
       "      <td>12</td>\n",
       "      <td>97be35cc-6af5-4906-a5ec-6c5ab5836951</td>\n",
       "      <td>104.194804</td>\n",
       "      <td>128.661020</td>\n",
       "      <td>8.500000</td>\n",
       "      <td>1458.644176</td>\n",
       "      <td>0.364187</td>\n",
       "      <td>16.497004</td>\n",
       "      <td>0.020429</td>\n",
       "      <td>1081.0</td>\n",
       "      <td>619.0</td>\n",
       "      <td>E4</td>\n",
       "      <td>E4</td>\n",
       "    </tr>\n",
       "    <tr>\n",
       "      <th>13</th>\n",
       "      <td>13</td>\n",
       "      <td>6f651325-aa30-4e15-a8b8-8550752155de</td>\n",
       "      <td>17.000000</td>\n",
       "      <td>186.999999</td>\n",
       "      <td>8.500000</td>\n",
       "      <td>1487.500002</td>\n",
       "      <td>2.232143</td>\n",
       "      <td>2.691584</td>\n",
       "      <td>0.003348</td>\n",
       "      <td>0.0</td>\n",
       "      <td>1700.0</td>\n",
       "      <td>E5</td>\n",
       "      <td>E5</td>\n",
       "    </tr>\n",
       "    <tr>\n",
       "      <th>14</th>\n",
       "      <td>14</td>\n",
       "      <td>884360fc-1d5b-45f3-b018-3a687b81f8a7</td>\n",
       "      <td>190.498775</td>\n",
       "      <td>74.557186</td>\n",
       "      <td>157.476255</td>\n",
       "      <td>1277.467784</td>\n",
       "      <td>0.199195</td>\n",
       "      <td>30.161380</td>\n",
       "      <td>0.036354</td>\n",
       "      <td>1361.0</td>\n",
       "      <td>339.0</td>\n",
       "      <td>E6</td>\n",
       "      <td>E6</td>\n",
       "    </tr>\n",
       "    <tr>\n",
       "      <th>15</th>\n",
       "      <td>15</td>\n",
       "      <td>45d13e36-5ae6-4aba-a657-a6cce9fb8db6</td>\n",
       "      <td>61.079639</td>\n",
       "      <td>133.803360</td>\n",
       "      <td>255.000010</td>\n",
       "      <td>1250.116991</td>\n",
       "      <td>0.621262</td>\n",
       "      <td>9.670646</td>\n",
       "      <td>0.011588</td>\n",
       "      <td>644.0</td>\n",
       "      <td>1056.0</td>\n",
       "      <td>E8</td>\n",
       "      <td>E8</td>\n",
       "    </tr>\n",
       "    <tr>\n",
       "      <th>16</th>\n",
       "      <td>16</td>\n",
       "      <td>76e61e49-8d12-493d-aa0e-e367cf9222a1</td>\n",
       "      <td>125.772466</td>\n",
       "      <td>186.999999</td>\n",
       "      <td>49.355634</td>\n",
       "      <td>1337.871901</td>\n",
       "      <td>0.301707</td>\n",
       "      <td>19.913362</td>\n",
       "      <td>0.024338</td>\n",
       "      <td>1187.0</td>\n",
       "      <td>513.0</td>\n",
       "      <td>F1</td>\n",
       "      <td>F1</td>\n",
       "    </tr>\n",
       "    <tr>\n",
       "      <th>17</th>\n",
       "      <td>17</td>\n",
       "      <td>cb91c3d6-d0df-437e-a504-7433689fb381</td>\n",
       "      <td>17.000000</td>\n",
       "      <td>186.999999</td>\n",
       "      <td>255.000010</td>\n",
       "      <td>1240.999991</td>\n",
       "      <td>2.232143</td>\n",
       "      <td>2.691584</td>\n",
       "      <td>0.003226</td>\n",
       "      <td>0.0</td>\n",
       "      <td>1700.0</td>\n",
       "      <td>F2</td>\n",
       "      <td>F2</td>\n",
       "    </tr>\n",
       "    <tr>\n",
       "      <th>18</th>\n",
       "      <td>18</td>\n",
       "      <td>2ef2ca93-424e-4bab-ab05-e1a4a365afc9</td>\n",
       "      <td>140.084917</td>\n",
       "      <td>99.182012</td>\n",
       "      <td>28.917468</td>\n",
       "      <td>1431.815603</td>\n",
       "      <td>0.270882</td>\n",
       "      <td>22.179431</td>\n",
       "      <td>0.027342</td>\n",
       "      <td>1240.0</td>\n",
       "      <td>460.0</td>\n",
       "      <td>F3</td>\n",
       "      <td>F3</td>\n",
       "    </tr>\n",
       "    <tr>\n",
       "      <th>19</th>\n",
       "      <td>19</td>\n",
       "      <td>2c2e06ba-fd0d-4b67-ac27-94a71a40985c</td>\n",
       "      <td>154.968959</td>\n",
       "      <td>133.155064</td>\n",
       "      <td>199.449208</td>\n",
       "      <td>1212.426769</td>\n",
       "      <td>0.244865</td>\n",
       "      <td>24.535998</td>\n",
       "      <td>0.029362</td>\n",
       "      <td>1284.0</td>\n",
       "      <td>416.0</td>\n",
       "      <td>F4</td>\n",
       "      <td>F4</td>\n",
       "    </tr>\n",
       "  </tbody>\n",
       "</table>\n",
       "</div>"
      ],
      "text/plain": [
       "    Unnamed: 0                                  uuid  teos_volume  \\\n",
       "0            0  bbd1bfff-7563-4360-b5b8-86a1deb3928f    91.455773   \n",
       "1            1  5b9ac046-6ca6-4ebc-87f3-e272edaedb7b   140.351853   \n",
       "2            2  9f782755-5ca4-4466-a1f1-a87ef665ed22   255.000010   \n",
       "3            3  f8b2207f-b63c-44d9-8fe4-70639fdd3f5c   255.000010   \n",
       "4            4  61431cc9-9557-45af-82c4-9e7acb251717    78.545307   \n",
       "5            5  e773e91e-cdd8-466c-be37-8ff86cb7f610    52.806463   \n",
       "6            6  4559d494-fcc2-4dfc-a4cf-a14d93eb0029   102.107158   \n",
       "7            7  78e5ec30-0b59-4536-a9e0-21b4bac433a8    67.497684   \n",
       "8            8  e42bc4d2-0157-425c-aed0-4cdec425d9ab   120.342861   \n",
       "9            9  4133ded3-a2c0-4d14-b4fb-578358436a04    17.000000   \n",
       "10          10  79149445-b04e-499f-bfa2-362ba81c3121    72.795379   \n",
       "11          11  f2aac2f9-31c5-4eaf-be0b-ed9c1ec48ac4   105.384178   \n",
       "12          12  97be35cc-6af5-4906-a5ec-6c5ab5836951   104.194804   \n",
       "13          13  6f651325-aa30-4e15-a8b8-8550752155de    17.000000   \n",
       "14          14  884360fc-1d5b-45f3-b018-3a687b81f8a7   190.498775   \n",
       "15          15  45d13e36-5ae6-4aba-a657-a6cce9fb8db6    61.079639   \n",
       "16          16  76e61e49-8d12-493d-aa0e-e367cf9222a1   125.772466   \n",
       "17          17  cb91c3d6-d0df-437e-a504-7433689fb381    17.000000   \n",
       "18          18  2ef2ca93-424e-4bab-ab05-e1a4a365afc9   140.084917   \n",
       "19          19  2c2e06ba-fd0d-4b67-ac27-94a71a40985c   154.968959   \n",
       "\n",
       "    ammonia_volume  water_volume  ethanol_volume  dilution_volume_fraction  \\\n",
       "0       121.416734    255.000010     1232.127483                  0.414916   \n",
       "1         8.500000    255.000010     1296.148137                  0.270366   \n",
       "2        42.990994    255.000010     1147.008985                  0.148810   \n",
       "3        53.976205      8.500000     1382.523785                  0.148810   \n",
       "4        77.696470    193.651897     1350.106326                  0.483115   \n",
       "5        59.674126     39.147849     1548.371562                  0.718594   \n",
       "6       177.169546      8.500000     1412.223295                  0.371633   \n",
       "7       128.016714      8.500000     1495.985602                  0.562189   \n",
       "8       146.735320    171.336467     1261.585352                  0.315319   \n",
       "9       159.878042      8.500000     1514.621958                  2.232143   \n",
       "10       70.436200      8.500000     1548.268421                  0.521275   \n",
       "11       88.456498    250.912468     1255.246855                  0.360077   \n",
       "12      128.661020      8.500000     1458.644176                  0.364187   \n",
       "13      186.999999      8.500000     1487.500002                  2.232143   \n",
       "14       74.557186    157.476255     1277.467784                  0.199195   \n",
       "15      133.803360    255.000010     1250.116991                  0.621262   \n",
       "16      186.999999     49.355634     1337.871901                  0.301707   \n",
       "17      186.999999    255.000010     1240.999991                  2.232143   \n",
       "18       99.182012     28.917468     1431.815603                  0.270882   \n",
       "19      133.155064    199.449208     1212.426769                  0.244865   \n",
       "\n",
       "    silica_mass_conc  silica_mass_fraction  ethanol_dilute_vol  \\\n",
       "0          14.480053              0.017314               995.0   \n",
       "1          22.221694              0.026673              1240.0   \n",
       "2          40.373762              0.047775              1447.0   \n",
       "3          40.373762              0.049511              1447.0   \n",
       "4          12.435958              0.015077               879.0   \n",
       "5           8.360767              0.010419               478.0   \n",
       "6          16.166470              0.019945              1068.0   \n",
       "7          10.686805              0.013285               744.0   \n",
       "8          19.053701              0.022952              1164.0   \n",
       "9           2.691584              0.003355                 0.0   \n",
       "10         11.525581              0.014387               814.0   \n",
       "11         16.685316              0.019986              1088.0   \n",
       "12         16.497004              0.020429              1081.0   \n",
       "13          2.691584              0.003348                 0.0   \n",
       "14         30.161380              0.036354              1361.0   \n",
       "15          9.670646              0.011588               644.0   \n",
       "16         19.913362              0.024338              1187.0   \n",
       "17          2.691584              0.003226                 0.0   \n",
       "18         22.179431              0.027342              1240.0   \n",
       "19         24.535998              0.029362              1284.0   \n",
       "\n",
       "    sample_dilute_vol well dilute_well  \n",
       "0               705.0   C7          C7  \n",
       "1               460.0   C8          C8  \n",
       "2               253.0   D1          D1  \n",
       "3               253.0   D2          D2  \n",
       "4               821.0   D3          D3  \n",
       "5              1222.0   D4          D4  \n",
       "6               632.0   D5          D5  \n",
       "7               956.0   D6          D6  \n",
       "8               536.0   D7          D7  \n",
       "9              1700.0   D8          D8  \n",
       "10              886.0   E1          E1  \n",
       "11              612.0   E3          E3  \n",
       "12              619.0   E4          E4  \n",
       "13             1700.0   E5          E5  \n",
       "14              339.0   E6          E6  \n",
       "15             1056.0   E8          E8  \n",
       "16              513.0   F1          F1  \n",
       "17             1700.0   F2          F2  \n",
       "18              460.0   F3          F3  \n",
       "19              416.0   F4          F4  "
      ]
     },
     "execution_count": 151,
     "metadata": {},
     "output_type": "execute_result"
    }
   ],
   "source": [
    "dilution_table_apdist"
   ]
  },
  {
   "cell_type": "code",
   "execution_count": null,
   "id": "438b544c-b4c3-47dd-b2b3-64f111416b9b",
   "metadata": {},
   "outputs": [],
   "source": []
  }
 ],
 "metadata": {
  "kernelspec": {
   "display_name": "Python 3 (ipykernel)",
   "language": "python",
   "name": "python3"
  },
  "language_info": {
   "codemirror_mode": {
    "name": "ipython",
    "version": 3
   },
   "file_extension": ".py",
   "mimetype": "text/x-python",
   "name": "python",
   "nbconvert_exporter": "python",
   "pygments_lexer": "ipython3",
   "version": "3.9.19"
  }
 },
 "nbformat": 4,
 "nbformat_minor": 5
}
