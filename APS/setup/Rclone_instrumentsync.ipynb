{
 "cells": [
  {
   "cell_type": "code",
   "execution_count": 36,
   "id": "11f044e7-315f-4d3c-adc3-e10cf8220d42",
   "metadata": {},
   "outputs": [],
   "source": [
    "import paramiko\n",
    "from scp import SCPClient\n",
    "\n",
    "import datetime\n",
    "import subprocess\n",
    "import shlex\n",
    "\n",
    "import requests\n",
    "\n",
    "import uuid\n",
    "\n",
    "import sys\n",
    "sys.path.append('..')\n",
    "import usaxs_utils"
   ]
  },
  {
   "cell_type": "code",
   "execution_count": 7,
   "id": "dbd7a841-3bff-48a3-9863-eb98c200e46e",
   "metadata": {},
   "outputs": [
    {
     "name": "stdout",
     "output_type": "stream",
     "text": [
      "connecting with ssh\n",
      "copying file with scp\n",
      "File usaxs_queue.txt successfully copied to 3.147.54.9:~/usaxs_queue/usaxs_queue.txt\n"
     ]
    }
   ],
   "source": [
    "ip = '3.147.54.9'\n",
    "\n",
    "\n",
    "# Define SSH connection parameters\n",
    "hostname = '3.147.54.9'  # Replace with your server address\n",
    "port = 22  # Default SSH port\n",
    "username = 'ec2-user'  # Replace with your SSH username\n",
    "pem_file_path = '/home/bgpelkie/silica-np-opt-key.pem'  # Path to your .pem private key file\n",
    "local_file = 'usaxs_queue.txt'  # Path to the local file you want to copy\n",
    "remote_path = '~/usaxs_queue/usaxs_queue.txt'  # Path where the file will be copied on the server\n",
    "\n",
    "# Establish SSH connection using PEM file for authentication\n",
    "try:\n",
    "    ssh = paramiko.SSHClient()\n",
    "    ssh.set_missing_host_key_policy(paramiko.AutoAddPolicy())  # Automatically add unknown host keys\n",
    "\n",
    "    # Load the private key\n",
    "    private_key = paramiko.RSAKey.from_private_key_file(pem_file_path)\n",
    "\n",
    "    print('connecting with ssh')\n",
    "    # Connect using the private key for authentication\n",
    "    ssh.connect(hostname, port=port, username=username, pkey=private_key)\n",
    "    print('copying file with scp')\n",
    "    # Copy the file using SCP\n",
    "    with SCPClient(ssh.get_transport()) as scp:\n",
    "        scp.put(local_file, remote_path)  # Upload the local file to the remote server\n",
    "\n",
    "    print(f\"File {local_file} successfully copied to {hostname}:{remote_path}\")\n",
    "except Exception as e:\n",
    "    print(f\"An error occurred: {e}\")\n",
    "finally:\n",
    "    ssh.close()\n"
   ]
  },
  {
   "cell_type": "code",
   "execution_count": 10,
   "id": "7fcffeab-8e7b-424e-9187-c95a7d725bdc",
   "metadata": {},
   "outputs": [
    {
     "name": "stdout",
     "output_type": "stream",
     "text": [
      "File ~/usaxs_queue/usaxs_queue.txt successfully copied to usaxs_queue.txt\n"
     ]
    }
   ],
   "source": [
    "\n",
    "\n",
    "try:\n",
    "    ssh = paramiko.SSHClient()\n",
    "    ssh.set_missing_host_key_policy(paramiko.AutoAddPolicy())  # Automatically add unknown host keys\n",
    "\n",
    "    # Load the private key\n",
    "    private_key = paramiko.RSAKey.from_private_key_file(pem_file_path)\n",
    "\n",
    "    # Connect using the private key for authentication\n",
    "    ssh.connect(hostname, port=port, username=username, pkey=private_key)\n",
    "\n",
    "    # Copy the file using SCP (from remote to local)\n",
    "    with SCPClient(ssh.get_transport()) as scp:\n",
    "        scp.get(remote_path, local_file)  # Download the remote file to the local machine\n",
    "\n",
    "    print(f\"File {remote_path} successfully copied to {local_file}\")\n",
    "except Exception as e:\n",
    "    print(f\"An error occurred: {e}\")\n",
    "finally:\n",
    "    ssh.close()"
   ]
  },
  {
   "cell_type": "code",
   "execution_count": 19,
   "id": "9290f8a5-7dd3-48a9-8a3a-df07af5cb3c9",
   "metadata": {},
   "outputs": [],
   "source": [
    "def copy_remote_file(instance_ip, user_name, remote_path, local_path, pem_path,copy_from=True):\n",
    "    \"\"\"\n",
    "    Copies a remote file to the local machine using scp.\n",
    "\n",
    "    Args:\n",
    "        instance_ip (str): The public IP address or public DNS of the EC2 instance.\n",
    "        user_name (str): The username for connecting to the EC2 instance (e.g., 'ec2-user' or 'ubuntu').\n",
    "        remote_path (str): The full path to the file on the EC2 instance.\n",
    "        local_path (str): The full path where the file should be saved locally.\n",
    "        pem_path (str): The path to the .pem file used for SSH authentication.\n",
    "    \"\"\"\n",
    "    # print(instance_ip)\n",
    "    # print(user_name)\n",
    "    # print(remote_path)\n",
    "    # print(local_path)\n",
    "    # print(pem_path)\n",
    "    try:\n",
    "        command = [\n",
    "            \"scp\",\n",
    "            \"-i\",\n",
    "            str(pem_path),\n",
    "        ]\n",
    "        if copy_from:\n",
    "            command.extend([\n",
    "                f\"{user_name}@{instance_ip}:{remote_path}\",\n",
    "                str(local_path),\n",
    "            ])\n",
    "        else:\n",
    "            command.extend([\n",
    "                str(local_path),\n",
    "                f\"{user_name}@{instance_ip}:{remote_path}\",\n",
    "            ])\n",
    "        \n",
    "        subprocess.run(shlex.split(' '.join(command)), check=True, capture_output=True)\n",
    "        print(f\"File copied successfully from {remote_path} to {local_path}\")\n",
    "    \n",
    "    except subprocess.CalledProcessError as e:\n",
    "         print(f\"Error copying file: {e}\")\n",
    "    except Exception as e:\n",
    "        print(f\"An unexpected error occurred: {e}\")"
   ]
  },
  {
   "cell_type": "code",
   "execution_count": 15,
   "id": "a7d9d18b-0744-456b-918a-07e2f265c58e",
   "metadata": {},
   "outputs": [],
   "source": [
    "sample_name = 'remotetest'\n",
    "sample_uuid = 'aaaabbbbcccc'\n",
    "sample_composition = '1'"
   ]
  },
  {
   "cell_type": "code",
   "execution_count": 25,
   "id": "a6cc8b84-978c-4d85-bd09-a9710c455aef",
   "metadata": {},
   "outputs": [],
   "source": [
    "## update remote file to trigger new measurement\n",
    "\n",
    "ip = '18.216.44.137'\n",
    "remote_username = 'ubuntu'\n",
    "pem_path = '/home/bgpelkie/silica-np-opt-key.pem'\n",
    "date_format = \"%Y-%m-%d %H:%M:%S\"\n",
    "\n",
    "\n",
    "local_working_directory = './usaxs_queue'\n",
    "remote_filepath = '~/usaxs_queue/'\n",
    "data_package_filename = 'packet.txt'"
   ]
  },
  {
   "cell_type": "code",
   "execution_count": 16,
   "id": "2dbda643-6bb7-4efc-a33f-5cd64780cc26",
   "metadata": {},
   "outputs": [],
   "source": [
    "trigger_data = [datetime.datetime.now().strftime(date_format), sample_name, sample_composition, sample_uuid]"
   ]
  },
  {
   "cell_type": "code",
   "execution_count": 18,
   "id": "a5843c11-ad59-42d6-8c12-01c33ac03227",
   "metadata": {},
   "outputs": [],
   "source": [
    "with open(f'{local_working_directory}/{data_package_filename}', 'wt') as f:\n",
    "    for entry in trigger_data:\n",
    "        f.write(entry + '\\n')"
   ]
  },
  {
   "cell_type": "code",
   "execution_count": 26,
   "id": "23aecd10-34d7-4ccf-ba3e-9338d03a167d",
   "metadata": {},
   "outputs": [
    {
     "name": "stdout",
     "output_type": "stream",
     "text": [
      "File copied successfully from ~/usaxs_queue/ to ./usaxs_queue/packet.txt\n"
     ]
    }
   ],
   "source": [
    "copy_remote_file(ip, remote_username, remote_filepath, f'{local_working_directory}/{data_package_filename}', pem_file_path, copy_from=False)"
   ]
  },
  {
   "cell_type": "markdown",
   "id": "580311e5-f0e1-4ba5-b0cd-8a9143dc5be5",
   "metadata": {},
   "source": [
    "## Test AFL rinse trigger"
   ]
  },
  {
   "cell_type": "code",
   "execution_count": 39,
   "id": "f335f6fa-31fe-4dba-bd88-351097870a7c",
   "metadata": {},
   "outputs": [],
   "source": [
    "sampleid = str(uuid.uuid4())"
   ]
  },
  {
   "cell_type": "code",
   "execution_count": 40,
   "id": "0029f3d2-da02-464c-b963-8f78f0064370",
   "metadata": {},
   "outputs": [
    {
     "data": {
      "text/plain": [
       "'aede8428-8897-4def-a6e5-087cb2c85b21'"
      ]
     },
     "execution_count": 40,
     "metadata": {},
     "output_type": "execute_result"
    }
   ],
   "source": [
    "sampleid"
   ]
  },
  {
   "cell_type": "code",
   "execution_count": 41,
   "id": "8e3a4b7f-d072-4450-9787-ed177468978a",
   "metadata": {},
   "outputs": [],
   "source": [
    "ip = '127.0.0.1'\n",
    "url = f'http://{ip}:5000/check_usaxs_status'\n",
    "data = {'id':sampleid}"
   ]
  },
  {
   "cell_type": "code",
   "execution_count": 42,
   "id": "4eda6fa1-45a6-4059-9380-620f8b218050",
   "metadata": {},
   "outputs": [],
   "source": [
    "r = requests.post(url, json = data)"
   ]
  },
  {
   "cell_type": "code",
   "execution_count": 43,
   "id": "44909278-6c24-4214-a577-06f08f423094",
   "metadata": {},
   "outputs": [
    {
     "data": {
      "text/plain": [
       "<Response [200]>"
      ]
     },
     "execution_count": 43,
     "metadata": {},
     "output_type": "execute_result"
    }
   ],
   "source": [
    "r"
   ]
  },
  {
   "cell_type": "code",
   "execution_count": 44,
   "id": "d73bc380-1349-4fd9-b58b-7c5a8025c02e",
   "metadata": {},
   "outputs": [
    {
     "data": {
      "text/plain": [
       "b'{\\n  \"data_files\": [\\n    \"USAXS-Precursor_background_noTEOS-1.csv\",\\n    \"USAXS-test-2.csv\",\\n    \"TEsting_emptydata_aede8428-8897-4def-a6e5-087cb2c85b21.txt\",\\n    \"USAXS-Ethanol_background_2-Ethanol.csv\",\\n    \"USAXS-Control2-3.csv\",\\n    \"WAXS-Control2-3.csv\",\\n    \"WAXS-Ethanol_background_2-Ethanol.csv\",\\n    \"USAXS-Control_3-3.csv\",\\n    \"WAXS-test-2.csv\",\\n    \"WAXS-Control1-2.csv\",\\n    \"USAXS-Control1-2.csv\",\\n    \"WAXS-Ethanol_background-Ethanol.csv\",\\n    \"WAXS-Control_3-3.csv\",\\n    \"USAXS-Ethanol_background-Ethanol.csv\",\\n    \"WAXS-Precursor_background_noTEOS-1.csv\"\\n  ],\\n  \"usaxs_status\": \"complete\"\\n}\\n'"
      ]
     },
     "execution_count": 44,
     "metadata": {},
     "output_type": "execute_result"
    }
   ],
   "source": [
    "r.content"
   ]
  },
  {
   "cell_type": "code",
   "execution_count": null,
   "id": "e6ee6822-4a8e-4a11-8c93-513c5905d92d",
   "metadata": {},
   "outputs": [],
   "source": []
  }
 ],
 "metadata": {
  "kernelspec": {
   "display_name": "Python 3 (ipykernel)",
   "language": "python",
   "name": "python3"
  },
  "language_info": {
   "codemirror_mode": {
    "name": "ipython",
    "version": 3
   },
   "file_extension": ".py",
   "mimetype": "text/x-python",
   "name": "python",
   "nbconvert_exporter": "python",
   "pygments_lexer": "ipython3",
   "version": "3.12.7"
  }
 },
 "nbformat": 4,
 "nbformat_minor": 5
}
