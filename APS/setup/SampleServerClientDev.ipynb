{
 "cells": [
  {
   "cell_type": "code",
   "execution_count": 3,
   "id": "3081a9be-e8ee-4fac-bb7c-b8c402e836f5",
   "metadata": {},
   "outputs": [],
   "source": [
    "%load_ext autoreload\n",
    "%autoreload 2"
   ]
  },
  {
   "cell_type": "code",
   "execution_count": 41,
   "id": "823d9435-6477-4003-b890-c080a02b6c4a",
   "metadata": {},
   "outputs": [
    {
     "ename": "ModuleNotFoundError",
     "evalue": "No module named 'science_jubilee'",
     "output_type": "error",
     "traceback": [
      "\u001b[0;31m---------------------------------------------------------------------------\u001b[0m",
      "\u001b[0;31mModuleNotFoundError\u001b[0m                       Traceback (most recent call last)",
      "Cell \u001b[0;32mIn[41], line 5\u001b[0m\n\u001b[1;32m      3\u001b[0m \u001b[38;5;28;01mimport\u001b[39;00m \u001b[38;5;21;01mjson\u001b[39;00m\n\u001b[1;32m      4\u001b[0m \u001b[38;5;66;03m#from sample_utilities import samples\u001b[39;00m\n\u001b[0;32m----> 5\u001b[0m \u001b[38;5;28;01mimport\u001b[39;00m \u001b[38;5;21;01mstober_synthesis_utils\u001b[39;00m \u001b[38;5;28;01mas\u001b[39;00m \u001b[38;5;21;01mstober\u001b[39;00m\n\u001b[1;32m      8\u001b[0m \u001b[38;5;28;01mimport\u001b[39;00m \u001b[38;5;21;01mnumpy\u001b[39;00m \u001b[38;5;28;01mas\u001b[39;00m \u001b[38;5;21;01mnp\u001b[39;00m\n\u001b[1;32m      9\u001b[0m \u001b[38;5;28;01mfrom\u001b[39;00m \u001b[38;5;21;01msaxs_data_processing\u001b[39;00m \u001b[38;5;28;01mimport\u001b[39;00m io, manipulate, target_comparison, subtract, sasview_fitting\n",
      "File \u001b[0;32m~/Code/silica-np-synthesis/stober_synthesis_utils.py:3\u001b[0m\n\u001b[1;32m      1\u001b[0m \u001b[38;5;28;01mimport\u001b[39;00m \u001b[38;5;21;01mrequests\u001b[39;00m\n\u001b[1;32m      2\u001b[0m \u001b[38;5;28;01mimport\u001b[39;00m \u001b[38;5;21;01mpandas\u001b[39;00m \u001b[38;5;28;01mas\u001b[39;00m \u001b[38;5;21;01mpd\u001b[39;00m\n\u001b[0;32m----> 3\u001b[0m \u001b[38;5;28;01mfrom\u001b[39;00m \u001b[38;5;21;01mscience_jubilee\u001b[39;00m \u001b[38;5;28;01mimport\u001b[39;00m Machine \u001b[38;5;28;01mas\u001b[39;00m science_jubilee\n\u001b[1;32m      4\u001b[0m \u001b[38;5;28;01mfrom\u001b[39;00m \u001b[38;5;21;01mscience_jubilee\u001b[39;00m\u001b[38;5;21;01m.\u001b[39;00m\u001b[38;5;21;01mtools\u001b[39;00m \u001b[38;5;28;01mimport\u001b[39;00m HTTPSyringe \u001b[38;5;28;01mas\u001b[39;00m syringe\n\u001b[1;32m      5\u001b[0m \u001b[38;5;28;01mfrom\u001b[39;00m \u001b[38;5;21;01mscience_jubilee\u001b[39;00m\u001b[38;5;21;01m.\u001b[39;00m\u001b[38;5;21;01mtools\u001b[39;00m \u001b[38;5;28;01mimport\u001b[39;00m Pipette\n",
      "\u001b[0;31mModuleNotFoundError\u001b[0m: No module named 'science_jubilee'"
     ]
    }
   ],
   "source": [
    "import requests\n",
    "import pandas as pd\n",
    "import json\n",
    "#from sample_utilities import samples\n",
    "#import stober_synthesis_utils as stober\n",
    "\n",
    "\n",
    "import numpy as np\n",
    "from saxs_data_processing import io, manipulate, target_comparison, subtract, sasview_fitting\n",
    "import matplotlib.pyplot as plt\n"
   ]
  },
  {
   "cell_type": "markdown",
   "id": "c2a8bb55-4823-45b2-b022-7970db9ed5f2",
   "metadata": {},
   "source": [
    "## Next sample testing"
   ]
  },
  {
   "cell_type": "code",
   "execution_count": null,
   "id": "81cd2fc9-201f-4a0c-93f6-40533208e977",
   "metadata": {},
   "outputs": [],
   "source": []
  },
  {
   "cell_type": "code",
   "execution_count": 3,
   "id": "59eadc75-e34c-4b79-82ef-3af560464fe8",
   "metadata": {},
   "outputs": [],
   "source": [
    "# get proposed next sample from server in volume fractions\n",
    "url = 'http://127.0.0.1:5000/get_proposed_candidates'\n",
    "r = requests.get(url)"
   ]
  },
  {
   "cell_type": "code",
   "execution_count": 20,
   "id": "51431c93-8361-4d7a-998f-8a7ceb6239d3",
   "metadata": {},
   "outputs": [],
   "source": [
    "candidates = r.json()"
   ]
  },
  {
   "cell_type": "code",
   "execution_count": 23,
   "id": "0ef4ae70-343f-417f-bbb9-b9b5a873e2ec",
   "metadata": {},
   "outputs": [],
   "source": [
    "candidate_samples = [cand['id'] for cand in candidates]"
   ]
  },
  {
   "cell_type": "code",
   "execution_count": 24,
   "id": "86f37fa0-0de3-44e6-af04-a077af0428c4",
   "metadata": {},
   "outputs": [
    {
     "data": {
      "text/plain": [
       "['fa77b3b1-98d1-454a-b9ad-0fa2d1587d90']"
      ]
     },
     "execution_count": 24,
     "metadata": {},
     "output_type": "execute_result"
    }
   ],
   "source": [
    "synthesized_samples"
   ]
  },
  {
   "cell_type": "code",
   "execution_count": 25,
   "id": "9366cfdd-838f-412d-8801-d03bbb657585",
   "metadata": {},
   "outputs": [],
   "source": [
    "# check if sample already synthesized:\n",
    "with open('APS/synthesized_samples.txt', 'rt') as f:\n",
    "    synthesized_samples = [line.rstrip() for line in f]"
   ]
  },
  {
   "cell_type": "code",
   "execution_count": 26,
   "id": "797b6feb-2ca7-401c-b211-8ffcb6a48c96",
   "metadata": {},
   "outputs": [],
   "source": [
    "unmade_samples = []\n",
    "for candidate in candidate_samples:\n",
    "    if candidate not in synthesized_samples:\n",
    "        unmade_samples.append(candidate)"
   ]
  },
  {
   "cell_type": "code",
   "execution_count": 27,
   "id": "cdfc8520-a6e3-483e-af03-c75872e676c3",
   "metadata": {},
   "outputs": [
    {
     "data": {
      "text/plain": [
       "['fa77b3b1-98d1-454a-b9ad-0fa2d1587d90']"
      ]
     },
     "execution_count": 27,
     "metadata": {},
     "output_type": "execute_result"
    }
   ],
   "source": [
    "unmade_samples"
   ]
  },
  {
   "cell_type": "code",
   "execution_count": 4,
   "id": "199054d6-85f6-4bb5-984c-8be0e0471ed9",
   "metadata": {},
   "outputs": [],
   "source": [
    "candidate_volfracs = r.json()\n",
    "\n",
    "teos_vol_frac = candidate_volfracs['teos_vf']\n",
    "ethanol_vol_frac = candidate_volfracs['ethanol_vf']\n",
    "ammonia_vol_frac = candidate_volfracs['ammonia_vf']\n",
    "water_vol_frac = candidate_volfracs['water_vf']\n",
    "ctab_mass_conc = candidate_volfracs['ctab_mass']\n",
    "f127_mass_conc = candidate_volfracs['f127_mass']"
   ]
  },
  {
   "cell_type": "code",
   "execution_count": null,
   "id": "d69937ba-6f22-4c00-b3a5-8018be645703",
   "metadata": {},
   "outputs": [],
   "source": []
  },
  {
   "cell_type": "code",
   "execution_count": 5,
   "id": "73c6e266-5661-4195-8ca1-74ec56b58045",
   "metadata": {},
   "outputs": [],
   "source": [
    "with open('APS/Mesoporous_consants_APS.json', 'rt') as f:\n",
    "    constants = json.load(f)"
   ]
  },
  {
   "cell_type": "code",
   "execution_count": 6,
   "id": "0b31309a-818f-4b34-b48c-ce57749dc742",
   "metadata": {},
   "outputs": [],
   "source": [
    "target_volume = 10000"
   ]
  },
  {
   "cell_type": "code",
   "execution_count": 7,
   "id": "97866e5c-1328-4ac2-9858-122a5d8cc577",
   "metadata": {},
   "outputs": [],
   "source": [
    "sample = samples.MesoporousSample(target_volume, 'APS/Mesoporous_consants_APS.json', teos_vol_frac=teos_vol_frac, ammonia_vol_frac=ammonia_vol_frac, water_vol_frac=water_vol_frac, ethanol_vol_frac=ethanol_vol_frac, ctab_mass=ctab_mass_conc, f127_mass=f127_mass_conc)"
   ]
  },
  {
   "cell_type": "code",
   "execution_count": 8,
   "id": "4f1682a5-6ac3-4686-ba22-e5e5698b6746",
   "metadata": {},
   "outputs": [
    {
     "name": "stdout",
     "output_type": "stream",
     "text": [
      "20271.13030721668\n"
     ]
    }
   ],
   "source": [
    "sample.calculate_reactant_volumes()"
   ]
  },
  {
   "cell_type": "code",
   "execution_count": 9,
   "id": "183d9392-200e-4d84-a533-22deb4d4427f",
   "metadata": {},
   "outputs": [
    {
     "data": {
      "text/plain": [
       "7266.651606849911"
      ]
     },
     "execution_count": 9,
     "metadata": {},
     "output_type": "execute_result"
    }
   ],
   "source": [
    "sample.ammonia_volume"
   ]
  },
  {
   "cell_type": "code",
   "execution_count": 10,
   "id": "c3d4c09e-9504-445c-bf88-58dbddfe29ab",
   "metadata": {},
   "outputs": [],
   "source": [
    "composition_dict = {\n",
    "    'teos_volume':sample.teos_volume,\n",
    "    'ammonia_volume':sample.ammonia_volume,\n",
    "    'water_volume':sample.water_volume,\n",
    "    'ethanol_volume':sample.ethanol_volume,\n",
    "    'ctab_volume':sample.ctab_volume,\n",
    "    'f127_volume':sample.f127_volume\n",
    "}\n"
   ]
  },
  {
   "cell_type": "code",
   "execution_count": 11,
   "id": "f6c7389d-c3f5-43f2-a176-b942abcf0a2d",
   "metadata": {},
   "outputs": [
    {
     "data": {
      "text/plain": [
       "{'teos_volume': 23961.84643399741,\n",
       " 'ammonia_volume': 7266.651606849911,\n",
       " 'water_volume': -462100.10958654486,\n",
       " 'ethanol_volume': -20085.21510357986,\n",
       " 'ctab_volume': 345500.6992364677,\n",
       " 'f127_volume': 118694.23949062653}"
      ]
     },
     "execution_count": 11,
     "metadata": {},
     "output_type": "execute_result"
    }
   ],
   "source": [
    "composition_dict"
   ]
  },
  {
   "cell_type": "code",
   "execution_count": 7,
   "id": "c959bf07-0449-4b16-b3eb-2d6cf71ff16e",
   "metadata": {},
   "outputs": [
    {
     "name": "stdout",
     "output_type": "stream",
     "text": [
      "Multiple samples proposed: {'a170e436-31ca-4c54-b2db-fdd24656491a': {'ammonia_vf': 0.4856307091532047, 'ap_distance': None, 'ctab_mass': 0.8209155282800259, 'ethanol_vf': 0.9818360779058918, 'f127_mass': 0.9405127225825316, 'id': 'a170e436-31ca-4c54-b2db-fdd24656491a', 'sample_order': 4, 'scattering_fp': None, 'status': 'proposed', 'teos_vf': 0.26258516951168187, 'water_vf': 0.5124985547683957}, 'b0d0c386-0d23-4a4c-a4f9-610947d74181': {'ammonia_vf': 0.9296956645293045, 'ap_distance': None, 'ctab_mass': 0.31745541696032076, 'ethanol_vf': 0.8279989583724159, 'f127_mass': 0.7261850422729071, 'id': 'b0d0c386-0d23-4a4c-a4f9-610947d74181', 'sample_order': 5, 'scattering_fp': None, 'status': 'proposed', 'teos_vf': 0.6115540332113789, 'water_vf': 0.18989837998369707}}\n",
      "13841.993755300402\n"
     ]
    },
    {
     "data": {
      "text/plain": [
       "('a170e436-31ca-4c54-b2db-fdd24656491a',\n",
       " {'teos_volume': 7483.677331082933,\n",
       "  'ammonia_volume': 13840.475210866334,\n",
       "  'water_volume': -730254.577822173,\n",
       "  'ethanol_volume': -4023.6329762414844,\n",
       "  'ctab_volume': 547277.0188533505,\n",
       "  'f127_volume': 188102.5445165063})"
      ]
     },
     "execution_count": 7,
     "metadata": {},
     "output_type": "execute_result"
    }
   ],
   "source": [
    "stober.get_next_sample('APS/Mesoporous_consants_APS.json', 'APS/systemconfig.json', 'APS/synthesized_samples.txt')"
   ]
  },
  {
   "cell_type": "markdown",
   "id": "5140976a-cdb7-4e4d-b8b2-6e11622665c5",
   "metadata": {
    "jp-MarkdownHeadingCollapsed": true
   },
   "source": [
    "## Figure out mesoporous processing pipeline\n",
    "\n",
    "smoke test with some mesoporous MAXS data. Not sure if we will need to merge at APS"
   ]
  },
  {
   "cell_type": "code",
   "execution_count": 3,
   "id": "d4af92c7-81d5-44a0-b6d0-fa37e2f6b47b",
   "metadata": {},
   "outputs": [],
   "source": [
    "background_fp = '/mnt/c/Users/bgpel/My Drive/Research/PozzoResearchGroup/Stober_synthesis/SAXS_data/2025_03_22_MesoporousVolumeTesting/04214_G7-T2_Ethanol_background_000.dat'\n",
    "data_fp = '/mnt/c/Users/bgpel/My Drive/Research/PozzoResearchGroup/Stober_synthesis/SAXS_data/2025_03_22_MesoporousVolumeTesting/04233_H5-T2_5cc4_actually_000.dat'\n"
   ]
  },
  {
   "cell_type": "code",
   "execution_count": 52,
   "id": "1c88983b-d510-47ff-a07b-90d053b77890",
   "metadata": {},
   "outputs": [],
   "source": [
    "# q range to consider up to and including spline fit step\n",
    "q_min_subtract = 0.002\n",
    "q_max_subtract = 0.035\n",
    "\n",
    "# q range to interpolate spline fit on and perform distance metric calculation with\n",
    "q_min_spl = 0.003\n",
    "\n",
    "n_interpolate_gridpts = 1001 # number of grid points to interpolate q on.\n",
    "\n",
    "\n",
    "# hi q /low q split for analysis\n",
    "q_split_hilo = 0.02\n",
    "q_max_spl = q_split_hilo"
   ]
  },
  {
   "cell_type": "code",
   "execution_count": 53,
   "id": "d677b485-cb5f-4427-aa0c-678fcb7e7b1f",
   "metadata": {},
   "outputs": [],
   "source": [
    "# calculate target data "
   ]
  },
  {
   "cell_type": "code",
   "execution_count": 54,
   "id": "a31b7fe8-08fd-4bad-b4e3-6bb09e57834a",
   "metadata": {},
   "outputs": [],
   "source": [
    "target_r_nm = 350\n",
    "target_r_angs = target_r_nm*10\n",
    "target_pdi = 0.08\n",
    "sld_silica = 8.575\n",
    "sld_etoh = 9.611"
   ]
  },
  {
   "cell_type": "code",
   "execution_count": 55,
   "id": "a3bc2fde-ae4d-4854-98f1-85f3c6862faa",
   "metadata": {},
   "outputs": [],
   "source": [
    "# SavGol denoise filter parameters\n",
    "savgol_n = 15\n",
    "savgol_order = 3\n",
    "# minimum data length - data with less than ~100 data points is due to valid data selection step in subtraction and is likley too noisy to do anything with.\n",
    "min_data_len = 100\n",
    "\n",
    "# spline fit parameters\n",
    "s = 0.05\n",
    "k = 3\n",
    "\n",
    "#scale parameters\n",
    "n_avg = 100\n",
    "\n",
    "# Amplitude-phase distance parameters\n",
    "optim = \"DP\"\n",
    "grid_dim = 10\n",
    "\n",
    "amplitude_weight = 0.1"
   ]
  },
  {
   "cell_type": "code",
   "execution_count": 56,
   "id": "6f053d1f-32da-4aa6-97ae-9b770f172424",
   "metadata": {},
   "outputs": [],
   "source": [
    "q_grid = np.linspace(np.log10(q_min_spl), np.log10(q_max_spl), n_interpolate_gridpts)\n",
    "\n",
    "q_grid_nonlog = 10**q_grid\n",
    "target_I = target_comparison.target_intensities(q_grid_nonlog, target_r_angs, target_pdi, sld_silica, sld_etoh)\n",
    "target_I = np.log10(target_I)"
   ]
  },
  {
   "cell_type": "code",
   "execution_count": 57,
   "id": "9e5cdc7d-f583-4aed-ab88-cc8a30ebaf9f",
   "metadata": {},
   "outputs": [
    {
     "data": {
      "image/png": "[encoded data removed]",
      "text/plain": [
       "<Figure size 640x480 with 1 Axes>"
      ]
     },
     "metadata": {},
     "output_type": "display_data"
    }
   ],
   "source": [
    "fig, ax = plt.subplots()\n",
    "ax.loglog(10**q_grid, 10**target_I)\n",
    "ax.set_xlabel('q [1/A]')\n",
    "#ax.set_title('120nm, 0.08 PDI target scattering')\n",
    "plt.tight_layout()"
   ]
  },
  {
   "cell_type": "code",
   "execution_count": 58,
   "id": "c6c1297e-246a-47e8-866d-f9a3f83265c5",
   "metadata": {},
   "outputs": [],
   "source": [
    "# load data and background"
   ]
  },
  {
   "cell_type": "code",
   "execution_count": 59,
   "id": "b457fc58-0e5a-400f-8af4-1b91156a82c4",
   "metadata": {},
   "outputs": [],
   "source": [
    "data = io.read_1D_data(data_fp)\n",
    "background = io.read_1D_data(background_fp)"
   ]
  },
  {
   "cell_type": "code",
   "execution_count": null,
   "id": "2b5f90c1-bcdf-4f49-8004-eec42a3f9e4c",
   "metadata": {},
   "outputs": [],
   "source": []
  },
  {
   "cell_type": "code",
   "execution_count": 60,
   "id": "2a4f3330-609f-4925-925f-87927e2d7b3c",
   "metadata": {},
   "outputs": [],
   "source": [
    "# subtract"
   ]
  },
  {
   "cell_type": "code",
   "execution_count": 61,
   "id": "79246b5f-01ec-4e5c-ae49-203e2cdc1825",
   "metadata": {},
   "outputs": [
    {
     "name": "stderr",
     "output_type": "stream",
     "text": [
      "/home/bgpelkie/Code/saxs_data_processing/src/saxs_data_processing/subtract.py:124: UserWarning: No hiq lim satisfying threshold found, setting value to q max\n",
      "  warnings.warn(\"No hiq lim satisfying threshold found, setting value to q max\")\n"
     ]
    }
   ],
   "source": [
    "subtracted = subtract.chop_subtract(data[0], background[0], hiq_thresh=1)"
   ]
  },
  {
   "cell_type": "code",
   "execution_count": 62,
   "id": "471fe17d-6fb8-41f2-9512-4e450ceb0e2d",
   "metadata": {},
   "outputs": [],
   "source": [
    "subtracted = subtracted[subtracted['q'] < q_max_subtract]\n",
    "subtracted = subtracted[~subtracted['I'].isna()]\n",
    "subtracted = subtracted[subtracted['I'] > 0] # drop negative values "
   ]
  },
  {
   "cell_type": "code",
   "execution_count": 63,
   "id": "fa6eb9ff-b5cf-4db9-88c8-8fb231c67f21",
   "metadata": {},
   "outputs": [],
   "source": [
    "# Split q at point"
   ]
  },
  {
   "cell_type": "code",
   "execution_count": 64,
   "id": "2ed22366-d0ef-43d7-9902-f05d50daa689",
   "metadata": {},
   "outputs": [],
   "source": [
    "subtracted_loq = subtracted[subtracted['q'] < q_split_hilo]\n",
    "subtracted_hiq = subtracted[subtracted['q'] > q_split_hilo]"
   ]
  },
  {
   "cell_type": "code",
   "execution_count": 67,
   "id": "2607e1b7-b320-44d6-bc06-2bf2620ea497",
   "metadata": {},
   "outputs": [],
   "source": [
    "# Spline fit for AP dist on lo q"
   ]
  },
  {
   "cell_type": "code",
   "execution_count": 69,
   "id": "9f30f61c-f3e8-4a80-ba1d-efae22105545",
   "metadata": {},
   "outputs": [
    {
     "name": "stdout",
     "output_type": "stream",
     "text": [
      "-0.6254945412899899\n",
      "-1.0639926142302658\n",
      "593\n"
     ]
    }
   ],
   "source": [
    "q_log = np.log10(subtracted_loq['q'].to_numpy())\n",
    "I_log = np.log10(subtracted_loq['I'].to_numpy())\n",
    "\n",
    "I_savgol = manipulate.denoise_intensity(I_log, savgol_n = savgol_n, savgol_order = savgol_order)\n",
    "I_spline = manipulate.fit_interpolate_spline(q_log, I_savgol, q_grid, s = s, k = k)\n",
    "\n",
    "# scale onto target \n",
    "I_scaled = manipulate.scale_intensity_highqavg(I_spline, target_I, n_avg = n_avg)"
   ]
  },
  {
   "cell_type": "code",
   "execution_count": 13,
   "id": "fb54371c-35d6-443c-80d6-adaa5f701706",
   "metadata": {},
   "outputs": [],
   "source": [
    "# ap-distance for low q"
   ]
  },
  {
   "cell_type": "code",
   "execution_count": 71,
   "id": "420ee784-e3bf-4587-9eaf-8e01f71cab59",
   "metadata": {},
   "outputs": [],
   "source": [
    "amplitude, phase = target_comparison.ap_distance(q_grid, I_scaled, target_I, optim = optim, grid_dim = grid_dim)"
   ]
  },
  {
   "cell_type": "code",
   "execution_count": 72,
   "id": "1667420e-0e3b-4812-9276-86ef5bb750bc",
   "metadata": {},
   "outputs": [
    {
     "data": {
      "text/plain": [
       "np.float64(1.1169619884456718)"
      ]
     },
     "execution_count": 72,
     "metadata": {},
     "output_type": "execute_result"
    }
   ],
   "source": [
    "amplitude"
   ]
  },
  {
   "cell_type": "code",
   "execution_count": 73,
   "id": "72f8cc72-6e92-45fd-9dcd-9b405540bbb3",
   "metadata": {},
   "outputs": [
    {
     "data": {
      "text/plain": [
       "np.float64(0.9360451605774398)"
      ]
     },
     "execution_count": 73,
     "metadata": {},
     "output_type": "execute_result"
    }
   ],
   "source": [
    "phase"
   ]
  },
  {
   "cell_type": "code",
   "execution_count": 70,
   "id": "267a5bde-6dd0-45c1-84b8-2c27ee5e31c7",
   "metadata": {},
   "outputs": [
    {
     "data": {
      "text/plain": [
       "<matplotlib.collections.PathCollection at 0x7f07bc8f6240>"
      ]
     },
     "execution_count": 70,
     "metadata": {},
     "output_type": "execute_result"
    },
    {
     "data": {
      "image/png": "[encoded data removed]",
      "text/plain": [
       "<Figure size 640x480 with 1 Axes>"
      ]
     },
     "metadata": {},
     "output_type": "display_data"
    }
   ],
   "source": [
    "plt.scatter(q_grid, I_scaled)\n",
    "plt.scatter(q_grid, target_I)"
   ]
  },
  {
   "cell_type": "code",
   "execution_count": null,
   "id": "da6c9b27-00d9-4862-ac1c-20e716abdbb9",
   "metadata": {},
   "outputs": [],
   "source": [
    "# integrate high q"
   ]
  },
  {
   "cell_type": "code",
   "execution_count": 77,
   "id": "6d3b757c-ca7e-4cde-8ee9-ff60a57e2ca6",
   "metadata": {},
   "outputs": [],
   "source": [
    "hiq_peak = np.trapezoid(subtracted_hiq['I'], x = subtracted_hiq['q'])"
   ]
  },
  {
   "cell_type": "code",
   "execution_count": 78,
   "id": "9e2fbf1b-4dc4-4697-b78d-a7fa82fb3aba",
   "metadata": {},
   "outputs": [
    {
     "data": {
      "text/plain": [
       "np.float64(0.00020831270984632389)"
      ]
     },
     "execution_count": 78,
     "metadata": {},
     "output_type": "execute_result"
    }
   ],
   "source": [
    "hiq_peak"
   ]
  },
  {
   "cell_type": "code",
   "execution_count": 75,
   "id": "a6b43cb7-b059-4804-b8a6-65a49c691c82",
   "metadata": {},
   "outputs": [
    {
     "data": {
      "text/plain": [
       "[<matplotlib.lines.Line2D at 0x7f07bc8feb70>]"
      ]
     },
     "execution_count": 75,
     "metadata": {},
     "output_type": "execute_result"
    },
    {
     "data": {
      "image/png": "[encoded data removed]",
      "text/plain": [
       "<Figure size 640x480 with 1 Axes>"
      ]
     },
     "metadata": {},
     "output_type": "display_data"
    }
   ],
   "source": [
    "plt.loglog(subtracted_hiq['q'], subtracted_hiq['I'])"
   ]
  },
  {
   "cell_type": "code",
   "execution_count": 46,
   "id": "b8e01d69-2cdc-4e0d-8d3b-f2455fd93ed3",
   "metadata": {},
   "outputs": [
    {
     "data": {
      "text/plain": [
       "<matplotlib.collections.PathCollection at 0x7f07bc8fcdd0>"
      ]
     },
     "execution_count": 46,
     "metadata": {},
     "output_type": "execute_result"
    },
    {
     "data": {
      "image/png": "[encoded data removed]",
      "text/plain": [
       "<Figure size 640x480 with 1 Axes>"
      ]
     },
     "metadata": {},
     "output_type": "display_data"
    }
   ],
   "source": [
    "fig, ax = plt.subplots()\n",
    "\n",
    "ax.scatter(q_grid_loq, I_loq)\n",
    "ax.scatter(q_grid_hiq, I_hiq)"
   ]
  },
  {
   "cell_type": "code",
   "execution_count": null,
   "id": "6c896bd5-55cb-4e70-b3e6-2aa9745a3052",
   "metadata": {},
   "outputs": [],
   "source": []
  },
  {
   "cell_type": "markdown",
   "id": "57f32ff9-8795-4c4b-8899-11e8f6ff50b2",
   "metadata": {},
   "source": [
    "## Test out served workflow\n"
   ]
  },
  {
   "cell_type": "code",
   "execution_count": 81,
   "id": "2940a725-b411-48fc-a40f-b90998d435cd",
   "metadata": {},
   "outputs": [],
   "source": [
    "# get next sample\n",
    "\n",
    "url = 'http://127.0.0.1:5000/propose_new_candidates'\n",
    "r = requests.get(url)"
   ]
  },
  {
   "cell_type": "code",
   "execution_count": 82,
   "id": "df3fd8ea-33c0-43c4-8072-d4ee6e32c679",
   "metadata": {},
   "outputs": [
    {
     "data": {
      "text/plain": [
       "<Response [200]>"
      ]
     },
     "execution_count": 82,
     "metadata": {},
     "output_type": "execute_result"
    }
   ],
   "source": []
  },
  {
   "cell_type": "code",
   "execution_count": 83,
   "id": "953519ca-dc11-4d3d-8b04-bad00a1ec971",
   "metadata": {},
   "outputs": [],
   "source": [
    "url = 'http://127.0.0.1:5000/get_proposed_candidates'\n",
    "r = requests.get(url)"
   ]
  },
  {
   "cell_type": "code",
   "execution_count": 85,
   "id": "addb8abd-a403-485d-919e-a5ed1858c272",
   "metadata": {},
   "outputs": [
    {
     "data": {
      "text/plain": [
       "b'[\\n  {\\n    \"ammonia_vf\": 0.2904223899209424,\\n    \"amplitude_distance\": null,\\n    \"background_fp\": null,\\n    \"ctab_mass\": 0.04048002783200744,\\n    \"ethanol_vf\": 0.5049085615376188,\\n    \"f127_mass\": 0.20383578896611798,\\n    \"hiq_peak\": null,\\n    \"id\": \"51cb7eae-5ff4-4c1c-8066-a60971f7f6e6\",\\n    \"phase_distance\": null,\\n    \"sample_order\": 1,\\n    \"scattering_fp\": null,\\n    \"status\": \"proposed\",\\n    \"teos_vf\": 0.5937569721051884,\\n    \"water_vf\": 0.09605360864173018\\n  }\\n]\\n'"
      ]
     },
     "execution_count": 85,
     "metadata": {},
     "output_type": "execute_result"
    }
   ],
   "source": [
    "r.content"
   ]
  },
  {
   "cell_type": "markdown",
   "id": "2cf24c7c-6f5e-454a-bb6d-ba49433ea2c8",
   "metadata": {},
   "source": [
    "### upload background"
   ]
  },
  {
   "cell_type": "code",
   "execution_count": 95,
   "id": "6b1a371d-0e25-49ee-9881-5384d1c3f20f",
   "metadata": {},
   "outputs": [],
   "source": [
    "url = 'http://127.0.0.1:5000/upload_background'\n",
    "file_path = '/mnt/c/Users/bgpel/My Drive/Research/PozzoResearchGroup/Stober_synthesis/SAXS_data/2025_03_22_MesoporousVolumeTesting/04214_G7-T2_Ethanol_background_000.dat'\n",
    "\n",
    "\n",
    "with open(file_path, 'rb') as f:\n",
    "    files = {'file':f}\n",
    "    data = {'id':'bckg'}\n",
    "    response = requests.post(url, files = files, json = data)"
   ]
  },
  {
   "cell_type": "code",
   "execution_count": 96,
   "id": "94175d5b-534e-4211-8d8c-0440214101cc",
   "metadata": {},
   "outputs": [
    {
     "data": {
      "text/plain": [
       "b'{\\n  \"file_path\": \"background/04214_G7-T2_Ethanol_background_000.dat\",\\n  \"message\": \"Background file uploaded successfully\"\\n}\\n'"
      ]
     },
     "execution_count": 96,
     "metadata": {},
     "output_type": "execute_result"
    }
   ],
   "source": [
    "response.content"
   ]
  },
  {
   "cell_type": "markdown",
   "id": "be77a490-6c5d-4598-8796-38fe5e7c1fde",
   "metadata": {},
   "source": [
    "### submit data for new sample"
   ]
  },
  {
   "cell_type": "code",
   "execution_count": 97,
   "id": "9493a8d5-da7f-4828-ae25-e4a2f059c64c",
   "metadata": {},
   "outputs": [],
   "source": [
    "sample_id = r.json()[0]['id']"
   ]
  },
  {
   "cell_type": "code",
   "execution_count": 98,
   "id": "89d99aac-bffc-4614-834b-a85d9deb4528",
   "metadata": {},
   "outputs": [
    {
     "data": {
      "text/plain": [
       "'51cb7eae-5ff4-4c1c-8066-a60971f7f6e6'"
      ]
     },
     "execution_count": 98,
     "metadata": {},
     "output_type": "execute_result"
    }
   ],
   "source": [
    "sample_id"
   ]
  },
  {
   "cell_type": "code",
   "execution_count": 172,
   "id": "f71dccfb-4cea-4f47-a4f6-cf01af5999bd",
   "metadata": {},
   "outputs": [],
   "source": [
    "\n",
    "url = 'http://127.0.0.1:5000/update_data'\n",
    "background_filename = '/mnt/c/Users/bgpel/My Drive/Research/PozzoResearchGroup/Stober_synthesis/SAXS_data/2025_03_22_MesoporousVolumeTesting/04214_G7-T2_Ethanol_background_000.dat'\n",
    "data_fp = '/mnt/c/Users/bgpel/My Drive/Research/PozzoResearchGroup/Stober_synthesis/SAXS_data/2025_03_22_MesoporousVolumeTesting/04233_H5-T2_5cc4_actually_000.dat'\n",
    "json_data = {'id':sample_id, 'background_filename':background_filename, 'status':'unprocessed'}\n",
    "\n",
    "with open(data_fp, 'rb') as f:\n",
    "    files = {'data_file': f}\n",
    "    data = {'data': json.dumps(json_data)}\n",
    "    response = requests.post(url, files=files, data=data)"
   ]
  },
  {
   "cell_type": "code",
   "execution_count": 173,
   "id": "06767ea6-3d59-4d9e-9e01-7a08e869494d",
   "metadata": {},
   "outputs": [
    {
     "data": {
      "text/plain": [
       "b'{\\n  \"data\": {\\n    \"background_filename\": \"/mnt/c/Users/bgpel/My Drive/Research/PozzoResearchGroup/Stober_synthesis/SAXS_data/2025_03_22_MesoporousVolumeTesting/04214_G7-T2_Ethanol_background_000.dat\",\\n    \"background_fp\": \"/mnt/c/Users/bgpel/My Drive/Research/PozzoResearchGroup/Stober_synthesis/SAXS_data/2025_03_22_MesoporousVolumeTesting/04214_G7-T2_Ethanol_background_000.dat\",\\n    \"id\": \"51cb7eae-5ff4-4c1c-8066-a60971f7f6e6\",\\n    \"status\": \"unprocessed\"\\n  },\\n  \"file_path\": \"data/04233_H5-T2_5cc4_actually_000.dat\",\\n  \"message\": \"Sample updated successfully\"\\n}\\n'"
      ]
     },
     "execution_count": 173,
     "metadata": {},
     "output_type": "execute_result"
    }
   ],
   "source": [
    "response.content"
   ]
  },
  {
   "cell_type": "markdown",
   "id": "cf757bed-f2eb-4a97-a48b-ae640ec4dd1d",
   "metadata": {},
   "source": [
    "### run processing"
   ]
  },
  {
   "cell_type": "code",
   "execution_count": 180,
   "id": "0331dc0a-07c1-4c9a-817c-e89f954e68df",
   "metadata": {},
   "outputs": [],
   "source": [
    "url = 'http://127.0.0.1:5000/process_data'\n",
    "r = requests.get(url)"
   ]
  },
  {
   "cell_type": "code",
   "execution_count": 178,
   "id": "69877e67-fa48-4d24-aa97-659ad9f0f8c7",
   "metadata": {},
   "outputs": [
    {
     "data": {
      "text/plain": [
       "<Response [200]>"
      ]
     },
     "execution_count": 178,
     "metadata": {},
     "output_type": "execute_result"
    }
   ],
   "source": [
    "r"
   ]
  },
  {
   "cell_type": "code",
   "execution_count": 179,
   "id": "2a06eb72-5329-4fa3-9f7b-27eff23a35c1",
   "metadata": {},
   "outputs": [
    {
     "data": {
      "text/plain": [
       "b'{\\n  \"message\": \"Data processing started\",\\n  \"task_id\": \"ebce8a0a-429c-49d9-9be2-51b2272812bf\"\\n}\\n'"
      ]
     },
     "execution_count": 179,
     "metadata": {},
     "output_type": "execute_result"
    }
   ],
   "source": [
    "r.content"
   ]
  },
  {
   "cell_type": "code",
   "execution_count": 160,
   "id": "12526181-0f53-4d53-92ef-1d3325a6867f",
   "metadata": {},
   "outputs": [],
   "source": [
    "with open('/home/bgpelkie/Code/silica-np-synthesis/APS/systemconfig.json', 'r') as f:\n",
    "    config = json.load(f)"
   ]
  },
  {
   "cell_type": "code",
   "execution_count": 162,
   "id": "44d5532b-9b88-467f-a919-f82517a7562f",
   "metadata": {},
   "outputs": [
    {
     "data": {
      "text/plain": [
       "{'q_min_subtract': 0.002,\n",
       " 'q_max_subtract': 0.035,\n",
       " 'q_min_spl': 0.003,\n",
       " 'n_interpolate_gridpts': 1001,\n",
       " 'q_split_hilo': 0.02,\n",
       " 'target_r_nm': 350,\n",
       " 'target_pdi': 0.08,\n",
       " 'sld_silica': 8.575,\n",
       " 'sld_ethanol': 9.611,\n",
       " 'savgol_n': 15,\n",
       " 'savgol_order': 3,\n",
       " 'min_data_len': 100,\n",
       " 'spline_s': 0.05,\n",
       " 'spline_k': 3,\n",
       " 'scale_n_avg': 100,\n",
       " 'apdist_optim': 'DP',\n",
       " 'apdist_grid_dim': 10}"
      ]
     },
     "execution_count": 162,
     "metadata": {},
     "output_type": "execute_result"
    }
   ],
   "source": [
    "config['processing_constants']"
   ]
  },
  {
   "cell_type": "code",
   "execution_count": 181,
   "id": "488a8a57-5dd0-4dd4-9177-082e9fd8ea7f",
   "metadata": {},
   "outputs": [],
   "source": [
    "url = 'http://127.0.0.1:5000/get_sample'\n",
    "data = {'id':'51cb7eae-5ff4-4c1c-8066-a60971f7f6e6'}\n",
    "r = requests.post(url, json = data)"
   ]
  },
  {
   "cell_type": "code",
   "execution_count": 182,
   "id": "4cc0465d-b610-497d-addb-5401f158543a",
   "metadata": {},
   "outputs": [
    {
     "data": {
      "text/plain": [
       "<Response [200]>"
      ]
     },
     "execution_count": 182,
     "metadata": {},
     "output_type": "execute_result"
    }
   ],
   "source": [
    "r"
   ]
  },
  {
   "cell_type": "code",
   "execution_count": 183,
   "id": "638d0d92-728d-48fa-b039-8ea1fc84945e",
   "metadata": {},
   "outputs": [
    {
     "data": {
      "text/plain": [
       "b'[\\n  {\\n    \"ammonia_vf\": 0.2904223899209424,\\n    \"amplitude_distance\": 1.116961988445672,\\n    \"background_fp\": \"/mnt/c/Users/bgpel/My Drive/Research/PozzoResearchGroup/Stober_synthesis/SAXS_data/2025_03_22_MesoporousVolumeTesting/04214_G7-T2_Ethanol_background_000.dat\",\\n    \"ctab_mass\": 0.04048002783200744,\\n    \"ethanol_vf\": 0.5049085615376188,\\n    \"f127_mass\": 0.20383578896611798,\\n    \"hiq_peak\": 0.00020831270984632389,\\n    \"id\": \"51cb7eae-5ff4-4c1c-8066-a60971f7f6e6\",\\n    \"phase_distance\": 0.9360451605774398,\\n    \"sample_order\": 1,\\n    \"scattering_fp\": \"data/04233_H5-T2_5cc4_actually_000.dat\",\\n    \"status\": \"processed\",\\n    \"teos_vf\": 0.5937569721051884,\\n    \"water_vf\": 0.09605360864173018\\n  }\\n]\\n'"
      ]
     },
     "execution_count": 183,
     "metadata": {},
     "output_type": "execute_result"
    }
   ],
   "source": [
    "r.content"
   ]
  },
  {
   "cell_type": "code",
   "execution_count": 48,
   "id": "f288b373-0812-419e-bb31-c1fbfd109516",
   "metadata": {},
   "outputs": [],
   "source": [
    "url = 'http://127.0.0.1:5000/dump_to_csv'\n",
    "r = requests.get(url)"
   ]
  },
  {
   "cell_type": "markdown",
   "id": "409b48cb-fcc3-47b5-a371-bd842cc54f13",
   "metadata": {},
   "source": [
    "## Full integration testing"
   ]
  },
  {
   "cell_type": "code",
   "execution_count": 1,
   "id": "7eb0dfcb-8f4f-4177-a038-2d0fb264f02c",
   "metadata": {},
   "outputs": [],
   "source": [
    "# make sobol samples"
   ]
  },
  {
   "cell_type": "code",
   "execution_count": 36,
   "id": "eed1b2b8-92f6-411b-9e9e-c2e0d60b9438",
   "metadata": {},
   "outputs": [],
   "source": [
    "url = 'http://127.0.0.1:5000/generate_sobol_baseline'\n",
    "r = requests.get(url)"
   ]
  },
  {
   "cell_type": "code",
   "execution_count": 37,
   "id": "07ed0ef8-b629-4130-af2d-dd550180bfbe",
   "metadata": {},
   "outputs": [
    {
     "data": {
      "text/plain": [
       "<Response [200]>"
      ]
     },
     "execution_count": 37,
     "metadata": {},
     "output_type": "execute_result"
    }
   ],
   "source": [
    "r"
   ]
  },
  {
   "cell_type": "code",
   "execution_count": 38,
   "id": "c8a8fcda-e4c6-46f8-a27c-312ca1a40408",
   "metadata": {},
   "outputs": [
    {
     "data": {
      "text/plain": [
       "b'{\\n  \"message\": \"Sobol baseline samples generated\"\\n}\\n'"
      ]
     },
     "execution_count": 38,
     "metadata": {},
     "output_type": "execute_result"
    }
   ],
   "source": [
    "r.content"
   ]
  },
  {
   "cell_type": "code",
   "execution_count": 86,
   "id": "c3176f38-99c7-43ea-9995-965ffd2f1ecf",
   "metadata": {},
   "outputs": [],
   "source": [
    "url = 'http://127.0.0.1:5000/get_proposed_candidates'\n",
    "r = requests.get(url)"
   ]
  },
  {
   "cell_type": "code",
   "execution_count": 87,
   "id": "7461cfc2-f7d8-4187-8c09-5a7224584ddf",
   "metadata": {},
   "outputs": [
    {
     "data": {
      "text/plain": [
       "b'[\\n  {\\n    \"ammonia_vf\": 0.10000000149011612,\\n    \"amplitude_distance\": null,\\n    \"background_fp\": null,\\n    \"ctab_mass\": 0.004999999888241291,\\n    \"ethanol_vf\": 0.004999999888241291,\\n    \"f127_mass\": 0.10000000149011612,\\n    \"hiq_peak\": null,\\n    \"id\": \"415f942f-453b-4814-9a60-4d378ff69c3a\",\\n    \"phase_distance\": null,\\n    \"sample_order\": 35,\\n    \"scattering_fp\": null,\\n    \"status\": \"proposed\",\\n    \"teos_vf\": 0.10000000149011612,\\n    \"water_vf\": 0.6899999380111694\\n  }\\n]\\n'"
      ]
     },
     "execution_count": 87,
     "metadata": {},
     "output_type": "execute_result"
    }
   ],
   "source": [
    "r.content"
   ]
  },
  {
   "cell_type": "code",
   "execution_count": 88,
   "id": "28f3da6a-d9b7-4e15-8d4c-945313ae6372",
   "metadata": {},
   "outputs": [],
   "source": [
    "proposed_samples = r.json()"
   ]
  },
  {
   "cell_type": "code",
   "execution_count": 89,
   "id": "b15fb92d-c2e0-469c-8559-fa05f6bac61e",
   "metadata": {},
   "outputs": [
    {
     "data": {
      "text/plain": [
       "[{'ammonia_vf': 0.10000000149011612,\n",
       "  'amplitude_distance': None,\n",
       "  'background_fp': None,\n",
       "  'ctab_mass': 0.004999999888241291,\n",
       "  'ethanol_vf': 0.004999999888241291,\n",
       "  'f127_mass': 0.10000000149011612,\n",
       "  'hiq_peak': None,\n",
       "  'id': '415f942f-453b-4814-9a60-4d378ff69c3a',\n",
       "  'phase_distance': None,\n",
       "  'sample_order': 35,\n",
       "  'scattering_fp': None,\n",
       "  'status': 'proposed',\n",
       "  'teos_vf': 0.10000000149011612,\n",
       "  'water_vf': 0.6899999380111694}]"
      ]
     },
     "execution_count": 89,
     "metadata": {},
     "output_type": "execute_result"
    }
   ],
   "source": [
    "proposed_samples"
   ]
  },
  {
   "cell_type": "code",
   "execution_count": 79,
   "id": "c8b79d69-09d6-4d82-a3fe-e022a2bd7544",
   "metadata": {},
   "outputs": [],
   "source": [
    "for sample in proposed_samples:\n",
    "    url = 'http://127.0.0.1:5000/update_data'\n",
    "    background_filename = '/mnt/c/Users/bgpel/My Drive/Research/PozzoResearchGroup/Stober_synthesis/SAXS_data/2025_03_22_MesoporousVolumeTesting/04214_G7-T2_Ethanol_background_000.dat'\n",
    "    data_fp = '/mnt/c/Users/bgpel/My Drive/Research/PozzoResearchGroup/Stober_synthesis/SAXS_data/2025_03_22_MesoporousVolumeTesting/04233_H5-T2_5cc4_actually_000.dat'\n",
    "    json_data = {'id':sample['id'], 'background_filename':background_filename, 'status':'unprocessed'}\n",
    "    \n",
    "    with open(data_fp, 'rb') as f:\n",
    "        files = {'data_file': f}\n",
    "        data = {'data': json.dumps(json_data)}\n",
    "        response = requests.post(url, files=files, data=data)\n",
    "        "
   ]
  },
  {
   "cell_type": "code",
   "execution_count": 80,
   "id": "3102bdf9-c208-4e33-a975-c54e37154fe6",
   "metadata": {},
   "outputs": [
    {
     "data": {
      "text/plain": [
       "<Response [200]>"
      ]
     },
     "execution_count": 80,
     "metadata": {},
     "output_type": "execute_result"
    }
   ],
   "source": [
    "response"
   ]
  },
  {
   "cell_type": "code",
   "execution_count": 81,
   "id": "ee1cef78-3aa1-40d1-b077-5032e7643520",
   "metadata": {},
   "outputs": [],
   "source": [
    "url = 'http://127.0.0.1:5000/process_data'\n",
    "r = requests.get(url)"
   ]
  },
  {
   "cell_type": "code",
   "execution_count": 49,
   "id": "da1a98df-fdc0-4a4a-a2a4-d504df5ab990",
   "metadata": {},
   "outputs": [
    {
     "data": {
      "text/plain": [
       "<Response [200]>"
      ]
     },
     "execution_count": 49,
     "metadata": {},
     "output_type": "execute_result"
    }
   ],
   "source": [
    "r"
   ]
  },
  {
   "cell_type": "code",
   "execution_count": 84,
   "id": "82ee1448-e073-458b-a4ba-6c0f12b672b9",
   "metadata": {},
   "outputs": [],
   "source": [
    "url = 'http://127.0.0.1:5000/propose_new_candidates'\n",
    "r = requests.get(url)"
   ]
  },
  {
   "cell_type": "code",
   "execution_count": 85,
   "id": "12a79368-3836-4795-ace3-10d8c2c568d0",
   "metadata": {},
   "outputs": [
    {
     "data": {
      "text/plain": [
       "<Response [200]>"
      ]
     },
     "execution_count": 85,
     "metadata": {},
     "output_type": "execute_result"
    }
   ],
   "source": [
    "r"
   ]
  },
  {
   "cell_type": "code",
   "execution_count": 67,
   "id": "f122b25b-858f-4e91-b71b-cfe77c03258d",
   "metadata": {},
   "outputs": [],
   "source": [
    "import torch"
   ]
  },
  {
   "cell_type": "code",
   "execution_count": 72,
   "id": "65ce2405-26c5-4231-8648-37a1fc2e5b11",
   "metadata": {},
   "outputs": [
    {
     "data": {
      "text/plain": [
       "0.004999999888241291"
      ]
     },
     "execution_count": 72,
     "metadata": {},
     "output_type": "execute_result"
    }
   ],
   "source": [
    "float(torch.tensor([[0.0050, 0.0050, 0.1000, 0.1000, 0.0050]])[0][4])"
   ]
  },
  {
   "cell_type": "code",
   "execution_count": null,
   "id": "028db2db-d02c-4fe1-9efd-222dd9f31bfb",
   "metadata": {},
   "outputs": [],
   "source": []
  }
 ],
 "metadata": {
  "kernelspec": {
   "display_name": "Python 3 (ipykernel)",
   "language": "python",
   "name": "python3"
  },
  "language_info": {
   "codemirror_mode": {
    "name": "ipython",
    "version": 3
   },
   "file_extension": ".py",
   "mimetype": "text/x-python",
   "name": "python",
   "nbconvert_exporter": "python",
   "pygments_lexer": "ipython3",
   "version": "3.12.7"
  }
 },
 "nbformat": 4,
 "nbformat_minor": 5
}
