{
 "cells": [
  {
   "cell_type": "markdown",
   "id": "110d0499-187d-47cb-b3bd-52e828f810d0",
   "metadata": {},
   "source": [
    "## Setup"
   ]
  },
  {
   "cell_type": "code",
   "execution_count": 1,
   "id": "023a9737-b2dd-4151-af0b-67ea2aeb7386",
   "metadata": {},
   "outputs": [],
   "source": [
    "%load_ext autoreload\n",
    "%autoreload 2"
   ]
  },
  {
   "cell_type": "code",
   "execution_count": 2,
   "id": "a8305f4f-98d9-46aa-b3a5-aef3875465c8",
   "metadata": {},
   "outputs": [],
   "source": [
    "import requests\n",
    "\n",
    "# ----------- Science Jubilee -------------\n",
    "from science_jubilee import Machine as Jub\n",
    "from science_jubilee.tools import HTTPSyringe as syringe\n",
    "from science_jubilee.tools import Pipette\n",
    "from science_jubilee.utils import Handlers\n",
    "import time\n",
    "import numpy as np\n",
    "import pandas as pd\n",
    "import logging\n",
    "import sys\n",
    "sys.path.append('..')\n",
    "import stober_synthesis_utils as stober"
   ]
  },
  {
   "cell_type": "code",
   "execution_count": 3,
   "id": "39e0dd27-900a-4151-ad77-cae178e545d7",
   "metadata": {},
   "outputs": [],
   "source": [
    "FORMAT = '%(asctime)s:%(levelname)s:%(name)s:%(message)s'\n",
    "logging.basicConfig(filename = '2024_10_10_random3try2.log', level = logging.INFO, format = FORMAT)\n",
    "logger = logging.getLogger(__name__)"
   ]
  },
  {
   "cell_type": "code",
   "execution_count": 4,
   "id": "bb05bc51-e88d-493a-b7ae-ec244bab05d1",
   "metadata": {
    "scrolled": true
   },
   "outputs": [],
   "source": [
    "jubilee = Jub.Machine(address='192.168.1.2', simulated = False, crash_detection = False) "
   ]
  },
  {
   "cell_type": "code",
   "execution_count": 8,
   "id": "8c90cdc0-c96e-48c3-972a-03b11576bdc1",
   "metadata": {
    "scrolled": true
   },
   "outputs": [],
   "source": [
    "#jubilee.home_all()\n",
    "logger.info('Homed Jubilee')"
   ]
  },
  {
   "cell_type": "code",
   "execution_count": 5,
   "id": "7dd1d29b-638a-4d85-9cf3-986931deae0f",
   "metadata": {},
   "outputs": [],
   "source": [
    "deck = jubilee.load_deck('lab_automation_deck_AFL_bolton.json')"
   ]
  },
  {
   "cell_type": "code",
   "execution_count": 6,
   "id": "d2505692-e098-4cf7-954a-b2ac9d91e06f",
   "metadata": {},
   "outputs": [],
   "source": [
    "sample_table = pd.read_csv('SampleTable_2024_11_04_OptimizationRound1.csv')"
   ]
  },
  {
   "cell_type": "code",
   "execution_count": 7,
   "id": "9b530793-b2a2-4f5d-9825-b4d8c2028d96",
   "metadata": {},
   "outputs": [
    {
     "data": {
      "text/plain": [
       "{'teos_count': 1, 'ammonia_count': 1, 'water_count': 1, 'ethanol_count': 3}"
      ]
     },
     "execution_count": 7,
     "metadata": {},
     "output_type": "execute_result"
    }
   ],
   "source": [
    "stober.count_stock_vials(sample_table, 15000)"
   ]
  },
  {
   "cell_type": "code",
   "execution_count": 8,
   "id": "dd237516-a73b-4981-8a1a-1f17979c9dac",
   "metadata": {},
   "outputs": [
    {
     "data": {
      "text/plain": [
       "3.23776509296149"
      ]
     },
     "execution_count": 8,
     "metadata": {},
     "output_type": "execute_result"
    }
   ],
   "source": [
    "sample_table['ethanol_volume'].sum()/10000"
   ]
  },
  {
   "cell_type": "markdown",
   "id": "b8f140ff-c5f8-494d-bd58-093982edd086",
   "metadata": {},
   "source": [
    "## Load Tools"
   ]
  },
  {
   "cell_type": "code",
   "execution_count": 9,
   "id": "d73bac24-917c-4c8c-8c30-494146511312",
   "metadata": {},
   "outputs": [],
   "source": [
    "syringe_10 = syringe.HTTPSyringe.from_config(1, \"../../science-jubilee/src/science_jubilee/tools/configs/10cc_syringe.json\")\n",
    "syringe_1_1 = syringe.HTTPSyringe.from_config(2, \"../../science-jubilee/src/science_jubilee/tools/configs/1cc_1_syringe.json\")\n",
    "syringe_1_2 = syringe.HTTPSyringe.from_config(3, \"../../science-jubilee/src/science_jubilee/tools/configs/1cc_2_syringe.json\")\n",
    "syringe_1_3 = syringe.HTTPSyringe.from_config(4, \"../../science-jubilee/src/science_jubilee/tools/configs/1cc_3_syringe.json\")"
   ]
  },
  {
   "cell_type": "code",
   "execution_count": 10,
   "id": "9448524a-f60e-43fd-ae53-0a51c87e6035",
   "metadata": {
    "scrolled": true
   },
   "outputs": [],
   "source": [
    "jubilee.load_tool(syringe_10)\n",
    "jubilee.load_tool(syringe_1_1)\n",
    "jubilee.load_tool(syringe_1_2)\n",
    "jubilee.load_tool(syringe_1_3)"
   ]
  },
  {
   "cell_type": "code",
   "execution_count": 11,
   "id": "21127bbe-632c-4ec0-84f9-57d9772a90db",
   "metadata": {},
   "outputs": [],
   "source": [
    "mix_syringe = syringe_10\n",
    "water_syringe = syringe_1_1\n",
    "ammonia_syringe = syringe_1_2\n",
    "teos_syringe = syringe_1_3"
   ]
  },
  {
   "cell_type": "markdown",
   "id": "e1d880ae-d253-43f5-995f-d2619e29c78a",
   "metadata": {},
   "source": [
    "## Load water syringe with water"
   ]
  },
  {
   "cell_type": "code",
   "execution_count": 61,
   "id": "c2c5387a-b52d-4fd9-97b4-c69ae21a0c12",
   "metadata": {},
   "outputs": [
    {
     "name": "stdout",
     "output_type": "stream",
     "text": [
      "Loaded syringe, remaining volume 600 uL\n"
     ]
    }
   ],
   "source": [
    "water_syringe.load_syringe(600, 1500)"
   ]
  },
  {
   "cell_type": "code",
   "execution_count": 62,
   "id": "de905209-1c7b-49f5-8d35-1fd8092ec72f",
   "metadata": {
    "scrolled": true
   },
   "outputs": [],
   "source": [
    "water_syringe.set_pulsewidth(water_syringe.empty_position-1, s = 2000)"
   ]
  },
  {
   "cell_type": "code",
   "execution_count": 64,
   "id": "3ded8ddd-1034-4679-804b-1a9d6d47b3b6",
   "metadata": {},
   "outputs": [],
   "source": [
    "water_syringe.set_pulsewidth(water_syringe.full_position+1, s = 10)"
   ]
  },
  {
   "cell_type": "code",
   "execution_count": 65,
   "id": "1bb6d726-e6f0-435e-916a-717d8231ed4d",
   "metadata": {},
   "outputs": [],
   "source": [
    "water_syringe.set_pulsewidth(water_syringe.full_position+150, s = 500)"
   ]
  },
  {
   "cell_type": "code",
   "execution_count": 66,
   "id": "80aff25d-bae2-478d-bc07-4b4f11bd5e05",
   "metadata": {},
   "outputs": [
    {
     "name": "stdout",
     "output_type": "stream",
     "text": [
      "Loaded syringe, remaining volume 750 uL\n"
     ]
    }
   ],
   "source": [
    "water_syringe.load_syringe(750, water_syringe.full_position+150)"
   ]
  },
  {
   "cell_type": "markdown",
   "id": "8ea5df3b-0ad5-4dbb-ad3f-089a2d5f2bd1",
   "metadata": {},
   "source": [
    "## Load ammonia syringe"
   ]
  },
  {
   "cell_type": "code",
   "execution_count": 67,
   "id": "87a366e4-d389-4830-b923-0a932968add9",
   "metadata": {},
   "outputs": [],
   "source": [
    "ammonia_syringe.set_pulsewidth(1420, s = 10)"
   ]
  },
  {
   "cell_type": "code",
   "execution_count": 68,
   "id": "2577d8b0-b404-4e92-8480-89ecc9cfb9cb",
   "metadata": {},
   "outputs": [
    {
     "name": "stdout",
     "output_type": "stream",
     "text": [
      "Loaded syringe, remaining volume 600 uL\n"
     ]
    }
   ],
   "source": [
    "ammonia_syringe.load_syringe(600, 1500)"
   ]
  },
  {
   "cell_type": "code",
   "execution_count": 69,
   "id": "73b9205b-4f97-47a7-aad4-cb252a6726ec",
   "metadata": {},
   "outputs": [],
   "source": [
    "ammonia_syringe.set_pulsewidth(ammonia_syringe.empty_position-1, s = 2000)"
   ]
  },
  {
   "cell_type": "code",
   "execution_count": 70,
   "id": "5fe25b32-0448-49fc-8d48-210e01e293b1",
   "metadata": {},
   "outputs": [],
   "source": [
    "ammonia_syringe.set_pulsewidth(ammonia_syringe.full_position+1, s = 10)"
   ]
  },
  {
   "cell_type": "code",
   "execution_count": 71,
   "id": "e0d5f7c9-883e-48d6-86bf-a30bc8698332",
   "metadata": {},
   "outputs": [],
   "source": [
    "ammonia_syringe.set_pulsewidth(ammonia_syringe.full_position+350, s = 500)"
   ]
  },
  {
   "cell_type": "code",
   "execution_count": 72,
   "id": "b5be2527-8c06-4465-8e44-41f410149cd7",
   "metadata": {},
   "outputs": [
    {
     "name": "stdout",
     "output_type": "stream",
     "text": [
      "Loaded syringe, remaining volume 370 uL\n"
     ]
    }
   ],
   "source": [
    "ammonia_syringe.load_syringe(370, ammonia_syringe.full_position+350)"
   ]
  },
  {
   "cell_type": "markdown",
   "id": "e2c53ecf-d14a-4536-8062-9e7af8c51ba8",
   "metadata": {},
   "source": [
    "## Load TEOS syringe"
   ]
  },
  {
   "cell_type": "code",
   "execution_count": 73,
   "id": "639af747-f1f2-4294-849d-bb1661cd5c85",
   "metadata": {},
   "outputs": [
    {
     "name": "stdout",
     "output_type": "stream",
     "text": [
      "Loaded syringe, remaining volume 600 uL\n"
     ]
    }
   ],
   "source": [
    "teos_syringe.load_syringe(600, 1500)"
   ]
  },
  {
   "cell_type": "code",
   "execution_count": 74,
   "id": "c0f31c8b-1651-4872-806b-3dc1a8e208f2",
   "metadata": {},
   "outputs": [],
   "source": [
    "teos_syringe.set_pulsewidth(teos_syringe.empty_position-1, s = 2000)"
   ]
  },
  {
   "cell_type": "code",
   "execution_count": 75,
   "id": "b8f45e72-b019-41fe-b413-6b1e132edbee",
   "metadata": {},
   "outputs": [],
   "source": [
    "teos_syringe.set_pulsewidth(teos_syringe.full_position+1, s = 100)"
   ]
  },
  {
   "cell_type": "code",
   "execution_count": 76,
   "id": "1c9e3fdf-8999-4d1f-97ca-018afe8e8edd",
   "metadata": {},
   "outputs": [],
   "source": [
    "teos_syringe.set_pulsewidth(teos_syringe.full_position+200, s = 200)"
   ]
  },
  {
   "cell_type": "code",
   "execution_count": 77,
   "id": "cf5154eb-2d59-4bd8-90c2-86c3374a662d",
   "metadata": {},
   "outputs": [
    {
     "name": "stdout",
     "output_type": "stream",
     "text": [
      "Loaded syringe, remaining volume 690 uL\n"
     ]
    }
   ],
   "source": [
    "teos_syringe.load_syringe(690, teos_syringe.full_position+200)"
   ]
  },
  {
   "cell_type": "markdown",
   "id": "ad1ac96b-3d53-4da1-aa2c-a8c2386280f8",
   "metadata": {},
   "source": [
    "## load ethanol syringe"
   ]
  },
  {
   "cell_type": "code",
   "execution_count": 71,
   "id": "f1caaf1a-900c-43ed-a57b-754b0d62aa37",
   "metadata": {},
   "outputs": [],
   "source": [
    "#jubilee.park_tool()"
   ]
  },
  {
   "cell_type": "code",
   "execution_count": 78,
   "id": "6002eb8f-07a3-4c63-b6e6-ee4e3775b39e",
   "metadata": {},
   "outputs": [
    {
     "name": "stdout",
     "output_type": "stream",
     "text": [
      "Loaded syringe, remaining volume 0 uL\n"
     ]
    }
   ],
   "source": [
    "mix_syringe.load_syringe(0, mix_syringe.empty_position-1)"
   ]
  },
  {
   "cell_type": "code",
   "execution_count": 81,
   "id": "75d8f923-d8ff-4368-a589-7481a4f4f1bb",
   "metadata": {},
   "outputs": [],
   "source": [
    "mix_syringe.set_pulsewidth(mix_syringe.empty_position-1, s = 2000)\n"
   ]
  },
  {
   "cell_type": "code",
   "execution_count": 82,
   "id": "534ef3b4-9c24-4bcf-acbf-ac7d63225c9c",
   "metadata": {},
   "outputs": [],
   "source": [
    "mix_syringe.set_pulsewidth(mix_syringe.full_position+1, s = 10)"
   ]
  },
  {
   "cell_type": "code",
   "execution_count": 104,
   "id": "96d9a53e-24a0-4595-bb69-db89483176ce",
   "metadata": {},
   "outputs": [
    {
     "data": {
      "text/plain": [
       "1830"
      ]
     },
     "execution_count": 104,
     "metadata": {},
     "output_type": "execute_result"
    }
   ],
   "source": [
    "mix_syringe.empty_position"
   ]
  },
  {
   "cell_type": "code",
   "execution_count": 83,
   "id": "5a8312cd-872e-49bd-815a-d5968bb6b2ec",
   "metadata": {},
   "outputs": [],
   "source": [
    "mix_syringe.set_pulsewidth(mix_syringe.full_position+400, s = 500)"
   ]
  },
  {
   "cell_type": "code",
   "execution_count": 84,
   "id": "99ad1605-10c8-45a3-80cf-c6adfd7ae6a9",
   "metadata": {},
   "outputs": [
    {
     "name": "stdout",
     "output_type": "stream",
     "text": [
      "Loaded syringe, remaining volume 3300 uL\n"
     ]
    }
   ],
   "source": [
    "mix_syringe.load_syringe(3300, mix_syringe.full_position+400)"
   ]
  },
  {
   "cell_type": "markdown",
   "id": "43d1f97d-4c55-40d3-ac5b-9c3a3f1062ed",
   "metadata": {},
   "source": [
    "## Load labware\n"
   ]
  },
  {
   "cell_type": "code",
   "execution_count": 23,
   "id": "19b4bfa8-6878-4b0b-a564-369faa361b1c",
   "metadata": {
    "scrolled": true
   },
   "outputs": [
    {
     "name": "stdout",
     "output_type": "stream",
     "text": [
      "-0.002139787221987019\n",
      "New manual offset applied to septavialrev1_44_holder_2000ul\n"
     ]
    }
   ],
   "source": [
    "samples = jubilee.load_labware('septavialrev1_44_holder_2000ul.json', 2)\n",
    "samples.manual_offset([(16.5, 171.2), (129.9, 171.2), (130.2, 101.1)])"
   ]
  },
  {
   "cell_type": "code",
   "execution_count": 24,
   "id": "19ad67cc-b0a8-4c1f-8d6a-60b173599c82",
   "metadata": {},
   "outputs": [
    {
     "name": "stdout",
     "output_type": "stream",
     "text": [
      "-0.014809704144652332\n",
      "New manual offset applied to 20mlscintillation_12_wellplate_18000ul\n"
     ]
    }
   ],
   "source": [
    "stocks = jubilee.load_labware('20mlscintillation_12_wellplate_18000ul.json', 4)\n",
    "stocks.manual_offset([(29.2, 260.0),(114.2, 261),(115.2, 205.0)])"
   ]
  },
  {
   "cell_type": "code",
   "execution_count": 25,
   "id": "1ef40a35-9802-4eb3-9a10-16255155b92d",
   "metadata": {},
   "outputs": [],
   "source": [
    "trash = jubilee.load_labware('agilent_1_reservoir_290ml.json', 1)"
   ]
  },
  {
   "cell_type": "code",
   "execution_count": 26,
   "id": "f7395271-1a02-4f11-883f-34a8456f0a05",
   "metadata": {},
   "outputs": [],
   "source": [
    "teos_stocks = [stocks[0]]\n",
    "ammonia_stocks = [stocks[1]]\n",
    "water_stocks = [stocks[2]]\n",
    "ethanol_stocks = [stocks[3], stocks[4], stocks[5], stocks[6], stocks[7], stocks[8]]\n",
    "rinse_stocks = [stocks[9], stocks[10], stocks[11]]"
   ]
  },
  {
   "cell_type": "code",
   "execution_count": 27,
   "id": "ff0249ac-a57e-4fb2-9b2f-6132c6739713",
   "metadata": {},
   "outputs": [
    {
     "data": {
      "text/plain": [
       "171.4426516858021"
      ]
     },
     "execution_count": 27,
     "metadata": {},
     "output_type": "execute_result"
    }
   ],
   "source": [
    "samples['A8'].y"
   ]
  },
  {
   "cell_type": "code",
   "execution_count": 28,
   "id": "265bd171-c7d5-4ca6-84c4-a707d57ef365",
   "metadata": {},
   "outputs": [
    {
     "data": {
      "text/plain": [
       "101.34217023312605"
      ]
     },
     "execution_count": 28,
     "metadata": {},
     "output_type": "execute_result"
    }
   ],
   "source": [
    "samples['F8'].y"
   ]
  },
  {
   "cell_type": "markdown",
   "id": "4bd30fe3-5be6-4ea7-a61d-357272d3e8a4",
   "metadata": {},
   "source": [
    "## Check sample alignment"
   ]
  },
  {
   "cell_type": "code",
   "execution_count": 66,
   "id": "6341c596-5970-48b4-b3cc-44b5f8d7a9ff",
   "metadata": {},
   "outputs": [
    {
     "name": "stdin",
     "output_type": "stream",
     "text": [
      "Is the tip centered over well? \n",
      "Is the tip centered over well? \n",
      "Is the tip centered over well? \n"
     ]
    },
    {
     "name": "stderr",
     "output_type": "stream",
     "text": [
      "\n",
      "KeyboardInterrupt\n",
      "\n"
     ]
    }
   ],
   "source": [
    "jubilee.pickup_tool(mix_syringe)\n",
    "for well in stocks:\n",
    "    jubilee.move_to(x = well.x, y = well.y)\n",
    "    jubilee.move_to(z = well.top_+7)\n",
    "    ans = input(f'Is the tip centered over well?')\n",
    "    if ans == 'y':\n",
    "        continue\n",
    "    else:\n",
    "        continue"
   ]
  },
  {
   "cell_type": "code",
   "execution_count": 55,
   "id": "25a4d272-6e56-4649-ba7a-5e04e922c043",
   "metadata": {},
   "outputs": [
    {
     "name": "stdin",
     "output_type": "stream",
     "text": [
      "Is the tip centered over sample A1? \n",
      "Is the tip centered over sample A2? \n",
      "Is the tip centered over sample A3? \n",
      "Is the tip centered over sample A4? \n",
      "Is the tip centered over sample A5? \n",
      "Is the tip centered over sample A6? \n",
      "Is the tip centered over sample A7? \n",
      "Is the tip centered over sample A8? \n",
      "Is the tip centered over sample B1? \n",
      "Is the tip centered over sample B3? \n",
      "Is the tip centered over sample B4? \n",
      "Is the tip centered over sample B5? \n",
      "Is the tip centered over sample B6? \n",
      "Is the tip centered over sample B8? \n",
      "Is the tip centered over sample C1? \n",
      "Is the tip centered over sample C2? \n",
      "Is the tip centered over sample C3? \n",
      "Is the tip centered over sample C4? \n",
      "Is the tip centered over sample C5? \n",
      "Is the tip centered over sample C6? \n"
     ]
    }
   ],
   "source": [
    "jubilee.pickup_tool(ammonia_syringe)\n",
    "for i, row in sample_table.iterrows():\n",
    "    loc = samples[row['well']]\n",
    "    jubilee.move_to(x = loc.x, y = loc.y)\n",
    "    jubilee.move_to(z = loc.top_+2)\n",
    "    curr_well = row['well']\n",
    "    ans = input(f'Is the tip centered over sample {curr_well}?')\n",
    "    if ans == 'y':\n",
    "        continue\n",
    "    else:\n",
    "        continue\n",
    "    "
   ]
  },
  {
   "cell_type": "code",
   "execution_count": null,
   "id": "48d38665-e784-41bf-b95c-aab75d4783bd",
   "metadata": {},
   "outputs": [],
   "source": [
    "jubi\n",
    "\n",
    "## also check all 4 tools move to last position correctly"
   ]
  },
  {
   "cell_type": "code",
   "execution_count": 56,
   "id": "a52572b9-48d6-4bf1-acb2-19c7ac5c6fb8",
   "metadata": {},
   "outputs": [],
   "source": [
    "jubilee.park_tool()"
   ]
  },
  {
   "cell_type": "markdown",
   "id": "b9dff3f4-8be6-4f73-b343-6221f8df76dc",
   "metadata": {},
   "source": [
    "# Experiment\n"
   ]
  },
  {
   "cell_type": "code",
   "execution_count": 85,
   "id": "9d770745-931b-42d0-8b40-409a83411619",
   "metadata": {},
   "outputs": [],
   "source": [
    "location_lookup = {row['uuid']:samples[row['well']] for i, row in sample_table.iterrows()}"
   ]
  },
  {
   "cell_type": "code",
   "execution_count": 86,
   "id": "b2a12505-772e-4ca8-8d21-822a400835f9",
   "metadata": {},
   "outputs": [],
   "source": [
    "dilution_table = sample_table.copy()"
   ]
  },
  {
   "cell_type": "code",
   "execution_count": 87,
   "id": "bdd03979-152a-48dd-9d62-b73859c453c4",
   "metadata": {},
   "outputs": [],
   "source": [
    "dilution_table['well'] = dilution_table['dilute_well']"
   ]
  },
  {
   "cell_type": "code",
   "execution_count": 88,
   "id": "701c41f9-1eef-4ed1-ab07-c7b8257ddb96",
   "metadata": {},
   "outputs": [],
   "source": [
    "location_lookup_dilute = {row['uuid']:samples[row['well']] for i, row in dilution_table.iterrows()}"
   ]
  },
  {
   "cell_type": "markdown",
   "id": "e2ddb62c-d3f3-4c45-917a-e575189606c9",
   "metadata": {},
   "source": [
    "## add ethanol"
   ]
  },
  {
   "cell_type": "code",
   "execution_count": 81,
   "id": "759f8c8b-a1b4-4569-ac5f-38fc3d922a43",
   "metadata": {},
   "outputs": [],
   "source": [
    "jubilee.park_tool()"
   ]
  },
  {
   "cell_type": "code",
   "execution_count": 78,
   "id": "4765adc9-c66d-4763-9682-883d0eac18e1",
   "metadata": {},
   "outputs": [
    {
     "data": {
      "text/plain": [
       "3874.4048383731597"
      ]
     },
     "execution_count": 78,
     "metadata": {},
     "output_type": "execute_result"
    }
   ],
   "source": [
    "mix_syringe.remaining_volume"
   ]
  },
  {
   "cell_type": "code",
   "execution_count": 89,
   "id": "0f4144b3-a7f9-4650-886f-054cd544228a",
   "metadata": {},
   "outputs": [],
   "source": [
    "stober.add_reactants_batch(jubilee, mix_syringe, mix_syringe, sample_table, location_lookup, 'ethanol_volume', ethanol_stocks, stocks_usable_volume=15000, dwell_time = 10)"
   ]
  },
  {
   "cell_type": "code",
   "execution_count": 90,
   "id": "7d204157-ed65-4f49-acbc-d192222f0dc6",
   "metadata": {},
   "outputs": [],
   "source": [
    "#dispense remaining volume from etOH mix syringe\n",
    "jubilee.pickup_tool(mix_syringe)\n",
    "mix_syringe.dispense(mix_syringe.remaining_volume-1, trash[0])\n",
    "logger.info('Emptied ethanol syringe into trash')\n",
    "jubilee.park_tool()"
   ]
  },
  {
   "cell_type": "code",
   "execution_count": 91,
   "id": "2fc66aa1-bc70-4098-8e37-f148188c26c6",
   "metadata": {},
   "outputs": [],
   "source": [
    "mix_syringe.set_pulsewidth(mix_syringe.empty_position-1)"
   ]
  },
  {
   "cell_type": "markdown",
   "id": "9e35c96c-2ea8-438a-989d-f6d73c8f16ed",
   "metadata": {},
   "source": [
    "## Dispense water\n"
   ]
  },
  {
   "cell_type": "code",
   "execution_count": 92,
   "id": "9f765450-7f64-49e7-85f8-335e2fa0b666",
   "metadata": {},
   "outputs": [],
   "source": [
    "stober.add_reactants_batch(jubilee, water_syringe, mix_syringe, sample_table, location_lookup, 'water_volume', water_stocks, dwell_time = 7)"
   ]
  },
  {
   "cell_type": "markdown",
   "id": "cd60cc24-167e-46e5-9e73-a2457c8964de",
   "metadata": {},
   "source": [
    "## dispense Ammonia"
   ]
  },
  {
   "cell_type": "code",
   "execution_count": 93,
   "id": "7dc4c2ae-9e4e-40e0-929a-6e0a3e4bc240",
   "metadata": {},
   "outputs": [],
   "source": [
    "stober.add_reactants_batch(jubilee, ammonia_syringe, mix_syringe, sample_table, location_lookup, 'ammonia_volume', ammonia_stocks)"
   ]
  },
  {
   "cell_type": "markdown",
   "id": "bc8a34b3-acd7-4b89-a9ea-34b514cd3d8c",
   "metadata": {},
   "source": [
    "## mix precursors"
   ]
  },
  {
   "cell_type": "code",
   "execution_count": 94,
   "id": "f4f701c5-7908-489e-a1eb-9b2c60438c96",
   "metadata": {},
   "outputs": [],
   "source": [
    "stober.first_mix(jubilee, mix_syringe, 2000, location_lookup, rinse_stocks, 5)"
   ]
  },
  {
   "cell_type": "markdown",
   "id": "000c1369-b5a0-4183-97d4-fced54279516",
   "metadata": {},
   "source": [
    "## Add TEOS and mix"
   ]
  },
  {
   "cell_type": "code",
   "execution_count": 95,
   "id": "85496a20-bb2d-4363-a2c5-41685f0353f9",
   "metadata": {},
   "outputs": [],
   "source": [
    "teos_start_time = time.time()"
   ]
  },
  {
   "cell_type": "code",
   "execution_count": 96,
   "id": "efccb2d6-234a-4af8-a87d-4d904696a48e",
   "metadata": {},
   "outputs": [],
   "source": [
    "stober.add_reactants_batch(jubilee, teos_syringe, mix_syringe, sample_table, location_lookup, 'teos_volume', teos_stocks, mix_after=(2000, 5, rinse_stocks))"
   ]
  },
  {
   "cell_type": "markdown",
   "id": "cf654819-0ae6-452a-bdbe-5f2a008f1b1c",
   "metadata": {},
   "source": [
    "### Dilution"
   ]
  },
  {
   "cell_type": "code",
   "execution_count": 97,
   "id": "5c533083-99a5-4efe-8f99-0bd3b538c394",
   "metadata": {},
   "outputs": [],
   "source": [
    "hrs5 = 60*60*5\n",
    "while (time.time() - teos_start_time) < hrs5:\n",
    "    time.sleep(60)\n",
    "\n",
    "# dispese ethanol into dilution vials\n",
    "stober.add_reactants_batch(jubilee, mix_syringe, mix_syringe, dilution_table, location_lookup_dilute, 'ethanol_dilute_vol', ethanol_stocks[4:], stocks_usable_volume=15000, dwell_time = 10)\n",
    "\n",
    "jubilee.pickup_tool(mix_syringe)\n",
    "rinse_vol = 2000\n",
    "for i, row in dilution_table.iterrows():\n",
    "    uuid_val = row['uuid']\n",
    "    sample_well = location_lookup[uuid_val]\n",
    "    dilute_well = location_lookup_dilute[uuid_val]\n",
    "    vol = row['sample_dilute_vol']\n",
    "    \n",
    "    mix_syringe.aspirate(vol, sample_well.bottom(+5))\n",
    "    time.sleep(10)\n",
    "    mix_syringe.dispense(vol, dilute_well.bottom(+5))\n",
    "    time.sleep(10)\n",
    "    logger.info(f'Transferred {vol} uL from {sample_well} to {dilute_well}')\n",
    "\n",
    "    for stock in rinse_stocks:\n",
    "        mix_syringe.mix(rinse_vol, 5, stock.bottom(+10), t_hold = 3, s_aspirate = 2000, s_dispense = 500)\n",
    "\n",
    "    logger.info(f'Washed mix syringe in wash solutions {rinse_stocks}')\n",
    "\n",
    "    "
   ]
  },
  {
   "cell_type": "code",
   "execution_count": 98,
   "id": "ba89a036-92eb-41eb-8a62-7e9d7ac2c2b5",
   "metadata": {},
   "outputs": [
    {
     "data": {
      "text/html": [
       "<div>\n",
       "<style scoped>\n",
       "    .dataframe tbody tr th:only-of-type {\n",
       "        vertical-align: middle;\n",
       "    }\n",
       "\n",
       "    .dataframe tbody tr th {\n",
       "        vertical-align: top;\n",
       "    }\n",
       "\n",
       "    .dataframe thead th {\n",
       "        text-align: right;\n",
       "    }\n",
       "</style>\n",
       "<table border=\"1\" class=\"dataframe\">\n",
       "  <thead>\n",
       "    <tr style=\"text-align: right;\">\n",
       "      <th></th>\n",
       "      <th>Unnamed: 0</th>\n",
       "      <th>uuid</th>\n",
       "      <th>teos_volume</th>\n",
       "      <th>ammonia_volume</th>\n",
       "      <th>water_volume</th>\n",
       "      <th>ethanol_volume</th>\n",
       "      <th>dilution_volume_fraction</th>\n",
       "      <th>silica_mass_conc</th>\n",
       "      <th>silica_mass_fraction</th>\n",
       "      <th>ethanol_dilute_vol</th>\n",
       "      <th>sample_dilute_vol</th>\n",
       "      <th>well</th>\n",
       "      <th>dilute_well</th>\n",
       "    </tr>\n",
       "  </thead>\n",
       "  <tbody>\n",
       "    <tr>\n",
       "      <th>0</th>\n",
       "      <td>0</td>\n",
       "      <td>f9b8246e-8b80-4955-9560-ada457bad27c</td>\n",
       "      <td>51.404155</td>\n",
       "      <td>27.952415</td>\n",
       "      <td>43.545530</td>\n",
       "      <td>1577.097900</td>\n",
       "      <td>0.531502</td>\n",
       "      <td>8.138741</td>\n",
       "      <td>0.010163</td>\n",
       "      <td>796.0</td>\n",
       "      <td>904.0</td>\n",
       "      <td>A1</td>\n",
       "      <td>C7</td>\n",
       "    </tr>\n",
       "    <tr>\n",
       "      <th>1</th>\n",
       "      <td>1</td>\n",
       "      <td>56faa977-e163-444a-9156-e2fa4f7fe338</td>\n",
       "      <td>20.531058</td>\n",
       "      <td>13.736371</td>\n",
       "      <td>12.098204</td>\n",
       "      <td>1653.634367</td>\n",
       "      <td>1.330736</td>\n",
       "      <td>3.250651</td>\n",
       "      <td>0.004097</td>\n",
       "      <td>0.0</td>\n",
       "      <td>1700.0</td>\n",
       "      <td>A2</td>\n",
       "      <td>C8</td>\n",
       "    </tr>\n",
       "    <tr>\n",
       "      <th>2</th>\n",
       "      <td>2</td>\n",
       "      <td>da8a1479-69d0-45be-b579-65c7a1dfa21b</td>\n",
       "      <td>19.424944</td>\n",
       "      <td>10.564708</td>\n",
       "      <td>11.428266</td>\n",
       "      <td>1658.582082</td>\n",
       "      <td>1.406513</td>\n",
       "      <td>3.075522</td>\n",
       "      <td>0.003878</td>\n",
       "      <td>0.0</td>\n",
       "      <td>1700.0</td>\n",
       "      <td>A3</td>\n",
       "      <td>D1</td>\n",
       "    </tr>\n",
       "    <tr>\n",
       "      <th>3</th>\n",
       "      <td>3</td>\n",
       "      <td>a20c37f0-5b38-4a7c-bee3-d0d3d116c9e0</td>\n",
       "      <td>19.390934</td>\n",
       "      <td>10.795518</td>\n",
       "      <td>14.617081</td>\n",
       "      <td>1655.196466</td>\n",
       "      <td>1.408979</td>\n",
       "      <td>3.070137</td>\n",
       "      <td>0.003870</td>\n",
       "      <td>0.0</td>\n",
       "      <td>1700.0</td>\n",
       "      <td>A4</td>\n",
       "      <td>D2</td>\n",
       "    </tr>\n",
       "    <tr>\n",
       "      <th>4</th>\n",
       "      <td>4</td>\n",
       "      <td>c0c257a6-ec89-4274-8d2a-38b479f2eece</td>\n",
       "      <td>52.695785</td>\n",
       "      <td>9.986298</td>\n",
       "      <td>45.473300</td>\n",
       "      <td>1591.844618</td>\n",
       "      <td>0.518475</td>\n",
       "      <td>8.343243</td>\n",
       "      <td>0.010429</td>\n",
       "      <td>819.0</td>\n",
       "      <td>881.0</td>\n",
       "      <td>A5</td>\n",
       "      <td>D3</td>\n",
       "    </tr>\n",
       "    <tr>\n",
       "      <th>5</th>\n",
       "      <td>5</td>\n",
       "      <td>0ec4dd81-7487-4689-96b9-b0f646a2047d</td>\n",
       "      <td>19.506982</td>\n",
       "      <td>26.607262</td>\n",
       "      <td>44.223148</td>\n",
       "      <td>1609.662609</td>\n",
       "      <td>1.400597</td>\n",
       "      <td>3.088511</td>\n",
       "      <td>0.003870</td>\n",
       "      <td>0.0</td>\n",
       "      <td>1700.0</td>\n",
       "      <td>A6</td>\n",
       "      <td>D4</td>\n",
       "    </tr>\n",
       "    <tr>\n",
       "      <th>6</th>\n",
       "      <td>6</td>\n",
       "      <td>ab43267e-6f46-4c9a-bc6a-ba6240fcb2fb</td>\n",
       "      <td>52.107864</td>\n",
       "      <td>28.135001</td>\n",
       "      <td>45.458031</td>\n",
       "      <td>1574.299103</td>\n",
       "      <td>0.524324</td>\n",
       "      <td>8.250158</td>\n",
       "      <td>0.010298</td>\n",
       "      <td>809.0</td>\n",
       "      <td>891.0</td>\n",
       "      <td>A7</td>\n",
       "      <td>D5</td>\n",
       "    </tr>\n",
       "    <tr>\n",
       "      <th>7</th>\n",
       "      <td>7</td>\n",
       "      <td>23709b8a-dfbe-4f00-b9a7-644344ee10e2</td>\n",
       "      <td>25.873608</td>\n",
       "      <td>9.969554</td>\n",
       "      <td>37.543594</td>\n",
       "      <td>1626.613244</td>\n",
       "      <td>1.055957</td>\n",
       "      <td>4.096529</td>\n",
       "      <td>0.005142</td>\n",
       "      <td>0.0</td>\n",
       "      <td>1700.0</td>\n",
       "      <td>A8</td>\n",
       "      <td>D6</td>\n",
       "    </tr>\n",
       "    <tr>\n",
       "      <th>8</th>\n",
       "      <td>8</td>\n",
       "      <td>74579cb8-62f3-4d9e-8f66-6ca76a8ff53a</td>\n",
       "      <td>29.221116</td>\n",
       "      <td>26.235873</td>\n",
       "      <td>13.323223</td>\n",
       "      <td>1631.219788</td>\n",
       "      <td>0.934989</td>\n",
       "      <td>4.626535</td>\n",
       "      <td>0.005819</td>\n",
       "      <td>111.0</td>\n",
       "      <td>1589.0</td>\n",
       "      <td>B1</td>\n",
       "      <td>D7</td>\n",
       "    </tr>\n",
       "    <tr>\n",
       "      <th>9</th>\n",
       "      <td>9</td>\n",
       "      <td>bfcf29cb-db74-40a1-9d27-911985c3f28f</td>\n",
       "      <td>22.154110</td>\n",
       "      <td>9.392500</td>\n",
       "      <td>9.732500</td>\n",
       "      <td>1658.720890</td>\n",
       "      <td>1.233244</td>\n",
       "      <td>3.507626</td>\n",
       "      <td>0.004423</td>\n",
       "      <td>0.0</td>\n",
       "      <td>1700.0</td>\n",
       "      <td>B3</td>\n",
       "      <td>D8</td>\n",
       "    </tr>\n",
       "    <tr>\n",
       "      <th>10</th>\n",
       "      <td>10</td>\n",
       "      <td>defeadd7-5618-448a-bc01-6cf057fbe1ac</td>\n",
       "      <td>35.841285</td>\n",
       "      <td>10.566234</td>\n",
       "      <td>29.596973</td>\n",
       "      <td>1623.995508</td>\n",
       "      <td>0.762289</td>\n",
       "      <td>5.674696</td>\n",
       "      <td>0.007123</td>\n",
       "      <td>404.0</td>\n",
       "      <td>1296.0</td>\n",
       "      <td>B4</td>\n",
       "      <td>E1</td>\n",
       "    </tr>\n",
       "    <tr>\n",
       "      <th>11</th>\n",
       "      <td>11</td>\n",
       "      <td>81c548b0-7ef9-4ff0-b4e6-8977a3bb8ae4</td>\n",
       "      <td>49.798434</td>\n",
       "      <td>24.267187</td>\n",
       "      <td>34.398978</td>\n",
       "      <td>1591.535401</td>\n",
       "      <td>0.548640</td>\n",
       "      <td>7.884510</td>\n",
       "      <td>0.009864</td>\n",
       "      <td>767.0</td>\n",
       "      <td>933.0</td>\n",
       "      <td>B5</td>\n",
       "      <td>E3</td>\n",
       "    </tr>\n",
       "    <tr>\n",
       "      <th>12</th>\n",
       "      <td>12</td>\n",
       "      <td>82d46018-8a24-4bb2-92b6-b4626d334344</td>\n",
       "      <td>29.227800</td>\n",
       "      <td>12.390800</td>\n",
       "      <td>32.902913</td>\n",
       "      <td>1625.478487</td>\n",
       "      <td>0.934775</td>\n",
       "      <td>4.627593</td>\n",
       "      <td>0.005809</td>\n",
       "      <td>111.0</td>\n",
       "      <td>1589.0</td>\n",
       "      <td>B6</td>\n",
       "      <td>E4</td>\n",
       "    </tr>\n",
       "    <tr>\n",
       "      <th>13</th>\n",
       "      <td>13</td>\n",
       "      <td>ea0d2ca6-8818-45f8-b5e3-04858133284a</td>\n",
       "      <td>49.786062</td>\n",
       "      <td>21.113567</td>\n",
       "      <td>27.615113</td>\n",
       "      <td>1601.485258</td>\n",
       "      <td>0.548777</td>\n",
       "      <td>7.882551</td>\n",
       "      <td>0.009875</td>\n",
       "      <td>767.0</td>\n",
       "      <td>933.0</td>\n",
       "      <td>B8</td>\n",
       "      <td>E5</td>\n",
       "    </tr>\n",
       "    <tr>\n",
       "      <th>14</th>\n",
       "      <td>14</td>\n",
       "      <td>a3e0413e-4e1b-4f07-930b-690692b49c03</td>\n",
       "      <td>34.213890</td>\n",
       "      <td>16.008091</td>\n",
       "      <td>35.121053</td>\n",
       "      <td>1614.656966</td>\n",
       "      <td>0.798548</td>\n",
       "      <td>5.417033</td>\n",
       "      <td>0.006792</td>\n",
       "      <td>342.0</td>\n",
       "      <td>1358.0</td>\n",
       "      <td>C1</td>\n",
       "      <td>E6</td>\n",
       "    </tr>\n",
       "    <tr>\n",
       "      <th>15</th>\n",
       "      <td>15</td>\n",
       "      <td>12720234-74cc-4a1a-9cdc-cad646138159</td>\n",
       "      <td>37.738948</td>\n",
       "      <td>9.392500</td>\n",
       "      <td>9.732500</td>\n",
       "      <td>1643.136052</td>\n",
       "      <td>0.723958</td>\n",
       "      <td>5.975150</td>\n",
       "      <td>0.007523</td>\n",
       "      <td>469.0</td>\n",
       "      <td>1231.0</td>\n",
       "      <td>C2</td>\n",
       "      <td>E8</td>\n",
       "    </tr>\n",
       "    <tr>\n",
       "      <th>16</th>\n",
       "      <td>16</td>\n",
       "      <td>86790201-b18a-4f73-907d-61e0d3d0c114</td>\n",
       "      <td>38.236107</td>\n",
       "      <td>14.646381</td>\n",
       "      <td>27.962611</td>\n",
       "      <td>1619.154902</td>\n",
       "      <td>0.714545</td>\n",
       "      <td>6.053864</td>\n",
       "      <td>0.007597</td>\n",
       "      <td>485.0</td>\n",
       "      <td>1215.0</td>\n",
       "      <td>C3</td>\n",
       "      <td>F1</td>\n",
       "    </tr>\n",
       "    <tr>\n",
       "      <th>17</th>\n",
       "      <td>17</td>\n",
       "      <td>8d373b7d-c3a9-4148-8bcd-46021e36cb01</td>\n",
       "      <td>20.613134</td>\n",
       "      <td>27.369475</td>\n",
       "      <td>34.960157</td>\n",
       "      <td>1617.057234</td>\n",
       "      <td>1.325438</td>\n",
       "      <td>3.263646</td>\n",
       "      <td>0.004094</td>\n",
       "      <td>0.0</td>\n",
       "      <td>1700.0</td>\n",
       "      <td>C4</td>\n",
       "      <td>F2</td>\n",
       "    </tr>\n",
       "    <tr>\n",
       "      <th>18</th>\n",
       "      <td>18</td>\n",
       "      <td>be0d7554-70c4-4a1f-a312-eea5e9ae1e45</td>\n",
       "      <td>42.069674</td>\n",
       "      <td>13.507700</td>\n",
       "      <td>38.020931</td>\n",
       "      <td>1606.401695</td>\n",
       "      <td>0.649433</td>\n",
       "      <td>6.660827</td>\n",
       "      <td>0.008343</td>\n",
       "      <td>596.0</td>\n",
       "      <td>1104.0</td>\n",
       "      <td>C5</td>\n",
       "      <td>F3</td>\n",
       "    </tr>\n",
       "    <tr>\n",
       "      <th>19</th>\n",
       "      <td>19</td>\n",
       "      <td>6791de91-caa6-4665-b50a-a0fcbadffcab</td>\n",
       "      <td>40.470922</td>\n",
       "      <td>23.564773</td>\n",
       "      <td>38.085945</td>\n",
       "      <td>1597.878360</td>\n",
       "      <td>0.675088</td>\n",
       "      <td>6.407699</td>\n",
       "      <td>0.008020</td>\n",
       "      <td>552.0</td>\n",
       "      <td>1148.0</td>\n",
       "      <td>C6</td>\n",
       "      <td>F4</td>\n",
       "    </tr>\n",
       "  </tbody>\n",
       "</table>\n",
       "</div>"
      ],
      "text/plain": [
       "    Unnamed: 0                                  uuid  teos_volume  \\\n",
       "0            0  f9b8246e-8b80-4955-9560-ada457bad27c    51.404155   \n",
       "1            1  56faa977-e163-444a-9156-e2fa4f7fe338    20.531058   \n",
       "2            2  da8a1479-69d0-45be-b579-65c7a1dfa21b    19.424944   \n",
       "3            3  a20c37f0-5b38-4a7c-bee3-d0d3d116c9e0    19.390934   \n",
       "4            4  c0c257a6-ec89-4274-8d2a-38b479f2eece    52.695785   \n",
       "5            5  0ec4dd81-7487-4689-96b9-b0f646a2047d    19.506982   \n",
       "6            6  ab43267e-6f46-4c9a-bc6a-ba6240fcb2fb    52.107864   \n",
       "7            7  23709b8a-dfbe-4f00-b9a7-644344ee10e2    25.873608   \n",
       "8            8  74579cb8-62f3-4d9e-8f66-6ca76a8ff53a    29.221116   \n",
       "9            9  bfcf29cb-db74-40a1-9d27-911985c3f28f    22.154110   \n",
       "10          10  defeadd7-5618-448a-bc01-6cf057fbe1ac    35.841285   \n",
       "11          11  81c548b0-7ef9-4ff0-b4e6-8977a3bb8ae4    49.798434   \n",
       "12          12  82d46018-8a24-4bb2-92b6-b4626d334344    29.227800   \n",
       "13          13  ea0d2ca6-8818-45f8-b5e3-04858133284a    49.786062   \n",
       "14          14  a3e0413e-4e1b-4f07-930b-690692b49c03    34.213890   \n",
       "15          15  12720234-74cc-4a1a-9cdc-cad646138159    37.738948   \n",
       "16          16  86790201-b18a-4f73-907d-61e0d3d0c114    38.236107   \n",
       "17          17  8d373b7d-c3a9-4148-8bcd-46021e36cb01    20.613134   \n",
       "18          18  be0d7554-70c4-4a1f-a312-eea5e9ae1e45    42.069674   \n",
       "19          19  6791de91-caa6-4665-b50a-a0fcbadffcab    40.470922   \n",
       "\n",
       "    ammonia_volume  water_volume  ethanol_volume  dilution_volume_fraction  \\\n",
       "0        27.952415     43.545530     1577.097900                  0.531502   \n",
       "1        13.736371     12.098204     1653.634367                  1.330736   \n",
       "2        10.564708     11.428266     1658.582082                  1.406513   \n",
       "3        10.795518     14.617081     1655.196466                  1.408979   \n",
       "4         9.986298     45.473300     1591.844618                  0.518475   \n",
       "5        26.607262     44.223148     1609.662609                  1.400597   \n",
       "6        28.135001     45.458031     1574.299103                  0.524324   \n",
       "7         9.969554     37.543594     1626.613244                  1.055957   \n",
       "8        26.235873     13.323223     1631.219788                  0.934989   \n",
       "9         9.392500      9.732500     1658.720890                  1.233244   \n",
       "10       10.566234     29.596973     1623.995508                  0.762289   \n",
       "11       24.267187     34.398978     1591.535401                  0.548640   \n",
       "12       12.390800     32.902913     1625.478487                  0.934775   \n",
       "13       21.113567     27.615113     1601.485258                  0.548777   \n",
       "14       16.008091     35.121053     1614.656966                  0.798548   \n",
       "15        9.392500      9.732500     1643.136052                  0.723958   \n",
       "16       14.646381     27.962611     1619.154902                  0.714545   \n",
       "17       27.369475     34.960157     1617.057234                  1.325438   \n",
       "18       13.507700     38.020931     1606.401695                  0.649433   \n",
       "19       23.564773     38.085945     1597.878360                  0.675088   \n",
       "\n",
       "    silica_mass_conc  silica_mass_fraction  ethanol_dilute_vol  \\\n",
       "0           8.138741              0.010163               796.0   \n",
       "1           3.250651              0.004097                 0.0   \n",
       "2           3.075522              0.003878                 0.0   \n",
       "3           3.070137              0.003870                 0.0   \n",
       "4           8.343243              0.010429               819.0   \n",
       "5           3.088511              0.003870                 0.0   \n",
       "6           8.250158              0.010298               809.0   \n",
       "7           4.096529              0.005142                 0.0   \n",
       "8           4.626535              0.005819               111.0   \n",
       "9           3.507626              0.004423                 0.0   \n",
       "10          5.674696              0.007123               404.0   \n",
       "11          7.884510              0.009864               767.0   \n",
       "12          4.627593              0.005809               111.0   \n",
       "13          7.882551              0.009875               767.0   \n",
       "14          5.417033              0.006792               342.0   \n",
       "15          5.975150              0.007523               469.0   \n",
       "16          6.053864              0.007597               485.0   \n",
       "17          3.263646              0.004094                 0.0   \n",
       "18          6.660827              0.008343               596.0   \n",
       "19          6.407699              0.008020               552.0   \n",
       "\n",
       "    sample_dilute_vol well dilute_well  \n",
       "0               904.0   A1          C7  \n",
       "1              1700.0   A2          C8  \n",
       "2              1700.0   A3          D1  \n",
       "3              1700.0   A4          D2  \n",
       "4               881.0   A5          D3  \n",
       "5              1700.0   A6          D4  \n",
       "6               891.0   A7          D5  \n",
       "7              1700.0   A8          D6  \n",
       "8              1589.0   B1          D7  \n",
       "9              1700.0   B3          D8  \n",
       "10             1296.0   B4          E1  \n",
       "11              933.0   B5          E3  \n",
       "12             1589.0   B6          E4  \n",
       "13              933.0   B8          E5  \n",
       "14             1358.0   C1          E6  \n",
       "15             1231.0   C2          E8  \n",
       "16             1215.0   C3          F1  \n",
       "17             1700.0   C4          F2  \n",
       "18             1104.0   C5          F3  \n",
       "19             1148.0   C6          F4  "
      ]
     },
     "execution_count": 98,
     "metadata": {},
     "output_type": "execute_result"
    }
   ],
   "source": [
    "sample_table"
   ]
  },
  {
   "cell_type": "code",
   "execution_count": null,
   "id": "fc8002db-155a-4841-ba3c-25da7f73aafd",
   "metadata": {},
   "outputs": [],
   "source": []
  }
 ],
 "metadata": {
  "kernelspec": {
   "display_name": "Python 3 (ipykernel)",
   "language": "python",
   "name": "python3"
  },
  "language_info": {
   "codemirror_mode": {
    "name": "ipython",
    "version": 3
   },
   "file_extension": ".py",
   "mimetype": "text/x-python",
   "name": "python",
   "nbconvert_exporter": "python",
   "pygments_lexer": "ipython3",
   "version": "3.12.7"
  }
 },
 "nbformat": 4,
 "nbformat_minor": 5
}
