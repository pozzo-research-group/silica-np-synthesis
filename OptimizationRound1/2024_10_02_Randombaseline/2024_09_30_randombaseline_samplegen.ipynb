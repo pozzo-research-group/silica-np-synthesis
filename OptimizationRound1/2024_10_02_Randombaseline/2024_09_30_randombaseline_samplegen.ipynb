{
 "cells": [
  {
   "cell_type": "code",
   "execution_count": 1,
   "id": "6c3f0086-1153-4080-aa49-0d55c0478647",
   "metadata": {},
   "outputs": [],
   "source": [
    "%load_ext autoreload\n",
    "%autoreload 2"
   ]
  },
  {
   "cell_type": "code",
   "execution_count": 2,
   "id": "c30c8680-4728-4914-b017-6094250db5bb",
   "metadata": {},
   "outputs": [],
   "source": [
    "import os\n",
    "import sys\n",
    "sys.path.append('../sample_utilities/')\n",
    "import samples\n",
    "import matplotlib.pyplot as plt\n",
    "import pandas as pd"
   ]
  },
  {
   "cell_type": "code",
   "execution_count": null,
   "id": "9a1aefb6-c723-441f-b34a-2803a25f3d63",
   "metadata": {},
   "outputs": [],
   "source": []
  },
  {
   "cell_type": "raw",
   "id": "9dc8fd37-f26e-4655-8f17-c22188e1d518",
   "metadata": {},
   "source": [
    "target_volume = 1800"
   ]
  },
  {
   "cell_type": "raw",
   "id": "5a927a68-ca21-4444-a518-f1cea8f7a6a3",
   "metadata": {},
   "source": [
    "samples_gen = []\n",
    "for i in range(40):\n",
    "    sample = samples.SolidSilicaSample(target_volume, reactant_fp='../sample_utilities/constants.json')\n",
    "    sample.generate_random_vol_fractions()\n",
    "    sample.calculate_reactant_volumes()\n",
    "    samples_gen.append(sample)"
   ]
  },
  {
   "cell_type": "raw",
   "id": "d90005b8-7fc0-454b-b791-85152cf7ad7b",
   "metadata": {},
   "source": [
    "synth_table = samples.generate_synthesis_table(samples_gen)"
   ]
  },
  {
   "cell_type": "raw",
   "id": "8ea01d95-482e-411f-949c-b2be015818bf",
   "metadata": {},
   "source": [
    "rows = ['A', 'B', 'C', 'D', 'E', 'F']\n",
    "cols = [1, 2, 3, 4, 5, 6, 7, 8]\n",
    "\n",
    "wells = []\n",
    "for row in rows:\n",
    "    for col in cols:\n",
    "        if row in ['B', 'E'] and col in [2, 7]:\n",
    "            pass\n",
    "        else:\n",
    "            wells.append(row + str(col))"
   ]
  },
  {
   "cell_type": "raw",
   "id": "7f1845b2-ec37-4daf-89a3-7d17ec7b432c",
   "metadata": {},
   "source": [
    "synth_table['well'] = wells[0:len(synth_table)]"
   ]
  },
  {
   "cell_type": "raw",
   "id": "874e98bc-8129-45d8-98cc-28e0cc9cf894",
   "metadata": {},
   "source": [
    "synth_table"
   ]
  },
  {
   "cell_type": "code",
   "execution_count": 3,
   "id": "4bf55d95-4463-41bf-8d1b-028390b2588e",
   "metadata": {},
   "outputs": [],
   "source": [
    "synth_table = pd.read_csv('Sample_table_2024_10_02_randomsampleStobercampaign.csv')"
   ]
  },
  {
   "cell_type": "code",
   "execution_count": 5,
   "id": "6f90ba0f-4310-4afe-af2a-cd60fbc88f47",
   "metadata": {},
   "outputs": [
    {
     "data": {
      "text/plain": [
       "10041.90927123762"
      ]
     },
     "execution_count": 5,
     "metadata": {},
     "output_type": "execute_result"
    }
   ],
   "source": [
    "synth_table.teos_volume.sum()"
   ]
  },
  {
   "cell_type": "code",
   "execution_count": 6,
   "id": "c4d965d7-7435-473f-8f28-3ad49eb1e574",
   "metadata": {},
   "outputs": [
    {
     "data": {
      "text/plain": [
       "3759.1246288585803"
      ]
     },
     "execution_count": 6,
     "metadata": {},
     "output_type": "execute_result"
    }
   ],
   "source": [
    "synth_table.ammonia_volume.sum()"
   ]
  },
  {
   "cell_type": "code",
   "execution_count": 8,
   "id": "2e7f144c-a8a6-4078-8956-767da237b325",
   "metadata": {},
   "outputs": [
    {
     "data": {
      "text/plain": [
       "10056.576677824894"
      ]
     },
     "execution_count": 8,
     "metadata": {},
     "output_type": "execute_result"
    }
   ],
   "source": [
    "synth_table.water_volume.sum()"
   ]
  },
  {
   "cell_type": "code",
   "execution_count": null,
   "id": "3e7f9528-7046-4401-bb94-c25c15ed6b0f",
   "metadata": {},
   "outputs": [],
   "source": [
    "fig, ax = plt.subplots(2,2)\n",
    "\n",
    "ax[0,0].scatter(synth_table['teos_volume'], synth_table['ammonia_volume'])\n",
    "ax[0,1].scatter(synth_table['teos_volume'], synth_table['water_volume'])\n",
    "ax[1,0].scatter(synth_table['teos_volume'], synth_table['ethanol_volume'])\n",
    "ax[1,1].scatter(synth_table['ammonia_volume'], synth_table['water_volume'])"
   ]
  },
  {
   "cell_type": "code",
   "execution_count": 37,
   "id": "96947978-9921-412d-b6f9-ad64aa0c2d31",
   "metadata": {},
   "outputs": [
    {
     "data": {
      "text/plain": [
       "<Axes: >"
      ]
     },
     "execution_count": 37,
     "metadata": {},
     "output_type": "execute_result"
    },
    {
     "data": {
      "image/png": "[encoded data removed]",
      "text/plain": [
       "<Figure size 640x480 with 1 Axes>"
      ]
     },
     "metadata": {},
     "output_type": "display_data"
    }
   ],
   "source": [
    "synth_table.ammonia_volume.hist()"
   ]
  },
  {
   "cell_type": "code",
   "execution_count": 38,
   "id": "00426735-46ee-4f28-9cde-3e4fb10c6f2b",
   "metadata": {},
   "outputs": [
    {
     "data": {
      "text/plain": [
       "<Axes: >"
      ]
     },
     "execution_count": 38,
     "metadata": {},
     "output_type": "execute_result"
    },
    {
     "data": {
      "image/png": "[encoded data removed]",
      "text/plain": [
       "<Figure size 640x480 with 1 Axes>"
      ]
     },
     "metadata": {},
     "output_type": "display_data"
    }
   ],
   "source": [
    "synth_table.water_volume.hist()"
   ]
  },
  {
   "cell_type": "code",
   "execution_count": null,
   "id": "51bf20a1-bf9e-4fb2-8239-b6473637476b",
   "metadata": {},
   "outputs": [],
   "source": []
  }
 ],
 "metadata": {
  "kernelspec": {
   "display_name": "Python 3 (ipykernel)",
   "language": "python",
   "name": "python3"
  },
  "language_info": {
   "codemirror_mode": {
    "name": "ipython",
    "version": 3
   },
   "file_extension": ".py",
   "mimetype": "text/x-python",
   "name": "python",
   "nbconvert_exporter": "python",
   "pygments_lexer": "ipython3",
   "version": "3.12.7"
  }
 },
 "nbformat": 4,
 "nbformat_minor": 5
}
