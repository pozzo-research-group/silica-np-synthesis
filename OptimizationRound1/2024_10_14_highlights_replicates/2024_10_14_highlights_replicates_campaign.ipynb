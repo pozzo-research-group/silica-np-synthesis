{
 "cells": [
  {
   "cell_type": "markdown",
   "id": "110d0499-187d-47cb-b3bd-52e828f810d0",
   "metadata": {},
   "source": [
    "## Setup"
   ]
  },
  {
   "cell_type": "code",
   "execution_count": 1,
   "id": "023a9737-b2dd-4151-af0b-67ea2aeb7386",
   "metadata": {},
   "outputs": [],
   "source": [
    "%load_ext autoreload\n",
    "%autoreload 2"
   ]
  },
  {
   "cell_type": "code",
   "execution_count": 2,
   "id": "a8305f4f-98d9-46aa-b3a5-aef3875465c8",
   "metadata": {},
   "outputs": [],
   "source": [
    "import requests\n",
    "\n",
    "# ----------- Science Jubilee -------------\n",
    "from science_jubilee import Machine as Jub\n",
    "from science_jubilee.tools import HTTPSyringe as syringe\n",
    "from science_jubilee.tools import Pipette\n",
    "import time\n",
    "import numpy as np\n",
    "import pandas as pd\n",
    "import logging\n",
    "import sys\n",
    "sys.path.append('..')\n",
    "import stober_synthesis_utils as stober"
   ]
  },
  {
   "cell_type": "code",
   "execution_count": 3,
   "id": "39e0dd27-900a-4151-ad77-cae178e545d7",
   "metadata": {},
   "outputs": [],
   "source": [
    "FORMAT = '%(asctime)s:%(levelname)s:%(name)s:%(message)s'\n",
    "logging.basicConfig(filename = '2024_10_10_random3try2.log', level = logging.INFO, format = FORMAT)\n",
    "logger = logging.getLogger(__name__)"
   ]
  },
  {
   "cell_type": "code",
   "execution_count": 4,
   "id": "ec7339a4-f397-424c-b8fe-dadf591dd460",
   "metadata": {},
   "outputs": [
    {
     "data": {
      "text/plain": [
       "<Logger __main__ (INFO)>"
      ]
     },
     "execution_count": 4,
     "metadata": {},
     "output_type": "execute_result"
    }
   ],
   "source": [
    "logger"
   ]
  },
  {
   "cell_type": "code",
   "execution_count": 6,
   "id": "bb05bc51-e88d-493a-b7ae-ec244bab05d1",
   "metadata": {
    "scrolled": true
   },
   "outputs": [],
   "source": [
    "jubilee = Jub.Machine(address='192.168.1.2', simulated = False) "
   ]
  },
  {
   "cell_type": "code",
   "execution_count": 6,
   "id": "be879d07-88f1-44e2-b3ed-9d747dbcf08c",
   "metadata": {},
   "outputs": [],
   "source": [
    "logging.info('test')"
   ]
  },
  {
   "cell_type": "code",
   "execution_count": 7,
   "id": "8c90cdc0-c96e-48c3-972a-03b11576bdc1",
   "metadata": {
    "scrolled": true
   },
   "outputs": [],
   "source": [
    "jubilee.home_all()\n",
    "logger.info('Homed Jubilee')"
   ]
  },
  {
   "cell_type": "code",
   "execution_count": 7,
   "id": "7dd1d29b-638a-4d85-9cf3-986931deae0f",
   "metadata": {},
   "outputs": [],
   "source": [
    "deck = jubilee.load_deck('lab_automation_deck_AFL_bolton.json')"
   ]
  },
  {
   "cell_type": "code",
   "execution_count": 8,
   "id": "d2505692-e098-4cf7-954a-b2ac9d91e06f",
   "metadata": {},
   "outputs": [],
   "source": [
    "sample_table = pd.read_csv('2024_10_14_highlights_replicates_sampletable.csv')"
   ]
  },
  {
   "cell_type": "code",
   "execution_count": 9,
   "id": "9b530793-b2a2-4f5d-9825-b4d8c2028d96",
   "metadata": {},
   "outputs": [
    {
     "data": {
      "text/plain": [
       "{'teos_count': 1, 'ammonia_count': 1, 'water_count': 1, 'ethanol_count': 4}"
      ]
     },
     "execution_count": 9,
     "metadata": {},
     "output_type": "execute_result"
    }
   ],
   "source": [
    "stober.count_stock_vials(sample_table, 15000)"
   ]
  },
  {
   "cell_type": "code",
   "execution_count": 10,
   "id": "dd237516-a73b-4981-8a1a-1f17979c9dac",
   "metadata": {},
   "outputs": [
    {
     "data": {
      "text/plain": [
       "5.593"
      ]
     },
     "execution_count": 10,
     "metadata": {},
     "output_type": "execute_result"
    }
   ],
   "source": [
    "sample_table['ethanol_volume'].sum()/10000"
   ]
  },
  {
   "cell_type": "markdown",
   "id": "b8f140ff-c5f8-494d-bd58-093982edd086",
   "metadata": {},
   "source": [
    "## Load Tools"
   ]
  },
  {
   "cell_type": "code",
   "execution_count": 11,
   "id": "d73bac24-917c-4c8c-8c30-494146511312",
   "metadata": {},
   "outputs": [],
   "source": [
    "syringe_10 = syringe.HTTPSyringe.from_config(1, \"../../science-jubilee/src/science_jubilee/tools/configs/10cc_syringe.json\")\n",
    "syringe_1_1 = syringe.HTTPSyringe.from_config(2, \"../../science-jubilee/src/science_jubilee/tools/configs/1cc_1_syringe.json\")\n",
    "syringe_1_2 = syringe.HTTPSyringe.from_config(3, \"../../science-jubilee/src/science_jubilee/tools/configs/1cc_2_syringe.json\")\n",
    "syringe_1_3 = syringe.HTTPSyringe.from_config(4, \"../../science-jubilee/src/science_jubilee/tools/configs/1cc_3_syringe.json\")"
   ]
  },
  {
   "cell_type": "code",
   "execution_count": 12,
   "id": "9448524a-f60e-43fd-ae53-0a51c87e6035",
   "metadata": {
    "scrolled": true
   },
   "outputs": [],
   "source": [
    "jubilee.load_tool(syringe_10)\n",
    "jubilee.load_tool(syringe_1_1)\n",
    "jubilee.load_tool(syringe_1_2)\n",
    "jubilee.load_tool(syringe_1_3)"
   ]
  },
  {
   "cell_type": "code",
   "execution_count": 13,
   "id": "21127bbe-632c-4ec0-84f9-57d9772a90db",
   "metadata": {},
   "outputs": [],
   "source": [
    "mix_syringe = syringe_10\n",
    "water_syringe = syringe_1_1\n",
    "ammonia_syringe = syringe_1_2\n",
    "teos_syringe = syringe_1_3"
   ]
  },
  {
   "cell_type": "markdown",
   "id": "e1d880ae-d253-43f5-995f-d2619e29c78a",
   "metadata": {},
   "source": [
    "## Load water syringe with water"
   ]
  },
  {
   "cell_type": "code",
   "execution_count": 14,
   "id": "c2c5387a-b52d-4fd9-97b4-c69ae21a0c12",
   "metadata": {},
   "outputs": [
    {
     "name": "stdout",
     "output_type": "stream",
     "text": [
      "Loaded syringe, remaining volume 600 uL\n"
     ]
    }
   ],
   "source": [
    "water_syringe.load_syringe(600, 1500)"
   ]
  },
  {
   "cell_type": "code",
   "execution_count": 15,
   "id": "de905209-1c7b-49f5-8d35-1fd8092ec72f",
   "metadata": {
    "scrolled": true
   },
   "outputs": [],
   "source": [
    "water_syringe.set_pulsewidth(water_syringe.empty_position-1, s = 2000)"
   ]
  },
  {
   "cell_type": "code",
   "execution_count": 16,
   "id": "3ded8ddd-1034-4679-804b-1a9d6d47b3b6",
   "metadata": {},
   "outputs": [],
   "source": [
    "water_syringe.set_pulsewidth(water_syringe.full_position+1, s = 10)"
   ]
  },
  {
   "cell_type": "code",
   "execution_count": 17,
   "id": "1bb6d726-e6f0-435e-916a-717d8231ed4d",
   "metadata": {},
   "outputs": [],
   "source": [
    "water_syringe.set_pulsewidth(water_syringe.full_position+150, s = 500)"
   ]
  },
  {
   "cell_type": "code",
   "execution_count": 18,
   "id": "80aff25d-bae2-478d-bc07-4b4f11bd5e05",
   "metadata": {},
   "outputs": [
    {
     "name": "stdout",
     "output_type": "stream",
     "text": [
      "Loaded syringe, remaining volume 750 uL\n"
     ]
    }
   ],
   "source": [
    "water_syringe.load_syringe(750, water_syringe.full_position+150)"
   ]
  },
  {
   "cell_type": "markdown",
   "id": "8ea5df3b-0ad5-4dbb-ad3f-089a2d5f2bd1",
   "metadata": {},
   "source": [
    "## Load ammonia syringe"
   ]
  },
  {
   "cell_type": "code",
   "execution_count": 19,
   "id": "87a366e4-d389-4830-b923-0a932968add9",
   "metadata": {},
   "outputs": [],
   "source": [
    "ammonia_syringe.set_pulsewidth(1420, s = 10)"
   ]
  },
  {
   "cell_type": "code",
   "execution_count": 20,
   "id": "2577d8b0-b404-4e92-8480-89ecc9cfb9cb",
   "metadata": {},
   "outputs": [
    {
     "name": "stdout",
     "output_type": "stream",
     "text": [
      "Loaded syringe, remaining volume 600 uL\n"
     ]
    }
   ],
   "source": [
    "ammonia_syringe.load_syringe(600, 1500)"
   ]
  },
  {
   "cell_type": "code",
   "execution_count": 21,
   "id": "73b9205b-4f97-47a7-aad4-cb252a6726ec",
   "metadata": {},
   "outputs": [],
   "source": [
    "ammonia_syringe.set_pulsewidth(ammonia_syringe.empty_position-1, s = 2000)"
   ]
  },
  {
   "cell_type": "code",
   "execution_count": 22,
   "id": "5fe25b32-0448-49fc-8d48-210e01e293b1",
   "metadata": {},
   "outputs": [],
   "source": [
    "ammonia_syringe.set_pulsewidth(ammonia_syringe.full_position+1, s = 10)"
   ]
  },
  {
   "cell_type": "code",
   "execution_count": 24,
   "id": "e0d5f7c9-883e-48d6-86bf-a30bc8698332",
   "metadata": {},
   "outputs": [],
   "source": [
    "ammonia_syringe.set_pulsewidth(ammonia_syringe.full_position+300, s = 500)"
   ]
  },
  {
   "cell_type": "code",
   "execution_count": 25,
   "id": "b5be2527-8c06-4465-8e44-41f410149cd7",
   "metadata": {},
   "outputs": [
    {
     "name": "stdout",
     "output_type": "stream",
     "text": [
      "Loaded syringe, remaining volume 430 uL\n"
     ]
    }
   ],
   "source": [
    "ammonia_syringe.load_syringe(430, ammonia_syringe.full_position+300)"
   ]
  },
  {
   "cell_type": "markdown",
   "id": "e2c53ecf-d14a-4536-8062-9e7af8c51ba8",
   "metadata": {},
   "source": [
    "## Load TEOS syringe"
   ]
  },
  {
   "cell_type": "code",
   "execution_count": 26,
   "id": "639af747-f1f2-4294-849d-bb1661cd5c85",
   "metadata": {},
   "outputs": [
    {
     "name": "stdout",
     "output_type": "stream",
     "text": [
      "Loaded syringe, remaining volume 600 uL\n"
     ]
    }
   ],
   "source": [
    "teos_syringe.load_syringe(600, 1500)"
   ]
  },
  {
   "cell_type": "code",
   "execution_count": 27,
   "id": "c0f31c8b-1651-4872-806b-3dc1a8e208f2",
   "metadata": {},
   "outputs": [],
   "source": [
    "teos_syringe.set_pulsewidth(teos_syringe.empty_position-1, s = 2000)"
   ]
  },
  {
   "cell_type": "code",
   "execution_count": 28,
   "id": "b8f45e72-b019-41fe-b413-6b1e132edbee",
   "metadata": {},
   "outputs": [],
   "source": [
    "teos_syringe.set_pulsewidth(teos_syringe.full_position+1, s = 100)"
   ]
  },
  {
   "cell_type": "code",
   "execution_count": 29,
   "id": "1c9e3fdf-8999-4d1f-97ca-018afe8e8edd",
   "metadata": {},
   "outputs": [],
   "source": [
    "teos_syringe.set_pulsewidth(teos_syringe.full_position+200, s = 200)"
   ]
  },
  {
   "cell_type": "code",
   "execution_count": 30,
   "id": "cf5154eb-2d59-4bd8-90c2-86c3374a662d",
   "metadata": {},
   "outputs": [
    {
     "name": "stdout",
     "output_type": "stream",
     "text": [
      "Loaded syringe, remaining volume 680 uL\n"
     ]
    }
   ],
   "source": [
    "teos_syringe.load_syringe(680, teos_syringe.full_position+200)"
   ]
  },
  {
   "cell_type": "markdown",
   "id": "ad1ac96b-3d53-4da1-aa2c-a8c2386280f8",
   "metadata": {},
   "source": [
    "## load ethanol syringe"
   ]
  },
  {
   "cell_type": "code",
   "execution_count": 71,
   "id": "f1caaf1a-900c-43ed-a57b-754b0d62aa37",
   "metadata": {},
   "outputs": [],
   "source": [
    "jubilee.park_tool()"
   ]
  },
  {
   "cell_type": "code",
   "execution_count": 31,
   "id": "6002eb8f-07a3-4c63-b6e6-ee4e3775b39e",
   "metadata": {},
   "outputs": [
    {
     "name": "stdout",
     "output_type": "stream",
     "text": [
      "Loaded syringe, remaining volume 0 uL\n"
     ]
    }
   ],
   "source": [
    "mix_syringe.load_syringe(0, 1829)"
   ]
  },
  {
   "cell_type": "code",
   "execution_count": 32,
   "id": "75d8f923-d8ff-4368-a589-7481a4f4f1bb",
   "metadata": {},
   "outputs": [],
   "source": [
    "mix_syringe.set_pulsewidth(mix_syringe.empty_position-1, s = 2000)\n"
   ]
  },
  {
   "cell_type": "code",
   "execution_count": 33,
   "id": "534ef3b4-9c24-4bcf-acbf-ac7d63225c9c",
   "metadata": {},
   "outputs": [],
   "source": [
    "mix_syringe.set_pulsewidth(mix_syringe.full_position+1, s = 10)"
   ]
  },
  {
   "cell_type": "code",
   "execution_count": 80,
   "id": "5a8312cd-872e-49bd-815a-d5968bb6b2ec",
   "metadata": {},
   "outputs": [],
   "source": [
    "mix_syringe.set_pulsewidth(mix_syringe.full_position+100, s = 500)"
   ]
  },
  {
   "cell_type": "code",
   "execution_count": 81,
   "id": "99ad1605-10c8-45a3-80cf-c6adfd7ae6a9",
   "metadata": {},
   "outputs": [
    {
     "name": "stdout",
     "output_type": "stream",
     "text": [
      "Loaded syringe, remaining volume 7900 uL\n"
     ]
    }
   ],
   "source": [
    "mix_syringe.load_syringe(7900, mix_syringe.full_position+100)"
   ]
  },
  {
   "cell_type": "markdown",
   "id": "43d1f97d-4c55-40d3-ac5b-9c3a3f1062ed",
   "metadata": {},
   "source": [
    "## Load labware\n"
   ]
  },
  {
   "cell_type": "code",
   "execution_count": 55,
   "id": "19b4bfa8-6878-4b0b-a564-369faa361b1c",
   "metadata": {
    "scrolled": true
   },
   "outputs": [
    {
     "name": "stdout",
     "output_type": "stream",
     "text": [
      "New manual offset applied to septavialrev1_44_holder_2000ul\n"
     ]
    }
   ],
   "source": [
    "samples = jubilee.load_labware('septavialrev1_44_holder_2000ul.json', 2)\n",
    "samples.manual_offset([(19.0, 177.4), (131, 178.5), (132.4, 108.1)])"
   ]
  },
  {
   "cell_type": "code",
   "execution_count": 56,
   "id": "19ad67cc-b0a8-4c1f-8d6a-60b173599c82",
   "metadata": {},
   "outputs": [
    {
     "name": "stdout",
     "output_type": "stream",
     "text": [
      "New manual offset applied to 20mlscintillation_12_wellplate_18000ul\n"
     ]
    }
   ],
   "source": [
    "stocks = jubilee.load_labware('20mlscintillation_12_wellplate_18000ul.json', 4)\n",
    "stocks.manual_offset([(30.4, 266.2),(116.8, 267.4),(116.8, 210.7)])"
   ]
  },
  {
   "cell_type": "code",
   "execution_count": 57,
   "id": "1ef40a35-9802-4eb3-9a10-16255155b92d",
   "metadata": {},
   "outputs": [],
   "source": [
    "trash = jubilee.load_labware('agilent_1_reservoir_290ml.json', 1)"
   ]
  },
  {
   "cell_type": "code",
   "execution_count": 58,
   "id": "f7395271-1a02-4f11-883f-34a8456f0a05",
   "metadata": {},
   "outputs": [],
   "source": [
    "teos_stocks = [stocks[0]]\n",
    "ammonia_stocks = [stocks[1]]\n",
    "water_stocks = [stocks[2]]\n",
    "ethanol_stocks = [stocks[3], stocks[4], stocks[5], stocks[6], stocks[7], stocks[8]]\n",
    "rinse_stocks = [stocks[9], stocks[10], stocks[11]]"
   ]
  },
  {
   "cell_type": "markdown",
   "id": "4bd30fe3-5be6-4ea7-a61d-357272d3e8a4",
   "metadata": {},
   "source": [
    "## Check sample alignment"
   ]
  },
  {
   "cell_type": "code",
   "execution_count": 77,
   "id": "6341c596-5970-48b4-b3cc-44b5f8d7a9ff",
   "metadata": {},
   "outputs": [
    {
     "name": "stdin",
     "output_type": "stream",
     "text": [
      "Is the tip centered over well? \n",
      "Is the tip centered over well? \n",
      "Is the tip centered over well? \n",
      "Is the tip centered over well? \n",
      "Is the tip centered over well? \n",
      "Is the tip centered over well? \n",
      "Is the tip centered over well? \n",
      "Is the tip centered over well? \n",
      "Is the tip centered over well? \n",
      "Is the tip centered over well? \n",
      "Is the tip centered over well? \n",
      "Is the tip centered over well? \n"
     ]
    }
   ],
   "source": [
    "jubilee.pickup_tool(mix_syringe)\n",
    "for well in stocks:\n",
    "    jubilee.move_to(x = well.x, y = well.y)\n",
    "    jubilee.move_to(z = well.top_+7)\n",
    "    ans = input(f'Is the tip centered over well?')\n",
    "    if ans == 'y':\n",
    "        continue\n",
    "    else:\n",
    "        continue"
   ]
  },
  {
   "cell_type": "code",
   "execution_count": 65,
   "id": "25a4d272-6e56-4649-ba7a-5e04e922c043",
   "metadata": {},
   "outputs": [
    {
     "name": "stdin",
     "output_type": "stream",
     "text": [
      "Is the tip centered over sample A1? \n",
      "Is the tip centered over sample A2? \n",
      "Is the tip centered over sample A3? \n",
      "Is the tip centered over sample A4? \n",
      "Is the tip centered over sample A5? \n",
      "Is the tip centered over sample A6? \n",
      "Is the tip centered over sample A7? \n",
      "Is the tip centered over sample A8? \n",
      "Is the tip centered over sample B1? \n",
      "Is the tip centered over sample B3? \n",
      "Is the tip centered over sample B4? \n",
      "Is the tip centered over sample B5? \n",
      "Is the tip centered over sample B6? \n",
      "Is the tip centered over sample B8? \n",
      "Is the tip centered over sample C1? \n",
      "Is the tip centered over sample C2? \n",
      "Is the tip centered over sample C3? \n",
      "Is the tip centered over sample C4? \n",
      "Is the tip centered over sample C5? \n",
      "Is the tip centered over sample C6? \n",
      "Is the tip centered over sample C7? \n",
      "Is the tip centered over sample C8? \n",
      "Is the tip centered over sample D1? \n",
      "Is the tip centered over sample D2? \n",
      "Is the tip centered over sample D3? \n",
      "Is the tip centered over sample D4? \n",
      "Is the tip centered over sample D5? \n",
      "Is the tip centered over sample D6? \n",
      "Is the tip centered over sample D7? \n",
      "Is the tip centered over sample D8? \n",
      "Is the tip centered over sample E1? \n",
      "Is the tip centered over sample E3? \n",
      "Is the tip centered over sample E4? \n",
      "Is the tip centered over sample E5? \n",
      "Is the tip centered over sample E6? \n",
      "Is the tip centered over sample E8? \n",
      "Is the tip centered over sample F1? \n",
      "Is the tip centered over sample F2? \n",
      "Is the tip centered over sample F3? \n",
      "Is the tip centered over sample F4? \n"
     ]
    }
   ],
   "source": [
    "jubilee.pickup_tool(mix_syringe)\n",
    "for i, row in sample_table.iterrows():\n",
    "    loc = samples[row['well']]\n",
    "    jubilee.move_to(x = loc.x, y = loc.y)\n",
    "    jubilee.move_to(z = loc.top_+2)\n",
    "    curr_well = row['well']\n",
    "    ans = input(f'Is the tip centered over sample {curr_well}?')\n",
    "    if ans == 'y':\n",
    "        continue\n",
    "    else:\n",
    "        continue\n",
    "    "
   ]
  },
  {
   "cell_type": "code",
   "execution_count": null,
   "id": "48d38665-e784-41bf-b95c-aab75d4783bd",
   "metadata": {},
   "outputs": [],
   "source": [
    "## also check all 4 tools move to last position correctly"
   ]
  },
  {
   "cell_type": "code",
   "execution_count": 78,
   "id": "a52572b9-48d6-4bf1-acb2-19c7ac5c6fb8",
   "metadata": {},
   "outputs": [],
   "source": [
    "jubilee.park_tool()"
   ]
  },
  {
   "cell_type": "markdown",
   "id": "b9dff3f4-8be6-4f73-b343-6221f8df76dc",
   "metadata": {},
   "source": [
    "# Experiment\n"
   ]
  },
  {
   "cell_type": "code",
   "execution_count": 67,
   "id": "9d770745-931b-42d0-8b40-409a83411619",
   "metadata": {},
   "outputs": [],
   "source": [
    "location_lookup = {row['uuid']:samples[row['well']] for i, row in sample_table.iterrows()}"
   ]
  },
  {
   "cell_type": "code",
   "execution_count": 70,
   "id": "6e350825-7f12-4955-af0e-636445cdb61d",
   "metadata": {},
   "outputs": [
    {
     "data": {
      "text/plain": [
       "0     A1\n",
       "1     A2\n",
       "2     A3\n",
       "3     A4\n",
       "4     A5\n",
       "5     A6\n",
       "6     A7\n",
       "7     A8\n",
       "8     B1\n",
       "9     B3\n",
       "10    B4\n",
       "11    B5\n",
       "12    B6\n",
       "13    B8\n",
       "14    C1\n",
       "15    C2\n",
       "16    C3\n",
       "17    C4\n",
       "18    C5\n",
       "19    C6\n",
       "20    C7\n",
       "21    C8\n",
       "22    D1\n",
       "23    D2\n",
       "24    D3\n",
       "25    D4\n",
       "26    D5\n",
       "27    D6\n",
       "28    D7\n",
       "29    D8\n",
       "30    E1\n",
       "31    E3\n",
       "32    E4\n",
       "33    E5\n",
       "34    E6\n",
       "35    E8\n",
       "36    F1\n",
       "37    F2\n",
       "38    F3\n",
       "39    F4\n",
       "Name: well, dtype: object"
      ]
     },
     "execution_count": 70,
     "metadata": {},
     "output_type": "execute_result"
    }
   ],
   "source": [
    "sample_table['well']"
   ]
  },
  {
   "cell_type": "code",
   "execution_count": 73,
   "id": "10c080aa-dade-49e7-b1e4-ddaf7188ea24",
   "metadata": {},
   "outputs": [],
   "source": [
    "ethanol_fix = sample_table[15:]"
   ]
  },
  {
   "cell_type": "code",
   "execution_count": 74,
   "id": "460488a4-7c78-43a3-af7b-df9e4be88dd9",
   "metadata": {},
   "outputs": [
    {
     "data": {
      "text/html": [
       "<div>\n",
       "<style scoped>\n",
       "    .dataframe tbody tr th:only-of-type {\n",
       "        vertical-align: middle;\n",
       "    }\n",
       "\n",
       "    .dataframe tbody tr th {\n",
       "        vertical-align: top;\n",
       "    }\n",
       "\n",
       "    .dataframe thead th {\n",
       "        text-align: right;\n",
       "    }\n",
       "</style>\n",
       "<table border=\"1\" class=\"dataframe\">\n",
       "  <thead>\n",
       "    <tr style=\"text-align: right;\">\n",
       "      <th></th>\n",
       "      <th>Unnamed: 0.1</th>\n",
       "      <th>Unnamed: 0</th>\n",
       "      <th>uuid</th>\n",
       "      <th>teos_volume</th>\n",
       "      <th>ammonia_volume</th>\n",
       "      <th>water_volume</th>\n",
       "      <th>ethanol_volume</th>\n",
       "      <th>dilution_volume_fraction</th>\n",
       "      <th>silica_mass_conc</th>\n",
       "      <th>silica_mass_fraction</th>\n",
       "      <th>well</th>\n",
       "    </tr>\n",
       "  </thead>\n",
       "  <tbody>\n",
       "    <tr>\n",
       "      <th>15</th>\n",
       "      <td>17</td>\n",
       "      <td>17.0</td>\n",
       "      <td>1cd98242-2c09-46dc-8eab-ff593ec4a284</td>\n",
       "      <td>214.0</td>\n",
       "      <td>38.0</td>\n",
       "      <td>109.0</td>\n",
       "      <td>1339.0</td>\n",
       "      <td>0.085129</td>\n",
       "      <td>33.875996</td>\n",
       "      <td>0.041146</td>\n",
       "      <td>C2</td>\n",
       "    </tr>\n",
       "    <tr>\n",
       "      <th>16</th>\n",
       "      <td>20</td>\n",
       "      <td>20.0</td>\n",
       "      <td>f4b66637-2c73-4d0b-83ba-3f7e3b3f3c06</td>\n",
       "      <td>33.0</td>\n",
       "      <td>147.0</td>\n",
       "      <td>138.0</td>\n",
       "      <td>1383.0</td>\n",
       "      <td>0.557648</td>\n",
       "      <td>5.171431</td>\n",
       "      <td>0.006318</td>\n",
       "      <td>C3</td>\n",
       "    </tr>\n",
       "    <tr>\n",
       "      <th>17</th>\n",
       "      <td>21</td>\n",
       "      <td>21.0</td>\n",
       "      <td>c9f1b338-8d5c-491e-ac9c-cab3df47c1e5</td>\n",
       "      <td>32.0</td>\n",
       "      <td>130.0</td>\n",
       "      <td>89.0</td>\n",
       "      <td>1448.0</td>\n",
       "      <td>0.571070</td>\n",
       "      <td>5.049888</td>\n",
       "      <td>0.006223</td>\n",
       "      <td>C4</td>\n",
       "    </tr>\n",
       "    <tr>\n",
       "      <th>18</th>\n",
       "      <td>23</td>\n",
       "      <td>23.0</td>\n",
       "      <td>96f2819c-ff4b-467a-a599-1d2a0c792f5f</td>\n",
       "      <td>94.0</td>\n",
       "      <td>54.0</td>\n",
       "      <td>130.0</td>\n",
       "      <td>1422.0</td>\n",
       "      <td>0.193844</td>\n",
       "      <td>14.877086</td>\n",
       "      <td>0.018215</td>\n",
       "      <td>C5</td>\n",
       "    </tr>\n",
       "    <tr>\n",
       "      <th>19</th>\n",
       "      <td>24</td>\n",
       "      <td>24.0</td>\n",
       "      <td>6411e428-3416-4aad-a246-f50fe8f3fb4b</td>\n",
       "      <td>35.0</td>\n",
       "      <td>116.0</td>\n",
       "      <td>137.0</td>\n",
       "      <td>1413.0</td>\n",
       "      <td>0.523258</td>\n",
       "      <td>5.511315</td>\n",
       "      <td>0.006749</td>\n",
       "      <td>C6</td>\n",
       "    </tr>\n",
       "    <tr>\n",
       "      <th>20</th>\n",
       "      <td>25</td>\n",
       "      <td>25.0</td>\n",
       "      <td>7c4bcab3-4ce3-4a28-92b1-4f8a04c76603</td>\n",
       "      <td>223.0</td>\n",
       "      <td>10.0</td>\n",
       "      <td>137.0</td>\n",
       "      <td>1331.0</td>\n",
       "      <td>0.081859</td>\n",
       "      <td>35.229452</td>\n",
       "      <td>0.042671</td>\n",
       "      <td>C7</td>\n",
       "    </tr>\n",
       "    <tr>\n",
       "      <th>21</th>\n",
       "      <td>27</td>\n",
       "      <td>27.0</td>\n",
       "      <td>22fc6d75-43ef-41aa-993b-b76a84f4c5af</td>\n",
       "      <td>150.0</td>\n",
       "      <td>32.0</td>\n",
       "      <td>156.0</td>\n",
       "      <td>1362.0</td>\n",
       "      <td>0.121394</td>\n",
       "      <td>23.756079</td>\n",
       "      <td>0.028856</td>\n",
       "      <td>C8</td>\n",
       "    </tr>\n",
       "    <tr>\n",
       "      <th>22</th>\n",
       "      <td>28</td>\n",
       "      <td>28.0</td>\n",
       "      <td>86a7ac96-49f1-4da4-b518-37e4ab31a099</td>\n",
       "      <td>184.0</td>\n",
       "      <td>77.0</td>\n",
       "      <td>19.0</td>\n",
       "      <td>1421.0</td>\n",
       "      <td>0.099125</td>\n",
       "      <td>29.093002</td>\n",
       "      <td>0.035821</td>\n",
       "      <td>D1</td>\n",
       "    </tr>\n",
       "    <tr>\n",
       "      <th>23</th>\n",
       "      <td>30</td>\n",
       "      <td>30.0</td>\n",
       "      <td>89639692-ddbf-413e-a0c4-bf75456e2877</td>\n",
       "      <td>152.0</td>\n",
       "      <td>53.0</td>\n",
       "      <td>102.0</td>\n",
       "      <td>1393.0</td>\n",
       "      <td>0.119775</td>\n",
       "      <td>24.077158</td>\n",
       "      <td>0.029427</td>\n",
       "      <td>D2</td>\n",
       "    </tr>\n",
       "    <tr>\n",
       "      <th>24</th>\n",
       "      <td>35</td>\n",
       "      <td>35.0</td>\n",
       "      <td>b702c675-432e-4034-b542-ef01ad2fd4ff</td>\n",
       "      <td>63.0</td>\n",
       "      <td>83.0</td>\n",
       "      <td>120.0</td>\n",
       "      <td>1435.0</td>\n",
       "      <td>0.288434</td>\n",
       "      <td>9.998265</td>\n",
       "      <td>0.012272</td>\n",
       "      <td>D3</td>\n",
       "    </tr>\n",
       "    <tr>\n",
       "      <th>25</th>\n",
       "      <td>0</td>\n",
       "      <td>NaN</td>\n",
       "      <td>3b660550-7e2e-4815-ba89-ac39039b2f38</td>\n",
       "      <td>117.0</td>\n",
       "      <td>112.0</td>\n",
       "      <td>130.0</td>\n",
       "      <td>1342.0</td>\n",
       "      <td>0.156110</td>\n",
       "      <td>18.473109</td>\n",
       "      <td>0.022462</td>\n",
       "      <td>D4</td>\n",
       "    </tr>\n",
       "    <tr>\n",
       "      <th>26</th>\n",
       "      <td>1</td>\n",
       "      <td>NaN</td>\n",
       "      <td>fe183495-7f7b-4949-bc1b-6c7d1ea634b7</td>\n",
       "      <td>84.0</td>\n",
       "      <td>77.0</td>\n",
       "      <td>135.0</td>\n",
       "      <td>1404.0</td>\n",
       "      <td>0.216676</td>\n",
       "      <td>13.309452</td>\n",
       "      <td>0.016270</td>\n",
       "      <td>D5</td>\n",
       "    </tr>\n",
       "    <tr>\n",
       "      <th>27</th>\n",
       "      <td>2</td>\n",
       "      <td>NaN</td>\n",
       "      <td>f180c1df-360c-45fe-9547-101530b6135a</td>\n",
       "      <td>109.0</td>\n",
       "      <td>10.0</td>\n",
       "      <td>94.0</td>\n",
       "      <td>1487.0</td>\n",
       "      <td>0.166550</td>\n",
       "      <td>17.315132</td>\n",
       "      <td>0.021356</td>\n",
       "      <td>D6</td>\n",
       "    </tr>\n",
       "    <tr>\n",
       "      <th>28</th>\n",
       "      <td>3</td>\n",
       "      <td>NaN</td>\n",
       "      <td>ad3d2a7d-b678-43a0-b803-1cc079e32935</td>\n",
       "      <td>221.0</td>\n",
       "      <td>67.0</td>\n",
       "      <td>155.0</td>\n",
       "      <td>1257.0</td>\n",
       "      <td>0.082294</td>\n",
       "      <td>35.043225</td>\n",
       "      <td>0.042150</td>\n",
       "      <td>D7</td>\n",
       "    </tr>\n",
       "    <tr>\n",
       "      <th>29</th>\n",
       "      <td>4</td>\n",
       "      <td>NaN</td>\n",
       "      <td>70246cb4-9be2-45b9-8704-bb3f4ea585c5</td>\n",
       "      <td>89.0</td>\n",
       "      <td>158.0</td>\n",
       "      <td>203.0</td>\n",
       "      <td>1250.0</td>\n",
       "      <td>0.203744</td>\n",
       "      <td>14.154253</td>\n",
       "      <td>0.017009</td>\n",
       "      <td>D8</td>\n",
       "    </tr>\n",
       "    <tr>\n",
       "      <th>30</th>\n",
       "      <td>5</td>\n",
       "      <td>NaN</td>\n",
       "      <td>01cddefc-e6a6-41aa-9052-06286b12b8fe</td>\n",
       "      <td>40.0</td>\n",
       "      <td>30.0</td>\n",
       "      <td>79.0</td>\n",
       "      <td>1550.0</td>\n",
       "      <td>0.451710</td>\n",
       "      <td>6.384273</td>\n",
       "      <td>0.007937</td>\n",
       "      <td>E1</td>\n",
       "    </tr>\n",
       "    <tr>\n",
       "      <th>31</th>\n",
       "      <td>6</td>\n",
       "      <td>NaN</td>\n",
       "      <td>83d8158b-ea97-4925-af7c-8fa89acc9319</td>\n",
       "      <td>57.0</td>\n",
       "      <td>82.0</td>\n",
       "      <td>186.0</td>\n",
       "      <td>1375.0</td>\n",
       "      <td>0.321733</td>\n",
       "      <td>8.963455</td>\n",
       "      <td>0.010900</td>\n",
       "      <td>E3</td>\n",
       "    </tr>\n",
       "    <tr>\n",
       "      <th>32</th>\n",
       "      <td>7</td>\n",
       "      <td>NaN</td>\n",
       "      <td>b8953350-d5ad-4c99-b929-ebfe8febd0df</td>\n",
       "      <td>138.0</td>\n",
       "      <td>174.0</td>\n",
       "      <td>241.0</td>\n",
       "      <td>1148.0</td>\n",
       "      <td>0.132193</td>\n",
       "      <td>21.815453</td>\n",
       "      <td>0.025911</td>\n",
       "      <td>E4</td>\n",
       "    </tr>\n",
       "    <tr>\n",
       "      <th>33</th>\n",
       "      <td>8</td>\n",
       "      <td>NaN</td>\n",
       "      <td>f9db1144-6916-4420-ae44-2bf5f1313a4d</td>\n",
       "      <td>49.0</td>\n",
       "      <td>13.0</td>\n",
       "      <td>79.0</td>\n",
       "      <td>1559.0</td>\n",
       "      <td>0.372062</td>\n",
       "      <td>7.750973</td>\n",
       "      <td>0.009641</td>\n",
       "      <td>E5</td>\n",
       "    </tr>\n",
       "    <tr>\n",
       "      <th>34</th>\n",
       "      <td>9</td>\n",
       "      <td>NaN</td>\n",
       "      <td>8f7962c4-620f-42e2-812b-2b161525c034</td>\n",
       "      <td>204.0</td>\n",
       "      <td>125.0</td>\n",
       "      <td>23.0</td>\n",
       "      <td>1348.0</td>\n",
       "      <td>0.089322</td>\n",
       "      <td>32.285978</td>\n",
       "      <td>0.039493</td>\n",
       "      <td>E6</td>\n",
       "    </tr>\n",
       "    <tr>\n",
       "      <th>35</th>\n",
       "      <td>10</td>\n",
       "      <td>NaN</td>\n",
       "      <td>4b2d55e4-a4ec-419a-aade-a8645321f66a</td>\n",
       "      <td>177.0</td>\n",
       "      <td>97.0</td>\n",
       "      <td>113.0</td>\n",
       "      <td>1312.0</td>\n",
       "      <td>0.102840</td>\n",
       "      <td>28.042132</td>\n",
       "      <td>0.034007</td>\n",
       "      <td>E8</td>\n",
       "    </tr>\n",
       "    <tr>\n",
       "      <th>36</th>\n",
       "      <td>11</td>\n",
       "      <td>NaN</td>\n",
       "      <td>cb613f37-04cf-4232-aa8f-9a57445e5eee</td>\n",
       "      <td>68.0</td>\n",
       "      <td>101.0</td>\n",
       "      <td>155.0</td>\n",
       "      <td>1375.0</td>\n",
       "      <td>0.268821</td>\n",
       "      <td>10.727737</td>\n",
       "      <td>0.013070</td>\n",
       "      <td>F1</td>\n",
       "    </tr>\n",
       "    <tr>\n",
       "      <th>37</th>\n",
       "      <td>12</td>\n",
       "      <td>NaN</td>\n",
       "      <td>852b1fcf-ea63-4436-bd20-9ebf44baf999</td>\n",
       "      <td>21.0</td>\n",
       "      <td>57.0</td>\n",
       "      <td>62.0</td>\n",
       "      <td>1561.0</td>\n",
       "      <td>0.876230</td>\n",
       "      <td>3.291192</td>\n",
       "      <td>0.004102</td>\n",
       "      <td>F2</td>\n",
       "    </tr>\n",
       "    <tr>\n",
       "      <th>38</th>\n",
       "      <td>13</td>\n",
       "      <td>NaN</td>\n",
       "      <td>f2e85141-9985-49ff-a6bc-17e2ecbcdc8b</td>\n",
       "      <td>253.0</td>\n",
       "      <td>175.0</td>\n",
       "      <td>231.0</td>\n",
       "      <td>1040.0</td>\n",
       "      <td>0.071872</td>\n",
       "      <td>40.124919</td>\n",
       "      <td>0.047170</td>\n",
       "      <td>F3</td>\n",
       "    </tr>\n",
       "    <tr>\n",
       "      <th>39</th>\n",
       "      <td>14</td>\n",
       "      <td>NaN</td>\n",
       "      <td>328c652f-9166-4c49-ad89-6445d14b89f3</td>\n",
       "      <td>134.0</td>\n",
       "      <td>131.0</td>\n",
       "      <td>239.0</td>\n",
       "      <td>1196.0</td>\n",
       "      <td>0.135794</td>\n",
       "      <td>21.236800</td>\n",
       "      <td>0.025324</td>\n",
       "      <td>F4</td>\n",
       "    </tr>\n",
       "  </tbody>\n",
       "</table>\n",
       "</div>"
      ],
      "text/plain": [
       "    Unnamed: 0.1  Unnamed: 0                                  uuid  \\\n",
       "15            17        17.0  1cd98242-2c09-46dc-8eab-ff593ec4a284   \n",
       "16            20        20.0  f4b66637-2c73-4d0b-83ba-3f7e3b3f3c06   \n",
       "17            21        21.0  c9f1b338-8d5c-491e-ac9c-cab3df47c1e5   \n",
       "18            23        23.0  96f2819c-ff4b-467a-a599-1d2a0c792f5f   \n",
       "19            24        24.0  6411e428-3416-4aad-a246-f50fe8f3fb4b   \n",
       "20            25        25.0  7c4bcab3-4ce3-4a28-92b1-4f8a04c76603   \n",
       "21            27        27.0  22fc6d75-43ef-41aa-993b-b76a84f4c5af   \n",
       "22            28        28.0  86a7ac96-49f1-4da4-b518-37e4ab31a099   \n",
       "23            30        30.0  89639692-ddbf-413e-a0c4-bf75456e2877   \n",
       "24            35        35.0  b702c675-432e-4034-b542-ef01ad2fd4ff   \n",
       "25             0         NaN  3b660550-7e2e-4815-ba89-ac39039b2f38   \n",
       "26             1         NaN  fe183495-7f7b-4949-bc1b-6c7d1ea634b7   \n",
       "27             2         NaN  f180c1df-360c-45fe-9547-101530b6135a   \n",
       "28             3         NaN  ad3d2a7d-b678-43a0-b803-1cc079e32935   \n",
       "29             4         NaN  70246cb4-9be2-45b9-8704-bb3f4ea585c5   \n",
       "30             5         NaN  01cddefc-e6a6-41aa-9052-06286b12b8fe   \n",
       "31             6         NaN  83d8158b-ea97-4925-af7c-8fa89acc9319   \n",
       "32             7         NaN  b8953350-d5ad-4c99-b929-ebfe8febd0df   \n",
       "33             8         NaN  f9db1144-6916-4420-ae44-2bf5f1313a4d   \n",
       "34             9         NaN  8f7962c4-620f-42e2-812b-2b161525c034   \n",
       "35            10         NaN  4b2d55e4-a4ec-419a-aade-a8645321f66a   \n",
       "36            11         NaN  cb613f37-04cf-4232-aa8f-9a57445e5eee   \n",
       "37            12         NaN  852b1fcf-ea63-4436-bd20-9ebf44baf999   \n",
       "38            13         NaN  f2e85141-9985-49ff-a6bc-17e2ecbcdc8b   \n",
       "39            14         NaN  328c652f-9166-4c49-ad89-6445d14b89f3   \n",
       "\n",
       "    teos_volume  ammonia_volume  water_volume  ethanol_volume  \\\n",
       "15        214.0            38.0         109.0          1339.0   \n",
       "16         33.0           147.0         138.0          1383.0   \n",
       "17         32.0           130.0          89.0          1448.0   \n",
       "18         94.0            54.0         130.0          1422.0   \n",
       "19         35.0           116.0         137.0          1413.0   \n",
       "20        223.0            10.0         137.0          1331.0   \n",
       "21        150.0            32.0         156.0          1362.0   \n",
       "22        184.0            77.0          19.0          1421.0   \n",
       "23        152.0            53.0         102.0          1393.0   \n",
       "24         63.0            83.0         120.0          1435.0   \n",
       "25        117.0           112.0         130.0          1342.0   \n",
       "26         84.0            77.0         135.0          1404.0   \n",
       "27        109.0            10.0          94.0          1487.0   \n",
       "28        221.0            67.0         155.0          1257.0   \n",
       "29         89.0           158.0         203.0          1250.0   \n",
       "30         40.0            30.0          79.0          1550.0   \n",
       "31         57.0            82.0         186.0          1375.0   \n",
       "32        138.0           174.0         241.0          1148.0   \n",
       "33         49.0            13.0          79.0          1559.0   \n",
       "34        204.0           125.0          23.0          1348.0   \n",
       "35        177.0            97.0         113.0          1312.0   \n",
       "36         68.0           101.0         155.0          1375.0   \n",
       "37         21.0            57.0          62.0          1561.0   \n",
       "38        253.0           175.0         231.0          1040.0   \n",
       "39        134.0           131.0         239.0          1196.0   \n",
       "\n",
       "    dilution_volume_fraction  silica_mass_conc  silica_mass_fraction well  \n",
       "15                  0.085129         33.875996              0.041146   C2  \n",
       "16                  0.557648          5.171431              0.006318   C3  \n",
       "17                  0.571070          5.049888              0.006223   C4  \n",
       "18                  0.193844         14.877086              0.018215   C5  \n",
       "19                  0.523258          5.511315              0.006749   C6  \n",
       "20                  0.081859         35.229452              0.042671   C7  \n",
       "21                  0.121394         23.756079              0.028856   C8  \n",
       "22                  0.099125         29.093002              0.035821   D1  \n",
       "23                  0.119775         24.077158              0.029427   D2  \n",
       "24                  0.288434          9.998265              0.012272   D3  \n",
       "25                  0.156110         18.473109              0.022462   D4  \n",
       "26                  0.216676         13.309452              0.016270   D5  \n",
       "27                  0.166550         17.315132              0.021356   D6  \n",
       "28                  0.082294         35.043225              0.042150   D7  \n",
       "29                  0.203744         14.154253              0.017009   D8  \n",
       "30                  0.451710          6.384273              0.007937   E1  \n",
       "31                  0.321733          8.963455              0.010900   E3  \n",
       "32                  0.132193         21.815453              0.025911   E4  \n",
       "33                  0.372062          7.750973              0.009641   E5  \n",
       "34                  0.089322         32.285978              0.039493   E6  \n",
       "35                  0.102840         28.042132              0.034007   E8  \n",
       "36                  0.268821         10.727737              0.013070   F1  \n",
       "37                  0.876230          3.291192              0.004102   F2  \n",
       "38                  0.071872         40.124919              0.047170   F3  \n",
       "39                  0.135794         21.236800              0.025324   F4  "
      ]
     },
     "execution_count": 74,
     "metadata": {},
     "output_type": "execute_result"
    }
   ],
   "source": [
    "ethanol_fix"
   ]
  },
  {
   "cell_type": "markdown",
   "id": "e2ddb62c-d3f3-4c45-917a-e575189606c9",
   "metadata": {},
   "source": [
    "## add ethanol"
   ]
  },
  {
   "cell_type": "code",
   "execution_count": 75,
   "id": "3f691382-182a-42b7-842f-7ff1f89d6746",
   "metadata": {},
   "outputs": [],
   "source": [
    "jubilee.park_tool()"
   ]
  },
  {
   "cell_type": "code",
   "execution_count": 82,
   "id": "0f4144b3-a7f9-4650-886f-054cd544228a",
   "metadata": {},
   "outputs": [],
   "source": [
    "stober.add_reactants_batch(jubilee, mix_syringe, mix_syringe, ethanol_fix, location_lookup, 'ethanol_volume', ethanol_stocks, stocks_usable_volume=15000, dwell_time = 10)"
   ]
  },
  {
   "cell_type": "code",
   "execution_count": 83,
   "id": "7d204157-ed65-4f49-acbc-d192222f0dc6",
   "metadata": {},
   "outputs": [],
   "source": [
    "#dispense remaining volume from etOH mix syringe\n",
    "jubilee.pickup_tool(mix_syringe)\n",
    "mix_syringe.dispense(mix_syringe.remaining_volume-1, trash[0])\n",
    "logger.info('Emptied ethanol syringe into trash')\n",
    "jubilee.park_tool()"
   ]
  },
  {
   "cell_type": "code",
   "execution_count": 84,
   "id": "2fc66aa1-bc70-4098-8e37-f148188c26c6",
   "metadata": {},
   "outputs": [],
   "source": [
    "mix_syringe.set_pulsewidth(mix_syringe.empty_position-1)"
   ]
  },
  {
   "cell_type": "markdown",
   "id": "9e35c96c-2ea8-438a-989d-f6d73c8f16ed",
   "metadata": {},
   "source": [
    "## Dispense water\n"
   ]
  },
  {
   "cell_type": "code",
   "execution_count": 86,
   "id": "9f765450-7f64-49e7-85f8-335e2fa0b666",
   "metadata": {},
   "outputs": [],
   "source": [
    "stober.add_reactants_batch(jubilee, water_syringe, mix_syringe, sample_table, location_lookup, 'water_volume', water_stocks, dwell_time = 7)"
   ]
  },
  {
   "cell_type": "markdown",
   "id": "cd60cc24-167e-46e5-9e73-a2457c8964de",
   "metadata": {},
   "source": [
    "## dispense Ammonia"
   ]
  },
  {
   "cell_type": "code",
   "execution_count": 87,
   "id": "7dc4c2ae-9e4e-40e0-929a-6e0a3e4bc240",
   "metadata": {},
   "outputs": [],
   "source": [
    "stober.add_reactants_batch(jubilee, ammonia_syringe, mix_syringe, sample_table, location_lookup, 'ammonia_volume', ammonia_stocks)"
   ]
  },
  {
   "cell_type": "markdown",
   "id": "bc8a34b3-acd7-4b89-a9ea-34b514cd3d8c",
   "metadata": {},
   "source": [
    "## mix precursors"
   ]
  },
  {
   "cell_type": "code",
   "execution_count": 88,
   "id": "f4f701c5-7908-489e-a1eb-9b2c60438c96",
   "metadata": {},
   "outputs": [],
   "source": [
    "stober.first_mix(jubilee, mix_syringe, 2000, location_lookup, rinse_stocks, 5)"
   ]
  },
  {
   "cell_type": "markdown",
   "id": "000c1369-b5a0-4183-97d4-fced54279516",
   "metadata": {},
   "source": [
    "## Add TEOS and mix"
   ]
  },
  {
   "cell_type": "code",
   "execution_count": 89,
   "id": "efccb2d6-234a-4af8-a87d-4d904696a48e",
   "metadata": {},
   "outputs": [],
   "source": [
    "stober.add_reactants_batch(jubilee, teos_syringe, mix_syringe, sample_table, location_lookup, 'teos_volume', teos_stocks, mix_after=(2000, 5, rinse_stocks))"
   ]
  },
  {
   "cell_type": "markdown",
   "id": "cf654819-0ae6-452a-bdbe-5f2a008f1b1c",
   "metadata": {},
   "source": [
    "### Dilution"
   ]
  },
  {
   "cell_type": "markdown",
   "id": "0fd08f57-b814-44a7-a083-0310c9f7fbe2",
   "metadata": {},
   "source": [
    "#### Double dilution volume fraction"
   ]
  },
  {
   "cell_type": "code",
   "execution_count": 90,
   "id": "8335458b-950a-4208-b379-5f97f1f14377",
   "metadata": {},
   "outputs": [],
   "source": [
    "sample_table['dilution_volume_fraction'] = sample_table['dilution_volume_fraction']*1.5"
   ]
  },
  {
   "cell_type": "code",
   "execution_count": 91,
   "id": "1a965e59-1b59-44b6-94c7-ec1337d8c011",
   "metadata": {},
   "outputs": [
    {
     "data": {
      "text/plain": [
       "0     0.544023\n",
       "1     0.327289\n",
       "2     1.355691\n",
       "3     0.151115\n",
       "4     0.274457\n",
       "5     0.129567\n",
       "6     0.271145\n",
       "7     1.169204\n",
       "8     0.708355\n",
       "9     0.394935\n",
       "10    1.413705\n",
       "11    0.300826\n",
       "12    0.340781\n",
       "13    0.431437\n",
       "14    0.345078\n",
       "15    0.127694\n",
       "16    0.836473\n",
       "17    0.856605\n",
       "18    0.290767\n",
       "19    0.784887\n",
       "20    0.122788\n",
       "21    0.182091\n",
       "22    0.148687\n",
       "23    0.179662\n",
       "24    0.432651\n",
       "25    0.234165\n",
       "26    0.325014\n",
       "27    0.249825\n",
       "28    0.123441\n",
       "29    0.305616\n",
       "30    0.677565\n",
       "31    0.482600\n",
       "32    0.198289\n",
       "33    0.558093\n",
       "34    0.133983\n",
       "35    0.154259\n",
       "36    0.403231\n",
       "37    1.314344\n",
       "38    0.107807\n",
       "39    0.203692\n",
       "Name: dilution_volume_fraction, dtype: float64"
      ]
     },
     "execution_count": 91,
     "metadata": {},
     "output_type": "execute_result"
    }
   ],
   "source": [
    "sample_table.dilution_volume_fraction"
   ]
  },
  {
   "cell_type": "markdown",
   "id": "31d4c08e-5217-4865-b799-6b98cdf2da28",
   "metadata": {},
   "source": [
    "#### calculate target ethanol and sample volumes"
   ]
  },
  {
   "cell_type": "code",
   "execution_count": 92,
   "id": "7a53f819-7f96-4be8-ab93-9d7ac4024b30",
   "metadata": {},
   "outputs": [],
   "source": [
    "target_dilute_vol = 1700\n",
    "\n",
    "sample_table['sample_dilute_vol'] = np.round(sample_table['dilution_volume_fraction']*target_dilute_vol)\n",
    "sample_table['ethanol_dilute_vol'] = np.round((1-sample_table['dilution_volume_fraction'])*target_dilute_vol)"
   ]
  },
  {
   "cell_type": "code",
   "execution_count": 93,
   "id": "26c98bb6-f6dc-48c3-9564-855007e54de9",
   "metadata": {},
   "outputs": [
    {
     "data": {
      "text/html": [
       "<div>\n",
       "<style scoped>\n",
       "    .dataframe tbody tr th:only-of-type {\n",
       "        vertical-align: middle;\n",
       "    }\n",
       "\n",
       "    .dataframe tbody tr th {\n",
       "        vertical-align: top;\n",
       "    }\n",
       "\n",
       "    .dataframe thead th {\n",
       "        text-align: right;\n",
       "    }\n",
       "</style>\n",
       "<table border=\"1\" class=\"dataframe\">\n",
       "  <thead>\n",
       "    <tr style=\"text-align: right;\">\n",
       "      <th></th>\n",
       "      <th>uuid</th>\n",
       "      <th>well</th>\n",
       "      <th>sample_dilute_vol</th>\n",
       "      <th>ethanol_dilute_vol</th>\n",
       "    </tr>\n",
       "  </thead>\n",
       "  <tbody>\n",
       "    <tr>\n",
       "      <th>0</th>\n",
       "      <td>4fd21940-a331-4524-b730-cf76de1b4d8d</td>\n",
       "      <td>A1</td>\n",
       "      <td>925.0</td>\n",
       "      <td>775.0</td>\n",
       "    </tr>\n",
       "    <tr>\n",
       "      <th>1</th>\n",
       "      <td>8933d4b1-8929-4b58-a491-a0c55df30fed</td>\n",
       "      <td>A2</td>\n",
       "      <td>556.0</td>\n",
       "      <td>1144.0</td>\n",
       "    </tr>\n",
       "    <tr>\n",
       "      <th>2</th>\n",
       "      <td>130093e4-2947-4d37-b73a-ed4c23442ab8</td>\n",
       "      <td>A3</td>\n",
       "      <td>2305.0</td>\n",
       "      <td>-605.0</td>\n",
       "    </tr>\n",
       "    <tr>\n",
       "      <th>3</th>\n",
       "      <td>a3f7d49b-cc77-4468-aae0-ad451027ddc0</td>\n",
       "      <td>A4</td>\n",
       "      <td>257.0</td>\n",
       "      <td>1443.0</td>\n",
       "    </tr>\n",
       "    <tr>\n",
       "      <th>4</th>\n",
       "      <td>f69628da-ff56-4f3a-ba2e-816036b87557</td>\n",
       "      <td>A5</td>\n",
       "      <td>467.0</td>\n",
       "      <td>1233.0</td>\n",
       "    </tr>\n",
       "    <tr>\n",
       "      <th>5</th>\n",
       "      <td>eb5c038c-56ff-4457-93db-9b9702e3ff43</td>\n",
       "      <td>A6</td>\n",
       "      <td>220.0</td>\n",
       "      <td>1480.0</td>\n",
       "    </tr>\n",
       "    <tr>\n",
       "      <th>6</th>\n",
       "      <td>56898b1b-5aed-4595-ade6-5b73d45a7808</td>\n",
       "      <td>A7</td>\n",
       "      <td>461.0</td>\n",
       "      <td>1239.0</td>\n",
       "    </tr>\n",
       "    <tr>\n",
       "      <th>7</th>\n",
       "      <td>ba91b97c-6a58-431f-99ae-091ae1a16bc8</td>\n",
       "      <td>A8</td>\n",
       "      <td>1988.0</td>\n",
       "      <td>-288.0</td>\n",
       "    </tr>\n",
       "    <tr>\n",
       "      <th>8</th>\n",
       "      <td>e34d9838-8677-405f-b825-5068facac35e</td>\n",
       "      <td>B1</td>\n",
       "      <td>1204.0</td>\n",
       "      <td>496.0</td>\n",
       "    </tr>\n",
       "    <tr>\n",
       "      <th>9</th>\n",
       "      <td>4ccc9a11-4c0b-48a4-848e-edcdd5c8da69</td>\n",
       "      <td>B3</td>\n",
       "      <td>671.0</td>\n",
       "      <td>1029.0</td>\n",
       "    </tr>\n",
       "    <tr>\n",
       "      <th>10</th>\n",
       "      <td>4b56c2d8-0a77-4566-b8fe-51e66454dd75</td>\n",
       "      <td>B4</td>\n",
       "      <td>2403.0</td>\n",
       "      <td>-703.0</td>\n",
       "    </tr>\n",
       "    <tr>\n",
       "      <th>11</th>\n",
       "      <td>a6ee3a08-02cd-4703-9d6c-3721dad590c8</td>\n",
       "      <td>B5</td>\n",
       "      <td>511.0</td>\n",
       "      <td>1189.0</td>\n",
       "    </tr>\n",
       "    <tr>\n",
       "      <th>12</th>\n",
       "      <td>8573b7f6-c239-4d33-aa19-58f59c7d0499</td>\n",
       "      <td>B6</td>\n",
       "      <td>579.0</td>\n",
       "      <td>1121.0</td>\n",
       "    </tr>\n",
       "    <tr>\n",
       "      <th>13</th>\n",
       "      <td>3a3f06cf-6324-44c0-9fbe-cbe35289073b</td>\n",
       "      <td>B8</td>\n",
       "      <td>733.0</td>\n",
       "      <td>967.0</td>\n",
       "    </tr>\n",
       "    <tr>\n",
       "      <th>14</th>\n",
       "      <td>38d80e08-5bd4-4e0e-9d11-a60d55148590</td>\n",
       "      <td>C1</td>\n",
       "      <td>587.0</td>\n",
       "      <td>1113.0</td>\n",
       "    </tr>\n",
       "    <tr>\n",
       "      <th>15</th>\n",
       "      <td>1cd98242-2c09-46dc-8eab-ff593ec4a284</td>\n",
       "      <td>C2</td>\n",
       "      <td>217.0</td>\n",
       "      <td>1483.0</td>\n",
       "    </tr>\n",
       "    <tr>\n",
       "      <th>16</th>\n",
       "      <td>f4b66637-2c73-4d0b-83ba-3f7e3b3f3c06</td>\n",
       "      <td>C3</td>\n",
       "      <td>1422.0</td>\n",
       "      <td>278.0</td>\n",
       "    </tr>\n",
       "    <tr>\n",
       "      <th>17</th>\n",
       "      <td>c9f1b338-8d5c-491e-ac9c-cab3df47c1e5</td>\n",
       "      <td>C4</td>\n",
       "      <td>1456.0</td>\n",
       "      <td>244.0</td>\n",
       "    </tr>\n",
       "    <tr>\n",
       "      <th>18</th>\n",
       "      <td>96f2819c-ff4b-467a-a599-1d2a0c792f5f</td>\n",
       "      <td>C5</td>\n",
       "      <td>494.0</td>\n",
       "      <td>1206.0</td>\n",
       "    </tr>\n",
       "    <tr>\n",
       "      <th>19</th>\n",
       "      <td>6411e428-3416-4aad-a246-f50fe8f3fb4b</td>\n",
       "      <td>C6</td>\n",
       "      <td>1334.0</td>\n",
       "      <td>366.0</td>\n",
       "    </tr>\n",
       "    <tr>\n",
       "      <th>20</th>\n",
       "      <td>7c4bcab3-4ce3-4a28-92b1-4f8a04c76603</td>\n",
       "      <td>C7</td>\n",
       "      <td>209.0</td>\n",
       "      <td>1491.0</td>\n",
       "    </tr>\n",
       "    <tr>\n",
       "      <th>21</th>\n",
       "      <td>22fc6d75-43ef-41aa-993b-b76a84f4c5af</td>\n",
       "      <td>C8</td>\n",
       "      <td>310.0</td>\n",
       "      <td>1390.0</td>\n",
       "    </tr>\n",
       "    <tr>\n",
       "      <th>22</th>\n",
       "      <td>86a7ac96-49f1-4da4-b518-37e4ab31a099</td>\n",
       "      <td>D1</td>\n",
       "      <td>253.0</td>\n",
       "      <td>1447.0</td>\n",
       "    </tr>\n",
       "    <tr>\n",
       "      <th>23</th>\n",
       "      <td>89639692-ddbf-413e-a0c4-bf75456e2877</td>\n",
       "      <td>D2</td>\n",
       "      <td>305.0</td>\n",
       "      <td>1395.0</td>\n",
       "    </tr>\n",
       "    <tr>\n",
       "      <th>24</th>\n",
       "      <td>b702c675-432e-4034-b542-ef01ad2fd4ff</td>\n",
       "      <td>D3</td>\n",
       "      <td>736.0</td>\n",
       "      <td>964.0</td>\n",
       "    </tr>\n",
       "    <tr>\n",
       "      <th>25</th>\n",
       "      <td>3b660550-7e2e-4815-ba89-ac39039b2f38</td>\n",
       "      <td>D4</td>\n",
       "      <td>398.0</td>\n",
       "      <td>1302.0</td>\n",
       "    </tr>\n",
       "    <tr>\n",
       "      <th>26</th>\n",
       "      <td>fe183495-7f7b-4949-bc1b-6c7d1ea634b7</td>\n",
       "      <td>D5</td>\n",
       "      <td>553.0</td>\n",
       "      <td>1147.0</td>\n",
       "    </tr>\n",
       "    <tr>\n",
       "      <th>27</th>\n",
       "      <td>f180c1df-360c-45fe-9547-101530b6135a</td>\n",
       "      <td>D6</td>\n",
       "      <td>425.0</td>\n",
       "      <td>1275.0</td>\n",
       "    </tr>\n",
       "    <tr>\n",
       "      <th>28</th>\n",
       "      <td>ad3d2a7d-b678-43a0-b803-1cc079e32935</td>\n",
       "      <td>D7</td>\n",
       "      <td>210.0</td>\n",
       "      <td>1490.0</td>\n",
       "    </tr>\n",
       "    <tr>\n",
       "      <th>29</th>\n",
       "      <td>70246cb4-9be2-45b9-8704-bb3f4ea585c5</td>\n",
       "      <td>D8</td>\n",
       "      <td>520.0</td>\n",
       "      <td>1180.0</td>\n",
       "    </tr>\n",
       "    <tr>\n",
       "      <th>30</th>\n",
       "      <td>01cddefc-e6a6-41aa-9052-06286b12b8fe</td>\n",
       "      <td>E1</td>\n",
       "      <td>1152.0</td>\n",
       "      <td>548.0</td>\n",
       "    </tr>\n",
       "    <tr>\n",
       "      <th>31</th>\n",
       "      <td>83d8158b-ea97-4925-af7c-8fa89acc9319</td>\n",
       "      <td>E3</td>\n",
       "      <td>820.0</td>\n",
       "      <td>880.0</td>\n",
       "    </tr>\n",
       "    <tr>\n",
       "      <th>32</th>\n",
       "      <td>b8953350-d5ad-4c99-b929-ebfe8febd0df</td>\n",
       "      <td>E4</td>\n",
       "      <td>337.0</td>\n",
       "      <td>1363.0</td>\n",
       "    </tr>\n",
       "    <tr>\n",
       "      <th>33</th>\n",
       "      <td>f9db1144-6916-4420-ae44-2bf5f1313a4d</td>\n",
       "      <td>E5</td>\n",
       "      <td>949.0</td>\n",
       "      <td>751.0</td>\n",
       "    </tr>\n",
       "    <tr>\n",
       "      <th>34</th>\n",
       "      <td>8f7962c4-620f-42e2-812b-2b161525c034</td>\n",
       "      <td>E6</td>\n",
       "      <td>228.0</td>\n",
       "      <td>1472.0</td>\n",
       "    </tr>\n",
       "    <tr>\n",
       "      <th>35</th>\n",
       "      <td>4b2d55e4-a4ec-419a-aade-a8645321f66a</td>\n",
       "      <td>E8</td>\n",
       "      <td>262.0</td>\n",
       "      <td>1438.0</td>\n",
       "    </tr>\n",
       "    <tr>\n",
       "      <th>36</th>\n",
       "      <td>cb613f37-04cf-4232-aa8f-9a57445e5eee</td>\n",
       "      <td>F1</td>\n",
       "      <td>685.0</td>\n",
       "      <td>1015.0</td>\n",
       "    </tr>\n",
       "    <tr>\n",
       "      <th>37</th>\n",
       "      <td>852b1fcf-ea63-4436-bd20-9ebf44baf999</td>\n",
       "      <td>F2</td>\n",
       "      <td>2234.0</td>\n",
       "      <td>-534.0</td>\n",
       "    </tr>\n",
       "    <tr>\n",
       "      <th>38</th>\n",
       "      <td>f2e85141-9985-49ff-a6bc-17e2ecbcdc8b</td>\n",
       "      <td>F3</td>\n",
       "      <td>183.0</td>\n",
       "      <td>1517.0</td>\n",
       "    </tr>\n",
       "    <tr>\n",
       "      <th>39</th>\n",
       "      <td>328c652f-9166-4c49-ad89-6445d14b89f3</td>\n",
       "      <td>F4</td>\n",
       "      <td>346.0</td>\n",
       "      <td>1354.0</td>\n",
       "    </tr>\n",
       "  </tbody>\n",
       "</table>\n",
       "</div>"
      ],
      "text/plain": [
       "                                    uuid well  sample_dilute_vol  \\\n",
       "0   4fd21940-a331-4524-b730-cf76de1b4d8d   A1              925.0   \n",
       "1   8933d4b1-8929-4b58-a491-a0c55df30fed   A2              556.0   \n",
       "2   130093e4-2947-4d37-b73a-ed4c23442ab8   A3             2305.0   \n",
       "3   a3f7d49b-cc77-4468-aae0-ad451027ddc0   A4              257.0   \n",
       "4   f69628da-ff56-4f3a-ba2e-816036b87557   A5              467.0   \n",
       "5   eb5c038c-56ff-4457-93db-9b9702e3ff43   A6              220.0   \n",
       "6   56898b1b-5aed-4595-ade6-5b73d45a7808   A7              461.0   \n",
       "7   ba91b97c-6a58-431f-99ae-091ae1a16bc8   A8             1988.0   \n",
       "8   e34d9838-8677-405f-b825-5068facac35e   B1             1204.0   \n",
       "9   4ccc9a11-4c0b-48a4-848e-edcdd5c8da69   B3              671.0   \n",
       "10  4b56c2d8-0a77-4566-b8fe-51e66454dd75   B4             2403.0   \n",
       "11  a6ee3a08-02cd-4703-9d6c-3721dad590c8   B5              511.0   \n",
       "12  8573b7f6-c239-4d33-aa19-58f59c7d0499   B6              579.0   \n",
       "13  3a3f06cf-6324-44c0-9fbe-cbe35289073b   B8              733.0   \n",
       "14  38d80e08-5bd4-4e0e-9d11-a60d55148590   C1              587.0   \n",
       "15  1cd98242-2c09-46dc-8eab-ff593ec4a284   C2              217.0   \n",
       "16  f4b66637-2c73-4d0b-83ba-3f7e3b3f3c06   C3             1422.0   \n",
       "17  c9f1b338-8d5c-491e-ac9c-cab3df47c1e5   C4             1456.0   \n",
       "18  96f2819c-ff4b-467a-a599-1d2a0c792f5f   C5              494.0   \n",
       "19  6411e428-3416-4aad-a246-f50fe8f3fb4b   C6             1334.0   \n",
       "20  7c4bcab3-4ce3-4a28-92b1-4f8a04c76603   C7              209.0   \n",
       "21  22fc6d75-43ef-41aa-993b-b76a84f4c5af   C8              310.0   \n",
       "22  86a7ac96-49f1-4da4-b518-37e4ab31a099   D1              253.0   \n",
       "23  89639692-ddbf-413e-a0c4-bf75456e2877   D2              305.0   \n",
       "24  b702c675-432e-4034-b542-ef01ad2fd4ff   D3              736.0   \n",
       "25  3b660550-7e2e-4815-ba89-ac39039b2f38   D4              398.0   \n",
       "26  fe183495-7f7b-4949-bc1b-6c7d1ea634b7   D5              553.0   \n",
       "27  f180c1df-360c-45fe-9547-101530b6135a   D6              425.0   \n",
       "28  ad3d2a7d-b678-43a0-b803-1cc079e32935   D7              210.0   \n",
       "29  70246cb4-9be2-45b9-8704-bb3f4ea585c5   D8              520.0   \n",
       "30  01cddefc-e6a6-41aa-9052-06286b12b8fe   E1             1152.0   \n",
       "31  83d8158b-ea97-4925-af7c-8fa89acc9319   E3              820.0   \n",
       "32  b8953350-d5ad-4c99-b929-ebfe8febd0df   E4              337.0   \n",
       "33  f9db1144-6916-4420-ae44-2bf5f1313a4d   E5              949.0   \n",
       "34  8f7962c4-620f-42e2-812b-2b161525c034   E6              228.0   \n",
       "35  4b2d55e4-a4ec-419a-aade-a8645321f66a   E8              262.0   \n",
       "36  cb613f37-04cf-4232-aa8f-9a57445e5eee   F1              685.0   \n",
       "37  852b1fcf-ea63-4436-bd20-9ebf44baf999   F2             2234.0   \n",
       "38  f2e85141-9985-49ff-a6bc-17e2ecbcdc8b   F3              183.0   \n",
       "39  328c652f-9166-4c49-ad89-6445d14b89f3   F4              346.0   \n",
       "\n",
       "    ethanol_dilute_vol  \n",
       "0                775.0  \n",
       "1               1144.0  \n",
       "2               -605.0  \n",
       "3               1443.0  \n",
       "4               1233.0  \n",
       "5               1480.0  \n",
       "6               1239.0  \n",
       "7               -288.0  \n",
       "8                496.0  \n",
       "9               1029.0  \n",
       "10              -703.0  \n",
       "11              1189.0  \n",
       "12              1121.0  \n",
       "13               967.0  \n",
       "14              1113.0  \n",
       "15              1483.0  \n",
       "16               278.0  \n",
       "17               244.0  \n",
       "18              1206.0  \n",
       "19               366.0  \n",
       "20              1491.0  \n",
       "21              1390.0  \n",
       "22              1447.0  \n",
       "23              1395.0  \n",
       "24               964.0  \n",
       "25              1302.0  \n",
       "26              1147.0  \n",
       "27              1275.0  \n",
       "28              1490.0  \n",
       "29              1180.0  \n",
       "30               548.0  \n",
       "31               880.0  \n",
       "32              1363.0  \n",
       "33               751.0  \n",
       "34              1472.0  \n",
       "35              1438.0  \n",
       "36              1015.0  \n",
       "37              -534.0  \n",
       "38              1517.0  \n",
       "39              1354.0  "
      ]
     },
     "execution_count": 93,
     "metadata": {},
     "output_type": "execute_result"
    }
   ],
   "source": [
    "sample_table[['uuid', 'well', 'sample_dilute_vol', 'ethanol_dilute_vol']]"
   ]
  },
  {
   "cell_type": "code",
   "execution_count": 94,
   "id": "a798b966-9a36-49f1-9966-e5bc86354aa8",
   "metadata": {},
   "outputs": [],
   "source": [
    "# dispese ethanol into dilution vials\n",
    "stober.add_reactants_batch(jubilee, mix_syringe, mix_syringe, sample_table, location_lookup, 'ethanol_dilute_vol', ethanol_stocks, stocks_usable_volume=15000, dwell_time = 1)"
   ]
  },
  {
   "cell_type": "code",
   "execution_count": null,
   "id": "1204f8bb-59eb-4006-90bc-ebf8d02d75b7",
   "metadata": {},
   "outputs": [],
   "source": []
  }
 ],
 "metadata": {
  "kernelspec": {
   "display_name": "Python 3 (ipykernel)",
   "language": "python",
   "name": "python3"
  },
  "language_info": {
   "codemirror_mode": {
    "name": "ipython",
    "version": 3
   },
   "file_extension": ".py",
   "mimetype": "text/x-python",
   "name": "python",
   "nbconvert_exporter": "python",
   "pygments_lexer": "ipython3",
   "version": "3.12.9"
  }
 },
 "nbformat": 4,
 "nbformat_minor": 5
}
