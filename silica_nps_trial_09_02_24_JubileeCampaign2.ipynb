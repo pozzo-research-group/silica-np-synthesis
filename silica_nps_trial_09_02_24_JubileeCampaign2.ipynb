{
 "cells": [
  {
   "cell_type": "markdown",
   "id": "110d0499-187d-47cb-b3bd-52e828f810d0",
   "metadata": {},
   "source": [
    "## Setup"
   ]
  },
  {
   "cell_type": "code",
   "execution_count": 3,
   "id": "023a9737-b2dd-4151-af0b-67ea2aeb7386",
   "metadata": {},
   "outputs": [
    {
     "name": "stdout",
     "output_type": "stream",
     "text": [
      "The autoreload extension is already loaded. To reload it, use:\n",
      "  %reload_ext autoreload\n"
     ]
    }
   ],
   "source": [
    "%load_ext autoreload\n",
    "%autoreload 2"
   ]
  },
  {
   "cell_type": "code",
   "execution_count": 4,
   "id": "a8305f4f-98d9-46aa-b3a5-aef3875465c8",
   "metadata": {},
   "outputs": [],
   "source": [
    "import requests\n",
    "\n",
    "# ----------- Science Jubilee -------------\n",
    "from science_jubilee import Machine as Jub\n",
    "from science_jubilee.tools import HTTPSyringe as syringe\n",
    "from science_jubilee.tools import Pipette\n",
    "import time"
   ]
  },
  {
   "cell_type": "code",
   "execution_count": 5,
   "id": "14a2a2fa-72ba-40b2-b36a-aee72d96c4b8",
   "metadata": {},
   "outputs": [
    {
     "data": {
      "text/plain": [
       "b'{\"remaining_volume\":null,\"syringe_loaded\":false}\\n'"
      ]
     },
     "execution_count": 5,
     "metadata": {},
     "output_type": "execute_result"
    }
   ],
   "source": [
    "url = 'http://192.168.1.5:5000'\n",
    "volume = {'volume':5}\n",
    "r = requests.post(url + '/get_status', json = {'name':'1cc_2'})\n",
    "r.content"
   ]
  },
  {
   "cell_type": "code",
   "execution_count": 4,
   "id": "bb05bc51-e88d-493a-b7ae-ec244bab05d1",
   "metadata": {},
   "outputs": [],
   "source": [
    "jubilee = Jub.Machine(address='192.168.1.2', simulated = False) "
   ]
  },
  {
   "cell_type": "code",
   "execution_count": 5,
   "id": "8c90cdc0-c96e-48c3-972a-03b11576bdc1",
   "metadata": {},
   "outputs": [],
   "source": [
    "#jubilee.home_all()"
   ]
  },
  {
   "cell_type": "code",
   "execution_count": 6,
   "id": "7dd1d29b-638a-4d85-9cf3-986931deae0f",
   "metadata": {},
   "outputs": [],
   "source": [
    "deck = jubilee.load_deck('lab_automation_deck_AFL_bolton.json')"
   ]
  },
  {
   "cell_type": "markdown",
   "id": "43d1f97d-4c55-40d3-ac5b-9c3a3f1062ed",
   "metadata": {},
   "source": [
    "## Load labware\n"
   ]
  },
  {
   "cell_type": "code",
   "execution_count": 7,
   "id": "19b4bfa8-6878-4b0b-a564-369faa361b1c",
   "metadata": {},
   "outputs": [
    {
     "name": "stdout",
     "output_type": "stream",
     "text": [
      "New manual offset applied to septavialrev1_44_holder_2000ul\n"
     ]
    }
   ],
   "source": [
    "samples = jubilee.load_labware('septavialrev1_44_holder_2000ul.json', 2)\n",
    "samples.manual_offset([(19.8,178.1),(132.5,177.6),(132.5,106.6)])"
   ]
  },
  {
   "cell_type": "code",
   "execution_count": 8,
   "id": "19ad67cc-b0a8-4c1f-8d6a-60b173599c82",
   "metadata": {},
   "outputs": [
    {
     "name": "stdout",
     "output_type": "stream",
     "text": [
      "New manual offset applied to 20mlscintillation_12_wellplate_18000ul\n"
     ]
    }
   ],
   "source": [
    "stocks = jubilee.load_labware('20mlscintillation_12_wellplate_18000ul.json', 4)\n",
    "stocks.manual_offset([(31.3,268.1),(117.6,267),(117.9,210.9)])"
   ]
  },
  {
   "cell_type": "code",
   "execution_count": 9,
   "id": "f539dbaa-8bb3-4945-96a5-8e82ee77a839",
   "metadata": {},
   "outputs": [
    {
     "name": "stdout",
     "output_type": "stream",
     "text": [
      "New manual offset applied to opentrons_96_tiprack_300ul\n"
     ]
    }
   ],
   "source": [
    "tiprack = jubilee.load_labware('opentrons_96_tiprack_300ul.json', 0)\n",
    "tiprack.manual_offset([(28,77.3),(127.1,76.8),(127.8,14.5)])"
   ]
  },
  {
   "cell_type": "code",
   "execution_count": 10,
   "id": "84418e76-bfeb-4dc0-9759-700653860f74",
   "metadata": {},
   "outputs": [],
   "source": [
    "trash = jubilee.load_labware('agilent_1_reservoir_290ml.json', 1)"
   ]
  },
  {
   "cell_type": "markdown",
   "id": "b8f140ff-c5f8-494d-bd58-093982edd086",
   "metadata": {},
   "source": [
    "## Load Tools"
   ]
  },
  {
   "cell_type": "code",
   "execution_count": 11,
   "id": "c50a8f1e-c1d9-4bf6-a714-8c5eda5fde45",
   "metadata": {},
   "outputs": [],
   "source": [
    "P300 = Pipette.Pipette.from_config(0, 'Pipette', 'P300_config.json')\n",
    "jubilee.load_tool(P300)\n",
    "P300.add_tiprack(tiprack)\n",
    "P300.trash = trash[0]"
   ]
  },
  {
   "cell_type": "code",
   "execution_count": 12,
   "id": "d73bac24-917c-4c8c-8c30-494146511312",
   "metadata": {},
   "outputs": [],
   "source": [
    "syringe_10 = syringe.HTTPSyringe.from_config(1, \"src/science_jubilee/tools/configs/10cc_syringe.json\")\n",
    "syringe_1_1 = syringe.HTTPSyringe.from_config(2, \"src/science_jubilee/tools/configs/1cc_1_syringe.json\")\n",
    "syringe_1_2 = syringe.HTTPSyringe.from_config(3, \"src/science_jubilee/tools/configs/1cc_2_syringe.json\")\n",
    "syringe_1_3 = syringe.HTTPSyringe.from_config(4, \"src/science_jubilee/tools/configs/1cc_3_syringe.json\")"
   ]
  },
  {
   "cell_type": "code",
   "execution_count": 13,
   "id": "9448524a-f60e-43fd-ae53-0a51c87e6035",
   "metadata": {},
   "outputs": [],
   "source": [
    "jubilee.load_tool(syringe_10)\n",
    "jubilee.load_tool(syringe_1_1)\n",
    "jubilee.load_tool(syringe_1_2)\n",
    "jubilee.load_tool(syringe_1_3)"
   ]
  },
  {
   "cell_type": "code",
   "execution_count": 14,
   "id": "21127bbe-632c-4ec0-84f9-57d9772a90db",
   "metadata": {},
   "outputs": [],
   "source": [
    "mix_syringe = syringe_10\n",
    "water_syringe = syringe_1_1\n",
    "ammonia_syringe = syringe_1_2\n",
    "teos_syringe = syringe_1_3"
   ]
  },
  {
   "cell_type": "markdown",
   "id": "0aca8e4d-66e2-4757-aada-8975aa30893e",
   "metadata": {},
   "source": [
    "## Manual load solution"
   ]
  },
  {
   "cell_type": "code",
   "execution_count": 15,
   "id": "fb5924f6-6d8f-4c23-87c0-57e2272fbaf4",
   "metadata": {},
   "outputs": [],
   "source": [
    "jubilee.pickup_tool(water_syringe)"
   ]
  },
  {
   "cell_type": "code",
   "execution_count": 29,
   "id": "32066efa-33dd-4e38-be7c-f768e8d8422a",
   "metadata": {},
   "outputs": [
    {
     "name": "stdout",
     "output_type": "stream",
     "text": [
      "Loaded syringe, remaining volume 0 uL\n"
     ]
    }
   ],
   "source": [
    "teos_syringe.set_pulsewidth(1844)\n",
    "teos_syringe.load_syringe(0, 1844)"
   ]
  },
  {
   "cell_type": "code",
   "execution_count": 17,
   "id": "119e829e-e1ba-4d9e-8fb3-bacc1baa347f",
   "metadata": {},
   "outputs": [],
   "source": [
    "#water_syringe.set_pulsewidth(water_syringe.empty_position-1)"
   ]
  },
  {
   "cell_type": "code",
   "execution_count": 30,
   "id": "6e2522d1-f31a-4bc1-8f73-52ad91b59bf4",
   "metadata": {},
   "outputs": [],
   "source": [
    "aspirate = samples[0].bottom(+200)\n",
    "aspirate_vol = 995 #- syringe_1_1.remaining_volume\n",
    "#aspirate_vol = 9995\n",
    "teos_syringe.aspirate(aspirate_vol, aspirate)"
   ]
  },
  {
   "cell_type": "code",
   "execution_count": 19,
   "id": "3d2e8779-8b93-4314-9357-613142bbe9bf",
   "metadata": {
    "scrolled": true
   },
   "outputs": [],
   "source": [
    "jubilee.park_tool()"
   ]
  },
  {
   "cell_type": "code",
   "execution_count": null,
   "id": "775f7391-b4d8-490f-8e14-ac2df6fd6f0a",
   "metadata": {},
   "outputs": [],
   "source": [
    "# deck is at lowest point now"
   ]
  },
  {
   "cell_type": "code",
   "execution_count": null,
   "id": "de4b3043-819d-462d-84d3-4dd2c220bbf1",
   "metadata": {},
   "outputs": [],
   "source": [
    "# repeat for other solutions"
   ]
  },
  {
   "cell_type": "code",
   "execution_count": 30,
   "id": "3d137f98-3067-4b3d-8067-f9e32a797065",
   "metadata": {},
   "outputs": [],
   "source": [
    "#jubilee.move(dz = 50)"
   ]
  },
  {
   "cell_type": "markdown",
   "id": "b9dff3f4-8be6-4f73-b343-6221f8df76dc",
   "metadata": {},
   "source": [
    "## Experiment"
   ]
  },
  {
   "cell_type": "markdown",
   "id": "fee5c3c1-2208-491d-991f-9076742143e4",
   "metadata": {},
   "source": [
    "##### EtOH: 1851.8 ul\n",
    "##### NH3OH: 67.6 ul\n",
    "##### H20: 36 ul\n",
    "##### TEOS: 44.6 ul"
   ]
  },
  {
   "cell_type": "code",
   "execution_count": 34,
   "id": "88802e66-f526-45a6-8e95-1c8277d768e5",
   "metadata": {},
   "outputs": [],
   "source": [
    "etoh_dispense_vol_1 = 300\n",
    "etoh__dispense_vol_2 = 175.9\n",
    "ammonia_dispense_vol = 67.6\n",
    "water_dispense_vol = 36\n",
    "teos_dispense_vol = 44.6\n",
    "mix_vol = 2000"
   ]
  },
  {
   "cell_type": "markdown",
   "id": "5230295b-a88c-48e5-84d8-b1e43692146d",
   "metadata": {},
   "source": [
    "### Add EtOH"
   ]
  },
  {
   "cell_type": "code",
   "execution_count": 116,
   "id": "b658cbe8-d213-4ece-8f85-9a8c1399b0f0",
   "metadata": {},
   "outputs": [],
   "source": [
    "jubilee.pickup_tool(P300)"
   ]
  },
  {
   "cell_type": "code",
   "execution_count": 117,
   "id": "e610289b-b25b-4192-822a-04470c552c4d",
   "metadata": {},
   "outputs": [],
   "source": [
    "P300.pickup_tip()"
   ]
  },
  {
   "cell_type": "code",
   "execution_count": 60,
   "id": "a6105e35-b5dc-4abd-954d-f20b51255349",
   "metadata": {},
   "outputs": [],
   "source": [
    "#jubilee.move_to(x = samples[0].x, y = samples[0].y)"
   ]
  },
  {
   "cell_type": "code",
   "execution_count": 66,
   "id": "8eae0f56-535b-4fa4-ae23-ebe069c105db",
   "metadata": {},
   "outputs": [],
   "source": [
    "jubilee.move(dz = 60)"
   ]
  },
  {
   "cell_type": "code",
   "execution_count": 118,
   "id": "bb3e9db1-db05-4282-a6ef-63f5e88e3e9a",
   "metadata": {},
   "outputs": [],
   "source": [
    "etoh_vol_1 = 300\n",
    "etoh_vol_2 = 175.9\n",
    "for i in range(2):\n",
    "    for k in range(5):\n",
    "        P300.aspirate(etoh_dispense_vol_1, stocks[0])\n",
    "        jubilee.move(dz=60)\n",
    "        P300.dispense(etoh_dispense_vol_1, samples[i].bottom(+15))\n",
    "        jubilee.move(dz=60)\n",
    "        time.sleep(1)\n",
    "    for j in range (2):\n",
    "        P300.aspirate(etoh_dispense_vol_2, stocks[0])\n",
    "        jubilee.move(dz=60)\n",
    "        P300.dispense(etoh_dispense_vol_2, samples[i].bottom(+15))\n",
    "        jubilee.move(dz=60)\n",
    "        time.sleep(1)"
   ]
  },
  {
   "cell_type": "code",
   "execution_count": 119,
   "id": "8f624c82-4a5f-4e1a-b561-1a2665e13596",
   "metadata": {},
   "outputs": [],
   "source": [
    "P300.drop_tip()\n"
   ]
  },
  {
   "cell_type": "code",
   "execution_count": 120,
   "id": "8ddedc6d-ea60-47a1-825f-7b0bd4aaa6da",
   "metadata": {},
   "outputs": [],
   "source": [
    "jubilee.park_tool()"
   ]
  },
  {
   "cell_type": "markdown",
   "id": "e456176e-5b2f-4422-ad2d-4ea12e268f4d",
   "metadata": {},
   "source": [
    "### Add NH3OH (syringe_1_2)"
   ]
  },
  {
   "cell_type": "code",
   "execution_count": 94,
   "id": "c4b6ee77-d604-4bb4-afe4-009df3aeb266",
   "metadata": {},
   "outputs": [],
   "source": [
    "jubilee.pickup_tool(ammonia_syringe)"
   ]
  },
  {
   "cell_type": "code",
   "execution_count": 95,
   "id": "57251bd9-ecd6-4061-b298-bb8b7a93a276",
   "metadata": {},
   "outputs": [],
   "source": [
    "#jubilee.move_to(x = samples[0].x, y = samples[0].y)"
   ]
  },
  {
   "cell_type": "code",
   "execution_count": 96,
   "id": "a8aaad9d-e627-4415-90c4-1ee9c9b42de1",
   "metadata": {},
   "outputs": [],
   "source": [
    "ammonia_dispense_vol = 67.6\n",
    "\n",
    "\n",
    "for i in range(2):\n",
    "    dispense_location = samples[i].bottom(+25)\n",
    "    ammonia_syringe.dispense(ammonia_dispense_vol, dispense_location)\n",
    "    time.sleep(3)\n",
    "    #jubilee.move(dz = 20)"
   ]
  },
  {
   "cell_type": "code",
   "execution_count": 97,
   "id": "f445076a-117a-4cd4-bc8e-794cae0aefc7",
   "metadata": {},
   "outputs": [],
   "source": [
    "jubilee.park_tool()"
   ]
  },
  {
   "cell_type": "markdown",
   "id": "385691e1-b9e1-442a-ab9a-5bd20d7b2c32",
   "metadata": {},
   "source": [
    "### Add water (syringe_1_1)"
   ]
  },
  {
   "cell_type": "code",
   "execution_count": 99,
   "id": "31c7ce21-2c1e-4296-bd8c-c9e4f2893ac6",
   "metadata": {},
   "outputs": [],
   "source": [
    "jubilee.pickup_tool(water_syringe)"
   ]
  },
  {
   "cell_type": "code",
   "execution_count": 114,
   "id": "945a4ca2-8ea2-4874-a006-70a6d610136a",
   "metadata": {},
   "outputs": [],
   "source": [
    "water_dispense_vol = 36\n",
    "\n",
    "\n",
    "for i in range(2):\n",
    "    dispense_location = samples[i].bottom(+25)\n",
    "    water_syringe.dispense(water_dispense_vol, dispense_location)\n",
    "    time.sleep(3)"
   ]
  },
  {
   "cell_type": "code",
   "execution_count": 115,
   "id": "5c512666-472c-4a3e-968d-bc67e1650c8b",
   "metadata": {},
   "outputs": [],
   "source": [
    "jubilee.park_tool()"
   ]
  },
  {
   "cell_type": "markdown",
   "id": "6bb658fb-cce8-441e-b79e-253450cacf02",
   "metadata": {},
   "source": [
    "### Mix (syringe_10)"
   ]
  },
  {
   "cell_type": "code",
   "execution_count": 20,
   "id": "3344fc30-f119-4b6a-8404-cd9b32332842",
   "metadata": {},
   "outputs": [],
   "source": [
    "jubilee.pickup_tool(mix_syringe)"
   ]
  },
  {
   "cell_type": "code",
   "execution_count": 23,
   "id": "b21a4f9f-d424-406f-8bb1-a2fc1f0c5813",
   "metadata": {},
   "outputs": [],
   "source": [
    "mix_syringe.aspirate(5, samples[0].bottom(+5))"
   ]
  },
  {
   "cell_type": "code",
   "execution_count": 26,
   "id": "9c9b82cd-f4de-4795-8b38-dec7f0ce15a6",
   "metadata": {},
   "outputs": [
    {
     "name": "stdout",
     "output_type": "stream",
     "text": [
      "aspirate\n",
      "dispense\n",
      "aspirate\n",
      "dispense\n",
      "aspirate\n",
      "dispense\n",
      "aspirate\n",
      "dispense\n",
      "aspirate\n",
      "dispense\n",
      "aspirate\n",
      "dispense\n",
      "aspirate\n",
      "dispense\n",
      "aspirate\n",
      "dispense\n",
      "aspirate\n",
      "dispense\n",
      "aspirate\n",
      "dispense\n",
      "aspirate\n",
      "dispense\n",
      "aspirate\n",
      "dispense\n",
      "aspirate\n",
      "dispense\n",
      "aspirate\n",
      "dispense\n",
      "aspirate\n",
      "dispense\n",
      "aspirate\n",
      "dispense\n",
      "aspirate\n",
      "dispense\n",
      "aspirate\n",
      "dispense\n",
      "aspirate\n",
      "dispense\n",
      "aspirate\n",
      "dispense\n",
      "aspirate\n",
      "dispense\n",
      "aspirate\n",
      "dispense\n"
     ]
    }
   ],
   "source": [
    "for i in range(2):\n",
    "    mix_loc = samples[i].bottom(+5)\n",
    "    mix_syringe.mix(mix_vol, 5, mix_loc, t_hold = 3)\n",
    "\n",
    "    wash_loc_1 = stocks[1]\n",
    "    mix_syringe.aspirate(5, wash_loc_1)\n",
    "    for k in range(2):\n",
    "        wash_loc = stocks[k+1]\n",
    "        mix_syringe.mix(mix_vol, 3, wash_loc, t_hold = 3)"
   ]
  },
  {
   "cell_type": "code",
   "execution_count": 27,
   "id": "ce39c3ad-1c05-47b0-985a-66cef5e6ebec",
   "metadata": {},
   "outputs": [],
   "source": [
    "jubilee.park_tool()"
   ]
  },
  {
   "cell_type": "markdown",
   "id": "1b0466c1-60e7-4806-8352-c69aec650a40",
   "metadata": {},
   "source": [
    "### Add TEOS and mix"
   ]
  },
  {
   "cell_type": "code",
   "execution_count": 28,
   "id": "c49ccd69-382f-431c-951d-a328d67bf31b",
   "metadata": {},
   "outputs": [],
   "source": []
  },
  {
   "cell_type": "code",
   "execution_count": 35,
   "id": "77c368c1-7a55-4ed5-9794-8ee4dcc7bfcd",
   "metadata": {},
   "outputs": [
    {
     "name": "stdout",
     "output_type": "stream",
     "text": [
      "aspirate\n",
      "dispense\n",
      "aspirate\n",
      "dispense\n",
      "aspirate\n",
      "dispense\n",
      "aspirate\n",
      "dispense\n",
      "aspirate\n",
      "dispense\n",
      "aspirate\n",
      "dispense\n",
      "aspirate\n",
      "dispense\n",
      "aspirate\n",
      "dispense\n",
      "aspirate\n",
      "dispense\n",
      "aspirate\n",
      "dispense\n",
      "aspirate\n",
      "dispense\n",
      "aspirate\n",
      "dispense\n",
      "aspirate\n",
      "dispense\n",
      "aspirate\n",
      "dispense\n",
      "aspirate\n",
      "dispense\n",
      "aspirate\n",
      "dispense\n",
      "aspirate\n",
      "dispense\n",
      "aspirate\n",
      "dispense\n",
      "aspirate\n",
      "dispense\n",
      "aspirate\n",
      "dispense\n",
      "aspirate\n",
      "dispense\n",
      "aspirate\n",
      "dispense\n"
     ]
    }
   ],
   "source": [
    "teos_dispense_vol = 44.6\n",
    "\n",
    "\n",
    "for i in range(2):\n",
    "    jubilee.pickup_tool(teos_syringe)\n",
    "    dispense_location = samples[i].bottom(+25)\n",
    "    mix_location = samples[i].bottom(+5)\n",
    "    teos_syringe.dispense(teos_dispense_vol, dispense_location)\n",
    "    time.sleep(3)\n",
    "    jubilee.park_tool()\n",
    "    time.sleep(1)\n",
    "    \n",
    "    jubilee.pickup_tool(mix_syringe)\n",
    "    \n",
    "    mix_loc = samples[i].bottom(+5)\n",
    "    mix_syringe.aspirate(5, mix_loc)\n",
    "    mix_syringe.mix(mix_vol, 5, mix_loc, t_hold = 3)\n",
    "\n",
    "    wash_loc_1 = stocks[1]\n",
    "    mix_syringe.aspirate(5, wash_loc_1)\n",
    "    for k in range(2):\n",
    "        wash_loc = stocks[k+1]\n",
    "        mix_syringe.mix(mix_vol, 3, wash_loc, t_hold = 3)\n",
    "\n",
    "    jubilee.park_tool()\n",
    "    "
   ]
  },
  {
   "cell_type": "code",
   "execution_count": 33,
   "id": "baa8c9c9-7643-47a0-955e-b24bee542bf7",
   "metadata": {},
   "outputs": [],
   "source": []
  },
  {
   "cell_type": "code",
   "execution_count": null,
   "id": "604eb7ac-8826-454e-bbe8-66bc42e5c432",
   "metadata": {},
   "outputs": [],
   "source": []
  }
 ],
 "metadata": {
  "kernelspec": {
   "display_name": "Python 3 (ipykernel)",
   "language": "python",
   "name": "python3"
  },
  "language_info": {
   "codemirror_mode": {
    "name": "ipython",
    "version": 3
   },
   "file_extension": ".py",
   "mimetype": "text/x-python",
   "name": "python",
   "nbconvert_exporter": "python",
   "pygments_lexer": "ipython3",
   "version": "3.9.19"
  }
 },
 "nbformat": 4,
 "nbformat_minor": 5
}
