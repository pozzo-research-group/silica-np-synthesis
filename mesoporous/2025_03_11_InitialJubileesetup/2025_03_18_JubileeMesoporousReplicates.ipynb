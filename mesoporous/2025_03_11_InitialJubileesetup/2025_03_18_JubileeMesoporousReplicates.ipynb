{
 "cells": [
  {
   "cell_type": "markdown",
   "id": "110d0499-187d-47cb-b3bd-52e828f810d0",
   "metadata": {},
   "source": [
    "## Setup"
   ]
  },
  {
   "cell_type": "code",
   "execution_count": null,
   "id": "023a9737-b2dd-4151-af0b-67ea2aeb7386",
   "metadata": {},
   "outputs": [],
   "source": [
    "%load_ext autoreload\n",
    "%autoreload 2"
   ]
  },
  {
   "cell_type": "code",
   "execution_count": null,
   "id": "a8305f4f-98d9-46aa-b3a5-aef3875465c8",
   "metadata": {},
   "outputs": [],
   "source": [
    "import requests\n",
    "\n",
    "# ----------- Science Jubilee -------------\n",
    "from science_jubilee import Machine as Jub\n",
    "from science_jubilee.tools import HTTPSyringe as syringe\n",
    "from science_jubilee.tools import Pipette, PneumaticSampleLoader\n",
    "from science_jubilee.utils import Handlers\n",
    "import time\n",
    "import numpy as np\n",
    "import pandas as pd\n",
    "import logging\n",
    "import sys\n",
    "sys.path.append('../..')\n",
    "import stober_synthesis_utils as stober"
   ]
  },
  {
   "cell_type": "code",
   "execution_count": null,
   "id": "39e0dd27-900a-4151-ad77-cae178e545d7",
   "metadata": {},
   "outputs": [],
   "source": [
    "FORMAT = '%(asctime)s:%(levelname)s:%(name)s:%(message)s'\n",
    "logging.basicConfig(filename = '2025_03_18_mesoporoustest.log', level = logging.INFO, format = FORMAT)\n",
    "logger = logging.getLogger(__name__)"
   ]
  },
  {
   "cell_type": "code",
   "execution_count": null,
   "id": "bb05bc51-e88d-493a-b7ae-ec244bab05d1",
   "metadata": {
    "scrolled": true
   },
   "outputs": [],
   "source": [
    "jubilee = Jub.Machine(address='192.168.1.2', simulated = False, crash_detection = False) "
   ]
  },
  {
   "cell_type": "raw",
   "id": "23f14450-b2fd-46b7-82b2-a17b1061fde5",
   "metadata": {
    "scrolled": true
   },
   "source": [
    "[(31.1, 169.0), (121.1, 169.0), (121.1, 113.0)]#jubilee.home_all()\n",
    "logger.info('Homed Jubilee')"
   ]
  },
  {
   "cell_type": "code",
   "execution_count": null,
   "id": "d2505692-e098-4cf7-954a-b2ac9d91e06f",
   "metadata": {},
   "outputs": [],
   "source": [
    "sample_table = pd.read_csv('2025_03_11_mesoporous_sampletable - Sheet1.csv')\n",
    "#sample_table_2 = pd.read_csv('SampleTable_ReproReplicates_10000.csv')\n"
   ]
  },
  {
   "cell_type": "code",
   "execution_count": null,
   "id": "3fa12ac1-cd52-42b9-829b-1eca23762195",
   "metadata": {},
   "outputs": [],
   "source": [
    "deck = jubilee.load_deck('lab_automation_deck_AFL_bolton.json')"
   ]
  },
  {
   "cell_type": "code",
   "execution_count": null,
   "id": "2c839229-1542-4c4b-9078-419dab9e6cce",
   "metadata": {},
   "outputs": [],
   "source": [
    "sample_table['well'] = ['A1', 'A2', 'A3', 'A4', 'B1']"
   ]
  },
  {
   "cell_type": "code",
   "execution_count": null,
   "id": "76e34c1c-e861-4c5e-95f4-e4ac7ed4bae8",
   "metadata": {},
   "outputs": [],
   "source": [
    "sample_table"
   ]
  },
  {
   "cell_type": "code",
   "execution_count": null,
   "id": "1b0ac340-6814-43bb-b6e9-93861ebd0264",
   "metadata": {},
   "outputs": [],
   "source": [
    "jubilee.park_tool()"
   ]
  },
  {
   "cell_type": "code",
   "execution_count": null,
   "id": "32f944e6-f983-467d-ae83-c3a5038ba7b3",
   "metadata": {},
   "outputs": [],
   "source": [
    "sample_table['water_volume'].sum()"
   ]
  },
  {
   "cell_type": "markdown",
   "id": "b8f140ff-c5f8-494d-bd58-093982edd086",
   "metadata": {},
   "source": [
    "## Load Tools"
   ]
  },
  {
   "cell_type": "code",
   "execution_count": null,
   "id": "d73bac24-917c-4c8c-8c30-494146511312",
   "metadata": {},
   "outputs": [],
   "source": [
    "syringe_10 = syringe.HTTPSyringe.from_config(2, \"../../../science-jubilee/src/science_jubilee/tools/configs/10cc_syringe.json\")\n",
    "syringe_1_1 = syringe.HTTPSyringe.from_config(1, \"../../../science-jubilee/src/science_jubilee/tools/configs/1cc_1_syringe.json\")\n",
    "syringe_1_2 = syringe.HTTPSyringe.from_config(3, \"../../../science-jubilee/src/science_jubilee/tools/configs/1cc_2_Hamiltonsyringe.json\")\n",
    "syringe_1_3 = syringe.HTTPSyringe.from_config(4, \"../../../science-jubilee/src/science_jubilee/tools/configs/1cc_3_Hamiltonsyringe.json\")\n",
    "syringe_1_4 = syringe.HTTPSyringe.from_config(0, '../../../science-jubilee/src/science_jubilee/tools/configs/1cc_4_syringe.json')"
   ]
  },
  {
   "cell_type": "code",
   "execution_count": null,
   "id": "eff9355f-e5f8-4b67-bc17-6bc8aa4e41d9",
   "metadata": {},
   "outputs": [],
   "source": []
  },
  {
   "cell_type": "code",
   "execution_count": null,
   "id": "9448524a-f60e-43fd-ae53-0a51c87e6035",
   "metadata": {
    "scrolled": true
   },
   "outputs": [],
   "source": [
    "jubilee.load_tool(syringe_10)\n",
    "jubilee.load_tool(syringe_1_1)\n",
    "jubilee.load_tool(syringe_1_2)\n",
    "jubilee.load_tool(syringe_1_3)\n",
    "jubilee.load_tool(syringe_1_4)"
   ]
  },
  {
   "cell_type": "code",
   "execution_count": null,
   "id": "21127bbe-632c-4ec0-84f9-57d9772a90db",
   "metadata": {},
   "outputs": [],
   "source": [
    "mix_syringe = syringe_10\n",
    "water_syringe = syringe_1_1\n",
    "ammonia_syringe = syringe_1_2\n",
    "teos_syringe = syringe_1_3\n",
    "surfactant_syringe = syringe_1_4"
   ]
  },
  {
   "cell_type": "markdown",
   "id": "e1d880ae-d253-43f5-995f-d2619e29c78a",
   "metadata": {},
   "source": [
    "## Load water syringe with water"
   ]
  },
  {
   "cell_type": "code",
   "execution_count": null,
   "id": "fa91aafe-663a-4ea2-86df-e996c41d8f37",
   "metadata": {},
   "outputs": [],
   "source": [
    "water_syringe.load_syringe(600, 1500)"
   ]
  },
  {
   "cell_type": "code",
   "execution_count": null,
   "id": "bb1ecb81-f858-4ab6-8a1e-b5a85f432f54",
   "metadata": {
    "scrolled": true
   },
   "outputs": [],
   "source": [
    "water_syringe.set_pulsewidth(water_syringe.empty_position-1, s = 2000)"
   ]
  },
  {
   "cell_type": "code",
   "execution_count": null,
   "id": "b78aa9f3-0da5-4987-9da3-171f4e5ae2b1",
   "metadata": {},
   "outputs": [],
   "source": [
    "water_syringe.set_pulsewidth(water_syringe.full_position+1, s = 150)"
   ]
  },
  {
   "cell_type": "code",
   "execution_count": null,
   "id": "e08edebd-a82b-4e35-a662-def2994a8f00",
   "metadata": {},
   "outputs": [],
   "source": [
    "water_syringe.set_pulsewidth(water_syringe.full_position+250, s = 500)"
   ]
  },
  {
   "cell_type": "code",
   "execution_count": null,
   "id": "80aff25d-bae2-478d-bc07-4b4f11bd5e05",
   "metadata": {},
   "outputs": [],
   "source": [
    "water_syringe.load_syringe(590, water_syringe.full_position+250)"
   ]
  },
  {
   "cell_type": "markdown",
   "id": "8ea5df3b-0ad5-4dbb-ad3f-089a2d5f2bd1",
   "metadata": {},
   "source": [
    "## Load ammonia syringe"
   ]
  },
  {
   "cell_type": "code",
   "execution_count": null,
   "id": "87a366e4-d389-4830-b923-0a932968add9",
   "metadata": {},
   "outputs": [],
   "source": [
    "#ammonia_syringe.set_pulsewidth(1420, s = 10)"
   ]
  },
  {
   "cell_type": "code",
   "execution_count": null,
   "id": "0b36ffcf-ec60-4ee2-b2ae-5fb6895fd16c",
   "metadata": {},
   "outputs": [],
   "source": [
    "ammonia_syringe.load_syringe(600, 1500)"
   ]
  },
  {
   "cell_type": "code",
   "execution_count": null,
   "id": "497e2cad-9387-4815-9398-58651b8d9826",
   "metadata": {},
   "outputs": [],
   "source": [
    "ammonia_syringe.set_pulsewidth(ammonia_syringe.empty_position-1, s = 2000)"
   ]
  },
  {
   "cell_type": "code",
   "execution_count": null,
   "id": "a0c7e519-e4e1-4a6a-a40d-3a5125503194",
   "metadata": {},
   "outputs": [],
   "source": [
    "ammonia_syringe.set_pulsewidth(ammonia_syringe.full_position+1, s = 200)"
   ]
  },
  {
   "cell_type": "code",
   "execution_count": null,
   "id": "460e8b6d-261f-4e06-b587-a978291d57f7",
   "metadata": {},
   "outputs": [],
   "source": [
    "ammonia_syringe.set_pulsewidth(ammonia_syringe.full_position+250, s = 500)"
   ]
  },
  {
   "cell_type": "code",
   "execution_count": null,
   "id": "b5be2527-8c06-4465-8e44-41f410149cd7",
   "metadata": {},
   "outputs": [],
   "source": [
    "ammonia_syringe.load_syringe(560, ammonia_syringe.full_position+250)"
   ]
  },
  {
   "cell_type": "markdown",
   "id": "e2c53ecf-d14a-4536-8062-9e7af8c51ba8",
   "metadata": {},
   "source": [
    "## Load TEOS syringe"
   ]
  },
  {
   "cell_type": "code",
   "execution_count": null,
   "id": "22a73a10-c727-45c9-a653-1716b97e7d51",
   "metadata": {},
   "outputs": [],
   "source": [
    "teos_syringe.load_syringe(600, 1500)"
   ]
  },
  {
   "cell_type": "code",
   "execution_count": null,
   "id": "2a4274ac-3472-452b-9368-56f36ed8d078",
   "metadata": {},
   "outputs": [],
   "source": [
    "teos_syringe.set_pulsewidth(teos_syringe.empty_position-1, s = 2000)"
   ]
  },
  {
   "cell_type": "code",
   "execution_count": null,
   "id": "63453a13-e4ed-47a9-8d35-3368c1a83daf",
   "metadata": {},
   "outputs": [],
   "source": [
    "teos_syringe.set_pulsewidth(teos_syringe.full_position+1, s = 200)"
   ]
  },
  {
   "cell_type": "code",
   "execution_count": null,
   "id": "7d22ae98-d92e-4ee2-aa1e-dbd7090f7778",
   "metadata": {},
   "outputs": [],
   "source": [
    "teos_syringe.set_pulsewidth(teos_syringe.full_position+300, s = 200)"
   ]
  },
  {
   "cell_type": "code",
   "execution_count": null,
   "id": "cf5154eb-2d59-4bd8-90c2-86c3374a662d",
   "metadata": {},
   "outputs": [],
   "source": [
    "teos_syringe.load_syringe(510, teos_syringe.full_position+300)"
   ]
  },
  {
   "cell_type": "markdown",
   "id": "ad1ac96b-3d53-4da1-aa2c-a8c2386280f8",
   "metadata": {},
   "source": [
    "## load ethanol syringe"
   ]
  },
  {
   "cell_type": "code",
   "execution_count": null,
   "id": "f1caaf1a-900c-43ed-a57b-754b0d62aa37",
   "metadata": {},
   "outputs": [],
   "source": [
    "#jubilee.park_tool()"
   ]
  },
  {
   "cell_type": "code",
   "execution_count": null,
   "id": "94db4b0e-3075-4b45-91f7-9bc2817a2e31",
   "metadata": {},
   "outputs": [],
   "source": [
    "mix_syringe.load_syringe(0, mix_syringe.empty_position-1)"
   ]
  },
  {
   "cell_type": "code",
   "execution_count": null,
   "id": "f53b6f7e-62d6-43fc-b2bf-a2e1aebdf313",
   "metadata": {},
   "outputs": [],
   "source": [
    "mix_syringe.set_pulsewidth(mix_syringe.empty_position-1, s = 2000)\n"
   ]
  },
  {
   "cell_type": "raw",
   "id": "0e36d258-6ed3-4903-b42d-e6935c6b8c4c",
   "metadata": {},
   "source": [
    "mix_syringe.set_pulsewidth(mix_syringe.full_position+1, s = 1000)"
   ]
  },
  {
   "cell_type": "code",
   "execution_count": null,
   "id": "96d9a53e-24a0-4595-bb69-db89483176ce",
   "metadata": {},
   "outputs": [],
   "source": [
    "#mix_syringe.empty_position"
   ]
  },
  {
   "cell_type": "raw",
   "id": "7e3d58e7-37fc-4675-8b4f-a9694846ec55",
   "metadata": {},
   "source": [
    "mix_syringe.set_pulsewidth(mix_syringe.full_position+250, s = 500)"
   ]
  },
  {
   "cell_type": "code",
   "execution_count": null,
   "id": "99ad1605-10c8-45a3-80cf-c6adfd7ae6a9",
   "metadata": {},
   "outputs": [],
   "source": [
    "mix_syringe.load_syringe(0, mix_syringe.empty_position-1)"
   ]
  },
  {
   "cell_type": "markdown",
   "id": "2ef32544-c669-418b-a7c1-8fd75339d5dd",
   "metadata": {},
   "source": [
    "## Don't need to load surfactant syringe"
   ]
  },
  {
   "cell_type": "code",
   "execution_count": null,
   "id": "41b13b04-c72e-4861-a124-ea99f567d762",
   "metadata": {},
   "outputs": [],
   "source": [
    "surfactant_syringe.set_pulsewidth(surfactant_syringe.empty_position-1)\n",
    "surfactant_syringe.load_syringe(0, surfactant_syringe.empty_position-1)"
   ]
  },
  {
   "cell_type": "markdown",
   "id": "080da025-a378-489d-a6db-17613e9c11dc",
   "metadata": {},
   "source": [
    "## Load AFL"
   ]
  },
  {
   "cell_type": "code",
   "execution_count": null,
   "id": "801f27e5-a789-4c82-82bd-311b6de0dd7e",
   "metadata": {},
   "outputs": [],
   "source": [
    "safe_pos = (5, 200, 100)\n",
    "cell_pos = (217.5, 69.0, 61.5)\n",
    "url = 'http://192.168.1.4'\n",
    "port = '5000'\n",
    "name = 'PSL'\n",
    "username = 'test'\n",
    "password = 'domo_arigato'"
   ]
  },
  {
   "cell_type": "code",
   "execution_count": null,
   "id": "85783550-a77a-476a-81db-9e5f41bbccf7",
   "metadata": {},
   "outputs": [],
   "source": [
    "psl = PneumaticSampleLoader.PneumaticSampleLoader(url, port, name, cell_pos, safe_pos, username, password)"
   ]
  },
  {
   "cell_type": "code",
   "execution_count": null,
   "id": "fdf50ad8-4755-4597-99f0-141dc5c43fb7",
   "metadata": {},
   "outputs": [],
   "source": [
    "jubilee.load_tool(psl)"
   ]
  },
  {
   "cell_type": "code",
   "execution_count": null,
   "id": "0455bc8c-9cb8-4c97-b315-9570364685a8",
   "metadata": {},
   "outputs": [],
   "source": []
  },
  {
   "cell_type": "code",
   "execution_count": null,
   "id": "1b982ff7-2787-49f4-b231-fc05a7ec1ec4",
   "metadata": {},
   "outputs": [],
   "source": []
  },
  {
   "cell_type": "code",
   "execution_count": null,
   "id": "efe67070-c469-4939-9d94-08df95a97960",
   "metadata": {},
   "outputs": [],
   "source": []
  },
  {
   "cell_type": "markdown",
   "id": "43d1f97d-4c55-40d3-ac5b-9c3a3f1062ed",
   "metadata": {},
   "source": [
    "## Load labware\n"
   ]
  },
  {
   "cell_type": "code",
   "execution_count": null,
   "id": "19b4bfa8-6878-4b0b-a564-369faa361b1c",
   "metadata": {
    "scrolled": true
   },
   "outputs": [],
   "source": [
    "samples = jubilee.load_labware('20mlscintillation_12_wellplate_18000ul.json', 2)\n",
    "samples.manual_offset([(31.1, 169.0), (121.1, 169.0), (121.1, 113.0)])"
   ]
  },
  {
   "cell_type": "code",
   "execution_count": null,
   "id": "19ad67cc-b0a8-4c1f-8d6a-60b173599c82",
   "metadata": {},
   "outputs": [],
   "source": [
    "stocks_main = jubilee.load_labware('20mlscintillation_12_wellplate_18000ul.json', 4)\n",
    "stocks_main.manual_offset([(30.5, 266.0),  (120.5, 266.0), (120.5, 210.0)])"
   ]
  },
  {
   "cell_type": "raw",
   "id": "75302623-3364-404f-9da4-f85e63eadbe1",
   "metadata": {},
   "source": [
    "stocks_extra = jubilee.load_labware('20mlscintillation_12_wellplate_18000ul.json', 5)\n",
    "stocks_extra.manual_offset([(171.1, 264.1), (256.9, 265.0), (256.7, 208.5)])\n"
   ]
  },
  {
   "cell_type": "code",
   "execution_count": null,
   "id": "f7395271-1a02-4f11-883f-34a8456f0a05",
   "metadata": {},
   "outputs": [],
   "source": [
    "teos_stocks = [stocks_main[0]]\n",
    "ammonia_stocks = [stocks_main[1]]\n",
    "water_stocks = [stocks_main[2]]\n",
    "ethanol_stocks = [stocks_main[3]]\n",
    "ctab_stocks = [stocks_main[4]]\n",
    "f127_stocks = [stocks_main[5]]\n",
    "rinse_stocks_precursor = [stocks_main[6], stocks_main[7], stocks_main[8]]\n",
    "rinse_stocks_teos = [stocks_main[9], stocks_main[10], stocks_main[11]]"
   ]
  },
  {
   "cell_type": "markdown",
   "id": "4bd30fe3-5be6-4ea7-a61d-357272d3e8a4",
   "metadata": {},
   "source": [
    "## Check sample alignment"
   ]
  },
  {
   "cell_type": "code",
   "execution_count": null,
   "id": "25a4d272-6e56-4649-ba7a-5e04e922c043",
   "metadata": {},
   "outputs": [],
   "source": [
    "jubilee.pickup_tool(mix_syringe)\n",
    "for i, row in sample_table.iterrows():\n",
    "    loc = samples[row['well']]\n",
    "    jubilee.move_to(x = loc.x, y = loc.y)\n",
    "    print(loc.y)\n",
    "    jubilee.move_to(z = loc.top_+7)\n",
    "    curr_well = row['well']\n",
    "    ans = input(f'Is the tip centered over sample {curr_well}?')\n",
    "    if ans == 'y':\n",
    "        continue\n",
    "    else:\n",
    "        continue\n",
    "    "
   ]
  },
  {
   "cell_type": "code",
   "execution_count": null,
   "id": "79b6af8b-5894-4549-80bf-8187ea5963ee",
   "metadata": {},
   "outputs": [],
   "source": [
    "sample_table"
   ]
  },
  {
   "cell_type": "code",
   "execution_count": null,
   "id": "a52572b9-48d6-4bf1-acb2-19c7ac5c6fb8",
   "metadata": {},
   "outputs": [],
   "source": [
    "jubilee.park_tool()\n"
   ]
  },
  {
   "cell_type": "code",
   "execution_count": null,
   "id": "2b09450e-d3bd-4e25-b944-993721a3b997",
   "metadata": {},
   "outputs": [],
   "source": [
    "loc = samples['A8']\n",
    "jubilee.move_to(x = loc.x, y = loc.y)\n",
    "print(loc.y)\n",
    "jubilee.move_to(z = loc.top_+7)"
   ]
  },
  {
   "cell_type": "code",
   "execution_count": null,
   "id": "f14516c5-472d-4913-910d-d2ff2ff01e1f",
   "metadata": {},
   "outputs": [],
   "source": []
  },
  {
   "cell_type": "markdown",
   "id": "b9dff3f4-8be6-4f73-b343-6221f8df76dc",
   "metadata": {},
   "source": [
    "# Experiment\n"
   ]
  },
  {
   "cell_type": "code",
   "execution_count": null,
   "id": "9d770745-931b-42d0-8b40-409a83411619",
   "metadata": {},
   "outputs": [],
   "source": [
    "location_lookup = {row['uuid']:samples[row['well']] for i, row in sample_table.iterrows()}\n"
   ]
  },
  {
   "cell_type": "code",
   "execution_count": null,
   "id": "30502878-2c56-4f8a-94dc-e7ad55f92927",
   "metadata": {},
   "outputs": [],
   "source": [
    "sample_table['ethanol_volume'].sum()"
   ]
  },
  {
   "cell_type": "code",
   "execution_count": null,
   "id": "56012000-1084-4702-8bbe-89eb98341d7c",
   "metadata": {},
   "outputs": [],
   "source": []
  },
  {
   "cell_type": "code",
   "execution_count": null,
   "id": "3af849eb-052b-4ec8-a60c-b642438d4385",
   "metadata": {},
   "outputs": [],
   "source": [
    "sample_table_select = sample_table.iloc[1:2]"
   ]
  },
  {
   "cell_type": "code",
   "execution_count": null,
   "id": "cf225132-78da-41a5-951c-09a904737dc9",
   "metadata": {},
   "outputs": [],
   "source": [
    "sample_table_select"
   ]
  },
  {
   "cell_type": "code",
   "execution_count": null,
   "id": "a14157a7-12e5-4f42-8c42-fe45d063945f",
   "metadata": {
    "scrolled": true
   },
   "outputs": [],
   "source": [
    "psl.rinse_cell()"
   ]
  },
  {
   "cell_type": "markdown",
   "id": "46cde941-01c2-42f7-a416-289c3a389df6",
   "metadata": {},
   "source": [
    "## Load ethanol for background"
   ]
  },
  {
   "cell_type": "code",
   "execution_count": null,
   "id": "d763207c-76f9-402a-bd8e-164495acf940",
   "metadata": {
    "scrolled": true
   },
   "outputs": [],
   "source": [
    "psl.load_sample(mix_syringe, ethanol_stocks[0], 1000)"
   ]
  },
  {
   "cell_type": "code",
   "execution_count": null,
   "id": "5bd2f95e-af1c-4bac-9aae-e942d5565695",
   "metadata": {},
   "outputs": [],
   "source": []
  },
  {
   "cell_type": "markdown",
   "id": "e2ddb62c-d3f3-4c45-917a-e575189606c9",
   "metadata": {},
   "source": [
    "## add ethanol"
   ]
  },
  {
   "cell_type": "code",
   "execution_count": null,
   "id": "6c584a12-25cb-4d4f-b704-89246e93718a",
   "metadata": {},
   "outputs": [],
   "source": [
    "def reactant_transfer(syringe, source, destination, volume, volume_buffer, rinse_stocks = None, rinse_vol = 500, n_rinse = 1, dwell_time = 3):\n",
    "    # zero out syringe\n",
    "    syringe.set_pulsewidth(syringe.empty_position - 1)\n",
    "    syringe.load_syringe(0, syringe.empty_position-1)\n",
    "\n",
    "    jubilee.pickup_tool(syringe)\n",
    "\n",
    "    \n",
    "    # need to account for dispenses > syringe volume\n",
    "    n_dispenses = int(np.ceil(volume / (syringe.capacity - volume_buffer)))\n",
    "    step_volume = volume/n_dispenses\n",
    "    print(f'breaking dispense into {n_dispenses} of volume {step_volume}')\n",
    "    \n",
    "    for i in range(n_dispenses):\n",
    "        # make sure syringe has enough volume\n",
    "        if i == 0:\n",
    "            syringe.aspirate(step_volume + volume_buffer, source.bottom(+5), s = 10, dwell_before = 5)\n",
    "        else:\n",
    "            syringe.aspirate(step_volume, source.bottom(+5), s = 10, dwell_before = 5)\n",
    "\n",
    "    \n",
    "            \n",
    "\n",
    "        syringe.dispense(step_volume, destination.bottom(+5), s = 200)\n",
    "        time.sleep(dwell_time)\n",
    "        logger.info(f'Dispensed {volume} uL from {source} into {destination}')\n",
    "\n",
    "    syringe.dispense(volume_buffer, source.bottom(+5), s = 20)\n",
    "\n",
    "    if rinse_stocks is not None:\n",
    "        for stock in rinse_stocks:\n",
    "            syringe.mix(rinse_vol, n_rinse, stock.bottom(+10), t_hold = 3, s_aspirate = 2000, s_dispense = 1000)\n",
    "\n",
    "        logger.info(f'Washed mix syringe in wash solutions {rinse_stocks}')\n",
    "\n",
    "    jubilee.park_tool()\n",
    "    syringe.set_pulsewidth(syringe.empty_position - 1)\n",
    "    syringe.load_syringe(0, syringe.empty_position-1)\n"
   ]
  },
  {
   "cell_type": "code",
   "execution_count": null,
   "id": "883be04a-ca08-4aca-a9cb-ec789975c004",
   "metadata": {},
   "outputs": [],
   "source": [
    "ind = 5\n",
    "\n",
    "well = location_lookup[ind]\n",
    "etoh_vol = sample_table.iloc[ind-1]['ethanol_volume']\n",
    "f127_volume = sample_table.iloc[ind-1]['f127_voume']\n",
    "ctab_volume = sample_table.iloc[ind-1]['ctab_volume']\n",
    "sample_table_select = sample_table.iloc[ind-1:ind]\n",
    "\n",
    "reaction_time = 60*5"
   ]
  },
  {
   "cell_type": "code",
   "execution_count": null,
   "id": "8acbb0d3-d56f-47ff-acef-b5c011d1d46a",
   "metadata": {},
   "outputs": [],
   "source": []
  },
  {
   "cell_type": "code",
   "execution_count": null,
   "id": "e78d5e00-2c11-4285-940f-38b5e846d8cb",
   "metadata": {},
   "outputs": [],
   "source": [
    "f127_volume"
   ]
  },
  {
   "cell_type": "code",
   "execution_count": null,
   "id": "a3a74617-dc9d-4fcd-9861-43b867c47704",
   "metadata": {},
   "outputs": [],
   "source": [
    "well"
   ]
  },
  {
   "cell_type": "code",
   "execution_count": null,
   "id": "756861b8-9121-4691-badd-6acb8f7f25f8",
   "metadata": {
    "scrolled": true
   },
   "outputs": [],
   "source": [
    "\n",
    "start_time = time.time()\n",
    "\n",
    "#add ethanol\n",
    "reactant_transfer(mix_syringe, ethanol_stocks[0], well, etoh_vol, 500)\n",
    "\n",
    "#add water\n",
    "stober.add_reactants_batch(jubilee, water_syringe, mix_syringe, sample_table_select, location_lookup, 'water_volume', water_stocks, dwell_time = 7)\n",
    "\n",
    "#add ammonia\n",
    "stober.add_reactants_batch(jubilee, ammonia_syringe, mix_syringe, sample_table_select, location_lookup, 'ammonia_volume', ammonia_stocks, dwell_time = 10)\n",
    "\n",
    "# add F127\n",
    "\n",
    "reactant_transfer(surfactant_syringe, f127_stocks[0], well, f127_volume, 50)\n",
    "\n",
    "reactant_transfer(surfactant_syringe, ctab_stocks[0], well, ctab_volume, 50)\n",
    "\n",
    "# mix precursors\n",
    "\n",
    "stober.first_mix(jubilee, mix_syringe, 5000, location_lookup_selected, rinse_stocks_precursor, 3, n_rinse = 1)\n",
    "\n",
    "# add teos\n",
    "teos_add_time = stober.add_reactants_batch(jubilee, teos_syringe, mix_syringe, sample_table_select, location_lookup, 'teos_volume', teos_stocks, mix_after=(8000, 5, rinse_stocks_teos), wait = False, n_rinse = 1, return_time = True)\n",
    "\n",
    "print(f'Time from TEOS addition to load: {time.time() - teos_add_time} s')\n",
    "\n",
    "time.sleep(reaction_time - (time.time() - teos_add_time))\n",
    "\n",
    "\n"
   ]
  },
  {
   "cell_type": "code",
   "execution_count": null,
   "id": "dd948960-ea7e-48fc-9305-e9d484a8160f",
   "metadata": {},
   "outputs": [],
   "source": [
    "psl.load_sample(mix_syringe, well, 1000)\n",
    "\n",
    "\n",
    "\n",
    "mix_syringe.set_pulsewidth(mix_syringe.empty_position-1)\n",
    "mix_syringe.load_syringe(0, mix_syringe.empty_position-1)\n",
    "\n",
    "print(f'Time to load: {(time.time() - start_time)/60}')\n",
    "jubilee.pickup_tool(mix_syringe)\n",
    "for stock in rinse_stocks_teos:\n",
    "    mix_syringe.mix(5000, 3, stock, s_aspirate = 2000, s_dispense = 1000)\n",
    "\n",
    "jubilee.park_tool()\n",
    "\n",
    "end_time = time.time()\n",
    "\n",
    "print(f'Total sample time: {(end_time - start_time)/60}')"
   ]
  },
  {
   "cell_type": "code",
   "execution_count": null,
   "id": "cd7422e5-3337-48f8-a9a7-941aac6f9558",
   "metadata": {},
   "outputs": [],
   "source": [
    "mix_syringe.set_pulsewidth(mix_syringe.empty_position-1)\n",
    "mix_syringe.load_syringe(0, mix_syringe.empty_position-1)\n",
    "jubilee.pickup_tool(mix_syringe)\n",
    "for stock in rinse_stocks_teos:\n",
    "    mix_syringe.mix(5000, 3, stock)"
   ]
  },
  {
   "cell_type": "code",
   "execution_count": null,
   "id": "b43f0c25-b481-4329-8bb6-73bd45536847",
   "metadata": {},
   "outputs": [],
   "source": [
    "sample_table"
   ]
  },
  {
   "cell_type": "code",
   "execution_count": null,
   "id": "4f1c680b-5491-4634-918a-52bc4e99f3ae",
   "metadata": {},
   "outputs": [],
   "source": [
    "etoh_vol"
   ]
  },
  {
   "cell_type": "code",
   "execution_count": null,
   "id": "31c454b6-de09-46c5-a4d7-f9a0c0257c2a",
   "metadata": {},
   "outputs": [],
   "source": [
    "time.time()"
   ]
  },
  {
   "cell_type": "code",
   "execution_count": null,
   "id": "e770e237-6a21-4029-8061-002c28917c50",
   "metadata": {},
   "outputs": [],
   "source": [
    "time.time() + 60*5 "
   ]
  },
  {
   "cell_type": "code",
   "execution_count": null,
   "id": "f35fcced-3196-4868-b1b2-d8083653204a",
   "metadata": {},
   "outputs": [],
   "source": []
  },
  {
   "cell_type": "code",
   "execution_count": null,
   "id": "ed5bf089-e143-4afb-ab98-80b9fa11476d",
   "metadata": {},
   "outputs": [],
   "source": []
  },
  {
   "cell_type": "code",
   "execution_count": null,
   "id": "a6c28415-6603-4bff-aad2-fd7fe99dd604",
   "metadata": {},
   "outputs": [],
   "source": [
    "stober.add_reactants_batch(jubilee, mix_syringe, mix_syringe, sample_table_select, location_lookup, 'ethanol_volume', ethanol_stocks, stocks_usable_volume=15000, dwell_time = 10)"
   ]
  },
  {
   "cell_type": "code",
   "execution_count": null,
   "id": "2fc66aa1-bc70-4098-8e37-f148188c26c6",
   "metadata": {},
   "outputs": [],
   "source": [
    "mix_syringe.set_pulsewidth(mix_syringe.empty_position-1)"
   ]
  },
  {
   "cell_type": "code",
   "execution_count": null,
   "id": "e709c459-5f0e-4b80-b61d-3cd6fee7ec70",
   "metadata": {},
   "outputs": [],
   "source": [
    "mix_syringe.load_syringe(0, mix_syringe.empty_position-1)"
   ]
  },
  {
   "cell_type": "markdown",
   "id": "9e35c96c-2ea8-438a-989d-f6d73c8f16ed",
   "metadata": {},
   "source": [
    "## Dispense water\n"
   ]
  },
  {
   "cell_type": "code",
   "execution_count": null,
   "id": "9f765450-7f64-49e7-85f8-335e2fa0b666",
   "metadata": {},
   "outputs": [],
   "source": [
    "stober.add_reactants_batch(jubilee, water_syringe, mix_syringe, sample_table_select, location_lookup, 'water_volume', water_stocks, dwell_time = 7)"
   ]
  },
  {
   "cell_type": "markdown",
   "id": "cd60cc24-167e-46e5-9e73-a2457c8964de",
   "metadata": {},
   "source": [
    "## dispense Ammonia"
   ]
  },
  {
   "cell_type": "code",
   "execution_count": null,
   "id": "f01c8bfa-0558-4607-a477-1f6f6047c5ce",
   "metadata": {},
   "outputs": [],
   "source": []
  },
  {
   "cell_type": "code",
   "execution_count": null,
   "id": "7dc4c2ae-9e4e-40e0-929a-6e0a3e4bc240",
   "metadata": {},
   "outputs": [],
   "source": [
    "stober.add_reactants_batch(jubilee, ammonia_syringe, mix_syringe, sample_table_select, location_lookup, 'ammonia_volume', ammonia_stocks, dwell_time = 10)"
   ]
  },
  {
   "cell_type": "markdown",
   "id": "b722b7d9-ec53-4d4a-b515-36058c7089d8",
   "metadata": {},
   "source": [
    "## dispense F127"
   ]
  },
  {
   "cell_type": "code",
   "execution_count": null,
   "id": "e0252cb0-fbbe-4b63-b56b-5f486790d106",
   "metadata": {},
   "outputs": [],
   "source": [
    "stober.add_reactants_batch(jubilee, surfactant_syringe, mix_syringe, sample_table_select, location_lookup, 'f127_voume', f127_stocks, refill_dwell = 10)"
   ]
  },
  {
   "cell_type": "code",
   "execution_count": null,
   "id": "c71f69c6-a2a3-406d-a1f2-818b29450e84",
   "metadata": {},
   "outputs": [],
   "source": [
    "surfactant_syringe.set_pulsewidth(surfactant_syringe.empty_position-1)\n",
    "surfactant_syringe.load_syringe(0, surfactant_syringe.empty_position-1)\n",
    "jubilee.pickup_tool(surfactant_syringe)\n",
    "for stock in rinse_stocks_precursor:\n",
    "    surfactant_syringe.mix(900, 1, stock)\n",
    "jubilee.park_tool()"
   ]
  },
  {
   "cell_type": "markdown",
   "id": "2da09eda-bdba-48ee-a463-76569bdfb900",
   "metadata": {},
   "source": [
    "## Dispense CTAB"
   ]
  },
  {
   "cell_type": "code",
   "execution_count": null,
   "id": "a179ef71-0961-4ace-8a32-3a603597d9c0",
   "metadata": {},
   "outputs": [],
   "source": [
    "stober.add_reactants_batch(jubilee, surfactant_syringe, mix_syringe, sample_table_select, location_lookup, 'ctab_volume', ctab_stocks, refill_dwell = 10)"
   ]
  },
  {
   "cell_type": "code",
   "execution_count": null,
   "id": "3f87f9ab-f582-4e8d-9b8f-864a0a8ca968",
   "metadata": {},
   "outputs": [],
   "source": [
    "surfactant_syringe.set_pulsewidth(surfactant_syringe.empty_position-1)\n",
    "surfactant_syringe.load_syringe(0, surfactant_syringe.empty_position-1)\n",
    "jubilee.pickup_tool(surfactant_syringe)\n",
    "for stock in rinse_stocks_precursor:\n",
    "    surfactant_syringe.mix(900, 1, stock)\n",
    "jubilee.park_tool()"
   ]
  },
  {
   "cell_type": "markdown",
   "id": "bc8a34b3-acd7-4b89-a9ea-34b514cd3d8c",
   "metadata": {},
   "source": [
    "## mix precursors"
   ]
  },
  {
   "cell_type": "code",
   "execution_count": null,
   "id": "180b2fa7-f440-42fc-b3df-3a4dc9c25a70",
   "metadata": {},
   "outputs": [],
   "source": [
    "ind = 2\n",
    "location_lookup_selected = {ind:location_lookup[ind]}"
   ]
  },
  {
   "cell_type": "code",
   "execution_count": null,
   "id": "8c6964ee-81ac-420f-b02a-277ea4bd503c",
   "metadata": {},
   "outputs": [],
   "source": [
    "location_lookup_selected"
   ]
  },
  {
   "cell_type": "code",
   "execution_count": null,
   "id": "f4f701c5-7908-489e-a1eb-9b2c60438c96",
   "metadata": {},
   "outputs": [],
   "source": [
    "stober.first_mix(jubilee, mix_syringe, 5000, location_lookup_selected, rinse_stocks_precursor, 3, n_rinse = 1)"
   ]
  },
  {
   "cell_type": "code",
   "execution_count": null,
   "id": "75844ce2-dace-490c-b73c-bca29a752356",
   "metadata": {},
   "outputs": [],
   "source": []
  },
  {
   "cell_type": "markdown",
   "id": "000c1369-b5a0-4183-97d4-fced54279516",
   "metadata": {},
   "source": [
    "## Add TEOS and mix"
   ]
  },
  {
   "cell_type": "code",
   "execution_count": null,
   "id": "efccb2d6-234a-4af8-a87d-4d904696a48e",
   "metadata": {},
   "outputs": [],
   "source": [
    "stober.add_reactants_batch(jubilee, teos_syringe, mix_syringe, sample_table_select, location_lookup, 'teos_volume', teos_stocks, mix_after=(8000, 5, rinse_stocks_teos), wait = False, n_rinse = 1)"
   ]
  },
  {
   "cell_type": "markdown",
   "id": "1d4593f4-10f2-403b-b686-e9c641c4a283",
   "metadata": {},
   "source": [
    "## Load cell"
   ]
  },
  {
   "cell_type": "code",
   "execution_count": null,
   "id": "74fd5c9f-753c-489a-a098-4823b0530c8d",
   "metadata": {
    "scrolled": true
   },
   "outputs": [],
   "source": [
    "psl.load_sample(mix_syringe, samples['A2'], 1000)"
   ]
  },
  {
   "cell_type": "code",
   "execution_count": null,
   "id": "96d78f73-f963-4968-8e2a-7a52ea967be1",
   "metadata": {},
   "outputs": [],
   "source": [
    "mix_syringe.set_pulsewidth(mix_syringe.empty_position-1)\n",
    "mix_syringe.load_syringe(0, mix_syringe.empty_position-1)\n",
    "jubilee.pickup_tool(mix_syringe)\n",
    "for stock in rinse_stocks_teos:\n",
    "    mix_syringe.mix(5000, 3, stock)\n",
    "jubilee.park_tool()"
   ]
  },
  {
   "cell_type": "code",
   "execution_count": null,
   "id": "46fd2e18-c4f5-4a5a-8702-ef751ed389ca",
   "metadata": {},
   "outputs": [],
   "source": []
  }
 ],
 "metadata": {
  "kernelspec": {
   "display_name": "Python 3 (ipykernel)",
   "language": "python",
   "name": "python3"
  },
  "language_info": {
   "codemirror_mode": {
    "name": "ipython",
    "version": 3
   },
   "file_extension": ".py",
   "mimetype": "text/x-python",
   "name": "python",
   "nbconvert_exporter": "python",
   "pygments_lexer": "ipython3",
   "version": "3.9.19"
  }
 },
 "nbformat": 4,
 "nbformat_minor": 5
}
