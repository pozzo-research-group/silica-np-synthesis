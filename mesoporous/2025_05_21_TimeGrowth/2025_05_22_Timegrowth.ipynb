{
 "cells": [
  {
   "cell_type": "markdown",
   "id": "110d0499-187d-47cb-b3bd-52e828f810d0",
   "metadata": {},
   "source": [
    "## Setup"
   ]
  },
  {
   "cell_type": "code",
   "execution_count": 1,
   "id": "023a9737-b2dd-4151-af0b-67ea2aeb7386",
   "metadata": {},
   "outputs": [],
   "source": [
    "%load_ext autoreload\n",
    "%autoreload 2"
   ]
  },
  {
   "cell_type": "code",
   "execution_count": 2,
   "id": "a8305f4f-98d9-46aa-b3a5-aef3875465c8",
   "metadata": {},
   "outputs": [],
   "source": [
    "import requests\n",
    "\n",
    "# ----------- Science Jubilee -------------\n",
    "from science_jubilee import Machine as Jub\n",
    "from science_jubilee.tools import HTTPSyringe as syringe\n",
    "from science_jubilee.tools import Pipette, PneumaticSampleLoader\n",
    "from science_jubilee.utils import Handlers\n",
    "import time\n",
    "import numpy as np\n",
    "import pandas as pd\n",
    "import logging\n",
    "import sys\n",
    "import json\n",
    "sys.path.append('../..')\n",
    "import stober_synthesis_utils as stober\n",
    "import usaxs_utils\n",
    "import uuid"
   ]
  },
  {
   "cell_type": "code",
   "execution_count": 3,
   "id": "741d8279-cea5-4680-bb1b-e3089af0d8cf",
   "metadata": {},
   "outputs": [],
   "source": [
    "with open('systemconfig.json', 'rt') as f:\n",
    "    config = json.load(f)\n",
    "\n",
    "#usaxs_server_ip = config['sample_server']['ip_address']\n",
    "\n",
    "#afl_ip = '192.168.1.4'\n",
    "\n",
    "reaction_time = 5*60"
   ]
  },
  {
   "cell_type": "code",
   "execution_count": 4,
   "id": "39e0dd27-900a-4151-ad77-cae178e545d7",
   "metadata": {},
   "outputs": [],
   "source": [
    "FORMAT = '%(asctime)s:%(levelname)s:%(name)s:%(message)s'\n",
    "logging.basicConfig(filename = 'Mesoporous_timegrowth_5_22_25.log', level = logging.INFO, format = FORMAT)\n",
    "logger = logging.getLogger(__name__)"
   ]
  },
  {
   "cell_type": "code",
   "execution_count": 5,
   "id": "bb05bc51-e88d-493a-b7ae-ec244bab05d1",
   "metadata": {
    "scrolled": true
   },
   "outputs": [
    {
     "name": "stdout",
     "output_type": "stream",
     "text": [
      "0\n",
      "response in connect:  [True, True, True, True]\n"
     ]
    }
   ],
   "source": [
    "jubilee = Jub.Machine(address='192.168.1.2', simulated = False, crash_detection = False) "
   ]
  },
  {
   "cell_type": "code",
   "execution_count": 6,
   "id": "3fa12ac1-cd52-42b9-829b-1eca23762195",
   "metadata": {},
   "outputs": [],
   "source": [
    "deck = jubilee.load_deck('lab_automation_deck_AFL_bolton.json')"
   ]
  },
  {
   "cell_type": "raw",
   "id": "23f14450-b2fd-46b7-82b2-a17b1061fde5",
   "metadata": {
    "scrolled": true
   },
   "source": [
    "[(31.1, 169.0), (121.1, 169.0), (121.1, 113.0)]#jubilee.home_all()\n",
    "logger.info('Homed Jubilee')"
   ]
  },
  {
   "cell_type": "code",
   "execution_count": 7,
   "id": "d2505692-e098-4cf7-954a-b2ac9d91e06f",
   "metadata": {},
   "outputs": [],
   "source": [
    "sample_table = pd.read_csv('2025_04_15_MesoporousRepeatabilitySampleTable.csv')\n",
    "#sample_table_2 = pd.read_csv('SampleTable_ReproReplicates_10000.csv')\n"
   ]
  },
  {
   "cell_type": "code",
   "execution_count": 12,
   "id": "837e0e81-efec-4bef-a622-8f41dfce8f89",
   "metadata": {},
   "outputs": [],
   "source": [
    "sample_table = sample_table.iloc[5:8]"
   ]
  },
  {
   "cell_type": "markdown",
   "id": "b8f140ff-c5f8-494d-bd58-093982edd086",
   "metadata": {},
   "source": [
    "## Load Tools"
   ]
  },
  {
   "cell_type": "code",
   "execution_count": 13,
   "id": "d73bac24-917c-4c8c-8c30-494146511312",
   "metadata": {},
   "outputs": [
    {
     "name": "stdout",
     "output_type": "stream",
     "text": [
      "Syringe name:  10cc_1\n",
      "{'capacity': 10000, 'empty_position': 1830, 'full_position': 1217, 'name': '10cc_1'}\n",
      "Syringe name:  1cc_1\n",
      "{'capacity': 1000, 'empty_position': 1845, 'full_position': 1240, 'name': '1cc_1'}\n",
      "Syringe name:  1cc_2_hamilton\n",
      "{'capacity': 1000, 'empty_position': 1753, 'full_position': 1120, 'name': '1cc_2_hamilton'}\n",
      "Syringe name:  1cc_3_hamilton\n",
      "{'capacity': 1000, 'empty_position': 1753, 'full_position': 1120, 'name': '1cc_3_hamilton'}\n",
      "Syringe name:  1cc_4\n",
      "{'capacity': 1000, 'empty_position': 1845, 'full_position': 1240, 'name': '1cc_4'}\n"
     ]
    }
   ],
   "source": [
    "syringe_10 = syringe.HTTPSyringe.from_config(2, \"../../../science-jubilee/src/science_jubilee/tools/configs/10cc_syringe.json\")\n",
    "syringe_1_1 = syringe.HTTPSyringe.from_config(1, \"../../../science-jubilee/src/science_jubilee/tools/configs/1cc_1_syringe.json\")\n",
    "syringe_1_2 = syringe.HTTPSyringe.from_config(3, \"../../../science-jubilee/src/science_jubilee/tools/configs/1cc_2_Hamiltonsyringe.json\")\n",
    "syringe_1_3 = syringe.HTTPSyringe.from_config(4, \"../../../science-jubilee/src/science_jubilee/tools/configs/1cc_3_Hamiltonsyringe.json\")\n",
    "syringe_1_4 = syringe.HTTPSyringe.from_config(0, '../../../science-jubilee/src/science_jubilee/tools/configs/1cc_4_syringe.json')"
   ]
  },
  {
   "cell_type": "code",
   "execution_count": 43,
   "id": "9448524a-f60e-43fd-ae53-0a51c87e6035",
   "metadata": {
    "scrolled": true
   },
   "outputs": [],
   "source": [
    "jubilee.load_tool(syringe_10)\n",
    "jubilee.load_tool(syringe_1_1)\n",
    "jubilee.load_tool(syringe_1_2)\n",
    "jubilee.load_tool(syringe_1_3)\n",
    "jubilee.load_tool(syringe_1_4)"
   ]
  },
  {
   "cell_type": "code",
   "execution_count": 16,
   "id": "21127bbe-632c-4ec0-84f9-57d9772a90db",
   "metadata": {},
   "outputs": [],
   "source": [
    "mix_syringe = syringe_10\n",
    "water_syringe = syringe_1_1\n",
    "ammonia_syringe = syringe_1_2\n",
    "teos_syringe = syringe_1_3\n",
    "surfactant_syringe = syringe_1_4"
   ]
  },
  {
   "cell_type": "markdown",
   "id": "e1d880ae-d253-43f5-995f-d2619e29c78a",
   "metadata": {},
   "source": [
    "## Load water syringe with water"
   ]
  },
  {
   "cell_type": "code",
   "execution_count": 17,
   "id": "fa91aafe-663a-4ea2-86df-e996c41d8f37",
   "metadata": {},
   "outputs": [
    {
     "name": "stdout",
     "output_type": "stream",
     "text": [
      "Loaded syringe, remaining volume 600 uL\n"
     ]
    }
   ],
   "source": [
    "water_syringe.load_syringe(600, 1500)"
   ]
  },
  {
   "cell_type": "code",
   "execution_count": 80,
   "id": "bb1ecb81-f858-4ab6-8a1e-b5a85f432f54",
   "metadata": {
    "scrolled": true
   },
   "outputs": [],
   "source": [
    "water_syringe.set_pulsewidth(water_syringe.empty_position-1, s = 2000)"
   ]
  },
  {
   "cell_type": "code",
   "execution_count": 74,
   "id": "80aff25d-bae2-478d-bc07-4b4f11bd5e05",
   "metadata": {},
   "outputs": [
    {
     "name": "stdout",
     "output_type": "stream",
     "text": [
      "Loaded syringe, remaining volume 0 uL\n"
     ]
    }
   ],
   "source": [
    "water_syringe.load_syringe(0, water_syringe.empty_position - 1)"
   ]
  },
  {
   "cell_type": "markdown",
   "id": "8ea5df3b-0ad5-4dbb-ad3f-089a2d5f2bd1",
   "metadata": {},
   "source": [
    "## Load ammonia syringe"
   ]
  },
  {
   "cell_type": "code",
   "execution_count": 21,
   "id": "87a366e4-d389-4830-b923-0a932968add9",
   "metadata": {},
   "outputs": [],
   "source": [
    "#ammonia_syringe.set_pulsewidth(1420, s = 10)"
   ]
  },
  {
   "cell_type": "code",
   "execution_count": 20,
   "id": "0b36ffcf-ec60-4ee2-b2ae-5fb6895fd16c",
   "metadata": {},
   "outputs": [
    {
     "name": "stdout",
     "output_type": "stream",
     "text": [
      "Loaded syringe, remaining volume 600 uL\n"
     ]
    }
   ],
   "source": [
    "ammonia_syringe.load_syringe(600, 1500)"
   ]
  },
  {
   "cell_type": "code",
   "execution_count": 81,
   "id": "497e2cad-9387-4815-9398-58651b8d9826",
   "metadata": {},
   "outputs": [],
   "source": [
    "ammonia_syringe.set_pulsewidth(ammonia_syringe.empty_position-1, s = 2000)"
   ]
  },
  {
   "cell_type": "code",
   "execution_count": 24,
   "id": "977a0aa9-0c2f-4625-8765-dcc32bbb60a7",
   "metadata": {},
   "outputs": [],
   "source": [
    "ammonia_syringe.set_pulsewidth(ammonia_syringe.full_position+1, s = 10)"
   ]
  },
  {
   "cell_type": "code",
   "execution_count": 25,
   "id": "7762afd8-2300-4277-820e-80f3c5283f78",
   "metadata": {},
   "outputs": [],
   "source": [
    "ammonia_syringe.set_pulsewidth(ammonia_syringe.full_position + 200, s = 200)"
   ]
  },
  {
   "cell_type": "code",
   "execution_count": 26,
   "id": "b5be2527-8c06-4465-8e44-41f410149cd7",
   "metadata": {},
   "outputs": [
    {
     "name": "stdout",
     "output_type": "stream",
     "text": [
      "Loaded syringe, remaining volume 550 uL\n"
     ]
    }
   ],
   "source": [
    "ammonia_syringe.load_syringe(550, ammonia_syringe.full_position + 200)"
   ]
  },
  {
   "cell_type": "markdown",
   "id": "e2c53ecf-d14a-4536-8062-9e7af8c51ba8",
   "metadata": {},
   "source": [
    "## Load TEOS syringe"
   ]
  },
  {
   "cell_type": "code",
   "execution_count": 27,
   "id": "22a73a10-c727-45c9-a653-1716b97e7d51",
   "metadata": {},
   "outputs": [
    {
     "name": "stdout",
     "output_type": "stream",
     "text": [
      "Loaded syringe, remaining volume 600 uL\n"
     ]
    }
   ],
   "source": [
    "teos_syringe.load_syringe(600, 1500)"
   ]
  },
  {
   "cell_type": "code",
   "execution_count": 82,
   "id": "2a4274ac-3472-452b-9368-56f36ed8d078",
   "metadata": {},
   "outputs": [],
   "source": [
    "teos_syringe.set_pulsewidth(teos_syringe.empty_position-1, s = 2000)"
   ]
  },
  {
   "cell_type": "code",
   "execution_count": 29,
   "id": "cf5154eb-2d59-4bd8-90c2-86c3374a662d",
   "metadata": {},
   "outputs": [
    {
     "name": "stdout",
     "output_type": "stream",
     "text": [
      "Loaded syringe, remaining volume 0 uL\n"
     ]
    }
   ],
   "source": [
    "teos_syringe.load_syringe(0, teos_syringe.empty_position - 1)"
   ]
  },
  {
   "cell_type": "markdown",
   "id": "ad1ac96b-3d53-4da1-aa2c-a8c2386280f8",
   "metadata": {},
   "source": [
    "## load ethanol syringe"
   ]
  },
  {
   "cell_type": "code",
   "execution_count": 33,
   "id": "f1caaf1a-900c-43ed-a57b-754b0d62aa37",
   "metadata": {},
   "outputs": [],
   "source": [
    "#jubilee.park_tool()"
   ]
  },
  {
   "cell_type": "code",
   "execution_count": 30,
   "id": "94db4b0e-3075-4b45-91f7-9bc2817a2e31",
   "metadata": {},
   "outputs": [
    {
     "name": "stdout",
     "output_type": "stream",
     "text": [
      "Loaded syringe, remaining volume 0 uL\n"
     ]
    }
   ],
   "source": [
    "mix_syringe.load_syringe(0, mix_syringe.empty_position-1)"
   ]
  },
  {
   "cell_type": "code",
   "execution_count": 31,
   "id": "f53b6f7e-62d6-43fc-b2bf-a2e1aebdf313",
   "metadata": {},
   "outputs": [],
   "source": [
    "mix_syringe.set_pulsewidth(mix_syringe.empty_position-1, s = 2000)\n"
   ]
  },
  {
   "cell_type": "raw",
   "id": "81b6812b-897c-4425-bbcd-8a4c8c7a2af0",
   "metadata": {},
   "source": [
    "## Don't need to load surfactant syringe"
   ]
  },
  {
   "cell_type": "code",
   "execution_count": 75,
   "id": "41b13b04-c72e-4861-a124-ea99f567d762",
   "metadata": {},
   "outputs": [
    {
     "name": "stdout",
     "output_type": "stream",
     "text": [
      "Loaded syringe, remaining volume 0 uL\n"
     ]
    }
   ],
   "source": [
    "surfactant_syringe.set_pulsewidth(surfactant_syringe.empty_position-1)\n",
    "surfactant_syringe.load_syringe(0, surfactant_syringe.empty_position-1)"
   ]
  },
  {
   "cell_type": "markdown",
   "id": "43d1f97d-4c55-40d3-ac5b-9c3a3f1062ed",
   "metadata": {},
   "source": [
    "## Load labware\n"
   ]
  },
  {
   "cell_type": "code",
   "execution_count": 36,
   "id": "19b4bfa8-6878-4b0b-a564-369faa361b1c",
   "metadata": {
    "scrolled": true
   },
   "outputs": [
    {
     "name": "stdout",
     "output_type": "stream",
     "text": [
      "New manual offset applied to 20mlscintillation_12_wellplate_18000ul\n"
     ]
    }
   ],
   "source": [
    "samples_1 = jubilee.load_labware('20mlscintillation_12_wellplate_18000ul.json', 2)\n",
    "samples_1.manual_offset([(30.8, 168.0), (121.3, 168.3), (121.3, 112.6)])"
   ]
  },
  {
   "cell_type": "raw",
   "id": "eb16c464-ca18-4a99-a963-b0d896ebbda1",
   "metadata": {},
   "source": [
    "samples_2 = jubilee.load_labware('20mlscintillation_12_wellplate_18000ul.json', 0)\n",
    "samples_2.manual_offset([(31.8, 72.0), (121.8, 72.0), (121.8, 18.0)])"
   ]
  },
  {
   "cell_type": "code",
   "execution_count": 37,
   "id": "19ad67cc-b0a8-4c1f-8d6a-60b173599c82",
   "metadata": {},
   "outputs": [
    {
     "name": "stdout",
     "output_type": "stream",
     "text": [
      "New manual offset applied to 20mlscintillation_12_wellplate_18000ul\n"
     ]
    }
   ],
   "source": [
    "stocks_1 = jubilee.load_labware('20mlscintillation_12_wellplate_18000ul.json', 4)\n",
    "stocks_1.manual_offset([(30.1, 264.5), (121.1, 264.5), (121.1, 208.5)])"
   ]
  },
  {
   "cell_type": "code",
   "execution_count": 38,
   "id": "83faa194-456f-4909-ba9a-cbfe6dfec397",
   "metadata": {},
   "outputs": [
    {
     "name": "stdout",
     "output_type": "stream",
     "text": [
      "New manual offset applied to 20mlscintillation_12_wellplate_18000ul\n"
     ]
    }
   ],
   "source": [
    "stocks_2 = jubilee.load_labware('20mlscintillation_12_wellplate_18000ul.json', 4)\n",
    "stocks_2.manual_offset([(171.1, 264.8), (260.8, 265.0), (260.8, 209.0)])"
   ]
  },
  {
   "cell_type": "code",
   "execution_count": 78,
   "id": "ecccab44-a2cc-4a5d-9463-1d2305ae5844",
   "metadata": {},
   "outputs": [],
   "source": [
    "samples = stober.SampleWells({'samples_1':samples_1})"
   ]
  },
  {
   "cell_type": "code",
   "execution_count": 40,
   "id": "f7395271-1a02-4f11-883f-34a8456f0a05",
   "metadata": {},
   "outputs": [],
   "source": [
    "teos_stocks = stober.Stocks([stocks_1[0]], usable_volume= 17000)\n",
    "ammonia_stocks = stober.Stocks([stocks_1[1]], usable_volume= 17000)\n",
    "water_stocks = stober.Stocks([stocks_1[2]], usable_volume= 17000)\n",
    "ethanol_stocks = stober.Stocks([stocks_1[3], stocks_1[4], stocks_1[5]], usable_volume = 17000)\n",
    "f127_stocks = stober.Stocks([stocks_1[6]], usable_volume = 17000)\n",
    "ctab_stocks = stober.Stocks([stocks_1[7]], usable_volume= 17000)\n",
    "\n",
    "rinse_stocks_precursor = [stocks_1[9], stocks_1[10], stocks_1[11]]\n",
    "rinse_stocks_teos = [stocks_2[0], stocks_2[1], stocks_2[2], stocks_2[3]]"
   ]
  },
  {
   "cell_type": "markdown",
   "id": "4bd30fe3-5be6-4ea7-a61d-357272d3e8a4",
   "metadata": {},
   "source": [
    "## Check sample alignment"
   ]
  },
  {
   "cell_type": "code",
   "execution_count": null,
   "id": "c9812014-546b-461b-b5ee-3980e36753b2",
   "metadata": {},
   "outputs": [],
   "source": []
  },
  {
   "cell_type": "code",
   "execution_count": 41,
   "id": "2327a808-30c9-49a6-8448-3c4806f411c3",
   "metadata": {},
   "outputs": [
    {
     "data": {
      "text/plain": [
       "68.5"
      ]
     },
     "execution_count": 41,
     "metadata": {},
     "output_type": "execute_result"
    }
   ],
   "source": [
    "jubilee.deck.safe_z"
   ]
  },
  {
   "cell_type": "code",
   "execution_count": 44,
   "id": "25a4d272-6e56-4649-ba7a-5e04e922c043",
   "metadata": {},
   "outputs": [
    {
     "name": "stdout",
     "output_type": "stream",
     "text": [
      "168.0\n"
     ]
    },
    {
     "name": "stdin",
     "output_type": "stream",
     "text": [
      "Is the tip centered over sample Well A1 form 20mLscintillation 12 Well Plate 18000 µL on slot 2? \n"
     ]
    },
    {
     "name": "stdout",
     "output_type": "stream",
     "text": [
      "168.05000006867903\n"
     ]
    },
    {
     "name": "stdin",
     "output_type": "stream",
     "text": [
      "Is the tip centered over sample Well A2 form 20mLscintillation 12 Well Plate 18000 µL on slot 2? \n"
     ]
    },
    {
     "name": "stdout",
     "output_type": "stream",
     "text": [
      "168.10000013735805\n"
     ]
    },
    {
     "name": "stdin",
     "output_type": "stream",
     "text": [
      "Is the tip centered over sample Well A3 form 20mLscintillation 12 Well Plate 18000 µL on slot 2? \n"
     ]
    },
    {
     "name": "stdout",
     "output_type": "stream",
     "text": [
      "168.15000020603708\n"
     ]
    },
    {
     "name": "stdin",
     "output_type": "stream",
     "text": [
      "Is the tip centered over sample Well A4 form 20mLscintillation 12 Well Plate 18000 µL on slot 2? \n"
     ]
    },
    {
     "name": "stdout",
     "output_type": "stream",
     "text": [
      "140.15003825403778\n"
     ]
    },
    {
     "name": "stdin",
     "output_type": "stream",
     "text": [
      "Is the tip centered over sample Well B1 form 20mLscintillation 12 Well Plate 18000 µL on slot 2? \n"
     ]
    },
    {
     "name": "stdout",
     "output_type": "stream",
     "text": [
      "140.2000383227168\n"
     ]
    },
    {
     "name": "stdin",
     "output_type": "stream",
     "text": [
      "Is the tip centered over sample Well B2 form 20mLscintillation 12 Well Plate 18000 µL on slot 2? \n"
     ]
    },
    {
     "name": "stdout",
     "output_type": "stream",
     "text": [
      "140.25003839139583\n"
     ]
    },
    {
     "name": "stdin",
     "output_type": "stream",
     "text": [
      "Is the tip centered over sample Well B3 form 20mLscintillation 12 Well Plate 18000 µL on slot 2? \n"
     ]
    },
    {
     "name": "stdout",
     "output_type": "stream",
     "text": [
      "140.30003846007486\n"
     ]
    },
    {
     "name": "stdin",
     "output_type": "stream",
     "text": [
      "Is the tip centered over sample Well B4 form 20mLscintillation 12 Well Plate 18000 µL on slot 2? \n"
     ]
    },
    {
     "name": "stdout",
     "output_type": "stream",
     "text": [
      "112.30007650807556\n"
     ]
    },
    {
     "name": "stdin",
     "output_type": "stream",
     "text": [
      "Is the tip centered over sample Well C1 form 20mLscintillation 12 Well Plate 18000 µL on slot 2? \n"
     ]
    },
    {
     "name": "stdout",
     "output_type": "stream",
     "text": [
      "112.35007657675459\n"
     ]
    },
    {
     "name": "stdin",
     "output_type": "stream",
     "text": [
      "Is the tip centered over sample Well C2 form 20mLscintillation 12 Well Plate 18000 µL on slot 2? \n"
     ]
    },
    {
     "name": "stdout",
     "output_type": "stream",
     "text": [
      "112.40007664543361\n"
     ]
    },
    {
     "name": "stdin",
     "output_type": "stream",
     "text": [
      "Is the tip centered over sample Well C3 form 20mLscintillation 12 Well Plate 18000 µL on slot 2? \n"
     ]
    },
    {
     "name": "stdout",
     "output_type": "stream",
     "text": [
      "112.45007671411264\n"
     ]
    },
    {
     "name": "stdin",
     "output_type": "stream",
     "text": [
      "Is the tip centered over sample Well C4 form 20mLscintillation 12 Well Plate 18000 µL on slot 2? \n"
     ]
    }
   ],
   "source": [
    "jubilee.pickup_tool(mix_syringe)\n",
    "for loc in samples_1:\n",
    "    jubilee.safe_z_movement()\n",
    "    jubilee.move_to(x = loc.x, y = loc.y)\n",
    "    print(loc.y)\n",
    "    jubilee.move_to(z = loc.top_+7)\n",
    "    curr_well = loc\n",
    "    ans = input(f'Is the tip centered over sample {curr_well}?')\n",
    "    if ans == 'y':\n",
    "        continue\n",
    "    else:\n",
    "        continue\n",
    "    "
   ]
  },
  {
   "cell_type": "code",
   "execution_count": null,
   "id": "d9e2a421-da88-4e2e-877f-7cb6f0f14e6a",
   "metadata": {},
   "outputs": [],
   "source": []
  },
  {
   "cell_type": "code",
   "execution_count": 45,
   "id": "a3e05831-e01c-497b-b901-0633a143f5c9",
   "metadata": {},
   "outputs": [],
   "source": [
    "jubilee.park_tool()"
   ]
  },
  {
   "cell_type": "code",
   "execution_count": 46,
   "id": "79b6af8b-5894-4549-80bf-8187ea5963ee",
   "metadata": {},
   "outputs": [
    {
     "data": {
      "text/html": [
       "<div>\n",
       "<style scoped>\n",
       "    .dataframe tbody tr th:only-of-type {\n",
       "        vertical-align: middle;\n",
       "    }\n",
       "\n",
       "    .dataframe tbody tr th {\n",
       "        vertical-align: top;\n",
       "    }\n",
       "\n",
       "    .dataframe thead th {\n",
       "        text-align: right;\n",
       "    }\n",
       "</style>\n",
       "<table border=\"1\" class=\"dataframe\">\n",
       "  <thead>\n",
       "    <tr style=\"text-align: right;\">\n",
       "      <th></th>\n",
       "      <th>sample_name</th>\n",
       "      <th>uuid</th>\n",
       "      <th>teos_volume</th>\n",
       "      <th>ammonia_volume</th>\n",
       "      <th>water_volume</th>\n",
       "      <th>ethanol_volume</th>\n",
       "      <th>ctab_volume</th>\n",
       "      <th>F127_volume</th>\n",
       "      <th>Unnamed: 8</th>\n",
       "      <th>Unnamed: 9</th>\n",
       "    </tr>\n",
       "  </thead>\n",
       "  <tbody>\n",
       "    <tr>\n",
       "      <th>5</th>\n",
       "      <td>SyringeMixControl_1</td>\n",
       "      <td>d3092f76-88a7-4ccb-82c1-5cc7b8356c68</td>\n",
       "      <td>236.892048</td>\n",
       "      <td>180.111534</td>\n",
       "      <td>1313.594844</td>\n",
       "      <td>3546.832137</td>\n",
       "      <td>3351.899498</td>\n",
       "      <td>1370.669939</td>\n",
       "      <td>NaN</td>\n",
       "      <td>NaN</td>\n",
       "    </tr>\n",
       "    <tr>\n",
       "      <th>6</th>\n",
       "      <td>SyringeMixControl_2</td>\n",
       "      <td>30d3b674-6fa8-4c98-b282-da7523f58a0f</td>\n",
       "      <td>236.892048</td>\n",
       "      <td>180.111534</td>\n",
       "      <td>1313.594844</td>\n",
       "      <td>3546.832137</td>\n",
       "      <td>3351.899498</td>\n",
       "      <td>1370.669939</td>\n",
       "      <td>NaN</td>\n",
       "      <td>NaN</td>\n",
       "    </tr>\n",
       "    <tr>\n",
       "      <th>7</th>\n",
       "      <td>SyringeMixControl_3</td>\n",
       "      <td>4039d278-a8ec-4eac-a4ca-bd5ee2be894d</td>\n",
       "      <td>236.892048</td>\n",
       "      <td>180.111534</td>\n",
       "      <td>1313.594844</td>\n",
       "      <td>3546.832137</td>\n",
       "      <td>3351.899498</td>\n",
       "      <td>1370.669939</td>\n",
       "      <td>NaN</td>\n",
       "      <td>NaN</td>\n",
       "    </tr>\n",
       "  </tbody>\n",
       "</table>\n",
       "</div>"
      ],
      "text/plain": [
       "           sample_name                                  uuid  teos_volume  \\\n",
       "5  SyringeMixControl_1  d3092f76-88a7-4ccb-82c1-5cc7b8356c68   236.892048   \n",
       "6  SyringeMixControl_2  30d3b674-6fa8-4c98-b282-da7523f58a0f   236.892048   \n",
       "7  SyringeMixControl_3  4039d278-a8ec-4eac-a4ca-bd5ee2be894d   236.892048   \n",
       "\n",
       "   ammonia_volume  water_volume  ethanol_volume  ctab_volume  F127_volume  \\\n",
       "5      180.111534   1313.594844     3546.832137  3351.899498  1370.669939   \n",
       "6      180.111534   1313.594844     3546.832137  3351.899498  1370.669939   \n",
       "7      180.111534   1313.594844     3546.832137  3351.899498  1370.669939   \n",
       "\n",
       "   Unnamed: 8  Unnamed: 9  \n",
       "5         NaN         NaN  \n",
       "6         NaN         NaN  \n",
       "7         NaN         NaN  "
      ]
     },
     "execution_count": 46,
     "metadata": {},
     "output_type": "execute_result"
    }
   ],
   "source": [
    "sample_table"
   ]
  },
  {
   "cell_type": "markdown",
   "id": "19618079-1f7e-46d9-9e94-29287ff50a80",
   "metadata": {},
   "source": [
    "## Full synthesis"
   ]
  },
  {
   "cell_type": "code",
   "execution_count": 62,
   "id": "273d61ad-24a2-4591-b11b-39c7214ba0b7",
   "metadata": {},
   "outputs": [
    {
     "data": {
      "text/plain": [
       "{'samples_1_A1': {'well': Well A1 form 20mLscintillation 12 Well Plate 18000 µL on slot 2,\n",
       "  'status': 'used',\n",
       "  'sample': 'd3092f76-88a7-4ccb-82c1-5cc7b8356c68'},\n",
       " 'samples_1_A2': {'well': Well A2 form 20mLscintillation 12 Well Plate 18000 µL on slot 2,\n",
       "  'status': 'used',\n",
       "  'sample': 'd3092f76-88a7-4ccb-82c1-5cc7b8356c68'},\n",
       " 'samples_1_A3': {'well': Well A3 form 20mLscintillation 12 Well Plate 18000 µL on slot 2,\n",
       "  'status': 'used',\n",
       "  'sample': '30d3b674-6fa8-4c98-b282-da7523f58a0f'},\n",
       " 'samples_1_A4': {'well': Well A4 form 20mLscintillation 12 Well Plate 18000 µL on slot 2,\n",
       "  'status': 'clean',\n",
       "  'sample': None},\n",
       " 'samples_1_B1': {'well': Well B1 form 20mLscintillation 12 Well Plate 18000 µL on slot 2,\n",
       "  'status': 'clean',\n",
       "  'sample': None},\n",
       " 'samples_1_B2': {'well': Well B2 form 20mLscintillation 12 Well Plate 18000 µL on slot 2,\n",
       "  'status': 'clean',\n",
       "  'sample': None},\n",
       " 'samples_1_B3': {'well': Well B3 form 20mLscintillation 12 Well Plate 18000 µL on slot 2,\n",
       "  'status': 'clean',\n",
       "  'sample': None},\n",
       " 'samples_1_B4': {'well': Well B4 form 20mLscintillation 12 Well Plate 18000 µL on slot 2,\n",
       "  'status': 'clean',\n",
       "  'sample': None},\n",
       " 'samples_1_C1': {'well': Well C1 form 20mLscintillation 12 Well Plate 18000 µL on slot 2,\n",
       "  'status': 'clean',\n",
       "  'sample': None},\n",
       " 'samples_1_C2': {'well': Well C2 form 20mLscintillation 12 Well Plate 18000 µL on slot 2,\n",
       "  'status': 'clean',\n",
       "  'sample': None},\n",
       " 'samples_1_C3': {'well': Well C3 form 20mLscintillation 12 Well Plate 18000 µL on slot 2,\n",
       "  'status': 'clean',\n",
       "  'sample': None},\n",
       " 'samples_1_C4': {'well': Well C4 form 20mLscintillation 12 Well Plate 18000 µL on slot 2,\n",
       "  'status': 'clean',\n",
       "  'sample': None}}"
      ]
     },
     "execution_count": 62,
     "metadata": {},
     "output_type": "execute_result"
    }
   ],
   "source": [
    "samples.wells"
   ]
  },
  {
   "cell_type": "code",
   "execution_count": 72,
   "id": "6eef9d0b-3f6c-4d2c-a9b2-432d6a3fa2a8",
   "metadata": {},
   "outputs": [],
   "source": [
    "jubilee.park_tool()"
   ]
  },
  {
   "cell_type": "code",
   "execution_count": 79,
   "id": "ea02ea25-08a4-4804-b049-dd7a1cf2820e",
   "metadata": {},
   "outputs": [
    {
     "name": "stdout",
     "output_type": "stream",
     "text": [
      "           sample_name                                  uuid  teos_volume  \\\n",
      "5  SyringeMixControl_1  d3092f76-88a7-4ccb-82c1-5cc7b8356c68   236.892048   \n",
      "\n",
      "   ammonia_volume  water_volume  ethanol_volume  ctab_volume  F127_volume  \\\n",
      "5      180.111534   1313.594844     3546.832137  3351.899498  1370.669939   \n",
      "\n",
      "   Unnamed: 8  Unnamed: 9  \n",
      "5         NaN         NaN  \n",
      "Starting sample SyringeMixControl_1, d3092f76-88a7-4ccb-82c1-5cc7b8356c68 in well Well A1 form 20mLscintillation 12 Well Plate 18000 µL on slot 2\n",
      "Loaded syringe, remaining volume 0 uL\n",
      "breaking dispense into 1 of volume 3546.8321374196094\n",
      "Loaded syringe, remaining volume 0 uL\n",
      "breaking dispense into 2 of volume 656.797422034821\n",
      "remaining vol:  949.0\n",
      "remaining vol:  949.0\n",
      "added water\n",
      "breaking dispense into 1 of volume 180.1115338690579\n",
      "added ammonia\n",
      "Loaded syringe, remaining volume 0 uL\n",
      "breaking dispense into 2 of volume 685.3349693119526\n",
      "Rinsing 1cc_4\n",
      "Loaded syringe, remaining volume 0 uL\n",
      "added 1370.6699386239052 f127\n",
      "Loaded syringe, remaining volume 0 uL\n",
      "breaking dispense into 4 of volume 837.9748744579653\n",
      "Rinsing 1cc_4\n",
      "Loaded syringe, remaining volume 0 uL\n",
      "added 3351.899497831861 uL CTAB\n",
      "mixed samples\n",
      "breaking dispense into 1 of volume 236.89204818592407\n",
      "Time from start to TEOS addition: 914.4907991886139 s\n",
      "########## Complete sample SyringeMixControl_1 ############\n"
     ]
    },
    {
     "ename": "KeyboardInterrupt",
     "evalue": "Interrupted by user",
     "output_type": "error",
     "traceback": [
      "\u001b[0;31m---------------------------------------------------------------------------\u001b[0m",
      "\u001b[0;31mKeyboardInterrupt\u001b[0m                         Traceback (most recent call last)",
      "Cell \u001b[0;32mIn[79], line 65\u001b[0m\n\u001b[1;32m     62\u001b[0m i\u001b[38;5;66;03m#nput(f'Sample {sample_name} complete, please add TEOS')\u001b[39;00m\n\u001b[1;32m     64\u001b[0m j\u001b[38;5;241m+\u001b[39m\u001b[38;5;241m=\u001b[39m\u001b[38;5;241m1\u001b[39m\n\u001b[0;32m---> 65\u001b[0m _ \u001b[38;5;241m=\u001b[39m \u001b[38;5;28;43minput\u001b[39;49m\u001b[43m(\u001b[49m\u001b[38;5;124;43m'\u001b[39;49m\u001b[38;5;124;43mRemove sample\u001b[39;49m\u001b[38;5;124;43m'\u001b[39;49m\u001b[43m)\u001b[49m\n",
      "File \u001b[0;32m~/miniconda3/envs/jubilee/lib/python3.9/site-packages/ipykernel/kernelbase.py:1282\u001b[0m, in \u001b[0;36mKernel.raw_input\u001b[0;34m(self, prompt)\u001b[0m\n\u001b[1;32m   1280\u001b[0m     msg \u001b[38;5;241m=\u001b[39m \u001b[38;5;124m\"\u001b[39m\u001b[38;5;124mraw_input was called, but this frontend does not support input requests.\u001b[39m\u001b[38;5;124m\"\u001b[39m\n\u001b[1;32m   1281\u001b[0m     \u001b[38;5;28;01mraise\u001b[39;00m StdinNotImplementedError(msg)\n\u001b[0;32m-> 1282\u001b[0m \u001b[38;5;28;01mreturn\u001b[39;00m \u001b[38;5;28;43mself\u001b[39;49m\u001b[38;5;241;43m.\u001b[39;49m\u001b[43m_input_request\u001b[49m\u001b[43m(\u001b[49m\n\u001b[1;32m   1283\u001b[0m \u001b[43m    \u001b[49m\u001b[38;5;28;43mstr\u001b[39;49m\u001b[43m(\u001b[49m\u001b[43mprompt\u001b[49m\u001b[43m)\u001b[49m\u001b[43m,\u001b[49m\n\u001b[1;32m   1284\u001b[0m \u001b[43m    \u001b[49m\u001b[38;5;28;43mself\u001b[39;49m\u001b[38;5;241;43m.\u001b[39;49m\u001b[43m_parent_ident\u001b[49m\u001b[43m[\u001b[49m\u001b[38;5;124;43m\"\u001b[39;49m\u001b[38;5;124;43mshell\u001b[39;49m\u001b[38;5;124;43m\"\u001b[39;49m\u001b[43m]\u001b[49m\u001b[43m,\u001b[49m\n\u001b[1;32m   1285\u001b[0m \u001b[43m    \u001b[49m\u001b[38;5;28;43mself\u001b[39;49m\u001b[38;5;241;43m.\u001b[39;49m\u001b[43mget_parent\u001b[49m\u001b[43m(\u001b[49m\u001b[38;5;124;43m\"\u001b[39;49m\u001b[38;5;124;43mshell\u001b[39;49m\u001b[38;5;124;43m\"\u001b[39;49m\u001b[43m)\u001b[49m\u001b[43m,\u001b[49m\n\u001b[1;32m   1286\u001b[0m \u001b[43m    \u001b[49m\u001b[43mpassword\u001b[49m\u001b[38;5;241;43m=\u001b[39;49m\u001b[38;5;28;43;01mFalse\u001b[39;49;00m\u001b[43m,\u001b[49m\n\u001b[1;32m   1287\u001b[0m \u001b[43m\u001b[49m\u001b[43m)\u001b[49m\n",
      "File \u001b[0;32m~/miniconda3/envs/jubilee/lib/python3.9/site-packages/ipykernel/kernelbase.py:1325\u001b[0m, in \u001b[0;36mKernel._input_request\u001b[0;34m(self, prompt, ident, parent, password)\u001b[0m\n\u001b[1;32m   1322\u001b[0m \u001b[38;5;28;01mexcept\u001b[39;00m \u001b[38;5;167;01mKeyboardInterrupt\u001b[39;00m:\n\u001b[1;32m   1323\u001b[0m     \u001b[38;5;66;03m# re-raise KeyboardInterrupt, to truncate traceback\u001b[39;00m\n\u001b[1;32m   1324\u001b[0m     msg \u001b[38;5;241m=\u001b[39m \u001b[38;5;124m\"\u001b[39m\u001b[38;5;124mInterrupted by user\u001b[39m\u001b[38;5;124m\"\u001b[39m\n\u001b[0;32m-> 1325\u001b[0m     \u001b[38;5;28;01mraise\u001b[39;00m \u001b[38;5;167;01mKeyboardInterrupt\u001b[39;00m(msg) \u001b[38;5;28;01mfrom\u001b[39;00m \u001b[38;5;28;01mNone\u001b[39;00m\n\u001b[1;32m   1326\u001b[0m \u001b[38;5;28;01mexcept\u001b[39;00m \u001b[38;5;167;01mException\u001b[39;00m:\n\u001b[1;32m   1327\u001b[0m     \u001b[38;5;28mself\u001b[39m\u001b[38;5;241m.\u001b[39mlog\u001b[38;5;241m.\u001b[39mwarning(\u001b[38;5;124m\"\u001b[39m\u001b[38;5;124mInvalid Message:\u001b[39m\u001b[38;5;124m\"\u001b[39m, exc_info\u001b[38;5;241m=\u001b[39m\u001b[38;5;28;01mTrue\u001b[39;00m)\n",
      "\u001b[0;31mKeyboardInterrupt\u001b[0m: Interrupted by user"
     ]
    }
   ],
   "source": [
    "j = 0\n",
    "for i, row in sample_table.iterrows():\n",
    "\n",
    "\n",
    "    #if i % 2 == 0 and i !=0:\n",
    "    #    # swap out CTAB\n",
    "    #    result = input('CTAB swap out required. swap ctab with fresh from the hot plate.')\n",
    "    #else:\n",
    "    #    r = input('Please home Jubilee')\n",
    "        \n",
    "    sample_uid = row['uuid']\n",
    "    sample_name = row['sample_name']\n",
    "    well = samples.get_well_for_sample(sample_uid)\n",
    "    teos_volume = row['teos_volume']\n",
    "    ethanol_volume = row['ethanol_volume']\n",
    "    ctab_volume = row['ctab_volume']\n",
    "    f127_volume = row['F127_volume']\n",
    "\n",
    "    sample_table_select = sample_table.iloc[j:j+1]\n",
    "    location_lookup_selected = {sample_uid:well}\n",
    "\n",
    "    print(sample_table_select)\n",
    "\n",
    "\n",
    "\n",
    "    start_time = time.time()\n",
    "    logger.info(f'Starting sample {sample_name}, {sample_uid} in well {well}')\n",
    "    print(f'Starting sample {sample_name}, {sample_uid} in well {well}')\n",
    "    #add ethanol\n",
    "    stober.reactant_transfer(jubilee, mix_syringe, ethanol_stocks, well, ethanol_volume, 500)\n",
    "    logger.info(f'Added {ethanol_volume} uL ethanol to {str(sample_uid)}') \n",
    "    \n",
    "    #add water\n",
    "    stober.add_reactants_batch(jubilee, water_syringe, mix_syringe, sample_table_select, location_lookup_selected, 'water_volume', water_stocks, dwell_time = 7)\n",
    "    print(f'added water')\n",
    "    logger.info(f'Added water to {str(sample_uid)}') \n",
    "    #add ammonia\n",
    "    stober.add_reactants_batch(jubilee, ammonia_syringe, mix_syringe, sample_table_select, location_lookup_selected, 'ammonia_volume', ammonia_stocks, dwell_time = 10, refill_dwell=5)\n",
    "    print('added ammonia')\n",
    "    logger.info(f'Added ammonia to {str(sample_uid)}') \n",
    "    # add F127\n",
    "    \n",
    "    stober.reactant_transfer(jubilee, surfactant_syringe, f127_stocks, well, f127_volume, 50, rinse_stocks=rinse_stocks_precursor)\n",
    "    print(f'added {f127_volume} f127')\n",
    "    logger.info(f'Added {f127_volume} uL F127 to {str(sample_uid)}') \n",
    "    \n",
    "    stober.reactant_transfer(jubilee, surfactant_syringe, ctab_stocks, well, ctab_volume, 50, rinse_stocks=rinse_stocks_precursor)\n",
    "    print(f'added {ctab_volume} uL CTAB')\n",
    "    logger.info(f'Added {ctab_volume} uL ctab to {str(sample_uid)}') \n",
    "    # mix precursors\n",
    "    \n",
    "    stober.first_mix(jubilee, mix_syringe, 9000, location_lookup_selected, rinse_stocks_precursor, 5, n_rinse = 3)\n",
    "    print('mixed samples')\n",
    "    # add teos\n",
    "    teos_add_time = stober.add_reactants_batch(jubilee, teos_syringe, mix_syringe, sample_table_select, location_lookup_selected, 'teos_volume', teos_stocks, mix_after=(9000, 5, rinse_stocks_teos), wait = False, n_rinse = 1, return_time = True)\n",
    "    \n",
    "    logger.info(f'Added TEOS to sample {sample_name} at {time.strftime(\"%H:%M\", time.localtime(teos_add_time))}')\n",
    "    \n",
    "    print(f'Time from start to TEOS addition: {teos_add_time - start_time} s')\n",
    "    \n",
    "    print(f'########## Complete sample {sample_name} ############')\n",
    "    i#nput(f'Sample {sample_name} complete, please add TEOS')\n",
    "\n",
    "    j+=1\n",
    "    _ = input('Remove sample')\n",
    "\n",
    "\n"
   ]
  },
  {
   "cell_type": "code",
   "execution_count": 66,
   "id": "5e6be487-daec-450f-85fd-eddee865d869",
   "metadata": {},
   "outputs": [
    {
     "data": {
      "text/html": [
       "<div>\n",
       "<style scoped>\n",
       "    .dataframe tbody tr th:only-of-type {\n",
       "        vertical-align: middle;\n",
       "    }\n",
       "\n",
       "    .dataframe tbody tr th {\n",
       "        vertical-align: top;\n",
       "    }\n",
       "\n",
       "    .dataframe thead th {\n",
       "        text-align: right;\n",
       "    }\n",
       "</style>\n",
       "<table border=\"1\" class=\"dataframe\">\n",
       "  <thead>\n",
       "    <tr style=\"text-align: right;\">\n",
       "      <th></th>\n",
       "      <th>sample_name</th>\n",
       "      <th>uuid</th>\n",
       "      <th>teos_volume</th>\n",
       "      <th>ammonia_volume</th>\n",
       "      <th>water_volume</th>\n",
       "      <th>ethanol_volume</th>\n",
       "      <th>ctab_volume</th>\n",
       "      <th>F127_volume</th>\n",
       "      <th>Unnamed: 8</th>\n",
       "      <th>Unnamed: 9</th>\n",
       "    </tr>\n",
       "  </thead>\n",
       "  <tbody>\n",
       "    <tr>\n",
       "      <th>6</th>\n",
       "      <td>SyringeMixControl_2</td>\n",
       "      <td>30d3b674-6fa8-4c98-b282-da7523f58a0f</td>\n",
       "      <td>236.892048</td>\n",
       "      <td>180.111534</td>\n",
       "      <td>1313.594844</td>\n",
       "      <td>3546.832137</td>\n",
       "      <td>3351.899498</td>\n",
       "      <td>1370.669939</td>\n",
       "      <td>NaN</td>\n",
       "      <td>NaN</td>\n",
       "    </tr>\n",
       "  </tbody>\n",
       "</table>\n",
       "</div>"
      ],
      "text/plain": [
       "           sample_name                                  uuid  teos_volume  \\\n",
       "6  SyringeMixControl_2  30d3b674-6fa8-4c98-b282-da7523f58a0f   236.892048   \n",
       "\n",
       "   ammonia_volume  water_volume  ethanol_volume  ctab_volume  F127_volume  \\\n",
       "6      180.111534   1313.594844     3546.832137  3351.899498  1370.669939   \n",
       "\n",
       "   Unnamed: 8  Unnamed: 9  \n",
       "6         NaN         NaN  "
      ]
     },
     "execution_count": 66,
     "metadata": {},
     "output_type": "execute_result"
    }
   ],
   "source": [
    "sample_table_select"
   ]
  },
  {
   "cell_type": "code",
   "execution_count": 67,
   "id": "193023af-c6d8-4a89-bd34-2ed02e2c1c53",
   "metadata": {},
   "outputs": [
    {
     "data": {
      "text/plain": [
       "'d3092f76-88a7-4ccb-82c1-5cc7b8356c68'"
      ]
     },
     "execution_count": 67,
     "metadata": {},
     "output_type": "execute_result"
    }
   ],
   "source": [
    "sample_uid"
   ]
  },
  {
   "cell_type": "code",
   "execution_count": 68,
   "id": "94ec8746-4f89-4681-99bd-3b2ddb7332fd",
   "metadata": {},
   "outputs": [
    {
     "data": {
      "text/html": [
       "<div>\n",
       "<style scoped>\n",
       "    .dataframe tbody tr th:only-of-type {\n",
       "        vertical-align: middle;\n",
       "    }\n",
       "\n",
       "    .dataframe tbody tr th {\n",
       "        vertical-align: top;\n",
       "    }\n",
       "\n",
       "    .dataframe thead th {\n",
       "        text-align: right;\n",
       "    }\n",
       "</style>\n",
       "<table border=\"1\" class=\"dataframe\">\n",
       "  <thead>\n",
       "    <tr style=\"text-align: right;\">\n",
       "      <th></th>\n",
       "      <th>sample_name</th>\n",
       "      <th>uuid</th>\n",
       "      <th>teos_volume</th>\n",
       "      <th>ammonia_volume</th>\n",
       "      <th>water_volume</th>\n",
       "      <th>ethanol_volume</th>\n",
       "      <th>ctab_volume</th>\n",
       "      <th>F127_volume</th>\n",
       "      <th>Unnamed: 8</th>\n",
       "      <th>Unnamed: 9</th>\n",
       "    </tr>\n",
       "  </thead>\n",
       "  <tbody>\n",
       "    <tr>\n",
       "      <th>5</th>\n",
       "      <td>SyringeMixControl_1</td>\n",
       "      <td>d3092f76-88a7-4ccb-82c1-5cc7b8356c68</td>\n",
       "      <td>236.892048</td>\n",
       "      <td>180.111534</td>\n",
       "      <td>1313.594844</td>\n",
       "      <td>3546.832137</td>\n",
       "      <td>3351.899498</td>\n",
       "      <td>1370.669939</td>\n",
       "      <td>NaN</td>\n",
       "      <td>NaN</td>\n",
       "    </tr>\n",
       "    <tr>\n",
       "      <th>6</th>\n",
       "      <td>SyringeMixControl_2</td>\n",
       "      <td>30d3b674-6fa8-4c98-b282-da7523f58a0f</td>\n",
       "      <td>236.892048</td>\n",
       "      <td>180.111534</td>\n",
       "      <td>1313.594844</td>\n",
       "      <td>3546.832137</td>\n",
       "      <td>3351.899498</td>\n",
       "      <td>1370.669939</td>\n",
       "      <td>NaN</td>\n",
       "      <td>NaN</td>\n",
       "    </tr>\n",
       "    <tr>\n",
       "      <th>7</th>\n",
       "      <td>SyringeMixControl_3</td>\n",
       "      <td>4039d278-a8ec-4eac-a4ca-bd5ee2be894d</td>\n",
       "      <td>236.892048</td>\n",
       "      <td>180.111534</td>\n",
       "      <td>1313.594844</td>\n",
       "      <td>3546.832137</td>\n",
       "      <td>3351.899498</td>\n",
       "      <td>1370.669939</td>\n",
       "      <td>NaN</td>\n",
       "      <td>NaN</td>\n",
       "    </tr>\n",
       "  </tbody>\n",
       "</table>\n",
       "</div>"
      ],
      "text/plain": [
       "           sample_name                                  uuid  teos_volume  \\\n",
       "5  SyringeMixControl_1  d3092f76-88a7-4ccb-82c1-5cc7b8356c68   236.892048   \n",
       "6  SyringeMixControl_2  30d3b674-6fa8-4c98-b282-da7523f58a0f   236.892048   \n",
       "7  SyringeMixControl_3  4039d278-a8ec-4eac-a4ca-bd5ee2be894d   236.892048   \n",
       "\n",
       "   ammonia_volume  water_volume  ethanol_volume  ctab_volume  F127_volume  \\\n",
       "5      180.111534   1313.594844     3546.832137  3351.899498  1370.669939   \n",
       "6      180.111534   1313.594844     3546.832137  3351.899498  1370.669939   \n",
       "7      180.111534   1313.594844     3546.832137  3351.899498  1370.669939   \n",
       "\n",
       "   Unnamed: 8  Unnamed: 9  \n",
       "5         NaN         NaN  \n",
       "6         NaN         NaN  \n",
       "7         NaN         NaN  "
      ]
     },
     "execution_count": 68,
     "metadata": {},
     "output_type": "execute_result"
    }
   ],
   "source": [
    "sample_table"
   ]
  },
  {
   "cell_type": "code",
   "execution_count": 51,
   "id": "f28a4af5-ad5f-44ee-988b-900372e6ff6b",
   "metadata": {},
   "outputs": [
    {
     "data": {
      "text/plain": [
       "Series([], Name: water_volume, dtype: float64)"
      ]
     },
     "execution_count": 51,
     "metadata": {},
     "output_type": "execute_result"
    }
   ],
   "source": [
    "sample_table_select['water_volume']"
   ]
  },
  {
   "cell_type": "code",
   "execution_count": 171,
   "id": "daae5b10-e57a-4845-9d57-72acdd196168",
   "metadata": {},
   "outputs": [],
   "source": [
    "jubilee.park_tool()"
   ]
  },
  {
   "cell_type": "code",
   "execution_count": 58,
   "id": "ee9d1979-bf9f-4cd4-b436-84167b32ac62",
   "metadata": {},
   "outputs": [
    {
     "data": {
      "text/plain": [
       "sample_name                        SyringeMixControl_1\n",
       "uuid              d3092f76-88a7-4ccb-82c1-5cc7b8356c68\n",
       "teos_volume                                 236.892048\n",
       "ammonia_volume                              180.111534\n",
       "water_volume                               1313.594844\n",
       "ethanol_volume                             3546.832137\n",
       "ctab_volume                                3351.899498\n",
       "F127_volume                                1370.669939\n",
       "Unnamed: 8                                         NaN\n",
       "Unnamed: 9                                         NaN\n",
       "Name: 5, dtype: object"
      ]
     },
     "execution_count": 58,
     "metadata": {},
     "output_type": "execute_result"
    }
   ],
   "source": [
    "sample_table.loc[5]"
   ]
  },
  {
   "cell_type": "code",
   "execution_count": 53,
   "id": "75552cc3-f44b-40a0-a4cd-0e4292919851",
   "metadata": {},
   "outputs": [
    {
     "data": {
      "text/plain": [
       "5"
      ]
     },
     "execution_count": 53,
     "metadata": {},
     "output_type": "execute_result"
    }
   ],
   "source": [
    "i"
   ]
  },
  {
   "cell_type": "code",
   "execution_count": null,
   "id": "6e1092ea-f823-4931-b330-6374eafce725",
   "metadata": {},
   "outputs": [],
   "source": []
  }
 ],
 "metadata": {
  "kernelspec": {
   "display_name": "Python 3 (ipykernel)",
   "language": "python",
   "name": "python3"
  },
  "language_info": {
   "codemirror_mode": {
    "name": "ipython",
    "version": 3
   },
   "file_extension": ".py",
   "mimetype": "text/x-python",
   "name": "python",
   "nbconvert_exporter": "python",
   "pygments_lexer": "ipython3",
   "version": "3.9.19"
  }
 },
 "nbformat": 4,
 "nbformat_minor": 5
}
