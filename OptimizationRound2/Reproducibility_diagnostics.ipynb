{
 "cells": [
  {
   "cell_type": "code",
   "execution_count": 1,
   "id": "520cae21-6dc2-4ef2-b96e-fa85c0f81d12",
   "metadata": {},
   "outputs": [],
   "source": [
    "%load_ext autoreload\n",
    "%autoreload 2"
   ]
  },
  {
   "cell_type": "code",
   "execution_count": 4,
   "id": "f91c965e-4ff3-4464-ace5-36df197479db",
   "metadata": {},
   "outputs": [],
   "source": [
    "import pandas as pd\n",
    "import json\n",
    "import matplotlib.pyplot as plt\n",
    "import numpy as np\n",
    "\n",
    "from saxs_data_processing import io, manipulate, target_comparison, subtract, sasview_fitting\n",
    "from joblib import Parallel, delayed\n",
    "\n",
    "\n",
    "import sys\n",
    "sys.path.append('../visualizations/phase_diagram_viz/')\n",
    "import utils as pd_utils\n",
    "import numpy as np\n",
    "from scipy.spatial.distance import pdist, squareform"
   ]
  },
  {
   "cell_type": "markdown",
   "id": "d144cd7d-01c9-4252-909d-0e3227d36120",
   "metadata": {},
   "source": [
    "## Load data\n",
    "\n",
    "Load data from optimization round 2 campaign. Since we are looking at reproducibility, look at both RMSE and apdistance campaigns\n",
    "\n",
    "- Use APdist as metric"
   ]
  },
  {
   "cell_type": "code",
   "execution_count": 5,
   "id": "7e591ae4-e704-4fb7-a329-27b4142f267d",
   "metadata": {},
   "outputs": [],
   "source": [
    "synthesis_files = ['/home/bgpelkie/Code/silica-np-synthesis/OptimizationRound2/2025_01_13_RandomSample/SampleTable_RandomSobol_2025_01_13.csv',\n",
    "                   '/home/bgpelkie/Code/silica-np-synthesis/OptimizationRound2/2025_01_28_80nm_round1/Sample_table_2025_01_28_80nm_Round1_apdist.csv',\n",
    "                   '/home/bgpelkie/Code/silica-np-synthesis/OptimizationRound2/2025_01_28_80nm_round1/Sample_table_2025_01_28_80nmRound1_rmse.csv',\n",
    "                   '/home/bgpelkie/Code/silica-np-synthesis/OptimizationRound2/80nmTarget_round2/Sample_table_2025_01_30_80nm_Round2_apdist.csv',\n",
    "                   '/home/bgpelkie/Code/silica-np-synthesis/OptimizationRound2/80nmTarget_round2/Sample_table_2025_01_30_80nmbatch2_rmse.csv',\n",
    "                   '/home/bgpelkie/Code/silica-np-synthesis/OptimizationRound2/2025_02_03_80nmTarget_Round3/Sample_table_2025_02_03_80nm_Round3_apdist.csv',\n",
    "                   '/home/bgpelkie/Code/silica-np-synthesis/OptimizationRound2/2025_02_03_80nmTarget_Round3/Sample_table_2025_02_03_80nmbatch3_rmse.csv'\n",
    "                  ] "
   ]
  },
  {
   "cell_type": "code",
   "execution_count": 6,
   "id": "094034ba-0949-43a6-abe2-9a0f505e94ed",
   "metadata": {},
   "outputs": [],
   "source": [
    "fp2name = {'/home/bgpelkie/Code/silica-np-synthesis/OptimizationRound2/2025_01_13_RandomSample/SampleTable_RandomSobol_2025_01_13.csv':'Round2Random',\n",
    "           '/home/bgpelkie/Code/silica-np-synthesis/OptimizationRound2/2025_01_28_80nm_round1/Sample_table_2025_01_28_80nm_Round1_apdist.csv':'Opt1_Apdist',\n",
    "           '/home/bgpelkie/Code/silica-np-synthesis/OptimizationRound2/2025_01_28_80nm_round1/Sample_table_2025_01_28_80nmRound1_rmse.csv':'Opt1_rmse',\n",
    "           '/home/bgpelkie/Code/silica-np-synthesis/OptimizationRound2/80nmTarget_round2/Sample_table_2025_01_30_80nm_Round2_apdist.csv':'Opt2_apdist',\n",
    "           '/home/bgpelkie/Code/silica-np-synthesis/OptimizationRound2/80nmTarget_round2/Sample_table_2025_01_30_80nmbatch2_rmse.csv':'Opt2_rmse',\n",
    "           '/home/bgpelkie/Code/silica-np-synthesis/OptimizationRound2/2025_02_03_80nmTarget_Round3/Sample_table_2025_02_03_80nm_Round3_apdist.csv':'Opt3_apdist',\n",
    "           '/home/bgpelkie/Code/silica-np-synthesis/OptimizationRound2/2025_02_03_80nmTarget_Round3/Sample_table_2025_02_03_80nmbatch3_rmse.csv':'Opt3_rmse'\n",
    "          }\n"
   ]
  },
  {
   "cell_type": "code",
   "execution_count": 7,
   "id": "31148558-65b7-4987-93f8-e72846c47fef",
   "metadata": {},
   "outputs": [],
   "source": [
    "random_files = ['Round2Random']\n",
    "apdist_files = ['Opt1_Apdist', 'Opt2_apdist', 'Opt3_apdist']\n",
    "rmse_files = ['Opt1_rmse', 'Opt2_rmse', 'Opt3_rmse']"
   ]
  },
  {
   "cell_type": "code",
   "execution_count": 8,
   "id": "94f294ad-a167-4419-a437-9ca1e8aee6e3",
   "metadata": {},
   "outputs": [],
   "source": [
    "with open('./2025_01_13_RandomSample/constants_Round2_2025_01_13.json', 'rt') as f:\n",
    "    constants = json.load(f)"
   ]
  },
  {
   "cell_type": "code",
   "execution_count": 10,
   "id": "d9e0f930-c416-4dc7-b319-f41eed1cbf6e",
   "metadata": {},
   "outputs": [],
   "source": [
    "synth_table = pd.read_csv('./Complete_synth_table_after_batch3.csv')"
   ]
  },
  {
   "cell_type": "code",
   "execution_count": 11,
   "id": "5b8bb798-1ffe-4d41-81a5-94635ab9188c",
   "metadata": {},
   "outputs": [
    {
     "data": {
      "text/html": [
       "<div>\n",
       "<style scoped>\n",
       "    .dataframe tbody tr th:only-of-type {\n",
       "        vertical-align: middle;\n",
       "    }\n",
       "\n",
       "    .dataframe tbody tr th {\n",
       "        vertical-align: top;\n",
       "    }\n",
       "\n",
       "    .dataframe thead th {\n",
       "        text-align: right;\n",
       "    }\n",
       "</style>\n",
       "<table border=\"1\" class=\"dataframe\">\n",
       "  <thead>\n",
       "    <tr style=\"text-align: right;\">\n",
       "      <th></th>\n",
       "      <th>uuid</th>\n",
       "      <th>teos_volume</th>\n",
       "      <th>ammonia_volume</th>\n",
       "      <th>water_volume</th>\n",
       "      <th>ethanol_volume</th>\n",
       "      <th>dilution_volume_fraction</th>\n",
       "      <th>silica_mass_conc</th>\n",
       "      <th>silica_mass_fraction</th>\n",
       "      <th>well</th>\n",
       "      <th>campaign</th>\n",
       "      <th>...</th>\n",
       "      <th>sample_dilute_vol</th>\n",
       "      <th>dilute_well</th>\n",
       "      <th>target_volume</th>\n",
       "      <th>teos_vol_frac</th>\n",
       "      <th>ammonia_vol_frac</th>\n",
       "      <th>water_vol_frac</th>\n",
       "      <th>ethanol_vol_frac</th>\n",
       "      <th>ap_distance</th>\n",
       "      <th>rmse_distance</th>\n",
       "      <th>experiment_status</th>\n",
       "    </tr>\n",
       "  </thead>\n",
       "  <tbody>\n",
       "    <tr>\n",
       "      <th>0</th>\n",
       "      <td>c563cb4d-d727-437f-9a6a-fef3eccbbe50</td>\n",
       "      <td>222.617091</td>\n",
       "      <td>399.058218</td>\n",
       "      <td>590.750129</td>\n",
       "      <td>487.574561</td>\n",
       "      <td>0.485800</td>\n",
       "      <td>12.367236</td>\n",
       "      <td>0.014890</td>\n",
       "      <td>A1</td>\n",
       "      <td>Round2Random</td>\n",
       "      <td>...</td>\n",
       "      <td>NaN</td>\n",
       "      <td>NaN</td>\n",
       "      <td>1700.0</td>\n",
       "      <td>0.045948</td>\n",
       "      <td>0.082365</td>\n",
       "      <td>0.121930</td>\n",
       "      <td>0.286809</td>\n",
       "      <td>1.522190</td>\n",
       "      <td>0.255116</td>\n",
       "      <td>complete</td>\n",
       "    </tr>\n",
       "    <tr>\n",
       "      <th>1</th>\n",
       "      <td>3ef8b92f-f2eb-4134-ad6c-ae3329408457</td>\n",
       "      <td>424.578425</td>\n",
       "      <td>225.592744</td>\n",
       "      <td>374.598586</td>\n",
       "      <td>675.230244</td>\n",
       "      <td>0.254717</td>\n",
       "      <td>23.586966</td>\n",
       "      <td>0.028651</td>\n",
       "      <td>A2</td>\n",
       "      <td>Round2Random</td>\n",
       "      <td>...</td>\n",
       "      <td>NaN</td>\n",
       "      <td>NaN</td>\n",
       "      <td>1700.0</td>\n",
       "      <td>0.087632</td>\n",
       "      <td>0.046562</td>\n",
       "      <td>0.077317</td>\n",
       "      <td>0.397194</td>\n",
       "      <td>1.548249</td>\n",
       "      <td>0.264217</td>\n",
       "      <td>complete</td>\n",
       "    </tr>\n",
       "    <tr>\n",
       "      <th>2</th>\n",
       "      <td>0507cf19-673b-4d6b-922e-c21f718ad4fe</td>\n",
       "      <td>290.225034</td>\n",
       "      <td>259.039405</td>\n",
       "      <td>534.588398</td>\n",
       "      <td>616.147162</td>\n",
       "      <td>0.372633</td>\n",
       "      <td>16.123118</td>\n",
       "      <td>0.019498</td>\n",
       "      <td>A3</td>\n",
       "      <td>Round2Random</td>\n",
       "      <td>...</td>\n",
       "      <td>NaN</td>\n",
       "      <td>NaN</td>\n",
       "      <td>1700.0</td>\n",
       "      <td>0.059902</td>\n",
       "      <td>0.053465</td>\n",
       "      <td>0.110338</td>\n",
       "      <td>0.362440</td>\n",
       "      <td>1.489590</td>\n",
       "      <td>0.254219</td>\n",
       "      <td>complete</td>\n",
       "    </tr>\n",
       "    <tr>\n",
       "      <th>3</th>\n",
       "      <td>82fc5e1c-5d6e-4ecd-82c3-eb912535a0d7</td>\n",
       "      <td>87.221241</td>\n",
       "      <td>134.097491</td>\n",
       "      <td>46.585717</td>\n",
       "      <td>1432.095551</td>\n",
       "      <td>1.239920</td>\n",
       "      <td>4.845476</td>\n",
       "      <td>0.006080</td>\n",
       "      <td>A4</td>\n",
       "      <td>Round2Random</td>\n",
       "      <td>...</td>\n",
       "      <td>NaN</td>\n",
       "      <td>NaN</td>\n",
       "      <td>1700.0</td>\n",
       "      <td>0.018002</td>\n",
       "      <td>0.027678</td>\n",
       "      <td>0.009615</td>\n",
       "      <td>0.842409</td>\n",
       "      <td>0.991199</td>\n",
       "      <td>0.298204</td>\n",
       "      <td>complete</td>\n",
       "    </tr>\n",
       "    <tr>\n",
       "      <th>4</th>\n",
       "      <td>9964ab9f-5b01-4ae2-b492-a1be55ce083f</td>\n",
       "      <td>44.198312</td>\n",
       "      <td>353.311589</td>\n",
       "      <td>274.447630</td>\n",
       "      <td>1028.042468</td>\n",
       "      <td>2.446865</td>\n",
       "      <td>2.455386</td>\n",
       "      <td>0.003029</td>\n",
       "      <td>A5</td>\n",
       "      <td>Round2Random</td>\n",
       "      <td>...</td>\n",
       "      <td>NaN</td>\n",
       "      <td>NaN</td>\n",
       "      <td>1700.0</td>\n",
       "      <td>0.009122</td>\n",
       "      <td>0.072923</td>\n",
       "      <td>0.056646</td>\n",
       "      <td>0.604731</td>\n",
       "      <td>1.429035</td>\n",
       "      <td>0.302280</td>\n",
       "      <td>complete</td>\n",
       "    </tr>\n",
       "    <tr>\n",
       "      <th>...</th>\n",
       "      <td>...</td>\n",
       "      <td>...</td>\n",
       "      <td>...</td>\n",
       "      <td>...</td>\n",
       "      <td>...</td>\n",
       "      <td>...</td>\n",
       "      <td>...</td>\n",
       "      <td>...</td>\n",
       "      <td>...</td>\n",
       "      <td>...</td>\n",
       "      <td>...</td>\n",
       "      <td>...</td>\n",
       "      <td>...</td>\n",
       "      <td>...</td>\n",
       "      <td>...</td>\n",
       "      <td>...</td>\n",
       "      <td>...</td>\n",
       "      <td>...</td>\n",
       "      <td>...</td>\n",
       "      <td>...</td>\n",
       "      <td>...</td>\n",
       "    </tr>\n",
       "    <tr>\n",
       "      <th>87</th>\n",
       "      <td>6835f124-f5d6-43aa-a279-afcb239638af</td>\n",
       "      <td>387.962921</td>\n",
       "      <td>391.025337</td>\n",
       "      <td>726.750029</td>\n",
       "      <td>194.261713</td>\n",
       "      <td>0.278757</td>\n",
       "      <td>21.552834</td>\n",
       "      <td>0.025623</td>\n",
       "      <td>C2</td>\n",
       "      <td>Opt3_rmse</td>\n",
       "      <td>...</td>\n",
       "      <td>474.0</td>\n",
       "      <td>E8</td>\n",
       "      <td>1700.0</td>\n",
       "      <td>0.080075</td>\n",
       "      <td>0.080707</td>\n",
       "      <td>0.150000</td>\n",
       "      <td>0.114272</td>\n",
       "      <td>1.543397</td>\n",
       "      <td>0.267277</td>\n",
       "      <td>complete</td>\n",
       "    </tr>\n",
       "    <tr>\n",
       "      <th>88</th>\n",
       "      <td>f33b86ef-abb4-4015-a39e-7a1447404af8</td>\n",
       "      <td>484.500007</td>\n",
       "      <td>249.628718</td>\n",
       "      <td>726.750029</td>\n",
       "      <td>239.121245</td>\n",
       "      <td>0.223214</td>\n",
       "      <td>26.915840</td>\n",
       "      <td>0.032013</td>\n",
       "      <td>C3</td>\n",
       "      <td>Opt3_rmse</td>\n",
       "      <td>...</td>\n",
       "      <td>379.0</td>\n",
       "      <td>F1</td>\n",
       "      <td>1700.0</td>\n",
       "      <td>0.100000</td>\n",
       "      <td>0.051523</td>\n",
       "      <td>0.150000</td>\n",
       "      <td>0.140660</td>\n",
       "      <td>1.326944</td>\n",
       "      <td>0.297241</td>\n",
       "      <td>complete</td>\n",
       "    </tr>\n",
       "    <tr>\n",
       "      <th>89</th>\n",
       "      <td>0c9a7a98-4035-453d-ac5c-c95edc1c0de6</td>\n",
       "      <td>203.892761</td>\n",
       "      <td>342.406805</td>\n",
       "      <td>24.224999</td>\n",
       "      <td>1129.475434</td>\n",
       "      <td>0.530413</td>\n",
       "      <td>11.327028</td>\n",
       "      <td>0.014084</td>\n",
       "      <td>C4</td>\n",
       "      <td>Opt3_rmse</td>\n",
       "      <td>...</td>\n",
       "      <td>902.0</td>\n",
       "      <td>F2</td>\n",
       "      <td>1700.0</td>\n",
       "      <td>0.042083</td>\n",
       "      <td>0.070672</td>\n",
       "      <td>0.005000</td>\n",
       "      <td>0.664397</td>\n",
       "      <td>1.531726</td>\n",
       "      <td>0.278223</td>\n",
       "      <td>complete</td>\n",
       "    </tr>\n",
       "    <tr>\n",
       "      <th>90</th>\n",
       "      <td>76682cac-1ccd-4f9e-ac77-90854e231547</td>\n",
       "      <td>484.500007</td>\n",
       "      <td>369.326213</td>\n",
       "      <td>726.750029</td>\n",
       "      <td>119.423751</td>\n",
       "      <td>0.223214</td>\n",
       "      <td>26.915840</td>\n",
       "      <td>0.031909</td>\n",
       "      <td>C5</td>\n",
       "      <td>Opt3_rmse</td>\n",
       "      <td>...</td>\n",
       "      <td>379.0</td>\n",
       "      <td>F3</td>\n",
       "      <td>1700.0</td>\n",
       "      <td>0.100000</td>\n",
       "      <td>0.076228</td>\n",
       "      <td>0.150000</td>\n",
       "      <td>0.070249</td>\n",
       "      <td>1.309539</td>\n",
       "      <td>0.278673</td>\n",
       "      <td>complete</td>\n",
       "    </tr>\n",
       "    <tr>\n",
       "      <th>91</th>\n",
       "      <td>e6581805-cb63-4d4a-a6b8-1cf24627d842</td>\n",
       "      <td>24.224999</td>\n",
       "      <td>421.134947</td>\n",
       "      <td>431.638112</td>\n",
       "      <td>823.001941</td>\n",
       "      <td>4.464286</td>\n",
       "      <td>1.345792</td>\n",
       "      <td>0.001645</td>\n",
       "      <td>C6</td>\n",
       "      <td>Opt3_rmse</td>\n",
       "      <td>...</td>\n",
       "      <td>1700.0</td>\n",
       "      <td>F4</td>\n",
       "      <td>1700.0</td>\n",
       "      <td>0.005000</td>\n",
       "      <td>0.086922</td>\n",
       "      <td>0.089089</td>\n",
       "      <td>0.484119</td>\n",
       "      <td>1.301548</td>\n",
       "      <td>0.312270</td>\n",
       "      <td>complete</td>\n",
       "    </tr>\n",
       "  </tbody>\n",
       "</table>\n",
       "<p>92 rows × 21 columns</p>\n",
       "</div>"
      ],
      "text/plain": [
       "                                    uuid  teos_volume  ammonia_volume  \\\n",
       "0   c563cb4d-d727-437f-9a6a-fef3eccbbe50   222.617091      399.058218   \n",
       "1   3ef8b92f-f2eb-4134-ad6c-ae3329408457   424.578425      225.592744   \n",
       "2   0507cf19-673b-4d6b-922e-c21f718ad4fe   290.225034      259.039405   \n",
       "3   82fc5e1c-5d6e-4ecd-82c3-eb912535a0d7    87.221241      134.097491   \n",
       "4   9964ab9f-5b01-4ae2-b492-a1be55ce083f    44.198312      353.311589   \n",
       "..                                   ...          ...             ...   \n",
       "87  6835f124-f5d6-43aa-a279-afcb239638af   387.962921      391.025337   \n",
       "88  f33b86ef-abb4-4015-a39e-7a1447404af8   484.500007      249.628718   \n",
       "89  0c9a7a98-4035-453d-ac5c-c95edc1c0de6   203.892761      342.406805   \n",
       "90  76682cac-1ccd-4f9e-ac77-90854e231547   484.500007      369.326213   \n",
       "91  e6581805-cb63-4d4a-a6b8-1cf24627d842    24.224999      421.134947   \n",
       "\n",
       "    water_volume  ethanol_volume  dilution_volume_fraction  silica_mass_conc  \\\n",
       "0     590.750129      487.574561                  0.485800         12.367236   \n",
       "1     374.598586      675.230244                  0.254717         23.586966   \n",
       "2     534.588398      616.147162                  0.372633         16.123118   \n",
       "3      46.585717     1432.095551                  1.239920          4.845476   \n",
       "4     274.447630     1028.042468                  2.446865          2.455386   \n",
       "..           ...             ...                       ...               ...   \n",
       "87    726.750029      194.261713                  0.278757         21.552834   \n",
       "88    726.750029      239.121245                  0.223214         26.915840   \n",
       "89     24.224999     1129.475434                  0.530413         11.327028   \n",
       "90    726.750029      119.423751                  0.223214         26.915840   \n",
       "91    431.638112      823.001941                  4.464286          1.345792   \n",
       "\n",
       "    silica_mass_fraction well      campaign  ...  sample_dilute_vol  \\\n",
       "0               0.014890   A1  Round2Random  ...                NaN   \n",
       "1               0.028651   A2  Round2Random  ...                NaN   \n",
       "2               0.019498   A3  Round2Random  ...                NaN   \n",
       "3               0.006080   A4  Round2Random  ...                NaN   \n",
       "4               0.003029   A5  Round2Random  ...                NaN   \n",
       "..                   ...  ...           ...  ...                ...   \n",
       "87              0.025623   C2     Opt3_rmse  ...              474.0   \n",
       "88              0.032013   C3     Opt3_rmse  ...              379.0   \n",
       "89              0.014084   C4     Opt3_rmse  ...              902.0   \n",
       "90              0.031909   C5     Opt3_rmse  ...              379.0   \n",
       "91              0.001645   C6     Opt3_rmse  ...             1700.0   \n",
       "\n",
       "    dilute_well target_volume  teos_vol_frac  ammonia_vol_frac  \\\n",
       "0           NaN        1700.0       0.045948          0.082365   \n",
       "1           NaN        1700.0       0.087632          0.046562   \n",
       "2           NaN        1700.0       0.059902          0.053465   \n",
       "3           NaN        1700.0       0.018002          0.027678   \n",
       "4           NaN        1700.0       0.009122          0.072923   \n",
       "..          ...           ...            ...               ...   \n",
       "87           E8        1700.0       0.080075          0.080707   \n",
       "88           F1        1700.0       0.100000          0.051523   \n",
       "89           F2        1700.0       0.042083          0.070672   \n",
       "90           F3        1700.0       0.100000          0.076228   \n",
       "91           F4        1700.0       0.005000          0.086922   \n",
       "\n",
       "    water_vol_frac  ethanol_vol_frac  ap_distance  rmse_distance  \\\n",
       "0         0.121930          0.286809     1.522190       0.255116   \n",
       "1         0.077317          0.397194     1.548249       0.264217   \n",
       "2         0.110338          0.362440     1.489590       0.254219   \n",
       "3         0.009615          0.842409     0.991199       0.298204   \n",
       "4         0.056646          0.604731     1.429035       0.302280   \n",
       "..             ...               ...          ...            ...   \n",
       "87        0.150000          0.114272     1.543397       0.267277   \n",
       "88        0.150000          0.140660     1.326944       0.297241   \n",
       "89        0.005000          0.664397     1.531726       0.278223   \n",
       "90        0.150000          0.070249     1.309539       0.278673   \n",
       "91        0.089089          0.484119     1.301548       0.312270   \n",
       "\n",
       "    experiment_status  \n",
       "0            complete  \n",
       "1            complete  \n",
       "2            complete  \n",
       "3            complete  \n",
       "4            complete  \n",
       "..                ...  \n",
       "87           complete  \n",
       "88           complete  \n",
       "89           complete  \n",
       "90           complete  \n",
       "91           complete  \n",
       "\n",
       "[92 rows x 21 columns]"
      ]
     },
     "execution_count": 11,
     "metadata": {},
     "output_type": "execute_result"
    }
   ],
   "source": [
    "synth_table"
   ]
  },
  {
   "cell_type": "markdown",
   "id": "d1cde983-a4fd-4fa2-b69b-4c4facf1e94e",
   "metadata": {},
   "source": [
    "### Composition vs AP distance"
   ]
  },
  {
   "cell_type": "code",
   "execution_count": 12,
   "id": "4f7ad765-0f9e-4ad4-bd75-37ac15790404",
   "metadata": {},
   "outputs": [
    {
     "data": {
      "text/plain": [
       "Text(0.5, 0, 'Water vol frac')"
      ]
     },
     "execution_count": 12,
     "metadata": {},
     "output_type": "execute_result"
    },
    {
     "data": {
      "image/png": "[encoded data removed]",
      "text/plain": [
       "<Figure size 1200x400 with 3 Axes>"
      ]
     },
     "metadata": {},
     "output_type": "display_data"
    }
   ],
   "source": [
    "fig, ax = plt.subplots(1,3, figsize = (12,4))\n",
    "\n",
    "ax[0].scatter(synth_table['teos_vol_frac'], synth_table['ap_distance'])\n",
    "ax[1].scatter(synth_table['ammonia_vol_frac'], synth_table['ap_distance'])\n",
    "ax[2].scatter(synth_table['water_vol_frac'], synth_table['ap_distance'])\n",
    "\n",
    "ax[0].set_ylabel('AP distance')\n",
    "ax[0].set_xlabel('TEOS vol frac')\n",
    "ax[1].set_xlabel('Ammonia vol frac')\n",
    "ax[2].set_xlabel('Water vol frac')"
   ]
  },
  {
   "cell_type": "markdown",
   "id": "0740ea21-dec5-45d4-8817-cc72c6fcdc0d",
   "metadata": {},
   "source": [
    "### Distance to next sample vs APdist between samples\n",
    "\n",
    "For this, need pairwise distance between each sample\n",
    "- or each sample and it's 5 closest neighbors?\n",
    "- Take average AP distance\n",
    "- Can plot this as a metric however we need\n"
   ]
  },
  {
   "cell_type": "code",
   "execution_count": 19,
   "id": "c519f281-a4ba-4651-829d-a7fa6566302d",
   "metadata": {},
   "outputs": [],
   "source": [
    "with open('./2025_02_05_80nmTarget_Round4/scaled_intensities_Opt2_Batch3.json', 'rt') as f:\n",
    "    saxs_curves = json.load(f)"
   ]
  },
  {
   "cell_type": "code",
   "execution_count": 20,
   "id": "04e69346-5ba4-48fd-8117-6e2d2ea5d539",
   "metadata": {},
   "outputs": [],
   "source": [
    "def find_n_closest_neighbors(dist_matrix, n):\n",
    "    \"\"\"\n",
    "    Find the n closest neighbors for each point in a list of 3D points.\n",
    "    \n",
    "    :param points: List of (x, y, z) tuples or a NumPy array of shape (m, 3)\n",
    "    :param n: Number of nearest neighbors to find (excluding the point itself)\n",
    "    :return: Dictionary mapping each point index to a list of n closest neighbor indices\n",
    "    \"\"\"\n",
    "\n",
    "\n",
    "    # Get the indices of the closest neighbors (excluding the point itself)\n",
    "    neighbors = {}\n",
    "    for i in range(len(dist_matrix)):\n",
    "        sorted_indices = np.argsort(dist_matrix[i])  # Sort distances (smallest first)\n",
    "        closest_n = sorted_indices[1:n+1]  # Exclude the first one (distance to itself = 0)\n",
    "        neighbors[i] = closest_n.tolist()\n",
    "\n",
    "    return neighbors"
   ]
  },
  {
   "cell_type": "code",
   "execution_count": 21,
   "id": "7f7058b2-d9fe-449c-b5e8-fc274c419847",
   "metadata": {},
   "outputs": [],
   "source": [
    "# Amplitude-phase distance parameters\n",
    "optim = \"DP\"\n",
    "grid_dim = 10"
   ]
  },
  {
   "cell_type": "code",
   "execution_count": 22,
   "id": "bd618124-869d-4964-b1c9-d1df6535d64d",
   "metadata": {},
   "outputs": [],
   "source": [
    "# 1. calculate the pairwise distance between every sample in compoistion space\n",
    "\n",
    "uuid_list = list(synth_table['uuid'])\n",
    "compositions = synth_table[['teos_vol_frac', 'ammonia_vol_frac', 'water_vol_frac']].to_numpy()\n",
    "\n",
    "distances = squareform(pdist(compositions, metric = 'euclidean'))\n",
    "#2. Get the 5 closest neighbors for each sample\n",
    "\n",
    "neighbors_indices = find_n_closest_neighbors(distances, 5)\n",
    "\n",
    "#3. Calcualate the AP distance for each pair \n"
   ]
  },
  {
   "cell_type": "raw",
   "id": "ea8d2fc3-14d5-46d7-b722-67ff937e9bc9",
   "metadata": {},
   "source": [
    "def compute_ap_sum(ind, ind2, uuid_list, saxs_curves, target_comparison, optim, grid_dim):\n",
    "    \"\"\"Function to compute the ap_sum for a given pair of indices.\"\"\"\n",
    "    uuid_1 = uuid_list[ind]\n",
    "    uuid_2 = uuid_list[ind2]\n",
    "\n",
    "    try:\n",
    "\n",
    "        I_1 = np.array(saxs_curves[uuid_1]['I_scaled'])\n",
    "        I_2 = np.array(saxs_curves[uuid_2]['I_scaled'])\n",
    "    \n",
    "        q_grid = np.array(saxs_curves[uuid_1]['q_grid'])\n",
    "    except KeyError:\n",
    "        return (ind, ind2, None)\n",
    "\n",
    "    try:\n",
    "        \n",
    "        amplitude, phase = target_comparison.ap_distance(q_grid, I_1, I_2, optim=optim, grid_dim=grid_dim)\n",
    "    except Exception as e:\n",
    "        print(f'Error on {uuid_1}, {uuid_2}, {e}')\n",
    "        return (ind, ind2, None)\n",
    "\n",
    "    ap_sum = amplitude + phase\n",
    "    return (ind, ind2, ap_sum)\n",
    "\n",
    "def parallel_compute_neighbors(neighbors_indices, uuid_list, saxs_curves, target_comparison, optim, grid_dim, n_jobs=-1):\n",
    "    \"\"\"Parallelize the computation of ap_sum for all neighbors.\"\"\"\n",
    "    # Use Parallel with delayed to distribute computations across multiple cores\n",
    "    results = Parallel(n_jobs=n_jobs)(\n",
    "        delayed(compute_ap_sum)(ind, ind2, uuid_list, saxs_curves, target_comparison, optim, grid_dim)\n",
    "        for ind, neighbs in neighbors_indices.items()\n",
    "        for ind2 in neighbs\n",
    "    )\n",
    "\n",
    "    return results\n",
    "\n",
    "\n",
    "    \n",
    "        # You can update a shared data structure, e.g., a dictionary or matrix here.\n",
    "\n",
    "# Example usage:\n",
    "# parallel_compute_neighbors(neighbors_indices, uuid_list, saxs_curves, target_comparison, optim, grid_dim, n_jobs=4)\n"
   ]
  },
  {
   "cell_type": "raw",
   "id": "286c1256-428f-4952-bbf3-aaca917098e4",
   "metadata": {},
   "source": [
    "computed_ap_distances_results = parallel_compute_neighbors(neighbors_indices, uuid_list, saxs_curves, target_comparison, optim, grid_dim)"
   ]
  },
  {
   "cell_type": "raw",
   "id": "f3117fd3-3131-4b9b-a463-e36013e865ea",
   "metadata": {},
   "source": [
    "AP_distances = np.full(2*(len(uuid_list),), None, dtype=object)\n",
    "# Process results (returning them or updating data structures)\n",
    "for ind, ind2, ap_sum in computed_ap_distances_results:\n",
    "\n",
    "    # Do something with ap_sum, such as storing it in a matrix or dictionary\n",
    "    AP_distances[min(ind, ind2), max(ind, ind2)] = ap_sum"
   ]
  },
  {
   "cell_type": "raw",
   "id": "1eb78449-bcdf-45ad-8668-45b5218b2042",
   "metadata": {},
   "source": [
    "np.save('computed_ap_distances.npy', AP_distances)"
   ]
  },
  {
   "cell_type": "code",
   "execution_count": 24,
   "id": "75a9b026-b68c-47d6-8162-81e7c18f739b",
   "metadata": {},
   "outputs": [],
   "source": [
    "AP_distances = np.load('../computed_ap_distances.npy', allow_pickle=True)"
   ]
  },
  {
   "cell_type": "code",
   "execution_count": 25,
   "id": "53787806-3dd7-469e-8c37-effac12f6072",
   "metadata": {},
   "outputs": [],
   "source": [
    "# 4. histogram of neighbor distances vs. ap distances"
   ]
  },
  {
   "cell_type": "code",
   "execution_count": 40,
   "id": "0abd292e-95ca-4f36-b2ae-761a676df912",
   "metadata": {},
   "outputs": [],
   "source": [
    "composition_distances = []\n",
    "ap_distances_all = []\n",
    "\n",
    "ap_over_comp_avg = {}\n",
    "# for each sample:\n",
    "for ind, neighbs in neighbors_indices.items():\n",
    "    # for each neighbor:\n",
    "    comp_dist = []\n",
    "    ap_dist_neighbs = []\n",
    "    for ind2 in neighbs:\n",
    "        composition_distances.append(distances[ind, ind2])\n",
    "        comp_dist.append(distances[ind, ind2])\n",
    "        \n",
    "        ap_distances_all.append(AP_distances[min(ind, ind2), max(ind, ind2)])\n",
    "        ap_dist_neighbs.append(AP_distances[min(ind, ind2), max(ind, ind2)])\n",
    "\n",
    "    ratio = []\n",
    "    for cd, ad in zip(comp_dist, ap_dist_neighbs):\n",
    "        if cd is None or ad is None:\n",
    "            continue\n",
    "        else:\n",
    "            ratio.append(ad/cd)\n",
    "\n",
    "    ap_over_comp_avg[ind] = np.mean(ratio)"
   ]
  },
  {
   "cell_type": "code",
   "execution_count": 27,
   "id": "6b20b875-14c2-40ae-8448-fc42dcf0c1d7",
   "metadata": {},
   "outputs": [
    {
     "data": {
      "text/plain": [
       "Text(0, 0.5, 'AP distance')"
      ]
     },
     "execution_count": 27,
     "metadata": {},
     "output_type": "execute_result"
    },
    {
     "data": {
      "image/png": "[encoded data removed]",
      "text/plain": [
       "<Figure size 640x480 with 1 Axes>"
      ]
     },
     "metadata": {},
     "output_type": "display_data"
    }
   ],
   "source": [
    "plt.scatter(composition_distances, ap_distances_all)\n",
    "plt.xlabel('Composition distance')\n",
    "plt.ylabel('AP distance')"
   ]
  },
  {
   "cell_type": "markdown",
   "id": "069c8e68-3a21-4ccc-a9a3-29ec3652b6a9",
   "metadata": {},
   "source": [
    "### Plot APdistance/composition distance vs. composition"
   ]
  },
  {
   "cell_type": "code",
   "execution_count": 29,
   "id": "c978ef02-60fa-4055-87e5-a0813d47614b",
   "metadata": {},
   "outputs": [],
   "source": [
    "dist_ratio = []\n",
    "for ap, comp in zip(ap_distances_all, composition_distances):\n",
    "    if ap is None or comp is None:\n",
    "        dist_ratio.append(None)\n",
    "    else:\n",
    "        dist_ratio.append(ap/comp)"
   ]
  },
  {
   "cell_type": "code",
   "execution_count": 49,
   "id": "94f6dfe4-f897-4296-9d1e-8cbde5df2612",
   "metadata": {},
   "outputs": [
    {
     "data": {
      "text/plain": [
       "Text(0, 0.5, 'Average AP dist/composition distance for closest neighbors')"
      ]
     },
     "execution_count": 49,
     "metadata": {},
     "output_type": "execute_result"
    },
    {
     "data": {
      "image/png": "[encoded data removed]",
      "text/plain": [
       "<Figure size 640x480 with 1 Axes>"
      ]
     },
     "metadata": {},
     "output_type": "display_data"
    }
   ],
   "source": [
    "fig, ax = plt.subplots()\n",
    "\n",
    "x_var = 0\n",
    "\n",
    "\n",
    "comp_list = []\n",
    "ratio_list = []\n",
    "for i, ratio in ap_over_comp_avg.items():\n",
    "    comp_list.append(compositions[i, x_var])\n",
    "    ratio_list.append(ratio)\n",
    "\n",
    "ax.scatter(comp_list, ratio_list)\n",
    "ax.set_ylim(0, 100)\n",
    "\n",
    "ax.set_xlabel('TEOS vol frac')\n",
    "ax.set_ylabel('Average AP dist/composition distance for closest neighbors')"
   ]
  },
  {
   "cell_type": "code",
   "execution_count": 32,
   "id": "a6a72ffe-87c2-41a5-b972-ea0c0eff38d5",
   "metadata": {},
   "outputs": [
    {
     "data": {
      "text/plain": [
       "460"
      ]
     },
     "execution_count": 32,
     "metadata": {},
     "output_type": "execute_result"
    }
   ],
   "source": [
    "len(dist_ratio)"
   ]
  },
  {
   "cell_type": "code",
   "execution_count": 35,
   "id": "afa997ac-35e6-48bb-bdc8-0494c1e3a776",
   "metadata": {},
   "outputs": [
    {
     "ename": "AttributeError",
     "evalue": "'numpy.ndarray' object has no attribute 'isna'",
     "output_type": "error",
     "traceback": [
      "\u001b[0;31m---------------------------------------------------------------------------\u001b[0m",
      "\u001b[0;31mAttributeError\u001b[0m                            Traceback (most recent call last)",
      "Cell \u001b[0;32mIn[35], line 1\u001b[0m\n\u001b[0;32m----> 1\u001b[0m np\u001b[38;5;241m.\u001b[39marray([\u001b[38;5;241m1\u001b[39m,\u001b[38;5;241m1\u001b[39m,\u001b[38;5;28;01mNone\u001b[39;00m,\u001b[38;5;241m1\u001b[39m])\u001b[38;5;241m.\u001b[39misna()\n",
      "\u001b[0;31mAttributeError\u001b[0m: 'numpy.ndarray' object has no attribute 'isna'"
     ]
    }
   ],
   "source": [
    "np.array([1,1,None,1])"
   ]
  },
  {
   "cell_type": "code",
   "execution_count": null,
   "id": "5302ab92-6eb9-4752-b80d-8ab360f78814",
   "metadata": {},
   "outputs": [],
   "source": []
  }
 ],
 "metadata": {
  "kernelspec": {
   "display_name": "Python 3 (ipykernel)",
   "language": "python",
   "name": "python3"
  },
  "language_info": {
   "codemirror_mode": {
    "name": "ipython",
    "version": 3
   },
   "file_extension": ".py",
   "mimetype": "text/x-python",
   "name": "python",
   "nbconvert_exporter": "python",
   "pygments_lexer": "ipython3",
   "version": "3.12.7"
  }
 },
 "nbformat": 4,
 "nbformat_minor": 5
}
