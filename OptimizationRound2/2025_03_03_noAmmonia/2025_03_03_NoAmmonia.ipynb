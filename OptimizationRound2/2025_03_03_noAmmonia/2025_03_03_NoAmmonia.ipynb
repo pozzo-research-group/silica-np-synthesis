{
 "cells": [
  {
   "cell_type": "markdown",
   "id": "110d0499-187d-47cb-b3bd-52e828f810d0",
   "metadata": {},
   "source": [
    "## Setup"
   ]
  },
  {
   "cell_type": "code",
   "execution_count": 1,
   "id": "023a9737-b2dd-4151-af0b-67ea2aeb7386",
   "metadata": {},
   "outputs": [],
   "source": [
    "%load_ext autoreload\n",
    "%autoreload 2"
   ]
  },
  {
   "cell_type": "code",
   "execution_count": 2,
   "id": "a8305f4f-98d9-46aa-b3a5-aef3875465c8",
   "metadata": {},
   "outputs": [],
   "source": [
    "import requests\n",
    "\n",
    "# ----------- Science Jubilee -------------\n",
    "from science_jubilee import Machine as Jub\n",
    "from science_jubilee.tools import HTTPSyringe as syringe\n",
    "from science_jubilee.tools import Pipette\n",
    "from science_jubilee.utils import Handlers\n",
    "import time\n",
    "import numpy as np\n",
    "import pandas as pd\n",
    "import logging\n",
    "import sys\n",
    "sys.path.append('../..')\n",
    "import stober_synthesis_utils as stober"
   ]
  },
  {
   "cell_type": "code",
   "execution_count": 3,
   "id": "39e0dd27-900a-4151-ad77-cae178e545d7",
   "metadata": {},
   "outputs": [],
   "source": [
    "FORMAT = '%(asctime)s:%(levelname)s:%(name)s:%(message)s'\n",
    "logging.basicConfig(filename = '2025_03_03_noAmmonia.log', level = logging.INFO, format = FORMAT)\n",
    "logger = logging.getLogger(__name__)"
   ]
  },
  {
   "cell_type": "code",
   "execution_count": 4,
   "id": "bb05bc51-e88d-493a-b7ae-ec244bab05d1",
   "metadata": {
    "scrolled": true
   },
   "outputs": [],
   "source": [
    "jubilee = Jub.Machine(address='192.168.1.2', simulated = False, crash_detection = False) "
   ]
  },
  {
   "cell_type": "raw",
   "id": "23f14450-b2fd-46b7-82b2-a17b1061fde5",
   "metadata": {
    "scrolled": true
   },
   "source": [
    "[(31.1, 169.0), (121.1, 169.0), (121.1, 113.0)]#jubilee.home_all()\n",
    "logger.info('Homed Jubilee')"
   ]
  },
  {
   "cell_type": "code",
   "execution_count": 5,
   "id": "d2505692-e098-4cf7-954a-b2ac9d91e06f",
   "metadata": {},
   "outputs": [],
   "source": [
    "sample_table = pd.read_csv('SampleTable_ReproReplicates_10000.csv')\n",
    "#sample_table_2 = pd.read_csv('SampleTable_ReproReplicates_10000.csv')\n"
   ]
  },
  {
   "cell_type": "code",
   "execution_count": 6,
   "id": "3fa12ac1-cd52-42b9-829b-1eca23762195",
   "metadata": {},
   "outputs": [],
   "source": [
    "deck = jubilee.load_deck('lab_automation_deck_AFL_bolton.json')"
   ]
  },
  {
   "cell_type": "code",
   "execution_count": 7,
   "id": "2c839229-1542-4c4b-9078-419dab9e6cce",
   "metadata": {},
   "outputs": [],
   "source": [
    "sample_table['well'] = ['A1', 'A2', 'A3', 'A4', 'B1']"
   ]
  },
  {
   "cell_type": "code",
   "execution_count": 8,
   "id": "43f57e5f-983a-43b3-8545-e96454fe41f5",
   "metadata": {},
   "outputs": [
    {
     "data": {
      "text/html": [
       "<div>\n",
       "<style scoped>\n",
       "    .dataframe tbody tr th:only-of-type {\n",
       "        vertical-align: middle;\n",
       "    }\n",
       "\n",
       "    .dataframe tbody tr th {\n",
       "        vertical-align: top;\n",
       "    }\n",
       "\n",
       "    .dataframe thead th {\n",
       "        text-align: right;\n",
       "    }\n",
       "</style>\n",
       "<table border=\"1\" class=\"dataframe\">\n",
       "  <thead>\n",
       "    <tr style=\"text-align: right;\">\n",
       "      <th></th>\n",
       "      <th>Unnamed: 0</th>\n",
       "      <th>uuid</th>\n",
       "      <th>teos_volume</th>\n",
       "      <th>ammonia_volume</th>\n",
       "      <th>water_volume</th>\n",
       "      <th>ethanol_volume</th>\n",
       "      <th>dilution_volume_fraction</th>\n",
       "      <th>silica_mass_conc</th>\n",
       "      <th>silica_mass_fraction</th>\n",
       "      <th>well</th>\n",
       "    </tr>\n",
       "  </thead>\n",
       "  <tbody>\n",
       "    <tr>\n",
       "      <th>0</th>\n",
       "      <td>0</td>\n",
       "      <td>82c085e1-a523-40ce-9e89-4fa0bf546525</td>\n",
       "      <td>214.491</td>\n",
       "      <td>538.3935</td>\n",
       "      <td>1249.9815</td>\n",
       "      <td>7997.134</td>\n",
       "      <td>2.965909</td>\n",
       "      <td>2.025686</td>\n",
       "      <td>0.002527</td>\n",
       "      <td>A1</td>\n",
       "    </tr>\n",
       "    <tr>\n",
       "      <th>1</th>\n",
       "      <td>1</td>\n",
       "      <td>747534b1-7370-49a5-bdc1-4fce5227f391</td>\n",
       "      <td>214.491</td>\n",
       "      <td>538.3935</td>\n",
       "      <td>1249.9815</td>\n",
       "      <td>7997.134</td>\n",
       "      <td>2.965909</td>\n",
       "      <td>2.025686</td>\n",
       "      <td>0.002527</td>\n",
       "      <td>A2</td>\n",
       "    </tr>\n",
       "    <tr>\n",
       "      <th>2</th>\n",
       "      <td>2</td>\n",
       "      <td>e5f6e82f-0282-46c8-be77-d8914adca9b5</td>\n",
       "      <td>214.491</td>\n",
       "      <td>538.3935</td>\n",
       "      <td>1249.9815</td>\n",
       "      <td>7997.134</td>\n",
       "      <td>2.965909</td>\n",
       "      <td>2.025686</td>\n",
       "      <td>0.002527</td>\n",
       "      <td>A3</td>\n",
       "    </tr>\n",
       "    <tr>\n",
       "      <th>3</th>\n",
       "      <td>3</td>\n",
       "      <td>c87ac840-ddde-43ab-a8e3-b5e3eb5a273d</td>\n",
       "      <td>214.491</td>\n",
       "      <td>538.3935</td>\n",
       "      <td>1249.9815</td>\n",
       "      <td>7997.134</td>\n",
       "      <td>2.965909</td>\n",
       "      <td>2.025686</td>\n",
       "      <td>0.002527</td>\n",
       "      <td>A4</td>\n",
       "    </tr>\n",
       "    <tr>\n",
       "      <th>4</th>\n",
       "      <td>4</td>\n",
       "      <td>d034d82c-e329-484c-91cc-75ea655a1446</td>\n",
       "      <td>214.491</td>\n",
       "      <td>538.3935</td>\n",
       "      <td>1249.9815</td>\n",
       "      <td>7997.134</td>\n",
       "      <td>2.965909</td>\n",
       "      <td>2.025686</td>\n",
       "      <td>0.002527</td>\n",
       "      <td>B1</td>\n",
       "    </tr>\n",
       "  </tbody>\n",
       "</table>\n",
       "</div>"
      ],
      "text/plain": [
       "   Unnamed: 0                                  uuid  teos_volume  \\\n",
       "0           0  82c085e1-a523-40ce-9e89-4fa0bf546525      214.491   \n",
       "1           1  747534b1-7370-49a5-bdc1-4fce5227f391      214.491   \n",
       "2           2  e5f6e82f-0282-46c8-be77-d8914adca9b5      214.491   \n",
       "3           3  c87ac840-ddde-43ab-a8e3-b5e3eb5a273d      214.491   \n",
       "4           4  d034d82c-e329-484c-91cc-75ea655a1446      214.491   \n",
       "\n",
       "   ammonia_volume  water_volume  ethanol_volume  dilution_volume_fraction  \\\n",
       "0        538.3935     1249.9815        7997.134                  2.965909   \n",
       "1        538.3935     1249.9815        7997.134                  2.965909   \n",
       "2        538.3935     1249.9815        7997.134                  2.965909   \n",
       "3        538.3935     1249.9815        7997.134                  2.965909   \n",
       "4        538.3935     1249.9815        7997.134                  2.965909   \n",
       "\n",
       "   silica_mass_conc  silica_mass_fraction well  \n",
       "0          2.025686              0.002527   A1  \n",
       "1          2.025686              0.002527   A2  \n",
       "2          2.025686              0.002527   A3  \n",
       "3          2.025686              0.002527   A4  \n",
       "4          2.025686              0.002527   B1  "
      ]
     },
     "execution_count": 8,
     "metadata": {},
     "output_type": "execute_result"
    }
   ],
   "source": [
    "sample_table"
   ]
  },
  {
   "cell_type": "markdown",
   "id": "b8f140ff-c5f8-494d-bd58-093982edd086",
   "metadata": {},
   "source": [
    "## Load Tools"
   ]
  },
  {
   "cell_type": "code",
   "execution_count": 9,
   "id": "d73bac24-917c-4c8c-8c30-494146511312",
   "metadata": {},
   "outputs": [
    {
     "name": "stdout",
     "output_type": "stream",
     "text": [
      "Syringe name:  10cc_1\n",
      "{'capacity': 10000, 'empty_position': 1830, 'full_position': 1217, 'name': '10cc_1'}\n",
      "Syringe name:  1cc_1\n",
      "{'capacity': 1000, 'empty_position': 1845, 'full_position': 1240, 'name': '1cc_1'}\n",
      "Syringe name:  1cc_2_hamilton\n",
      "{'capacity': 1000, 'empty_position': 1753, 'full_position': 1120, 'name': '1cc_2_hamilton'}\n",
      "Syringe name:  1cc_3_hamilton\n",
      "{'capacity': 1000, 'empty_position': 1753, 'full_position': 1120, 'name': '1cc_3_hamilton'}\n"
     ]
    }
   ],
   "source": [
    "syringe_10 = syringe.HTTPSyringe.from_config(2, \"../../../science-jubilee/src/science_jubilee/tools/configs/10cc_syringe.json\")\n",
    "syringe_1_1 = syringe.HTTPSyringe.from_config(1, \"../../../science-jubilee/src/science_jubilee/tools/configs/1cc_1_syringe.json\")\n",
    "syringe_1_2 = syringe.HTTPSyringe.from_config(3, \"../../../science-jubilee/src/science_jubilee/tools/configs/1cc_2_Hamiltonsyringe.json\")\n",
    "syringe_1_3 = syringe.HTTPSyringe.from_config(4, \"../../../science-jubilee/src/science_jubilee/tools/configs/1cc_3_Hamiltonsyringe.json\")"
   ]
  },
  {
   "cell_type": "code",
   "execution_count": 10,
   "id": "9448524a-f60e-43fd-ae53-0a51c87e6035",
   "metadata": {
    "scrolled": true
   },
   "outputs": [],
   "source": [
    "jubilee.load_tool(syringe_10)\n",
    "jubilee.load_tool(syringe_1_1)\n",
    "jubilee.load_tool(syringe_1_2)\n",
    "jubilee.load_tool(syringe_1_3)"
   ]
  },
  {
   "cell_type": "code",
   "execution_count": 11,
   "id": "21127bbe-632c-4ec0-84f9-57d9772a90db",
   "metadata": {},
   "outputs": [],
   "source": [
    "mix_syringe = syringe_10\n",
    "water_syringe = syringe_1_1\n",
    "ammonia_syringe = syringe_1_2\n",
    "teos_syringe = syringe_1_3"
   ]
  },
  {
   "cell_type": "markdown",
   "id": "e1d880ae-d253-43f5-995f-d2619e29c78a",
   "metadata": {},
   "source": [
    "## Load water syringe with water"
   ]
  },
  {
   "cell_type": "code",
   "execution_count": 13,
   "id": "fa91aafe-663a-4ea2-86df-e996c41d8f37",
   "metadata": {},
   "outputs": [
    {
     "name": "stdout",
     "output_type": "stream",
     "text": [
      "Loaded syringe, remaining volume 600 uL\n"
     ]
    }
   ],
   "source": [
    "water_syringe.load_syringe(600, 1500)"
   ]
  },
  {
   "cell_type": "code",
   "execution_count": 18,
   "id": "bb1ecb81-f858-4ab6-8a1e-b5a85f432f54",
   "metadata": {
    "scrolled": true
   },
   "outputs": [],
   "source": [
    "water_syringe.set_pulsewidth(water_syringe.empty_position-1, s = 2000)"
   ]
  },
  {
   "cell_type": "code",
   "execution_count": 19,
   "id": "b78aa9f3-0da5-4987-9da3-171f4e5ae2b1",
   "metadata": {},
   "outputs": [],
   "source": [
    "water_syringe.set_pulsewidth(water_syringe.full_position+1, s = 150)"
   ]
  },
  {
   "cell_type": "code",
   "execution_count": 20,
   "id": "e08edebd-a82b-4e35-a662-def2994a8f00",
   "metadata": {},
   "outputs": [],
   "source": [
    "water_syringe.set_pulsewidth(water_syringe.full_position+250, s = 500)"
   ]
  },
  {
   "cell_type": "code",
   "execution_count": 12,
   "id": "80aff25d-bae2-478d-bc07-4b4f11bd5e05",
   "metadata": {},
   "outputs": [
    {
     "name": "stdout",
     "output_type": "stream",
     "text": [
      "Loaded syringe, remaining volume 590 uL\n"
     ]
    }
   ],
   "source": [
    "water_syringe.load_syringe(590, water_syringe.full_position+250)"
   ]
  },
  {
   "cell_type": "markdown",
   "id": "8ea5df3b-0ad5-4dbb-ad3f-089a2d5f2bd1",
   "metadata": {},
   "source": [
    "## Load ammonia syringe"
   ]
  },
  {
   "cell_type": "code",
   "execution_count": 23,
   "id": "87a366e4-d389-4830-b923-0a932968add9",
   "metadata": {},
   "outputs": [],
   "source": [
    "#ammonia_syringe.set_pulsewidth(1420, s = 10)"
   ]
  },
  {
   "cell_type": "code",
   "execution_count": 20,
   "id": "0b36ffcf-ec60-4ee2-b2ae-5fb6895fd16c",
   "metadata": {},
   "outputs": [
    {
     "name": "stdout",
     "output_type": "stream",
     "text": [
      "Loaded syringe, remaining volume 600 uL\n"
     ]
    }
   ],
   "source": [
    "ammonia_syringe.load_syringe(600, 1500)"
   ]
  },
  {
   "cell_type": "code",
   "execution_count": 25,
   "id": "497e2cad-9387-4815-9398-58651b8d9826",
   "metadata": {},
   "outputs": [],
   "source": [
    "ammonia_syringe.set_pulsewidth(ammonia_syringe.empty_position-1, s = 2000)"
   ]
  },
  {
   "cell_type": "code",
   "execution_count": 26,
   "id": "a0c7e519-e4e1-4a6a-a40d-3a5125503194",
   "metadata": {},
   "outputs": [],
   "source": [
    "ammonia_syringe.set_pulsewidth(ammonia_syringe.full_position+1, s = 200)"
   ]
  },
  {
   "cell_type": "code",
   "execution_count": 27,
   "id": "460e8b6d-261f-4e06-b587-a978291d57f7",
   "metadata": {},
   "outputs": [],
   "source": [
    "ammonia_syringe.set_pulsewidth(ammonia_syringe.full_position+250, s = 500)"
   ]
  },
  {
   "cell_type": "code",
   "execution_count": 13,
   "id": "b5be2527-8c06-4465-8e44-41f410149cd7",
   "metadata": {},
   "outputs": [
    {
     "name": "stdout",
     "output_type": "stream",
     "text": [
      "Loaded syringe, remaining volume 560 uL\n"
     ]
    }
   ],
   "source": [
    "ammonia_syringe.load_syringe(560, ammonia_syringe.full_position+250)"
   ]
  },
  {
   "cell_type": "markdown",
   "id": "e2c53ecf-d14a-4536-8062-9e7af8c51ba8",
   "metadata": {},
   "source": [
    "## Load TEOS syringe"
   ]
  },
  {
   "cell_type": "code",
   "execution_count": 22,
   "id": "22a73a10-c727-45c9-a653-1716b97e7d51",
   "metadata": {},
   "outputs": [
    {
     "name": "stdout",
     "output_type": "stream",
     "text": [
      "Loaded syringe, remaining volume 600 uL\n"
     ]
    }
   ],
   "source": [
    "teos_syringe.load_syringe(600, 1500)"
   ]
  },
  {
   "cell_type": "code",
   "execution_count": 27,
   "id": "2a4274ac-3472-452b-9368-56f36ed8d078",
   "metadata": {},
   "outputs": [],
   "source": [
    "teos_syringe.set_pulsewidth(teos_syringe.empty_position-1, s = 2000)"
   ]
  },
  {
   "cell_type": "code",
   "execution_count": 28,
   "id": "63453a13-e4ed-47a9-8d35-3368c1a83daf",
   "metadata": {},
   "outputs": [],
   "source": [
    "teos_syringe.set_pulsewidth(teos_syringe.full_position+1, s = 200)"
   ]
  },
  {
   "cell_type": "code",
   "execution_count": 29,
   "id": "7d22ae98-d92e-4ee2-aa1e-dbd7090f7778",
   "metadata": {},
   "outputs": [],
   "source": [
    "teos_syringe.set_pulsewidth(teos_syringe.full_position+300, s = 200)"
   ]
  },
  {
   "cell_type": "code",
   "execution_count": 30,
   "id": "cf5154eb-2d59-4bd8-90c2-86c3374a662d",
   "metadata": {},
   "outputs": [
    {
     "name": "stdout",
     "output_type": "stream",
     "text": [
      "Loaded syringe, remaining volume 480 uL\n"
     ]
    }
   ],
   "source": [
    "teos_syringe.load_syringe(480, teos_syringe.full_position+300)"
   ]
  },
  {
   "cell_type": "markdown",
   "id": "ad1ac96b-3d53-4da1-aa2c-a8c2386280f8",
   "metadata": {},
   "source": [
    "## load ethanol syringe"
   ]
  },
  {
   "cell_type": "code",
   "execution_count": 31,
   "id": "f1caaf1a-900c-43ed-a57b-754b0d62aa37",
   "metadata": {},
   "outputs": [],
   "source": [
    "#jubilee.park_tool()"
   ]
  },
  {
   "cell_type": "code",
   "execution_count": 14,
   "id": "94db4b0e-3075-4b45-91f7-9bc2817a2e31",
   "metadata": {},
   "outputs": [
    {
     "name": "stdout",
     "output_type": "stream",
     "text": [
      "Loaded syringe, remaining volume 0 uL\n"
     ]
    }
   ],
   "source": [
    "mix_syringe.load_syringe(0, mix_syringe.empty_position-1)"
   ]
  },
  {
   "cell_type": "code",
   "execution_count": 33,
   "id": "f53b6f7e-62d6-43fc-b2bf-a2e1aebdf313",
   "metadata": {},
   "outputs": [],
   "source": [
    "mix_syringe.set_pulsewidth(mix_syringe.empty_position-1, s = 2000)\n"
   ]
  },
  {
   "cell_type": "code",
   "execution_count": 15,
   "id": "c0904b15-1ceb-4e5b-aa62-2706e79634e6",
   "metadata": {},
   "outputs": [],
   "source": [
    "mix_syringe.set_pulsewidth(mix_syringe.full_position+1, s = 1000)"
   ]
  },
  {
   "cell_type": "code",
   "execution_count": 35,
   "id": "96d9a53e-24a0-4595-bb69-db89483176ce",
   "metadata": {},
   "outputs": [],
   "source": [
    "#mix_syringe.empty_position"
   ]
  },
  {
   "cell_type": "code",
   "execution_count": 16,
   "id": "8f8a67fa-ed88-45db-a2df-72720c31beff",
   "metadata": {},
   "outputs": [],
   "source": [
    "mix_syringe.set_pulsewidth(mix_syringe.full_position+250, s = 500)"
   ]
  },
  {
   "cell_type": "code",
   "execution_count": 17,
   "id": "99ad1605-10c8-45a3-80cf-c6adfd7ae6a9",
   "metadata": {},
   "outputs": [
    {
     "name": "stdout",
     "output_type": "stream",
     "text": [
      "Loaded syringe, remaining volume 6200 uL\n"
     ]
    }
   ],
   "source": [
    "mix_syringe.load_syringe(6200, mix_syringe.full_position+250)"
   ]
  },
  {
   "cell_type": "markdown",
   "id": "43d1f97d-4c55-40d3-ac5b-9c3a3f1062ed",
   "metadata": {},
   "source": [
    "## Load labware\n"
   ]
  },
  {
   "cell_type": "code",
   "execution_count": 18,
   "id": "19b4bfa8-6878-4b0b-a564-369faa361b1c",
   "metadata": {
    "scrolled": true
   },
   "outputs": [
    {
     "name": "stdout",
     "output_type": "stream",
     "text": [
      "New manual offset applied to 20mlscintillation_12_wellplate_18000ul\n"
     ]
    }
   ],
   "source": [
    "samples = jubilee.load_labware('20mlscintillation_12_wellplate_18000ul.json', 2)\n",
    "samples.manual_offset([(31.1, 169.0), (121.1, 169.0), (121.1, 113.0)])"
   ]
  },
  {
   "cell_type": "code",
   "execution_count": 19,
   "id": "19ad67cc-b0a8-4c1f-8d6a-60b173599c82",
   "metadata": {},
   "outputs": [
    {
     "name": "stdout",
     "output_type": "stream",
     "text": [
      "New manual offset applied to 20mlscintillation_12_wellplate_18000ul\n"
     ]
    }
   ],
   "source": [
    "stocks_main = jubilee.load_labware('20mlscintillation_12_wellplate_18000ul.json', 4)\n",
    "stocks_main.manual_offset([(30.5, 266.0),  (120.5, 266.0), (120.5, 210.0)])"
   ]
  },
  {
   "cell_type": "raw",
   "id": "75302623-3364-404f-9da4-f85e63eadbe1",
   "metadata": {},
   "source": [
    "stocks_extra = jubilee.load_labware('20mlscintillation_12_wellplate_18000ul.json', 5)\n",
    "stocks_extra.manual_offset([(171.1, 264.1), (256.9, 265.0), (256.7, 208.5)])\n"
   ]
  },
  {
   "cell_type": "code",
   "execution_count": 20,
   "id": "1ef40a35-9802-4eb3-9a10-16255155b92d",
   "metadata": {},
   "outputs": [],
   "source": [
    "trash = jubilee.load_labware('agilent_1_reservoir_290ml.json', 1)"
   ]
  },
  {
   "cell_type": "code",
   "execution_count": 21,
   "id": "f7395271-1a02-4f11-883f-34a8456f0a05",
   "metadata": {},
   "outputs": [],
   "source": [
    "teos_stocks = [stocks_main[0]]\n",
    "ammonia_stocks = [stocks_main[1]]\n",
    "water_stocks = [stocks_main[2]]\n",
    "ethanol_stocks_apdist = [stocks_main[3], stocks_main[4], stocks_main[5], stocks_main[6]]\n",
    "rinse_stocks_apdist = [stocks_main[9], stocks_main[10], stocks_main[11]]"
   ]
  },
  {
   "cell_type": "markdown",
   "id": "4bd30fe3-5be6-4ea7-a61d-357272d3e8a4",
   "metadata": {},
   "source": [
    "## Check sample alignment"
   ]
  },
  {
   "cell_type": "code",
   "execution_count": 47,
   "id": "25a4d272-6e56-4649-ba7a-5e04e922c043",
   "metadata": {},
   "outputs": [
    {
     "name": "stdout",
     "output_type": "stream",
     "text": [
      "169.0\n"
     ]
    },
    {
     "name": "stdin",
     "output_type": "stream",
     "text": [
      "Is the tip centered over sample A1? \n"
     ]
    },
    {
     "name": "stdout",
     "output_type": "stream",
     "text": [
      "169.0\n"
     ]
    },
    {
     "name": "stdin",
     "output_type": "stream",
     "text": [
      "Is the tip centered over sample A2? \n"
     ]
    },
    {
     "name": "stdout",
     "output_type": "stream",
     "text": [
      "169.0\n"
     ]
    },
    {
     "name": "stdin",
     "output_type": "stream",
     "text": [
      "Is the tip centered over sample A3? \n",
      "Is the tip centered over sample A4? \n"
     ]
    },
    {
     "name": "stdout",
     "output_type": "stream",
     "text": [
      "169.0\n",
      "141.0\n"
     ]
    },
    {
     "name": "stdin",
     "output_type": "stream",
     "text": [
      "Is the tip centered over sample B1? \n"
     ]
    },
    {
     "name": "stdout",
     "output_type": "stream",
     "text": [
      "141.0\n"
     ]
    },
    {
     "name": "stdin",
     "output_type": "stream",
     "text": [
      "Is the tip centered over sample B2? \n"
     ]
    },
    {
     "name": "stdout",
     "output_type": "stream",
     "text": [
      "141.0\n"
     ]
    },
    {
     "name": "stdin",
     "output_type": "stream",
     "text": [
      "Is the tip centered over sample B3? \n"
     ]
    },
    {
     "name": "stdout",
     "output_type": "stream",
     "text": [
      "141.0\n"
     ]
    },
    {
     "name": "stdin",
     "output_type": "stream",
     "text": [
      "Is the tip centered over sample B4? \n"
     ]
    },
    {
     "name": "stdout",
     "output_type": "stream",
     "text": [
      "113.0\n"
     ]
    },
    {
     "name": "stdin",
     "output_type": "stream",
     "text": [
      "Is the tip centered over sample C1? \n"
     ]
    },
    {
     "name": "stdout",
     "output_type": "stream",
     "text": [
      "113.0\n"
     ]
    },
    {
     "name": "stdin",
     "output_type": "stream",
     "text": [
      "Is the tip centered over sample C2? \n"
     ]
    }
   ],
   "source": [
    "jubilee.pickup_tool(mix_syringe)\n",
    "for i, row in sample_table.iterrows():\n",
    "    loc = samples[row['well']]\n",
    "    jubilee.move_to(x = loc.x, y = loc.y)\n",
    "    print(loc.y)\n",
    "    jubilee.move_to(z = loc.top_+7)\n",
    "    curr_well = row['well']\n",
    "    ans = input(f'Is the tip centered over sample {curr_well}?')\n",
    "    if ans == 'y':\n",
    "        continue\n",
    "    else:\n",
    "        continue\n",
    "    "
   ]
  },
  {
   "cell_type": "code",
   "execution_count": 49,
   "id": "79b6af8b-5894-4549-80bf-8187ea5963ee",
   "metadata": {},
   "outputs": [
    {
     "data": {
      "text/html": [
       "<div>\n",
       "<style scoped>\n",
       "    .dataframe tbody tr th:only-of-type {\n",
       "        vertical-align: middle;\n",
       "    }\n",
       "\n",
       "    .dataframe tbody tr th {\n",
       "        vertical-align: top;\n",
       "    }\n",
       "\n",
       "    .dataframe thead th {\n",
       "        text-align: right;\n",
       "    }\n",
       "</style>\n",
       "<table border=\"1\" class=\"dataframe\">\n",
       "  <thead>\n",
       "    <tr style=\"text-align: right;\">\n",
       "      <th></th>\n",
       "      <th>Unnamed: 0</th>\n",
       "      <th>uuid</th>\n",
       "      <th>teos_volume</th>\n",
       "      <th>ammonia_volume</th>\n",
       "      <th>water_volume</th>\n",
       "      <th>ethanol_volume</th>\n",
       "      <th>dilution_volume_fraction</th>\n",
       "      <th>silica_mass_conc</th>\n",
       "      <th>silica_mass_fraction</th>\n",
       "      <th>well</th>\n",
       "    </tr>\n",
       "  </thead>\n",
       "  <tbody>\n",
       "    <tr>\n",
       "      <th>0</th>\n",
       "      <td>0</td>\n",
       "      <td>82c085e1-a523-40ce-9e89-4fa0bf546525</td>\n",
       "      <td>214.491</td>\n",
       "      <td>538.3935</td>\n",
       "      <td>1249.9815</td>\n",
       "      <td>7997.134</td>\n",
       "      <td>2.965909</td>\n",
       "      <td>2.025686</td>\n",
       "      <td>0.002527</td>\n",
       "      <td>B2</td>\n",
       "    </tr>\n",
       "    <tr>\n",
       "      <th>1</th>\n",
       "      <td>1</td>\n",
       "      <td>747534b1-7370-49a5-bdc1-4fce5227f391</td>\n",
       "      <td>214.491</td>\n",
       "      <td>538.3935</td>\n",
       "      <td>1249.9815</td>\n",
       "      <td>7997.134</td>\n",
       "      <td>2.965909</td>\n",
       "      <td>2.025686</td>\n",
       "      <td>0.002527</td>\n",
       "      <td>B3</td>\n",
       "    </tr>\n",
       "    <tr>\n",
       "      <th>2</th>\n",
       "      <td>2</td>\n",
       "      <td>e5f6e82f-0282-46c8-be77-d8914adca9b5</td>\n",
       "      <td>214.491</td>\n",
       "      <td>538.3935</td>\n",
       "      <td>1249.9815</td>\n",
       "      <td>7997.134</td>\n",
       "      <td>2.965909</td>\n",
       "      <td>2.025686</td>\n",
       "      <td>0.002527</td>\n",
       "      <td>B4</td>\n",
       "    </tr>\n",
       "    <tr>\n",
       "      <th>3</th>\n",
       "      <td>3</td>\n",
       "      <td>c87ac840-ddde-43ab-a8e3-b5e3eb5a273d</td>\n",
       "      <td>214.491</td>\n",
       "      <td>538.3935</td>\n",
       "      <td>1249.9815</td>\n",
       "      <td>7997.134</td>\n",
       "      <td>2.965909</td>\n",
       "      <td>2.025686</td>\n",
       "      <td>0.002527</td>\n",
       "      <td>C1</td>\n",
       "    </tr>\n",
       "    <tr>\n",
       "      <th>4</th>\n",
       "      <td>4</td>\n",
       "      <td>d034d82c-e329-484c-91cc-75ea655a1446</td>\n",
       "      <td>214.491</td>\n",
       "      <td>538.3935</td>\n",
       "      <td>1249.9815</td>\n",
       "      <td>7997.134</td>\n",
       "      <td>2.965909</td>\n",
       "      <td>2.025686</td>\n",
       "      <td>0.002527</td>\n",
       "      <td>C2</td>\n",
       "    </tr>\n",
       "  </tbody>\n",
       "</table>\n",
       "</div>"
      ],
      "text/plain": [
       "   Unnamed: 0                                  uuid  teos_volume  \\\n",
       "0           0  82c085e1-a523-40ce-9e89-4fa0bf546525      214.491   \n",
       "1           1  747534b1-7370-49a5-bdc1-4fce5227f391      214.491   \n",
       "2           2  e5f6e82f-0282-46c8-be77-d8914adca9b5      214.491   \n",
       "3           3  c87ac840-ddde-43ab-a8e3-b5e3eb5a273d      214.491   \n",
       "4           4  d034d82c-e329-484c-91cc-75ea655a1446      214.491   \n",
       "\n",
       "   ammonia_volume  water_volume  ethanol_volume  dilution_volume_fraction  \\\n",
       "0        538.3935     1249.9815        7997.134                  2.965909   \n",
       "1        538.3935     1249.9815        7997.134                  2.965909   \n",
       "2        538.3935     1249.9815        7997.134                  2.965909   \n",
       "3        538.3935     1249.9815        7997.134                  2.965909   \n",
       "4        538.3935     1249.9815        7997.134                  2.965909   \n",
       "\n",
       "   silica_mass_conc  silica_mass_fraction well  \n",
       "0          2.025686              0.002527   B2  \n",
       "1          2.025686              0.002527   B3  \n",
       "2          2.025686              0.002527   B4  \n",
       "3          2.025686              0.002527   C1  \n",
       "4          2.025686              0.002527   C2  "
      ]
     },
     "execution_count": 49,
     "metadata": {},
     "output_type": "execute_result"
    }
   ],
   "source": [
    "sample_table"
   ]
  },
  {
   "cell_type": "code",
   "execution_count": 57,
   "id": "a52572b9-48d6-4bf1-acb2-19c7ac5c6fb8",
   "metadata": {},
   "outputs": [],
   "source": [
    "jubilee.park_tool()\n"
   ]
  },
  {
   "cell_type": "code",
   "execution_count": 106,
   "id": "2b09450e-d3bd-4e25-b944-993721a3b997",
   "metadata": {},
   "outputs": [
    {
     "name": "stdout",
     "output_type": "stream",
     "text": [
      "175.8614659806774\n"
     ]
    }
   ],
   "source": [
    "loc = samples['A8']\n",
    "jubilee.move_to(x = loc.x, y = loc.y)\n",
    "print(loc.y)\n",
    "jubilee.move_to(z = loc.top_+7)"
   ]
  },
  {
   "cell_type": "markdown",
   "id": "b9dff3f4-8be6-4f73-b343-6221f8df76dc",
   "metadata": {},
   "source": [
    "# Experiment\n"
   ]
  },
  {
   "cell_type": "code",
   "execution_count": 22,
   "id": "9d770745-931b-42d0-8b40-409a83411619",
   "metadata": {},
   "outputs": [],
   "source": [
    "location_lookup = {row['uuid']:samples[row['well']] for i, row in sample_table.iterrows()}\n"
   ]
  },
  {
   "cell_type": "code",
   "execution_count": 23,
   "id": "30502878-2c56-4f8a-94dc-e7ad55f92927",
   "metadata": {},
   "outputs": [
    {
     "data": {
      "text/plain": [
       "39985.67"
      ]
     },
     "execution_count": 23,
     "metadata": {},
     "output_type": "execute_result"
    }
   ],
   "source": [
    "sample_table['ethanol_volume'].sum()"
   ]
  },
  {
   "cell_type": "code",
   "execution_count": 24,
   "id": "6c62bea3-7c5b-4d85-8420-5a0c358bdccb",
   "metadata": {},
   "outputs": [
    {
     "data": {
      "text/html": [
       "<div>\n",
       "<style scoped>\n",
       "    .dataframe tbody tr th:only-of-type {\n",
       "        vertical-align: middle;\n",
       "    }\n",
       "\n",
       "    .dataframe tbody tr th {\n",
       "        vertical-align: top;\n",
       "    }\n",
       "\n",
       "    .dataframe thead th {\n",
       "        text-align: right;\n",
       "    }\n",
       "</style>\n",
       "<table border=\"1\" class=\"dataframe\">\n",
       "  <thead>\n",
       "    <tr style=\"text-align: right;\">\n",
       "      <th></th>\n",
       "      <th>Unnamed: 0</th>\n",
       "      <th>uuid</th>\n",
       "      <th>teos_volume</th>\n",
       "      <th>ammonia_volume</th>\n",
       "      <th>water_volume</th>\n",
       "      <th>ethanol_volume</th>\n",
       "      <th>dilution_volume_fraction</th>\n",
       "      <th>silica_mass_conc</th>\n",
       "      <th>silica_mass_fraction</th>\n",
       "      <th>well</th>\n",
       "    </tr>\n",
       "  </thead>\n",
       "  <tbody>\n",
       "    <tr>\n",
       "      <th>4</th>\n",
       "      <td>4</td>\n",
       "      <td>d034d82c-e329-484c-91cc-75ea655a1446</td>\n",
       "      <td>214.491</td>\n",
       "      <td>538.3935</td>\n",
       "      <td>1249.9815</td>\n",
       "      <td>7997.134</td>\n",
       "      <td>2.965909</td>\n",
       "      <td>2.025686</td>\n",
       "      <td>0.002527</td>\n",
       "      <td>B1</td>\n",
       "    </tr>\n",
       "  </tbody>\n",
       "</table>\n",
       "</div>"
      ],
      "text/plain": [
       "   Unnamed: 0                                  uuid  teos_volume  \\\n",
       "4           4  d034d82c-e329-484c-91cc-75ea655a1446      214.491   \n",
       "\n",
       "   ammonia_volume  water_volume  ethanol_volume  dilution_volume_fraction  \\\n",
       "4        538.3935     1249.9815        7997.134                  2.965909   \n",
       "\n",
       "   silica_mass_conc  silica_mass_fraction well  \n",
       "4          2.025686              0.002527   B1  "
      ]
     },
     "execution_count": 24,
     "metadata": {},
     "output_type": "execute_result"
    }
   ],
   "source": [
    "sample_table.iloc[-1:]"
   ]
  },
  {
   "cell_type": "code",
   "execution_count": 25,
   "id": "edc16011-67bc-4bb0-a857-95afc6fabc07",
   "metadata": {},
   "outputs": [
    {
     "data": {
      "text/plain": [
       "[Well A4 form 20mLscintillation 12 Well Plate 18000 µL on slot 4,\n",
       " Well B1 form 20mLscintillation 12 Well Plate 18000 µL on slot 4,\n",
       " Well B2 form 20mLscintillation 12 Well Plate 18000 µL on slot 4,\n",
       " Well B3 form 20mLscintillation 12 Well Plate 18000 µL on slot 4]"
      ]
     },
     "execution_count": 25,
     "metadata": {},
     "output_type": "execute_result"
    }
   ],
   "source": [
    "ethanol_stocks_apdist"
   ]
  },
  {
   "cell_type": "markdown",
   "id": "e2ddb62c-d3f3-4c45-917a-e575189606c9",
   "metadata": {},
   "source": [
    "## add ethanol"
   ]
  },
  {
   "cell_type": "code",
   "execution_count": 26,
   "id": "a6c28415-6603-4bff-aad2-fd7fe99dd604",
   "metadata": {},
   "outputs": [],
   "source": [
    "stober.add_reactants_batch(jubilee, mix_syringe, mix_syringe, sample_table.iloc[-2:], location_lookup, 'ethanol_volume', ethanol_stocks_apdist[-1:], stocks_usable_volume=15000, dwell_time = 10)"
   ]
  },
  {
   "cell_type": "code",
   "execution_count": 27,
   "id": "7d204157-ed65-4f49-acbc-d192222f0dc6",
   "metadata": {},
   "outputs": [],
   "source": [
    "#dispense remaining volume from etOH mix syringe\n",
    "jubilee.pickup_tool(mix_syringe)\n",
    "mix_syringe.dispense(mix_syringe.remaining_volume-1, trash[0])\n",
    "logger.info('Emptied ethanol syringe into trash')\n",
    "jubilee.park_tool()"
   ]
  },
  {
   "cell_type": "code",
   "execution_count": 28,
   "id": "2fc66aa1-bc70-4098-8e37-f148188c26c6",
   "metadata": {},
   "outputs": [],
   "source": [
    "mix_syringe.set_pulsewidth(mix_syringe.empty_position-1)"
   ]
  },
  {
   "cell_type": "markdown",
   "id": "9e35c96c-2ea8-438a-989d-f6d73c8f16ed",
   "metadata": {},
   "source": [
    "## Dispense water\n"
   ]
  },
  {
   "cell_type": "code",
   "execution_count": 29,
   "id": "9f765450-7f64-49e7-85f8-335e2fa0b666",
   "metadata": {},
   "outputs": [],
   "source": [
    "stober.add_reactants_batch(jubilee, water_syringe, mix_syringe, sample_table, location_lookup, 'water_volume', water_stocks, dwell_time = 7)"
   ]
  },
  {
   "cell_type": "markdown",
   "id": "cd60cc24-167e-46e5-9e73-a2457c8964de",
   "metadata": {},
   "source": [
    "## dispense Ammonia"
   ]
  },
  {
   "cell_type": "raw",
   "id": "a5a9c5d6-3a7d-425e-9917-7b509ffe6728",
   "metadata": {},
   "source": [
    "stober.add_reactants_batch(jubilee, ammonia_syringe, mix_syringe, sample_table, location_lookup, 'ammonia_volume', ammonia_stocks)"
   ]
  },
  {
   "cell_type": "markdown",
   "id": "bc8a34b3-acd7-4b89-a9ea-34b514cd3d8c",
   "metadata": {},
   "source": [
    "## mix precursors"
   ]
  },
  {
   "cell_type": "code",
   "execution_count": 30,
   "id": "f4f701c5-7908-489e-a1eb-9b2c60438c96",
   "metadata": {},
   "outputs": [],
   "source": [
    "stober.first_mix(jubilee, mix_syringe, 5000, location_lookup, rinse_stocks_apdist, 5)"
   ]
  },
  {
   "cell_type": "markdown",
   "id": "000c1369-b5a0-4183-97d4-fced54279516",
   "metadata": {},
   "source": [
    "## Add TEOS and mix"
   ]
  },
  {
   "cell_type": "code",
   "execution_count": 31,
   "id": "efccb2d6-234a-4af8-a87d-4d904696a48e",
   "metadata": {},
   "outputs": [],
   "source": [
    "stober.add_reactants_batch(jubilee, teos_syringe, mix_syringe, sample_table, location_lookup, 'teos_volume', teos_stocks, mix_after=(8000, 5, rinse_stocks_apdist), wait = False)"
   ]
  },
  {
   "cell_type": "code",
   "execution_count": null,
   "id": "82fe05e3-e75c-4124-a3f3-e040ff76e9b8",
   "metadata": {},
   "outputs": [],
   "source": []
  }
 ],
 "metadata": {
  "kernelspec": {
   "display_name": "Python 3 (ipykernel)",
   "language": "python",
   "name": "python3"
  },
  "language_info": {
   "codemirror_mode": {
    "name": "ipython",
    "version": 3
   },
   "file_extension": ".py",
   "mimetype": "text/x-python",
   "name": "python",
   "nbconvert_exporter": "python",
   "pygments_lexer": "ipython3",
   "version": "3.9.19"
  }
 },
 "nbformat": 4,
 "nbformat_minor": 5
}
